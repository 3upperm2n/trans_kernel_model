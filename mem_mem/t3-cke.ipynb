{
 "cells": [
  {
   "cell_type": "code",
   "execution_count": 1,
   "metadata": {
    "collapsed": false
   },
   "outputs": [],
   "source": [
    "import warnings\n",
    "import pandas as pd\n",
    "import numpy as np\n",
    "import os\n",
    "import sys # error msg\n",
    "import operator # sorting\n",
    "from math import *\n",
    "\n",
    "from read_trace import *\n",
    "from avgblkmodel import *\n",
    "from model_cke import *\n",
    "\n",
    "warnings.filterwarnings(\"ignore\", category=np.VisibleDeprecationWarning)"
   ]
  },
  {
   "cell_type": "markdown",
   "metadata": {},
   "source": [
    "# gpu info"
   ]
  },
  {
   "cell_type": "code",
   "execution_count": 2,
   "metadata": {
    "collapsed": true
   },
   "outputs": [],
   "source": [
    "gtx950 = DeviceInfo()\n",
    "gtx950.sm_num = 6\n",
    "gtx950.sharedmem_per_sm = 49152\n",
    "gtx950.reg_per_sm = 65536\n",
    "gtx950.maxthreads_per_sm = 2048"
   ]
  },
  {
   "cell_type": "markdown",
   "metadata": {},
   "source": [
    "# single stream info"
   ]
  },
  {
   "cell_type": "code",
   "execution_count": 3,
   "metadata": {
    "collapsed": false
   },
   "outputs": [],
   "source": [
    "data_size = 23000\n",
    "trace_file = './1cke/trace_' + str(data_size) + '.csv'\n",
    "df_trace = trace2dataframe(trace_file) # read the trace to the dataframe"
   ]
  },
  {
   "cell_type": "code",
   "execution_count": 4,
   "metadata": {
    "collapsed": false
   },
   "outputs": [
    {
     "data": {
      "text/html": [
       "<div>\n",
       "<table border=\"1\" class=\"dataframe\">\n",
       "  <thead>\n",
       "    <tr style=\"text-align: right;\">\n",
       "      <th></th>\n",
       "      <th>Start</th>\n",
       "      <th>Duration</th>\n",
       "      <th>Grid X</th>\n",
       "      <th>Grid Y</th>\n",
       "      <th>Grid Z</th>\n",
       "      <th>Block X</th>\n",
       "      <th>Block Y</th>\n",
       "      <th>Block Z</th>\n",
       "      <th>Registers Per Thread</th>\n",
       "      <th>Static SMem</th>\n",
       "      <th>Dynamic SMem</th>\n",
       "      <th>Size</th>\n",
       "      <th>Throughput</th>\n",
       "      <th>Device</th>\n",
       "      <th>Context</th>\n",
       "      <th>Stream</th>\n",
       "      <th>Name</th>\n",
       "    </tr>\n",
       "  </thead>\n",
       "  <tbody>\n",
       "    <tr>\n",
       "      <th>0</th>\n",
       "      <td>ms</td>\n",
       "      <td>us</td>\n",
       "      <td>NaN</td>\n",
       "      <td>NaN</td>\n",
       "      <td>NaN</td>\n",
       "      <td>NaN</td>\n",
       "      <td>NaN</td>\n",
       "      <td>NaN</td>\n",
       "      <td>NaN</td>\n",
       "      <td>B</td>\n",
       "      <td>B</td>\n",
       "      <td>KB</td>\n",
       "      <td>GB/s</td>\n",
       "      <td>NaN</td>\n",
       "      <td>NaN</td>\n",
       "      <td>NaN</td>\n",
       "      <td>NaN</td>\n",
       "    </tr>\n",
       "    <tr>\n",
       "      <th>1</th>\n",
       "      <td>526.961828</td>\n",
       "      <td>16.672000</td>\n",
       "      <td>NaN</td>\n",
       "      <td>NaN</td>\n",
       "      <td>NaN</td>\n",
       "      <td>NaN</td>\n",
       "      <td>NaN</td>\n",
       "      <td>NaN</td>\n",
       "      <td>NaN</td>\n",
       "      <td>NaN</td>\n",
       "      <td>NaN</td>\n",
       "      <td>89.843750</td>\n",
       "      <td>5.139256</td>\n",
       "      <td>GeForce GTX 950 (0)</td>\n",
       "      <td>1.0</td>\n",
       "      <td>13.0</td>\n",
       "      <td>[CUDA memcpy HtoD]</td>\n",
       "    </tr>\n",
       "    <tr>\n",
       "      <th>2</th>\n",
       "      <td>526.979716</td>\n",
       "      <td>16.224000</td>\n",
       "      <td>NaN</td>\n",
       "      <td>NaN</td>\n",
       "      <td>NaN</td>\n",
       "      <td>NaN</td>\n",
       "      <td>NaN</td>\n",
       "      <td>NaN</td>\n",
       "      <td>NaN</td>\n",
       "      <td>NaN</td>\n",
       "      <td>NaN</td>\n",
       "      <td>89.843750</td>\n",
       "      <td>5.281168</td>\n",
       "      <td>GeForce GTX 950 (0)</td>\n",
       "      <td>1.0</td>\n",
       "      <td>13.0</td>\n",
       "      <td>[CUDA memcpy HtoD]</td>\n",
       "    </tr>\n",
       "    <tr>\n",
       "      <th>3</th>\n",
       "      <td>527.157829</td>\n",
       "      <td>61.056000</td>\n",
       "      <td>90.0</td>\n",
       "      <td>1.0</td>\n",
       "      <td>1.0</td>\n",
       "      <td>256.0</td>\n",
       "      <td>1.0</td>\n",
       "      <td>1.0</td>\n",
       "      <td>28.0</td>\n",
       "      <td>0</td>\n",
       "      <td>0</td>\n",
       "      <td>NaN</td>\n",
       "      <td>NaN</td>\n",
       "      <td>GeForce GTX 950 (0)</td>\n",
       "      <td>1.0</td>\n",
       "      <td>13.0</td>\n",
       "      <td>kernel_vectorAdd(float const *, float const *,...</td>\n",
       "    </tr>\n",
       "    <tr>\n",
       "      <th>4</th>\n",
       "      <td>527.221349</td>\n",
       "      <td>15.904000</td>\n",
       "      <td>NaN</td>\n",
       "      <td>NaN</td>\n",
       "      <td>NaN</td>\n",
       "      <td>NaN</td>\n",
       "      <td>NaN</td>\n",
       "      <td>NaN</td>\n",
       "      <td>NaN</td>\n",
       "      <td>NaN</td>\n",
       "      <td>NaN</td>\n",
       "      <td>89.843750</td>\n",
       "      <td>5.387429</td>\n",
       "      <td>GeForce GTX 950 (0)</td>\n",
       "      <td>1.0</td>\n",
       "      <td>13.0</td>\n",
       "      <td>[CUDA memcpy DtoH]</td>\n",
       "    </tr>\n",
       "  </tbody>\n",
       "</table>\n",
       "</div>"
      ],
      "text/plain": [
       "        Start   Duration  Grid X  Grid Y  Grid Z  Block X  Block Y  Block Z  \\\n",
       "0          ms         us     NaN     NaN     NaN      NaN      NaN      NaN   \n",
       "1  526.961828  16.672000     NaN     NaN     NaN      NaN      NaN      NaN   \n",
       "2  526.979716  16.224000     NaN     NaN     NaN      NaN      NaN      NaN   \n",
       "3  527.157829  61.056000    90.0     1.0     1.0    256.0      1.0      1.0   \n",
       "4  527.221349  15.904000     NaN     NaN     NaN      NaN      NaN      NaN   \n",
       "\n",
       "   Registers Per Thread Static SMem Dynamic SMem       Size Throughput  \\\n",
       "0                   NaN           B            B         KB       GB/s   \n",
       "1                   NaN         NaN          NaN  89.843750   5.139256   \n",
       "2                   NaN         NaN          NaN  89.843750   5.281168   \n",
       "3                  28.0           0            0        NaN        NaN   \n",
       "4                   NaN         NaN          NaN  89.843750   5.387429   \n",
       "\n",
       "                Device  Context  Stream  \\\n",
       "0                  NaN      NaN     NaN   \n",
       "1  GeForce GTX 950 (0)      1.0    13.0   \n",
       "2  GeForce GTX 950 (0)      1.0    13.0   \n",
       "3  GeForce GTX 950 (0)      1.0    13.0   \n",
       "4  GeForce GTX 950 (0)      1.0    13.0   \n",
       "\n",
       "                                                Name  \n",
       "0                                                NaN  \n",
       "1                                 [CUDA memcpy HtoD]  \n",
       "2                                 [CUDA memcpy HtoD]  \n",
       "3  kernel_vectorAdd(float const *, float const *,...  \n",
       "4                                 [CUDA memcpy DtoH]  "
      ]
     },
     "execution_count": 4,
     "metadata": {},
     "output_type": "execute_result"
    }
   ],
   "source": [
    "df_trace"
   ]
  },
  {
   "cell_type": "code",
   "execution_count": 5,
   "metadata": {
    "collapsed": false
   },
   "outputs": [],
   "source": [
    "df_single_stream = model_param_from_trace_v1(df_trace)\n",
    "df_s1 = reset_starting(df_single_stream)"
   ]
  },
  {
   "cell_type": "code",
   "execution_count": 6,
   "metadata": {
    "collapsed": false
   },
   "outputs": [],
   "source": [
    "# extract kernel info\n",
    "streaminfo = get_stream_info(df_trace)\n",
    "current_kern_info = streaminfo[0].kernel_info[0]\n",
    "\n",
    "grid_dim = float(current_kern_info.grid_x) * float(current_kern_info.grid_y) * float(current_kern_info.grid_z)\n",
    "block_dim = float(current_kern_info.blk_x) * float(current_kern_info.blk_y) * float(current_kern_info.blk_z)\n",
    "reg_per_thread = float(current_kern_info.regs_per_thread)\n",
    "sm_per_blk = float(current_kern_info.sm_per_block)\n",
    "    \n",
    "# kernel runtime in ms\n",
    "current_kern =  streaminfo[0].kernel[0]\n",
    "kern_runtime_ms = float(current_kern.end_time_ms) - float(current_kern.start_time_ms)\n",
    "\n",
    "kernel = KernelInfo()\n",
    "kernel.blockDim = block_dim\n",
    "kernel.gridDim = grid_dim\n",
    "kernel.reg_per_thread = reg_per_thread\n",
    "kernel.sharedmem_per_blk = sm_per_blk\n",
    "kernel.runtime_ms = kern_runtime_ms\n",
    "\n",
    "kernel.avg_blk_time = compute_avgblktime(gtx950, kernel)\n",
    "#print kernel_avg_blk_time"
   ]
  },
  {
   "cell_type": "markdown",
   "metadata": {},
   "source": [
    "### running 2cke case"
   ]
  },
  {
   "cell_type": "code",
   "execution_count": 7,
   "metadata": {
    "collapsed": true
   },
   "outputs": [],
   "source": [
    "stream_num = 2\n",
    "\n",
    "df_cke_list = []\n",
    "for x in range(stream_num):\n",
    "    df_cke_list.append(df_s1.copy(deep=True))"
   ]
  },
  {
   "cell_type": "code",
   "execution_count": 8,
   "metadata": {
    "collapsed": false
   },
   "outputs": [
    {
     "name": "stdout",
     "output_type": "stream",
     "text": [
      "stream_startTime : 0.0341120000001\n"
     ]
    }
   ],
   "source": [
    "H2D_H2D_OVLP_TH = 3.158431\n",
    "\n",
    "for i in range(1,stream_num):\n",
    "    # compute the time for the init data transfer\n",
    "    stream_startTime = find_whentostart_comingStream(df_cke_list[i-1], H2D_H2D_OVLP_TH)\n",
    "    print('stream_startTime : {}'.format(stream_startTime))\n",
    "    df_cke_list[i].start += stream_startTime\n",
    "    df_cke_list[i].end   += stream_startTime"
   ]
  },
  {
   "cell_type": "markdown",
   "metadata": {},
   "source": [
    "### check whether there is h2d overlapping"
   ]
  },
  {
   "cell_type": "code",
   "execution_count": 9,
   "metadata": {
    "collapsed": false
   },
   "outputs": [
    {
     "name": "stdout",
     "output_type": "stream",
     "text": [
      "prev stream h2ds : 0.0 - 0.0341120000001\n",
      "curr stream h2ds : 0.0341120000001 - 0.0682240000001\n"
     ]
    }
   ],
   "source": [
    "prev_stm_h2ds_start, prev_stm_h2ds_end = find_h2ds_timing(df_cke_list[0])\n",
    "print(\"prev stream h2ds : {} - {}\".format(prev_stm_h2ds_start, prev_stm_h2ds_end))\n",
    "\n",
    "curr_stm_h2ds_start, curr_stm_h2ds_end = find_h2ds_timing(df_cke_list[1])\n",
    "print(\"curr stream h2ds : {} - {}\".format(curr_stm_h2ds_start, curr_stm_h2ds_end))"
   ]
  },
  {
   "cell_type": "code",
   "execution_count": 10,
   "metadata": {
    "collapsed": false
   },
   "outputs": [
    {
     "name": "stdout",
     "output_type": "stream",
     "text": [
      "h2ds_ovlp_between_stream : False\n"
     ]
    }
   ],
   "source": [
    "if curr_stm_h2ds_start >=prev_stm_h2ds_start and curr_stm_h2ds_start < prev_stm_h2ds_end:\n",
    "    h2ds_ovlp_between_stream = True \n",
    "else:\n",
    "    h2ds_ovlp_between_stream = False\n",
    "\n",
    "print(\"h2ds_ovlp_between_stream : {}\".format(h2ds_ovlp_between_stream))"
   ]
  },
  {
   "cell_type": "markdown",
   "metadata": {},
   "source": [
    "### check kernel overlapping"
   ]
  },
  {
   "cell_type": "code",
   "execution_count": 11,
   "metadata": {
    "collapsed": false
   },
   "outputs": [
    {
     "name": "stdout",
     "output_type": "stream",
     "text": [
      "prev stream kern : 0.196001 - 0.257057\n",
      "curr stream kern : 0.230113 - 0.291169\n"
     ]
    }
   ],
   "source": [
    "prev_stm_kern_start, prev_stm_kern_end = find_kern_timing(df_cke_list[0])\n",
    "print(\"prev stream kern : {} - {}\".format(prev_stm_kern_start, prev_stm_kern_end))\n",
    "\n",
    "curr_stm_kern_start, curr_stm_kern_end = find_kern_timing(df_cke_list[1])\n",
    "print(\"curr stream kern : {} - {}\".format(curr_stm_kern_start, curr_stm_kern_end))\n"
   ]
  },
  {
   "cell_type": "code",
   "execution_count": 12,
   "metadata": {
    "collapsed": false
   },
   "outputs": [
    {
     "name": "stdout",
     "output_type": "stream",
     "text": [
      "kern_ovlp_between_stream : True\n"
     ]
    }
   ],
   "source": [
    "if  prev_stm_kern_start <= curr_stm_kern_start < prev_stm_kern_end:\n",
    "    kern_ovlp_between_stream = True \n",
    "else:\n",
    "    kern_ovlp_between_stream = False\n",
    "\n",
    "print(\"kern_ovlp_between_stream : {}\".format(kern_ovlp_between_stream))"
   ]
  },
  {
   "cell_type": "markdown",
   "metadata": {},
   "source": [
    "#### use cke model if kern_ovlp_between_stream is true"
   ]
  },
  {
   "cell_type": "code",
   "execution_count": 13,
   "metadata": {
    "collapsed": false
   },
   "outputs": [],
   "source": [
    "# get the overlapping kernel info from both stream\n",
    "\n",
    "# since the ovlp kernels are identical, we duplicate twice\n",
    "kernel_num = 2\n",
    "kernels = [kernel for i in range(kernel_num)]\n",
    "\n",
    "pred_cke_time, kernels_start_end = model_cke_from_same_kernel(gtx950, kernels)"
   ]
  },
  {
   "cell_type": "code",
   "execution_count": 14,
   "metadata": {
    "collapsed": false
   },
   "outputs": [
    {
     "data": {
      "text/plain": [
       "0.12211200000001554"
      ]
     },
     "execution_count": 14,
     "metadata": {},
     "output_type": "execute_result"
    }
   ],
   "source": [
    "pred_cke_time"
   ]
  },
  {
   "cell_type": "code",
   "execution_count": 15,
   "metadata": {
    "collapsed": false
   },
   "outputs": [
    {
     "data": {
      "text/plain": [
       "[[0.0, 0.061056000000007771], [0.030528000000003885, 0.12211200000001554]]"
      ]
     },
     "execution_count": 15,
     "metadata": {},
     "output_type": "execute_result"
    }
   ],
   "source": [
    "kernels_start_end"
   ]
  },
  {
   "cell_type": "code",
   "execution_count": 16,
   "metadata": {
    "collapsed": false
   },
   "outputs": [
    {
     "data": {
      "text/html": [
       "<div>\n",
       "<table border=\"1\" class=\"dataframe\">\n",
       "  <thead>\n",
       "    <tr style=\"text-align: right;\">\n",
       "      <th></th>\n",
       "      <th>api_type</th>\n",
       "      <th>start</th>\n",
       "      <th>end</th>\n",
       "      <th>duration</th>\n",
       "    </tr>\n",
       "  </thead>\n",
       "  <tbody>\n",
       "    <tr>\n",
       "      <th>0</th>\n",
       "      <td>h2d</td>\n",
       "      <td>0.000000</td>\n",
       "      <td>0.016672</td>\n",
       "      <td>0.016672</td>\n",
       "    </tr>\n",
       "    <tr>\n",
       "      <th>1</th>\n",
       "      <td>h2d</td>\n",
       "      <td>0.017888</td>\n",
       "      <td>0.034112</td>\n",
       "      <td>0.016224</td>\n",
       "    </tr>\n",
       "    <tr>\n",
       "      <th>2</th>\n",
       "      <td>kern</td>\n",
       "      <td>0.196001</td>\n",
       "      <td>0.257057</td>\n",
       "      <td>0.061056</td>\n",
       "    </tr>\n",
       "    <tr>\n",
       "      <th>3</th>\n",
       "      <td>d2h</td>\n",
       "      <td>0.259521</td>\n",
       "      <td>0.275425</td>\n",
       "      <td>0.015904</td>\n",
       "    </tr>\n",
       "  </tbody>\n",
       "</table>\n",
       "</div>"
      ],
      "text/plain": [
       "  api_type     start       end  duration\n",
       "0      h2d  0.000000  0.016672  0.016672\n",
       "1      h2d  0.017888  0.034112  0.016224\n",
       "2     kern  0.196001  0.257057  0.061056\n",
       "3      d2h  0.259521  0.275425  0.015904"
      ]
     },
     "execution_count": 16,
     "metadata": {},
     "output_type": "execute_result"
    }
   ],
   "source": [
    "df_cke_list[0]"
   ]
  },
  {
   "cell_type": "code",
   "execution_count": 17,
   "metadata": {
    "collapsed": false
   },
   "outputs": [
    {
     "data": {
      "text/html": [
       "<div>\n",
       "<table border=\"1\" class=\"dataframe\">\n",
       "  <thead>\n",
       "    <tr style=\"text-align: right;\">\n",
       "      <th></th>\n",
       "      <th>api_type</th>\n",
       "      <th>start</th>\n",
       "      <th>end</th>\n",
       "      <th>duration</th>\n",
       "    </tr>\n",
       "  </thead>\n",
       "  <tbody>\n",
       "    <tr>\n",
       "      <th>0</th>\n",
       "      <td>h2d</td>\n",
       "      <td>0.034112</td>\n",
       "      <td>0.050784</td>\n",
       "      <td>0.016672</td>\n",
       "    </tr>\n",
       "    <tr>\n",
       "      <th>1</th>\n",
       "      <td>h2d</td>\n",
       "      <td>0.052000</td>\n",
       "      <td>0.068224</td>\n",
       "      <td>0.016224</td>\n",
       "    </tr>\n",
       "    <tr>\n",
       "      <th>2</th>\n",
       "      <td>kern</td>\n",
       "      <td>0.230113</td>\n",
       "      <td>0.291169</td>\n",
       "      <td>0.061056</td>\n",
       "    </tr>\n",
       "    <tr>\n",
       "      <th>3</th>\n",
       "      <td>d2h</td>\n",
       "      <td>0.293633</td>\n",
       "      <td>0.309537</td>\n",
       "      <td>0.015904</td>\n",
       "    </tr>\n",
       "  </tbody>\n",
       "</table>\n",
       "</div>"
      ],
      "text/plain": [
       "  api_type     start       end  duration\n",
       "0      h2d  0.034112  0.050784  0.016672\n",
       "1      h2d  0.052000  0.068224  0.016224\n",
       "2     kern  0.230113  0.291169  0.061056\n",
       "3      d2h  0.293633  0.309537  0.015904"
      ]
     },
     "execution_count": 17,
     "metadata": {},
     "output_type": "execute_result"
    }
   ],
   "source": [
    "df_cke_list[1]"
   ]
  },
  {
   "cell_type": "code",
   "execution_count": 18,
   "metadata": {
    "collapsed": true
   },
   "outputs": [],
   "source": [
    "def api_order(df_trace):\n",
    "    order_ls = []\n",
    "    for index,row in df_trace.iterrows():\n",
    "        order_ls.append([str(row.api_type), index])\n",
    "    return order_ls"
   ]
  },
  {
   "cell_type": "code",
   "execution_count": 19,
   "metadata": {
    "collapsed": false
   },
   "outputs": [
    {
     "name": "stdout",
     "output_type": "stream",
     "text": [
      "[['h2d', 0], ['h2d', 1], ['kern', 2], ['d2h', 3]]\n"
     ]
    }
   ],
   "source": [
    "cke1_api_list = api_order(df_cke_list[1])\n",
    "print cke1_api_list"
   ]
  },
  {
   "cell_type": "code",
   "execution_count": 20,
   "metadata": {
    "collapsed": true
   },
   "outputs": [],
   "source": [
    "def find_api_pos(ls, api_name, order):\n",
    "    count = 0\n",
    "    index = 0\n",
    "    found = 0\n",
    "    for api in ls:\n",
    "        if api[0] == api_name:\n",
    "            count = count + 1\n",
    "            if count == order:\n",
    "                found = 1\n",
    "                index = api[1]\n",
    "                break;\n",
    "    return found, index"
   ]
  },
  {
   "cell_type": "code",
   "execution_count": 21,
   "metadata": {
    "collapsed": false
   },
   "outputs": [],
   "source": [
    "# found, pos = find_api_pos(cke1_api_list, \"kern\", 1)\n",
    "# print(\"found : {}, pos : {}\".format(found, pos))"
   ]
  },
  {
   "cell_type": "code",
   "execution_count": 22,
   "metadata": {
    "collapsed": false
   },
   "outputs": [
    {
     "name": "stdout",
     "output_type": "stream",
     "text": [
      "0.226529\n",
      "0.318113\n",
      "0.00246400000003\n",
      "0.320577\n",
      "0.026944\n",
      "found : 1, pos : 2\n",
      "found : 1, pos : 3\n"
     ]
    },
    {
     "data": {
      "text/html": [
       "<div>\n",
       "<table border=\"1\" class=\"dataframe\">\n",
       "  <thead>\n",
       "    <tr style=\"text-align: right;\">\n",
       "      <th></th>\n",
       "      <th>api_type</th>\n",
       "      <th>start</th>\n",
       "      <th>end</th>\n",
       "      <th>duration</th>\n",
       "    </tr>\n",
       "  </thead>\n",
       "  <tbody>\n",
       "    <tr>\n",
       "      <th>0</th>\n",
       "      <td>h2d</td>\n",
       "      <td>0.034112</td>\n",
       "      <td>0.050784</td>\n",
       "      <td>0.016672</td>\n",
       "    </tr>\n",
       "    <tr>\n",
       "      <th>1</th>\n",
       "      <td>h2d</td>\n",
       "      <td>0.052000</td>\n",
       "      <td>0.068224</td>\n",
       "      <td>0.016224</td>\n",
       "    </tr>\n",
       "    <tr>\n",
       "      <th>2</th>\n",
       "      <td>kern</td>\n",
       "      <td>0.226529</td>\n",
       "      <td>0.318113</td>\n",
       "      <td>0.091584</td>\n",
       "    </tr>\n",
       "    <tr>\n",
       "      <th>3</th>\n",
       "      <td>d2h</td>\n",
       "      <td>0.320577</td>\n",
       "      <td>0.336481</td>\n",
       "      <td>0.015904</td>\n",
       "    </tr>\n",
       "  </tbody>\n",
       "</table>\n",
       "</div>"
      ],
      "text/plain": [
       "  api_type     start       end  duration\n",
       "0      h2d  0.034112  0.050784  0.016672\n",
       "1      h2d  0.052000  0.068224  0.016224\n",
       "2     kern  0.226529  0.318113  0.091584\n",
       "3      d2h  0.320577  0.336481  0.015904"
      ]
     },
     "execution_count": 22,
     "metadata": {},
     "output_type": "execute_result"
    }
   ],
   "source": [
    "# adjust kernel timing \n",
    "\n",
    "df_current = df_cke_list[1]\n",
    "df_current_kern = df_current.loc[df_current.api_type == \"kern\"]\n",
    "#print df_current_kern.start\n",
    "#print df_current_kern.end\n",
    "\n",
    "df_prev = df_cke_list[0]\n",
    "df_prev_kern = df_prev.loc[df_prev.api_type == \"kern\"]\n",
    "#print df_prev_kern.start\n",
    "\n",
    "kern_start_update =  float(df_prev_kern.start) + kernels_start_end[1][0]\n",
    "print kern_start_update\n",
    "\n",
    "kern_end_update = float(df_prev_kern.start) + kernels_start_end[1][1]\n",
    "print kern_end_update\n",
    "\n",
    "# we need to adjust the timing for the following api calls too\n",
    "# find out the kern_d2h ovhd\n",
    "df_current_d2h = df_current.loc[df_current.api_type == \"d2h\"]\n",
    "#print df_current_d2h.start\n",
    "#print df_current_kern.end\n",
    "\n",
    "kern_d2h_ovhd = float(df_current_d2h.start) - float(df_current_kern.end)\n",
    "print kern_d2h_ovhd\n",
    "\n",
    "\n",
    "d2h_new_start = kern_end_update + kern_d2h_ovhd\n",
    "print d2h_new_start\n",
    "\n",
    "d2h_delta = d2h_new_start - float(df_current_d2h.start)\n",
    "print d2h_delta\n",
    "\n",
    "### update\n",
    "found, pos = find_api_pos(cke1_api_list, \"kern\", 1)  # find the 1st kern in the api list\n",
    "print(\"found : {}, pos : {}\".format(found, pos))\n",
    "\n",
    "df_current.set_value(pos, 'start', kern_start_update)\n",
    "df_current.set_value(pos, 'end', kern_end_update)\n",
    "df_current.set_value(pos, 'duration', kern_end_update - kern_start_update)\n",
    "#df_current_kern.start = kern_start_update \n",
    "#df_current_kern.end = kern_end_update\n",
    "#df_current_kern.duration = kern_end_update - kern_start_update\n",
    "\n",
    "\n",
    "found, pos = find_api_pos(cke1_api_list, \"d2h\", 1)  # find the 1st kern in the api list\n",
    "print(\"found : {}, pos : {}\".format(found, pos))\n",
    "\n",
    "df_current.set_value(pos, 'start', d2h_new_start)\n",
    "df_current.set_value(pos, 'end', df_current_d2h.end + d2h_delta)\n",
    "#df_current_d2h.start = d2h_new_start\n",
    "#df_current_d2h.end = df_current_d2h.end + d2h_delta"
   ]
  },
  {
   "cell_type": "code",
   "execution_count": 23,
   "metadata": {
    "collapsed": false
   },
   "outputs": [
    {
     "data": {
      "text/html": [
       "<div>\n",
       "<table border=\"1\" class=\"dataframe\">\n",
       "  <thead>\n",
       "    <tr style=\"text-align: right;\">\n",
       "      <th></th>\n",
       "      <th>api_type</th>\n",
       "      <th>start</th>\n",
       "      <th>end</th>\n",
       "      <th>duration</th>\n",
       "    </tr>\n",
       "  </thead>\n",
       "  <tbody>\n",
       "    <tr>\n",
       "      <th>0</th>\n",
       "      <td>h2d</td>\n",
       "      <td>0.000000</td>\n",
       "      <td>0.016672</td>\n",
       "      <td>0.016672</td>\n",
       "    </tr>\n",
       "    <tr>\n",
       "      <th>1</th>\n",
       "      <td>h2d</td>\n",
       "      <td>0.017888</td>\n",
       "      <td>0.034112</td>\n",
       "      <td>0.016224</td>\n",
       "    </tr>\n",
       "    <tr>\n",
       "      <th>2</th>\n",
       "      <td>kern</td>\n",
       "      <td>0.196001</td>\n",
       "      <td>0.257057</td>\n",
       "      <td>0.061056</td>\n",
       "    </tr>\n",
       "    <tr>\n",
       "      <th>3</th>\n",
       "      <td>d2h</td>\n",
       "      <td>0.259521</td>\n",
       "      <td>0.275425</td>\n",
       "      <td>0.015904</td>\n",
       "    </tr>\n",
       "  </tbody>\n",
       "</table>\n",
       "</div>"
      ],
      "text/plain": [
       "  api_type     start       end  duration\n",
       "0      h2d  0.000000  0.016672  0.016672\n",
       "1      h2d  0.017888  0.034112  0.016224\n",
       "2     kern  0.196001  0.257057  0.061056\n",
       "3      d2h  0.259521  0.275425  0.015904"
      ]
     },
     "execution_count": 23,
     "metadata": {},
     "output_type": "execute_result"
    }
   ],
   "source": [
    "df_cke_list[0]"
   ]
  },
  {
   "cell_type": "code",
   "execution_count": 24,
   "metadata": {
    "collapsed": false
   },
   "outputs": [
    {
     "data": {
      "text/html": [
       "<div>\n",
       "<table border=\"1\" class=\"dataframe\">\n",
       "  <thead>\n",
       "    <tr style=\"text-align: right;\">\n",
       "      <th></th>\n",
       "      <th>api_type</th>\n",
       "      <th>start</th>\n",
       "      <th>end</th>\n",
       "      <th>duration</th>\n",
       "    </tr>\n",
       "  </thead>\n",
       "  <tbody>\n",
       "    <tr>\n",
       "      <th>0</th>\n",
       "      <td>h2d</td>\n",
       "      <td>0.034112</td>\n",
       "      <td>0.050784</td>\n",
       "      <td>0.016672</td>\n",
       "    </tr>\n",
       "    <tr>\n",
       "      <th>1</th>\n",
       "      <td>h2d</td>\n",
       "      <td>0.052000</td>\n",
       "      <td>0.068224</td>\n",
       "      <td>0.016224</td>\n",
       "    </tr>\n",
       "    <tr>\n",
       "      <th>2</th>\n",
       "      <td>kern</td>\n",
       "      <td>0.226529</td>\n",
       "      <td>0.318113</td>\n",
       "      <td>0.091584</td>\n",
       "    </tr>\n",
       "    <tr>\n",
       "      <th>3</th>\n",
       "      <td>d2h</td>\n",
       "      <td>0.320577</td>\n",
       "      <td>0.336481</td>\n",
       "      <td>0.015904</td>\n",
       "    </tr>\n",
       "  </tbody>\n",
       "</table>\n",
       "</div>"
      ],
      "text/plain": [
       "  api_type     start       end  duration\n",
       "0      h2d  0.034112  0.050784  0.016672\n",
       "1      h2d  0.052000  0.068224  0.016224\n",
       "2     kern  0.226529  0.318113  0.091584\n",
       "3      d2h  0.320577  0.336481  0.015904"
      ]
     },
     "execution_count": 24,
     "metadata": {},
     "output_type": "execute_result"
    }
   ],
   "source": [
    "df_cke_list[1]"
   ]
  },
  {
   "cell_type": "markdown",
   "metadata": {},
   "source": [
    "### check whether d2h overlap"
   ]
  },
  {
   "cell_type": "code",
   "execution_count": 27,
   "metadata": {
    "collapsed": false
   },
   "outputs": [
    {
     "name": "stdout",
     "output_type": "stream",
     "text": [
      "prev stream d2h : 0.259521 - 0.275425\n",
      "curr stream d2h : 0.320577 - 0.336481\n"
     ]
    }
   ],
   "source": [
    "prev_stm_d2h_start, prev_stm_d2h_end = find_d2h_timing(df_cke_list[0])\n",
    "print(\"prev stream d2h : {} - {}\".format(prev_stm_d2h_start, prev_stm_d2h_end))\n",
    "\n",
    "curr_stm_d2h_start, curr_stm_d2h_end = find_d2h_timing(df_cke_list[1])\n",
    "print(\"curr stream d2h : {} - {}\".format(curr_stm_d2h_start, curr_stm_d2h_end))"
   ]
  },
  {
   "cell_type": "code",
   "execution_count": null,
   "metadata": {
    "collapsed": true
   },
   "outputs": [],
   "source": [
    "if  prev_stm_d2h_start <= curr_stm_d2h_start < prev_stm_d2h_end:\n",
    "    d2h_ovlp_between_stream = True \n",
    "else:\n",
    "    d2h_ovlp_between_stream = False\n",
    "\n",
    "print(\"kern_ovlp_between_stream : {}\".format(d2h_ovlp_between_stream))"
   ]
  }
 ],
 "metadata": {
  "kernelspec": {
   "display_name": "Python [conda root]",
   "language": "python",
   "name": "conda-root-py"
  },
  "language_info": {
   "codemirror_mode": {
    "name": "ipython",
    "version": 2
   },
   "file_extension": ".py",
   "mimetype": "text/x-python",
   "name": "python",
   "nbconvert_exporter": "python",
   "pygments_lexer": "ipython2",
   "version": "2.7.13"
  }
 },
 "nbformat": 4,
 "nbformat_minor": 2
}
