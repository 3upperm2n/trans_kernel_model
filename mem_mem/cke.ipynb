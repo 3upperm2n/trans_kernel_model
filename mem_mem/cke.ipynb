{
 "cells": [
  {
   "cell_type": "code",
   "execution_count": 1,
   "metadata": {
    "collapsed": false
   },
   "outputs": [],
   "source": [
    "import warnings\n",
    "import pandas as pd\n",
    "import numpy as np\n",
    "import os\n",
    "import sys # error msg\n",
    "import operator # sorting\n",
    "from math import *\n",
    "\n",
    "from read_trace import *\n",
    "from avgblkmodel import *\n",
    "\n",
    "warnings.filterwarnings(\"ignore\", category=np.VisibleDeprecationWarning)"
   ]
  },
  {
   "cell_type": "markdown",
   "metadata": {},
   "source": [
    "# gpu info"
   ]
  },
  {
   "cell_type": "code",
   "execution_count": 2,
   "metadata": {
    "collapsed": true
   },
   "outputs": [],
   "source": [
    "gtx950 = DeviceInfo()\n",
    "gtx950.sm_num = 6\n",
    "gtx950.sharedmem_per_sm = 49152\n",
    "gtx950.reg_per_sm = 65536\n",
    "gtx950.maxthreads_per_sm = 2048"
   ]
  },
  {
   "cell_type": "markdown",
   "metadata": {},
   "source": [
    "# single stream info"
   ]
  },
  {
   "cell_type": "code",
   "execution_count": 3,
   "metadata": {
    "collapsed": false
   },
   "outputs": [],
   "source": [
    "data_size = 23000\n",
    "trace_file = './1cke/trace_' + str(data_size) + '.csv'\n",
    "df_trace = trace2dataframe(trace_file) # read the trace to the dataframe"
   ]
  },
  {
   "cell_type": "code",
   "execution_count": 4,
   "metadata": {
    "collapsed": false
   },
   "outputs": [
    {
     "data": {
      "text/html": [
       "<div>\n",
       "<table border=\"1\" class=\"dataframe\">\n",
       "  <thead>\n",
       "    <tr style=\"text-align: right;\">\n",
       "      <th></th>\n",
       "      <th>Start</th>\n",
       "      <th>Duration</th>\n",
       "      <th>Grid X</th>\n",
       "      <th>Grid Y</th>\n",
       "      <th>Grid Z</th>\n",
       "      <th>Block X</th>\n",
       "      <th>Block Y</th>\n",
       "      <th>Block Z</th>\n",
       "      <th>Registers Per Thread</th>\n",
       "      <th>Static SMem</th>\n",
       "      <th>Dynamic SMem</th>\n",
       "      <th>Size</th>\n",
       "      <th>Throughput</th>\n",
       "      <th>Device</th>\n",
       "      <th>Context</th>\n",
       "      <th>Stream</th>\n",
       "      <th>Name</th>\n",
       "    </tr>\n",
       "  </thead>\n",
       "  <tbody>\n",
       "    <tr>\n",
       "      <th>0</th>\n",
       "      <td>ms</td>\n",
       "      <td>us</td>\n",
       "      <td>NaN</td>\n",
       "      <td>NaN</td>\n",
       "      <td>NaN</td>\n",
       "      <td>NaN</td>\n",
       "      <td>NaN</td>\n",
       "      <td>NaN</td>\n",
       "      <td>NaN</td>\n",
       "      <td>B</td>\n",
       "      <td>B</td>\n",
       "      <td>KB</td>\n",
       "      <td>GB/s</td>\n",
       "      <td>NaN</td>\n",
       "      <td>NaN</td>\n",
       "      <td>NaN</td>\n",
       "      <td>NaN</td>\n",
       "    </tr>\n",
       "    <tr>\n",
       "      <th>1</th>\n",
       "      <td>526.961828</td>\n",
       "      <td>16.672000</td>\n",
       "      <td>NaN</td>\n",
       "      <td>NaN</td>\n",
       "      <td>NaN</td>\n",
       "      <td>NaN</td>\n",
       "      <td>NaN</td>\n",
       "      <td>NaN</td>\n",
       "      <td>NaN</td>\n",
       "      <td>NaN</td>\n",
       "      <td>NaN</td>\n",
       "      <td>89.843750</td>\n",
       "      <td>5.139256</td>\n",
       "      <td>GeForce GTX 950 (0)</td>\n",
       "      <td>1.0</td>\n",
       "      <td>13.0</td>\n",
       "      <td>[CUDA memcpy HtoD]</td>\n",
       "    </tr>\n",
       "    <tr>\n",
       "      <th>2</th>\n",
       "      <td>526.979716</td>\n",
       "      <td>16.224000</td>\n",
       "      <td>NaN</td>\n",
       "      <td>NaN</td>\n",
       "      <td>NaN</td>\n",
       "      <td>NaN</td>\n",
       "      <td>NaN</td>\n",
       "      <td>NaN</td>\n",
       "      <td>NaN</td>\n",
       "      <td>NaN</td>\n",
       "      <td>NaN</td>\n",
       "      <td>89.843750</td>\n",
       "      <td>5.281168</td>\n",
       "      <td>GeForce GTX 950 (0)</td>\n",
       "      <td>1.0</td>\n",
       "      <td>13.0</td>\n",
       "      <td>[CUDA memcpy HtoD]</td>\n",
       "    </tr>\n",
       "    <tr>\n",
       "      <th>3</th>\n",
       "      <td>527.157829</td>\n",
       "      <td>61.056000</td>\n",
       "      <td>90.0</td>\n",
       "      <td>1.0</td>\n",
       "      <td>1.0</td>\n",
       "      <td>256.0</td>\n",
       "      <td>1.0</td>\n",
       "      <td>1.0</td>\n",
       "      <td>28.0</td>\n",
       "      <td>0</td>\n",
       "      <td>0</td>\n",
       "      <td>NaN</td>\n",
       "      <td>NaN</td>\n",
       "      <td>GeForce GTX 950 (0)</td>\n",
       "      <td>1.0</td>\n",
       "      <td>13.0</td>\n",
       "      <td>kernel_vectorAdd(float const *, float const *,...</td>\n",
       "    </tr>\n",
       "    <tr>\n",
       "      <th>4</th>\n",
       "      <td>527.221349</td>\n",
       "      <td>15.904000</td>\n",
       "      <td>NaN</td>\n",
       "      <td>NaN</td>\n",
       "      <td>NaN</td>\n",
       "      <td>NaN</td>\n",
       "      <td>NaN</td>\n",
       "      <td>NaN</td>\n",
       "      <td>NaN</td>\n",
       "      <td>NaN</td>\n",
       "      <td>NaN</td>\n",
       "      <td>89.843750</td>\n",
       "      <td>5.387429</td>\n",
       "      <td>GeForce GTX 950 (0)</td>\n",
       "      <td>1.0</td>\n",
       "      <td>13.0</td>\n",
       "      <td>[CUDA memcpy DtoH]</td>\n",
       "    </tr>\n",
       "  </tbody>\n",
       "</table>\n",
       "</div>"
      ],
      "text/plain": [
       "        Start   Duration  Grid X  Grid Y  Grid Z  Block X  Block Y  Block Z  \\\n",
       "0          ms         us     NaN     NaN     NaN      NaN      NaN      NaN   \n",
       "1  526.961828  16.672000     NaN     NaN     NaN      NaN      NaN      NaN   \n",
       "2  526.979716  16.224000     NaN     NaN     NaN      NaN      NaN      NaN   \n",
       "3  527.157829  61.056000    90.0     1.0     1.0    256.0      1.0      1.0   \n",
       "4  527.221349  15.904000     NaN     NaN     NaN      NaN      NaN      NaN   \n",
       "\n",
       "   Registers Per Thread Static SMem Dynamic SMem       Size Throughput  \\\n",
       "0                   NaN           B            B         KB       GB/s   \n",
       "1                   NaN         NaN          NaN  89.843750   5.139256   \n",
       "2                   NaN         NaN          NaN  89.843750   5.281168   \n",
       "3                  28.0           0            0        NaN        NaN   \n",
       "4                   NaN         NaN          NaN  89.843750   5.387429   \n",
       "\n",
       "                Device  Context  Stream  \\\n",
       "0                  NaN      NaN     NaN   \n",
       "1  GeForce GTX 950 (0)      1.0    13.0   \n",
       "2  GeForce GTX 950 (0)      1.0    13.0   \n",
       "3  GeForce GTX 950 (0)      1.0    13.0   \n",
       "4  GeForce GTX 950 (0)      1.0    13.0   \n",
       "\n",
       "                                                Name  \n",
       "0                                                NaN  \n",
       "1                                 [CUDA memcpy HtoD]  \n",
       "2                                 [CUDA memcpy HtoD]  \n",
       "3  kernel_vectorAdd(float const *, float const *,...  \n",
       "4                                 [CUDA memcpy DtoH]  "
      ]
     },
     "execution_count": 4,
     "metadata": {},
     "output_type": "execute_result"
    }
   ],
   "source": [
    "df_trace"
   ]
  },
  {
   "cell_type": "code",
   "execution_count": 5,
   "metadata": {
    "collapsed": false
   },
   "outputs": [
    {
     "data": {
      "text/html": [
       "<div>\n",
       "<table border=\"1\" class=\"dataframe\">\n",
       "  <thead>\n",
       "    <tr style=\"text-align: right;\">\n",
       "      <th></th>\n",
       "      <th>seq</th>\n",
       "      <th>api_type</th>\n",
       "      <th>start</th>\n",
       "      <th>end</th>\n",
       "      <th>duration</th>\n",
       "    </tr>\n",
       "  </thead>\n",
       "  <tbody>\n",
       "    <tr>\n",
       "      <th>0</th>\n",
       "      <td>0.0</td>\n",
       "      <td>h2d</td>\n",
       "      <td>526.961828</td>\n",
       "      <td>526.978500</td>\n",
       "      <td>0.016672</td>\n",
       "    </tr>\n",
       "    <tr>\n",
       "      <th>1</th>\n",
       "      <td>1.0</td>\n",
       "      <td>h2d_h2d_ovhd</td>\n",
       "      <td>526.978500</td>\n",
       "      <td>526.979716</td>\n",
       "      <td>0.001216</td>\n",
       "    </tr>\n",
       "    <tr>\n",
       "      <th>2</th>\n",
       "      <td>2.0</td>\n",
       "      <td>h2d</td>\n",
       "      <td>526.979716</td>\n",
       "      <td>526.995940</td>\n",
       "      <td>0.016224</td>\n",
       "    </tr>\n",
       "    <tr>\n",
       "      <th>3</th>\n",
       "      <td>3.0</td>\n",
       "      <td>h2d_kern_ovhd</td>\n",
       "      <td>526.995940</td>\n",
       "      <td>527.157829</td>\n",
       "      <td>0.161889</td>\n",
       "    </tr>\n",
       "    <tr>\n",
       "      <th>4</th>\n",
       "      <td>4.0</td>\n",
       "      <td>kern</td>\n",
       "      <td>527.157829</td>\n",
       "      <td>527.218885</td>\n",
       "      <td>0.061056</td>\n",
       "    </tr>\n",
       "    <tr>\n",
       "      <th>5</th>\n",
       "      <td>5.0</td>\n",
       "      <td>kern_d2h_ovhd</td>\n",
       "      <td>527.218885</td>\n",
       "      <td>527.221349</td>\n",
       "      <td>0.002464</td>\n",
       "    </tr>\n",
       "    <tr>\n",
       "      <th>6</th>\n",
       "      <td>6.0</td>\n",
       "      <td>d2h</td>\n",
       "      <td>527.221349</td>\n",
       "      <td>527.237253</td>\n",
       "      <td>0.015904</td>\n",
       "    </tr>\n",
       "  </tbody>\n",
       "</table>\n",
       "</div>"
      ],
      "text/plain": [
       "   seq       api_type       start         end  duration\n",
       "0  0.0            h2d  526.961828  526.978500  0.016672\n",
       "1  1.0   h2d_h2d_ovhd  526.978500  526.979716  0.001216\n",
       "2  2.0            h2d  526.979716  526.995940  0.016224\n",
       "3  3.0  h2d_kern_ovhd  526.995940  527.157829  0.161889\n",
       "4  4.0           kern  527.157829  527.218885  0.061056\n",
       "5  5.0  kern_d2h_ovhd  527.218885  527.221349  0.002464\n",
       "6  6.0            d2h  527.221349  527.237253  0.015904"
      ]
     },
     "execution_count": 5,
     "metadata": {},
     "output_type": "execute_result"
    }
   ],
   "source": [
    "df_single_stream = model_param_from_trace(df_trace)\n",
    "df_single_stream.head(20)"
   ]
  },
  {
   "cell_type": "markdown",
   "metadata": {},
   "source": [
    "# model 2 stream case"
   ]
  },
  {
   "cell_type": "markdown",
   "metadata": {},
   "source": [
    "we need a trace table to track the timing for each kernel"
   ]
  },
  {
   "cell_type": "code",
   "execution_count": 6,
   "metadata": {
    "collapsed": false
   },
   "outputs": [],
   "source": [
    "df_single_stream_update = df_single_stream.copy(deep=True)\n",
    "#df_cke['stream'] = 0 # add stream column with label 0"
   ]
  },
  {
   "cell_type": "code",
   "execution_count": 7,
   "metadata": {
    "collapsed": false
   },
   "outputs": [
    {
     "data": {
      "text/html": [
       "<div>\n",
       "<table border=\"1\" class=\"dataframe\">\n",
       "  <thead>\n",
       "    <tr style=\"text-align: right;\">\n",
       "      <th></th>\n",
       "      <th>seq</th>\n",
       "      <th>api_type</th>\n",
       "      <th>start</th>\n",
       "      <th>end</th>\n",
       "      <th>duration</th>\n",
       "    </tr>\n",
       "  </thead>\n",
       "  <tbody>\n",
       "    <tr>\n",
       "      <th>0</th>\n",
       "      <td>0.0</td>\n",
       "      <td>h2d</td>\n",
       "      <td>526.961828</td>\n",
       "      <td>526.978500</td>\n",
       "      <td>0.016672</td>\n",
       "    </tr>\n",
       "    <tr>\n",
       "      <th>1</th>\n",
       "      <td>1.0</td>\n",
       "      <td>h2d_h2d_ovhd</td>\n",
       "      <td>526.978500</td>\n",
       "      <td>526.979716</td>\n",
       "      <td>0.001216</td>\n",
       "    </tr>\n",
       "    <tr>\n",
       "      <th>2</th>\n",
       "      <td>2.0</td>\n",
       "      <td>h2d</td>\n",
       "      <td>526.979716</td>\n",
       "      <td>526.995940</td>\n",
       "      <td>0.016224</td>\n",
       "    </tr>\n",
       "    <tr>\n",
       "      <th>3</th>\n",
       "      <td>3.0</td>\n",
       "      <td>h2d_kern_ovhd</td>\n",
       "      <td>526.995940</td>\n",
       "      <td>527.157829</td>\n",
       "      <td>0.161889</td>\n",
       "    </tr>\n",
       "    <tr>\n",
       "      <th>4</th>\n",
       "      <td>4.0</td>\n",
       "      <td>kern</td>\n",
       "      <td>527.157829</td>\n",
       "      <td>527.218885</td>\n",
       "      <td>0.061056</td>\n",
       "    </tr>\n",
       "    <tr>\n",
       "      <th>5</th>\n",
       "      <td>5.0</td>\n",
       "      <td>kern_d2h_ovhd</td>\n",
       "      <td>527.218885</td>\n",
       "      <td>527.221349</td>\n",
       "      <td>0.002464</td>\n",
       "    </tr>\n",
       "    <tr>\n",
       "      <th>6</th>\n",
       "      <td>6.0</td>\n",
       "      <td>d2h</td>\n",
       "      <td>527.221349</td>\n",
       "      <td>527.237253</td>\n",
       "      <td>0.015904</td>\n",
       "    </tr>\n",
       "  </tbody>\n",
       "</table>\n",
       "</div>"
      ],
      "text/plain": [
       "   seq       api_type       start         end  duration\n",
       "0  0.0            h2d  526.961828  526.978500  0.016672\n",
       "1  1.0   h2d_h2d_ovhd  526.978500  526.979716  0.001216\n",
       "2  2.0            h2d  526.979716  526.995940  0.016224\n",
       "3  3.0  h2d_kern_ovhd  526.995940  527.157829  0.161889\n",
       "4  4.0           kern  527.157829  527.218885  0.061056\n",
       "5  5.0  kern_d2h_ovhd  527.218885  527.221349  0.002464\n",
       "6  6.0            d2h  527.221349  527.237253  0.015904"
      ]
     },
     "execution_count": 7,
     "metadata": {},
     "output_type": "execute_result"
    }
   ],
   "source": [
    "df_single_stream_update"
   ]
  },
  {
   "cell_type": "code",
   "execution_count": 8,
   "metadata": {
    "collapsed": false
   },
   "outputs": [
    {
     "name": "stdout",
     "output_type": "stream",
     "text": [
      "   seq       api_type     start       end  duration\n",
      "0  0.0            h2d  0.000000  0.016672  0.016672\n",
      "1  1.0   h2d_h2d_ovhd  0.016672  0.017888  0.001216\n",
      "2  2.0            h2d  0.017888  0.034112  0.016224\n",
      "3  3.0  h2d_kern_ovhd  0.034112  0.196001  0.161889\n",
      "4  4.0           kern  0.196001  0.257057  0.061056\n",
      "5  5.0  kern_d2h_ovhd  0.257057  0.259521  0.002464\n",
      "6  6.0            d2h  0.259521  0.275425  0.015904\n"
     ]
    }
   ],
   "source": [
    "# deduct the starting timing\n",
    "offset = df_single_stream_update.start[0]\n",
    "#print offset\n",
    "df_single_stream_update.start = df_single_stream_update.start - offset\n",
    "df_single_stream_update.end = df_single_stream_update.end - offset\n",
    "print df_single_stream_update"
   ]
  },
  {
   "cell_type": "code",
   "execution_count": 9,
   "metadata": {
    "collapsed": false
   },
   "outputs": [],
   "source": [
    "## make duplication for the same trace\n",
    "stream_num = 2\n",
    "\n",
    "df_cke_list = []\n",
    "for x in range(stream_num):\n",
    "    df_cke_list.append(df_single_stream_update.copy(deep=True))"
   ]
  },
  {
   "cell_type": "code",
   "execution_count": 10,
   "metadata": {
    "collapsed": false
   },
   "outputs": [
    {
     "data": {
      "text/html": [
       "<div>\n",
       "<table border=\"1\" class=\"dataframe\">\n",
       "  <thead>\n",
       "    <tr style=\"text-align: right;\">\n",
       "      <th></th>\n",
       "      <th>seq</th>\n",
       "      <th>api_type</th>\n",
       "      <th>start</th>\n",
       "      <th>end</th>\n",
       "      <th>duration</th>\n",
       "    </tr>\n",
       "  </thead>\n",
       "  <tbody>\n",
       "    <tr>\n",
       "      <th>0</th>\n",
       "      <td>0.0</td>\n",
       "      <td>h2d</td>\n",
       "      <td>0.000000</td>\n",
       "      <td>0.016672</td>\n",
       "      <td>0.016672</td>\n",
       "    </tr>\n",
       "    <tr>\n",
       "      <th>1</th>\n",
       "      <td>1.0</td>\n",
       "      <td>h2d_h2d_ovhd</td>\n",
       "      <td>0.016672</td>\n",
       "      <td>0.017888</td>\n",
       "      <td>0.001216</td>\n",
       "    </tr>\n",
       "    <tr>\n",
       "      <th>2</th>\n",
       "      <td>2.0</td>\n",
       "      <td>h2d</td>\n",
       "      <td>0.017888</td>\n",
       "      <td>0.034112</td>\n",
       "      <td>0.016224</td>\n",
       "    </tr>\n",
       "    <tr>\n",
       "      <th>3</th>\n",
       "      <td>3.0</td>\n",
       "      <td>h2d_kern_ovhd</td>\n",
       "      <td>0.034112</td>\n",
       "      <td>0.196001</td>\n",
       "      <td>0.161889</td>\n",
       "    </tr>\n",
       "    <tr>\n",
       "      <th>4</th>\n",
       "      <td>4.0</td>\n",
       "      <td>kern</td>\n",
       "      <td>0.196001</td>\n",
       "      <td>0.257057</td>\n",
       "      <td>0.061056</td>\n",
       "    </tr>\n",
       "    <tr>\n",
       "      <th>5</th>\n",
       "      <td>5.0</td>\n",
       "      <td>kern_d2h_ovhd</td>\n",
       "      <td>0.257057</td>\n",
       "      <td>0.259521</td>\n",
       "      <td>0.002464</td>\n",
       "    </tr>\n",
       "    <tr>\n",
       "      <th>6</th>\n",
       "      <td>6.0</td>\n",
       "      <td>d2h</td>\n",
       "      <td>0.259521</td>\n",
       "      <td>0.275425</td>\n",
       "      <td>0.015904</td>\n",
       "    </tr>\n",
       "  </tbody>\n",
       "</table>\n",
       "</div>"
      ],
      "text/plain": [
       "   seq       api_type     start       end  duration\n",
       "0  0.0            h2d  0.000000  0.016672  0.016672\n",
       "1  1.0   h2d_h2d_ovhd  0.016672  0.017888  0.001216\n",
       "2  2.0            h2d  0.017888  0.034112  0.016224\n",
       "3  3.0  h2d_kern_ovhd  0.034112  0.196001  0.161889\n",
       "4  4.0           kern  0.196001  0.257057  0.061056\n",
       "5  5.0  kern_d2h_ovhd  0.257057  0.259521  0.002464\n",
       "6  6.0            d2h  0.259521  0.275425  0.015904"
      ]
     },
     "execution_count": 10,
     "metadata": {},
     "output_type": "execute_result"
    }
   ],
   "source": [
    "df_cke_list[0]"
   ]
  },
  {
   "cell_type": "code",
   "execution_count": 11,
   "metadata": {
    "collapsed": false
   },
   "outputs": [
    {
     "data": {
      "text/html": [
       "<div>\n",
       "<table border=\"1\" class=\"dataframe\">\n",
       "  <thead>\n",
       "    <tr style=\"text-align: right;\">\n",
       "      <th></th>\n",
       "      <th>seq</th>\n",
       "      <th>api_type</th>\n",
       "      <th>start</th>\n",
       "      <th>end</th>\n",
       "      <th>duration</th>\n",
       "    </tr>\n",
       "  </thead>\n",
       "  <tbody>\n",
       "    <tr>\n",
       "      <th>0</th>\n",
       "      <td>0.0</td>\n",
       "      <td>h2d</td>\n",
       "      <td>0.000000</td>\n",
       "      <td>0.016672</td>\n",
       "      <td>0.016672</td>\n",
       "    </tr>\n",
       "    <tr>\n",
       "      <th>1</th>\n",
       "      <td>1.0</td>\n",
       "      <td>h2d_h2d_ovhd</td>\n",
       "      <td>0.016672</td>\n",
       "      <td>0.017888</td>\n",
       "      <td>0.001216</td>\n",
       "    </tr>\n",
       "    <tr>\n",
       "      <th>2</th>\n",
       "      <td>2.0</td>\n",
       "      <td>h2d</td>\n",
       "      <td>0.017888</td>\n",
       "      <td>0.034112</td>\n",
       "      <td>0.016224</td>\n",
       "    </tr>\n",
       "    <tr>\n",
       "      <th>3</th>\n",
       "      <td>3.0</td>\n",
       "      <td>h2d_kern_ovhd</td>\n",
       "      <td>0.034112</td>\n",
       "      <td>0.196001</td>\n",
       "      <td>0.161889</td>\n",
       "    </tr>\n",
       "    <tr>\n",
       "      <th>4</th>\n",
       "      <td>4.0</td>\n",
       "      <td>kern</td>\n",
       "      <td>0.196001</td>\n",
       "      <td>0.257057</td>\n",
       "      <td>0.061056</td>\n",
       "    </tr>\n",
       "    <tr>\n",
       "      <th>5</th>\n",
       "      <td>5.0</td>\n",
       "      <td>kern_d2h_ovhd</td>\n",
       "      <td>0.257057</td>\n",
       "      <td>0.259521</td>\n",
       "      <td>0.002464</td>\n",
       "    </tr>\n",
       "    <tr>\n",
       "      <th>6</th>\n",
       "      <td>6.0</td>\n",
       "      <td>d2h</td>\n",
       "      <td>0.259521</td>\n",
       "      <td>0.275425</td>\n",
       "      <td>0.015904</td>\n",
       "    </tr>\n",
       "  </tbody>\n",
       "</table>\n",
       "</div>"
      ],
      "text/plain": [
       "   seq       api_type     start       end  duration\n",
       "0  0.0            h2d  0.000000  0.016672  0.016672\n",
       "1  1.0   h2d_h2d_ovhd  0.016672  0.017888  0.001216\n",
       "2  2.0            h2d  0.017888  0.034112  0.016224\n",
       "3  3.0  h2d_kern_ovhd  0.034112  0.196001  0.161889\n",
       "4  4.0           kern  0.196001  0.257057  0.061056\n",
       "5  5.0  kern_d2h_ovhd  0.257057  0.259521  0.002464\n",
       "6  6.0            d2h  0.259521  0.275425  0.015904"
      ]
     },
     "execution_count": 11,
     "metadata": {},
     "output_type": "execute_result"
    }
   ],
   "source": [
    "# 2nd stream trace\n",
    "df_cke_list[1]"
   ]
  },
  {
   "cell_type": "code",
   "execution_count": 17,
   "metadata": {
    "collapsed": false
   },
   "outputs": [
    {
     "name": "stdout",
     "output_type": "stream",
     "text": [
      "h2d : 0.0 - 0.0341120000001 = 0.0341120000001\n",
      "0.0341120000001\n"
     ]
    }
   ],
   "source": [
    "df_prev_stream = df_cke_list[0]\n",
    "\n",
    "# compute the time for the init data transfer\n",
    "H2D_H2D_OVLP_TH = 3.158431\n",
    "\n",
    "# we need to know the data transfer time before the 1st kernel call\n",
    "h2d_first_ind = -1\n",
    "h2d_last_ind = -1\n",
    "for index, row in df_prev_stream.iterrows():\n",
    "    if row['api_type'] == 'h2d':\n",
    "        h2d_first_ind = 0\n",
    "        \n",
    "    if row['api_type'] == 'h2d_kern_ovhd':\n",
    "        h2d_last_ind = index -1\n",
    "        break;\n",
    "        \n",
    "h2d_start = df_prev_stream.loc[h2d_first_ind]['start']\n",
    "h2d_finish = df_prev_stream.loc[h2d_last_ind]['end']  \n",
    "h2d_duration = h2d_finish - h2d_start\n",
    "print(\"h2d : {} - {} = {}\".format(h2d_start, h2d_finish, h2d_duration))\n",
    "\n",
    "# check whether we need to start second stream data transfer till the previous one finishes\n",
    "current_stream_start = 0\n",
    "if h2d_duration > H2D_H2D_OVLP_TH:\n",
    "    current_stream_start = H2D_H2D_OVLP_TH\n",
    "else:\n",
    "    current_stream_start = h2d_finish\n",
    "    \n",
    "print current_stream_start\n",
    "#df_single_stream.loc[0]['api_type']"
   ]
  },
  {
   "cell_type": "code",
   "execution_count": 19,
   "metadata": {
    "collapsed": true
   },
   "outputs": [],
   "source": [
    "# add the start_offset to 2nd stream trace\n",
    "df_cke_list[1].start = df_cke_list[1].start + current_stream_start\n",
    "df_cke_list[1].end = df_cke_list[1].end + current_stream_start"
   ]
  },
  {
   "cell_type": "code",
   "execution_count": 20,
   "metadata": {
    "collapsed": false
   },
   "outputs": [
    {
     "data": {
      "text/html": [
       "<div>\n",
       "<table border=\"1\" class=\"dataframe\">\n",
       "  <thead>\n",
       "    <tr style=\"text-align: right;\">\n",
       "      <th></th>\n",
       "      <th>seq</th>\n",
       "      <th>api_type</th>\n",
       "      <th>start</th>\n",
       "      <th>end</th>\n",
       "      <th>duration</th>\n",
       "    </tr>\n",
       "  </thead>\n",
       "  <tbody>\n",
       "    <tr>\n",
       "      <th>0</th>\n",
       "      <td>0.0</td>\n",
       "      <td>h2d</td>\n",
       "      <td>0.034112</td>\n",
       "      <td>0.050784</td>\n",
       "      <td>0.016672</td>\n",
       "    </tr>\n",
       "    <tr>\n",
       "      <th>1</th>\n",
       "      <td>1.0</td>\n",
       "      <td>h2d_h2d_ovhd</td>\n",
       "      <td>0.050784</td>\n",
       "      <td>0.052000</td>\n",
       "      <td>0.001216</td>\n",
       "    </tr>\n",
       "    <tr>\n",
       "      <th>2</th>\n",
       "      <td>2.0</td>\n",
       "      <td>h2d</td>\n",
       "      <td>0.052000</td>\n",
       "      <td>0.068224</td>\n",
       "      <td>0.016224</td>\n",
       "    </tr>\n",
       "    <tr>\n",
       "      <th>3</th>\n",
       "      <td>3.0</td>\n",
       "      <td>h2d_kern_ovhd</td>\n",
       "      <td>0.068224</td>\n",
       "      <td>0.230113</td>\n",
       "      <td>0.161889</td>\n",
       "    </tr>\n",
       "    <tr>\n",
       "      <th>4</th>\n",
       "      <td>4.0</td>\n",
       "      <td>kern</td>\n",
       "      <td>0.230113</td>\n",
       "      <td>0.291169</td>\n",
       "      <td>0.061056</td>\n",
       "    </tr>\n",
       "    <tr>\n",
       "      <th>5</th>\n",
       "      <td>5.0</td>\n",
       "      <td>kern_d2h_ovhd</td>\n",
       "      <td>0.291169</td>\n",
       "      <td>0.293633</td>\n",
       "      <td>0.002464</td>\n",
       "    </tr>\n",
       "    <tr>\n",
       "      <th>6</th>\n",
       "      <td>6.0</td>\n",
       "      <td>d2h</td>\n",
       "      <td>0.293633</td>\n",
       "      <td>0.309537</td>\n",
       "      <td>0.015904</td>\n",
       "    </tr>\n",
       "  </tbody>\n",
       "</table>\n",
       "</div>"
      ],
      "text/plain": [
       "   seq       api_type     start       end  duration\n",
       "0  0.0            h2d  0.034112  0.050784  0.016672\n",
       "1  1.0   h2d_h2d_ovhd  0.050784  0.052000  0.001216\n",
       "2  2.0            h2d  0.052000  0.068224  0.016224\n",
       "3  3.0  h2d_kern_ovhd  0.068224  0.230113  0.161889\n",
       "4  4.0           kern  0.230113  0.291169  0.061056\n",
       "5  5.0  kern_d2h_ovhd  0.291169  0.293633  0.002464\n",
       "6  6.0            d2h  0.293633  0.309537  0.015904"
      ]
     },
     "execution_count": 20,
     "metadata": {},
     "output_type": "execute_result"
    }
   ],
   "source": [
    "df_cke_list[1]"
   ]
  },
  {
   "cell_type": "markdown",
   "metadata": {},
   "source": [
    "### figure out whether there is h2d ovlp"
   ]
  },
  {
   "cell_type": "code",
   "execution_count": 21,
   "metadata": {
    "collapsed": true
   },
   "outputs": [],
   "source": [
    "def find_h2d_timing(df_trace):\n",
    "    \"\"\"\n",
    "    find the h2d start and end for the current stream\n",
    "    \"\"\"\n",
    "    # we need to know the data transfer time before the 1st kernel call\n",
    "    h2d_first_ind = -1\n",
    "    h2d_last_ind = -1\n",
    "    for index, row in df_trace.iterrows():\n",
    "        if row['api_type'] == 'h2d':\n",
    "            h2d_first_ind = 0\n",
    "\n",
    "        if row['api_type'] == 'h2d_kern_ovhd':\n",
    "            h2d_last_ind = index -1\n",
    "            break;\n",
    "        \n",
    "    h2d_start = df_trace.loc[h2d_first_ind]['start']\n",
    "    h2d_finish = df_trace.loc[h2d_last_ind]['end']  \n",
    "    \n",
    "    return h2d_start, h2d_finish"
   ]
  },
  {
   "cell_type": "code",
   "execution_count": 24,
   "metadata": {
    "collapsed": false
   },
   "outputs": [
    {
     "name": "stdout",
     "output_type": "stream",
     "text": [
      "prev : 0.0 - 0.0341120000001\n",
      "current : 0.0341120000001 - 0.0682240000001\n"
     ]
    }
   ],
   "source": [
    "prev_h2d_start, prev_h2d_end = find_h2d_timing(df_cke_list[0])\n",
    "print(\"prev : {} - {}\".format(prev_h2d_start, prev_h2d_end))\n",
    "\n",
    "current_h2d_start, current_h2d_end = find_h2d_timing(df_cke_list[1])\n",
    "print(\"current : {} - {}\".format(current_h2d_start, current_h2d_end))"
   ]
  },
  {
   "cell_type": "code",
   "execution_count": 25,
   "metadata": {
    "collapsed": false
   },
   "outputs": [
    {
     "name": "stdout",
     "output_type": "stream",
     "text": [
      "h2d ovlap : 0\n"
     ]
    }
   ],
   "source": [
    "h2d_ovlp = 0\n",
    "if current_h2d_start < prev_h2d_end and current_h2d_start >= prev_h2d_start:\n",
    "    h2d_ovlp = 1\n",
    "print(\"h2d ovlap : {}\".format(h2d_ovlp))"
   ]
  },
  {
   "cell_type": "markdown",
   "metadata": {},
   "source": [
    "### figure out whether there is kernel ovlp"
   ]
  },
  {
   "cell_type": "code",
   "execution_count": 26,
   "metadata": {
    "collapsed": true
   },
   "outputs": [],
   "source": [
    "def find_kernel_timing(df_trace):\n",
    "    \"\"\"\n",
    "    find the h2d start and end for the current stream\n",
    "    \"\"\"\n",
    "    # we need to know the data transfer time before the 1st kernel call\n",
    "    df_kern = df_trace.loc[df_trace['api_type'] == 'kern']\n",
    "    kernel_timing_ls = []\n",
    "    for index, row in df_kern.iterrows():\n",
    "        kernel_timing_ls.append([row['start'], row['end']])\n",
    "    \n",
    "    return kernel_timing_ls"
   ]
  },
  {
   "cell_type": "code",
   "execution_count": 33,
   "metadata": {
    "collapsed": false
   },
   "outputs": [
    {
     "name": "stdout",
     "output_type": "stream",
     "text": [
      "[[0.19600100000002385, 0.2570570000000316]]\n",
      "[[0.23011300000007395, 0.2911690000000817]]\n",
      "Overlapping betweent the kernel\n"
     ]
    }
   ],
   "source": [
    "prev_kernel_timing = find_kernel_timing(df_cke_list[0])\n",
    "print prev_kernel_timing\n",
    "curr_kernel_timing = find_kernel_timing(df_cke_list[1])\n",
    "print curr_kernel_timing\n",
    "\n",
    "curr_start = curr_kernel_timing[0][0]\n",
    "prev_start = prev_kernel_timing[0][0]\n",
    "prev_end = prev_kernel_timing[0][1]\n",
    "\n",
    "if curr_start >= prev_start and curr_start < prev_end:\n",
    "    print(\"Overlapping betweent the kernel\")"
   ]
  }
 ],
 "metadata": {
  "kernelspec": {
   "display_name": "Python [conda root]",
   "language": "python",
   "name": "conda-root-py"
  },
  "language_info": {
   "codemirror_mode": {
    "name": "ipython",
    "version": 2
   },
   "file_extension": ".py",
   "mimetype": "text/x-python",
   "name": "python",
   "nbconvert_exporter": "python",
   "pygments_lexer": "ipython2",
   "version": "2.7.13"
  }
 },
 "nbformat": 4,
 "nbformat_minor": 2
}
