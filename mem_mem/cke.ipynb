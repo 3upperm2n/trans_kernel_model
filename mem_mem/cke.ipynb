{
 "cells": [
  {
   "cell_type": "code",
   "execution_count": 1,
   "metadata": {
    "collapsed": false
   },
   "outputs": [],
   "source": [
    "import warnings\n",
    "import pandas as pd\n",
    "import numpy as np\n",
    "import os\n",
    "import operator # sorting\n",
    "from math import *\n",
    "\n",
    "from read_trace import *\n",
    "from avgblkmodel import *\n",
    "\n",
    "warnings.filterwarnings(\"ignore\", category=np.VisibleDeprecationWarning)"
   ]
  },
  {
   "cell_type": "markdown",
   "metadata": {},
   "source": [
    "# gpu info"
   ]
  },
  {
   "cell_type": "code",
   "execution_count": 2,
   "metadata": {
    "collapsed": true
   },
   "outputs": [],
   "source": [
    "gtx950 = DeviceInfo()\n",
    "gtx950.sm_num = 6\n",
    "gtx950.sharedmem_per_sm = 49152\n",
    "gtx950.reg_per_sm = 65536\n",
    "gtx950.maxthreads_per_sm = 2048"
   ]
  },
  {
   "cell_type": "markdown",
   "metadata": {},
   "source": [
    "# single stream info"
   ]
  },
  {
   "cell_type": "code",
   "execution_count": 3,
   "metadata": {
    "collapsed": false
   },
   "outputs": [],
   "source": [
    "data_size = 23000\n",
    "trace_file = './1cke/trace_' + str(data_size) + '.csv'\n",
    "df_trace = trace2dataframe(trace_file) # read the trace to the dataframe"
   ]
  },
  {
   "cell_type": "code",
   "execution_count": 4,
   "metadata": {
    "collapsed": false
   },
   "outputs": [
    {
     "data": {
      "text/html": [
       "<div>\n",
       "<table border=\"1\" class=\"dataframe\">\n",
       "  <thead>\n",
       "    <tr style=\"text-align: right;\">\n",
       "      <th></th>\n",
       "      <th>Start</th>\n",
       "      <th>Duration</th>\n",
       "      <th>Grid X</th>\n",
       "      <th>Grid Y</th>\n",
       "      <th>Grid Z</th>\n",
       "      <th>Block X</th>\n",
       "      <th>Block Y</th>\n",
       "      <th>Block Z</th>\n",
       "      <th>Registers Per Thread</th>\n",
       "      <th>Static SMem</th>\n",
       "      <th>Dynamic SMem</th>\n",
       "      <th>Size</th>\n",
       "      <th>Throughput</th>\n",
       "      <th>Device</th>\n",
       "      <th>Context</th>\n",
       "      <th>Stream</th>\n",
       "      <th>Name</th>\n",
       "    </tr>\n",
       "  </thead>\n",
       "  <tbody>\n",
       "    <tr>\n",
       "      <th>0</th>\n",
       "      <td>ms</td>\n",
       "      <td>us</td>\n",
       "      <td>NaN</td>\n",
       "      <td>NaN</td>\n",
       "      <td>NaN</td>\n",
       "      <td>NaN</td>\n",
       "      <td>NaN</td>\n",
       "      <td>NaN</td>\n",
       "      <td>NaN</td>\n",
       "      <td>B</td>\n",
       "      <td>B</td>\n",
       "      <td>KB</td>\n",
       "      <td>GB/s</td>\n",
       "      <td>NaN</td>\n",
       "      <td>NaN</td>\n",
       "      <td>NaN</td>\n",
       "      <td>NaN</td>\n",
       "    </tr>\n",
       "    <tr>\n",
       "      <th>1</th>\n",
       "      <td>526.961828</td>\n",
       "      <td>16.672000</td>\n",
       "      <td>NaN</td>\n",
       "      <td>NaN</td>\n",
       "      <td>NaN</td>\n",
       "      <td>NaN</td>\n",
       "      <td>NaN</td>\n",
       "      <td>NaN</td>\n",
       "      <td>NaN</td>\n",
       "      <td>NaN</td>\n",
       "      <td>NaN</td>\n",
       "      <td>89.843750</td>\n",
       "      <td>5.139256</td>\n",
       "      <td>GeForce GTX 950 (0)</td>\n",
       "      <td>1.0</td>\n",
       "      <td>13.0</td>\n",
       "      <td>[CUDA memcpy HtoD]</td>\n",
       "    </tr>\n",
       "    <tr>\n",
       "      <th>2</th>\n",
       "      <td>526.979716</td>\n",
       "      <td>16.224000</td>\n",
       "      <td>NaN</td>\n",
       "      <td>NaN</td>\n",
       "      <td>NaN</td>\n",
       "      <td>NaN</td>\n",
       "      <td>NaN</td>\n",
       "      <td>NaN</td>\n",
       "      <td>NaN</td>\n",
       "      <td>NaN</td>\n",
       "      <td>NaN</td>\n",
       "      <td>89.843750</td>\n",
       "      <td>5.281168</td>\n",
       "      <td>GeForce GTX 950 (0)</td>\n",
       "      <td>1.0</td>\n",
       "      <td>13.0</td>\n",
       "      <td>[CUDA memcpy HtoD]</td>\n",
       "    </tr>\n",
       "    <tr>\n",
       "      <th>3</th>\n",
       "      <td>527.157829</td>\n",
       "      <td>61.056000</td>\n",
       "      <td>90.0</td>\n",
       "      <td>1.0</td>\n",
       "      <td>1.0</td>\n",
       "      <td>256.0</td>\n",
       "      <td>1.0</td>\n",
       "      <td>1.0</td>\n",
       "      <td>28.0</td>\n",
       "      <td>0</td>\n",
       "      <td>0</td>\n",
       "      <td>NaN</td>\n",
       "      <td>NaN</td>\n",
       "      <td>GeForce GTX 950 (0)</td>\n",
       "      <td>1.0</td>\n",
       "      <td>13.0</td>\n",
       "      <td>kernel_vectorAdd(float const *, float const *,...</td>\n",
       "    </tr>\n",
       "    <tr>\n",
       "      <th>4</th>\n",
       "      <td>527.221349</td>\n",
       "      <td>15.904000</td>\n",
       "      <td>NaN</td>\n",
       "      <td>NaN</td>\n",
       "      <td>NaN</td>\n",
       "      <td>NaN</td>\n",
       "      <td>NaN</td>\n",
       "      <td>NaN</td>\n",
       "      <td>NaN</td>\n",
       "      <td>NaN</td>\n",
       "      <td>NaN</td>\n",
       "      <td>89.843750</td>\n",
       "      <td>5.387429</td>\n",
       "      <td>GeForce GTX 950 (0)</td>\n",
       "      <td>1.0</td>\n",
       "      <td>13.0</td>\n",
       "      <td>[CUDA memcpy DtoH]</td>\n",
       "    </tr>\n",
       "  </tbody>\n",
       "</table>\n",
       "</div>"
      ],
      "text/plain": [
       "        Start   Duration  Grid X  Grid Y  Grid Z  Block X  Block Y  Block Z  \\\n",
       "0          ms         us     NaN     NaN     NaN      NaN      NaN      NaN   \n",
       "1  526.961828  16.672000     NaN     NaN     NaN      NaN      NaN      NaN   \n",
       "2  526.979716  16.224000     NaN     NaN     NaN      NaN      NaN      NaN   \n",
       "3  527.157829  61.056000    90.0     1.0     1.0    256.0      1.0      1.0   \n",
       "4  527.221349  15.904000     NaN     NaN     NaN      NaN      NaN      NaN   \n",
       "\n",
       "   Registers Per Thread Static SMem Dynamic SMem       Size Throughput  \\\n",
       "0                   NaN           B            B         KB       GB/s   \n",
       "1                   NaN         NaN          NaN  89.843750   5.139256   \n",
       "2                   NaN         NaN          NaN  89.843750   5.281168   \n",
       "3                  28.0           0            0        NaN        NaN   \n",
       "4                   NaN         NaN          NaN  89.843750   5.387429   \n",
       "\n",
       "                Device  Context  Stream  \\\n",
       "0                  NaN      NaN     NaN   \n",
       "1  GeForce GTX 950 (0)      1.0    13.0   \n",
       "2  GeForce GTX 950 (0)      1.0    13.0   \n",
       "3  GeForce GTX 950 (0)      1.0    13.0   \n",
       "4  GeForce GTX 950 (0)      1.0    13.0   \n",
       "\n",
       "                                                Name  \n",
       "0                                                NaN  \n",
       "1                                 [CUDA memcpy HtoD]  \n",
       "2                                 [CUDA memcpy HtoD]  \n",
       "3  kernel_vectorAdd(float const *, float const *,...  \n",
       "4                                 [CUDA memcpy DtoH]  "
      ]
     },
     "execution_count": 4,
     "metadata": {},
     "output_type": "execute_result"
    }
   ],
   "source": [
    "df_trace"
   ]
  },
  {
   "cell_type": "code",
   "execution_count": 11,
   "metadata": {
    "collapsed": true
   },
   "outputs": [],
   "source": [
    "# class StreamAPI():\n",
    "#     def __init__ (self):\n",
    "#         self.H2D = []\n",
    "#         self.H2D_ovhd = []\n",
    "#         self.Kern_laun_ovhd = []\n",
    "#         self.Kern = []\n",
    "#         self.Kern_ovhd = []\n",
    "#         self.D2H_laun_ovhd = []\n",
    "#         self.D2H = []\n",
    "#         self.D2H_ovhd = []"
   ]
  },
  {
   "cell_type": "code",
   "execution_count": 10,
   "metadata": {
    "collapsed": true
   },
   "outputs": [],
   "source": [
    "class Node():\n",
    "    def __init__ (self, H2D=None, H2D_ovhd = None, Kern_laun_ovhd = None, Kern = None,\n",
    "                 Kern_ovhd = None, D2H_laun_ovhd = None, D2H = None, D2H_ovhd = None):\n",
    "        if H2D is None:\n",
    "            self.H2D = []\n",
    "        if H2D_ovhd is None:\n",
    "            self.H2D_ovhd = []\n",
    "        if Kern_laun_ovhd is None:\n",
    "            self.Kern_laun_ovhd = []\n",
    "        if Kern is None:\n",
    "            self.Kern = []\n",
    "        if Kern_ovhd is None:\n",
    "            self.Kern_ovhd = []\n",
    "        if D2H_laun_ovhd is None:\n",
    "            self.D2H_laun_ovhd = []\n",
    "        if D2H is None:\n",
    "            self.D2H = []\n",
    "        if D2H_ovhd is None:\n",
    "            self.D2H_ovhd = []\n",
    "            \n",
    "        self.prev = None\n",
    "        self.next = None"
   ]
  },
  {
   "cell_type": "code",
   "execution_count": null,
   "metadata": {
    "collapsed": true
   },
   "outputs": [],
   "source": [
    "class StreamApiList():\n",
    "    def __init__(self):\n",
    "        self.head = None\n",
    "        \n",
    "    def add(self, api_type, start_ms, end_ms):\n",
    "        # create a node\n",
    "        api_type_lowercase = str(api_type).lower()\n",
    "        if api_type_lowercase == 'h2d':\n",
    "            node = Node(H2D=[start_ms, end_ms])\n",
    "        elif api_type_lowercase == 'h2d_ovhd':\n",
    "            node = Node(H2D_ovhd=[start_ms, end_ms])\n",
    "        elif api_type_lowercase == 'kern_laun_ovhd':\n",
    "            node = Node(Kern_laun_ovhd=[start_ms, end_ms])\n",
    "        elif api_type_lowercase == 'kern':\n",
    "            node = Node(Kern=[start_ms, end_ms])\n",
    "        elif api_type_lowercase == 'kern_ovhd':\n",
    "            node = Node(Kern_ovhd=[start_ms, end_ms])\n",
    "        elif api_type_lowercase == 'd2h_laun_ovhd':\n",
    "            node = Node(D2H_laun_ovhd=[start_ms, end_ms])\n",
    "        elif api_type_lowercase == 'd2h':\n",
    "            node = Node(D2H=[start_ms, end_ms])\n",
    "        elif api_type_lowercase == 'd2h_ovhd':\n",
    "            node = Node(D2H_ovhd=[start_ms, end_ms])\n",
    "            \n",
    "        "
   ]
  },
  {
   "cell_type": "code",
   "execution_count": 6,
   "metadata": {
    "collapsed": false
   },
   "outputs": [
    {
     "name": "stdout",
     "output_type": "stream",
     "text": [
      "1.0 0.001\n",
      "1.0 1.0\n"
     ]
    }
   ],
   "source": [
    "start_coef, duration_coef = time_coef_ms(df_trace) # convert time to ms\n",
    "print('{} {}'.format(start_coef, duration_coef))\n",
    "ssm_coef, dsm_coef = sm_coef_bytes(df_trace) # convert shared mem to bytes\n",
    "print('{} {}'.format(ssm_coef, dsm_coef))"
   ]
  },
  {
   "cell_type": "code",
   "execution_count": 7,
   "metadata": {
    "collapsed": false
   },
   "outputs": [
    {
     "name": "stdout",
     "output_type": "stream",
     "text": [
      "number of streams : 1\n"
     ]
    }
   ],
   "source": [
    "stream_id_list = df_trace['Stream'].unique()\n",
    "stream_id_list = stream_id_list[~np.isnan(stream_id_list)] # remove nan\n",
    "num_streams = len(stream_id_list)\n",
    "print('number of streams : {}'.format(num_streams))\n",
    "\n",
    "streamList = [StreamAPI() for i in range(num_streams)]"
   ]
  },
  {
   "cell_type": "code",
   "execution_count": 8,
   "metadata": {
    "collapsed": false
   },
   "outputs": [
    {
     "data": {
      "text/plain": [
       "1"
      ]
     },
     "execution_count": 8,
     "metadata": {},
     "output_type": "execute_result"
    }
   ],
   "source": [
    "len(streamList)"
   ]
  },
  {
   "cell_type": "code",
   "execution_count": null,
   "metadata": {
    "collapsed": true
   },
   "outputs": [],
   "source": [
    "def get_stream_info(df_trace):\n",
    "    \"\"\"\n",
    "    read dataframe into stream list which contains the h2d/d2h/kernel star and end time in ms.\n",
    "    \"\"\"\n",
    "\n",
    "    # read row by row\n",
    "    for rowID in xrange(1, df_trace.shape[0]):\n",
    "        #  extract info from the current row\n",
    "        stream_id, api_type, start_time_ms, end_time_ms, kerninfo = read_row(df_trace.iloc[[rowID]], start_coef, duration_coef, ssm_coef, dsm_coef)\n",
    "\n",
    "        # find out index of the stream\n",
    "        sid, = np.where(stream_id_list==stream_id)\n",
    "\n",
    "        # add the start/end time for different api calls\n",
    "        if api_type == 'h2d':\n",
    "            streamList[sid].h2d.append(transfer(start_time_ms, end_time_ms))\n",
    "        elif api_type == 'd2h':\n",
    "            streamList[sid].d2h.append(transfer(start_time_ms, end_time_ms))\n",
    "        elif api_type == 'kernel':\n",
    "            streamList[sid].kernel.append(transfer(start_time_ms, end_time_ms))\n",
    "            streamList[sid].kernel_info.append(kerninfo) # add the kernel info\n",
    "        else:\n",
    "            print \"Unknown. Error.\"\n",
    "\n",
    "    return streamList"
   ]
  }
 ],
 "metadata": {
  "kernelspec": {
   "display_name": "Python [conda root]",
   "language": "python",
   "name": "conda-root-py"
  },
  "language_info": {
   "codemirror_mode": {
    "name": "ipython",
    "version": 2
   },
   "file_extension": ".py",
   "mimetype": "text/x-python",
   "name": "python",
   "nbconvert_exporter": "python",
   "pygments_lexer": "ipython2",
   "version": "2.7.13"
  }
 },
 "nbformat": 4,
 "nbformat_minor": 2
}
