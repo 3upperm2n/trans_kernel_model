{
 "cells": [
  {
   "cell_type": "code",
   "execution_count": 1,
   "metadata": {
    "collapsed": false
   },
   "outputs": [],
   "source": [
    "import warnings\n",
    "import pandas as pd\n",
    "import numpy as np\n",
    "import os\n",
    "import sys # error msg, add the modules\n",
    "import operator # sorting\n",
    "from math import *\n",
    "import matplotlib.pyplot as plt\n",
    "\n",
    "sys.path.append('../')\n",
    "\n",
    "import read_trace\n",
    "import cuda_timeline\n",
    "from avgblkmodel import *\n",
    "import cke\n",
    "#from model_cke import *\n",
    "\n",
    "warnings.filterwarnings(\"ignore\", category=np.VisibleDeprecationWarning)"
   ]
  },
  {
   "cell_type": "markdown",
   "metadata": {},
   "source": [
    "# gpu info"
   ]
  },
  {
   "cell_type": "code",
   "execution_count": 2,
   "metadata": {
    "collapsed": false
   },
   "outputs": [],
   "source": [
    "gtx950 = DeviceInfo()\n",
    "gtx950.sm_num = 6\n",
    "gtx950.sharedmem_per_sm = 49152\n",
    "gtx950.reg_per_sm = 65536\n",
    "gtx950.maxthreads_per_sm = 2048"
   ]
  },
  {
   "cell_type": "markdown",
   "metadata": {},
   "source": [
    "# 2 stream info"
   ]
  },
  {
   "cell_type": "code",
   "execution_count": 3,
   "metadata": {
    "collapsed": false
   },
   "outputs": [],
   "source": [
    "# 10M for mem_mem : where the h2d between streams are overlapped\n",
    "trace_file = 'trace_10M_s1.csv'\n",
    "trace_file_2cke = 'trace_h2d_h2d_ovlp.csv'\n",
    "\n",
    "\n",
    "df_trace = read_trace.trace2dataframe(trace_file) # read the trace to the dataframe\n",
    "df_trace_2cke = read_trace.trace2dataframe(trace_file_2cke)"
   ]
  },
  {
   "cell_type": "code",
   "execution_count": 4,
   "metadata": {
    "collapsed": false,
    "scrolled": true
   },
   "outputs": [
    {
     "data": {
      "text/html": [
       "<div>\n",
       "<table border=\"1\" class=\"dataframe\">\n",
       "  <thead>\n",
       "    <tr style=\"text-align: right;\">\n",
       "      <th></th>\n",
       "      <th>Start</th>\n",
       "      <th>Duration</th>\n",
       "      <th>Grid X</th>\n",
       "      <th>Grid Y</th>\n",
       "      <th>Grid Z</th>\n",
       "      <th>Block X</th>\n",
       "      <th>Block Y</th>\n",
       "      <th>Block Z</th>\n",
       "      <th>Registers Per Thread</th>\n",
       "      <th>Static SMem</th>\n",
       "      <th>Dynamic SMem</th>\n",
       "      <th>Size</th>\n",
       "      <th>Throughput</th>\n",
       "      <th>Device</th>\n",
       "      <th>Context</th>\n",
       "      <th>Stream</th>\n",
       "      <th>Name</th>\n",
       "    </tr>\n",
       "  </thead>\n",
       "  <tbody>\n",
       "    <tr>\n",
       "      <th>0</th>\n",
       "      <td>ms</td>\n",
       "      <td>ms</td>\n",
       "      <td>NaN</td>\n",
       "      <td>NaN</td>\n",
       "      <td>NaN</td>\n",
       "      <td>NaN</td>\n",
       "      <td>NaN</td>\n",
       "      <td>NaN</td>\n",
       "      <td>NaN</td>\n",
       "      <td>B</td>\n",
       "      <td>B</td>\n",
       "      <td>MB</td>\n",
       "      <td>GB/s</td>\n",
       "      <td>NaN</td>\n",
       "      <td>NaN</td>\n",
       "      <td>NaN</td>\n",
       "      <td>NaN</td>\n",
       "    </tr>\n",
       "    <tr>\n",
       "      <th>1</th>\n",
       "      <td>610.840271</td>\n",
       "      <td>6.436815</td>\n",
       "      <td>NaN</td>\n",
       "      <td>NaN</td>\n",
       "      <td>NaN</td>\n",
       "      <td>NaN</td>\n",
       "      <td>NaN</td>\n",
       "      <td>NaN</td>\n",
       "      <td>NaN</td>\n",
       "      <td>NaN</td>\n",
       "      <td>NaN</td>\n",
       "      <td>38.146973</td>\n",
       "      <td>5.787475</td>\n",
       "      <td>GeForce GTX 950 (0)</td>\n",
       "      <td>1.0</td>\n",
       "      <td>13.0</td>\n",
       "      <td>[CUDA memcpy HtoD]</td>\n",
       "    </tr>\n",
       "    <tr>\n",
       "      <th>2</th>\n",
       "      <td>617.278302</td>\n",
       "      <td>6.429999</td>\n",
       "      <td>NaN</td>\n",
       "      <td>NaN</td>\n",
       "      <td>NaN</td>\n",
       "      <td>NaN</td>\n",
       "      <td>NaN</td>\n",
       "      <td>NaN</td>\n",
       "      <td>NaN</td>\n",
       "      <td>NaN</td>\n",
       "      <td>NaN</td>\n",
       "      <td>38.146973</td>\n",
       "      <td>5.793609</td>\n",
       "      <td>GeForce GTX 950 (0)</td>\n",
       "      <td>1.0</td>\n",
       "      <td>13.0</td>\n",
       "      <td>[CUDA memcpy HtoD]</td>\n",
       "    </tr>\n",
       "    <tr>\n",
       "      <th>3</th>\n",
       "      <td>623.719789</td>\n",
       "      <td>1.276618</td>\n",
       "      <td>39063.0</td>\n",
       "      <td>1.0</td>\n",
       "      <td>1.0</td>\n",
       "      <td>256.0</td>\n",
       "      <td>1.0</td>\n",
       "      <td>1.0</td>\n",
       "      <td>8.0</td>\n",
       "      <td>0</td>\n",
       "      <td>0</td>\n",
       "      <td>NaN</td>\n",
       "      <td>NaN</td>\n",
       "      <td>GeForce GTX 950 (0)</td>\n",
       "      <td>1.0</td>\n",
       "      <td>13.0</td>\n",
       "      <td>kernel_vectorAdd(float const *, float const *,...</td>\n",
       "    </tr>\n",
       "    <tr>\n",
       "      <th>4</th>\n",
       "      <td>625.003191</td>\n",
       "      <td>6.269646</td>\n",
       "      <td>NaN</td>\n",
       "      <td>NaN</td>\n",
       "      <td>NaN</td>\n",
       "      <td>NaN</td>\n",
       "      <td>NaN</td>\n",
       "      <td>NaN</td>\n",
       "      <td>NaN</td>\n",
       "      <td>NaN</td>\n",
       "      <td>NaN</td>\n",
       "      <td>38.146973</td>\n",
       "      <td>5.941787</td>\n",
       "      <td>GeForce GTX 950 (0)</td>\n",
       "      <td>1.0</td>\n",
       "      <td>13.0</td>\n",
       "      <td>[CUDA memcpy DtoH]</td>\n",
       "    </tr>\n",
       "  </tbody>\n",
       "</table>\n",
       "</div>"
      ],
      "text/plain": [
       "        Start  Duration   Grid X  Grid Y  Grid Z  Block X  Block Y  Block Z  \\\n",
       "0          ms        ms      NaN     NaN     NaN      NaN      NaN      NaN   \n",
       "1  610.840271  6.436815      NaN     NaN     NaN      NaN      NaN      NaN   \n",
       "2  617.278302  6.429999      NaN     NaN     NaN      NaN      NaN      NaN   \n",
       "3  623.719789  1.276618  39063.0     1.0     1.0    256.0      1.0      1.0   \n",
       "4  625.003191  6.269646      NaN     NaN     NaN      NaN      NaN      NaN   \n",
       "\n",
       "   Registers Per Thread Static SMem Dynamic SMem       Size Throughput  \\\n",
       "0                   NaN           B            B         MB       GB/s   \n",
       "1                   NaN         NaN          NaN  38.146973   5.787475   \n",
       "2                   NaN         NaN          NaN  38.146973   5.793609   \n",
       "3                   8.0           0            0        NaN        NaN   \n",
       "4                   NaN         NaN          NaN  38.146973   5.941787   \n",
       "\n",
       "                Device  Context  Stream  \\\n",
       "0                  NaN      NaN     NaN   \n",
       "1  GeForce GTX 950 (0)      1.0    13.0   \n",
       "2  GeForce GTX 950 (0)      1.0    13.0   \n",
       "3  GeForce GTX 950 (0)      1.0    13.0   \n",
       "4  GeForce GTX 950 (0)      1.0    13.0   \n",
       "\n",
       "                                                Name  \n",
       "0                                                NaN  \n",
       "1                                 [CUDA memcpy HtoD]  \n",
       "2                                 [CUDA memcpy HtoD]  \n",
       "3  kernel_vectorAdd(float const *, float const *,...  \n",
       "4                                 [CUDA memcpy DtoH]  "
      ]
     },
     "execution_count": 4,
     "metadata": {},
     "output_type": "execute_result"
    }
   ],
   "source": [
    "df_trace"
   ]
  },
  {
   "cell_type": "code",
   "execution_count": 5,
   "metadata": {
    "collapsed": false
   },
   "outputs": [
    {
     "name": "stderr",
     "output_type": "stream",
     "text": [
      "/home/leiming/anaconda2/lib/python2.7/site-packages/matplotlib/axes/_base.py:1292: UnicodeWarning: Unicode equal comparison failed to convert both arguments to Unicode - interpreting them as being unequal\n",
      "  if aspect == 'normal':\n",
      "/home/leiming/anaconda2/lib/python2.7/site-packages/matplotlib/axes/_base.py:1297: UnicodeWarning: Unicode equal comparison failed to convert both arguments to Unicode - interpreting them as being unequal\n",
      "  elif aspect in ('equal', 'auto'):\n"
     ]
    },
    {
     "data": {
      "image/png": "[encoded data removed]",
      "text/plain": [
       "<matplotlib.figure.Figure at 0x7f41e0ce3d50>"
      ]
     },
     "metadata": {},
     "output_type": "display_data"
    }
   ],
   "source": [
    "cuda_timeline.plot_trace(df_trace)"
   ]
  },
  {
   "cell_type": "code",
   "execution_count": 6,
   "metadata": {
    "collapsed": false
   },
   "outputs": [
    {
     "data": {
      "text/html": [
       "<div>\n",
       "<table border=\"1\" class=\"dataframe\">\n",
       "  <thead>\n",
       "    <tr style=\"text-align: right;\">\n",
       "      <th></th>\n",
       "      <th>Start</th>\n",
       "      <th>Duration</th>\n",
       "      <th>Grid X</th>\n",
       "      <th>Grid Y</th>\n",
       "      <th>Grid Z</th>\n",
       "      <th>Block X</th>\n",
       "      <th>Block Y</th>\n",
       "      <th>Block Z</th>\n",
       "      <th>Registers Per Thread</th>\n",
       "      <th>Static SMem</th>\n",
       "      <th>Dynamic SMem</th>\n",
       "      <th>Size</th>\n",
       "      <th>Throughput</th>\n",
       "      <th>Device</th>\n",
       "      <th>Context</th>\n",
       "      <th>Stream</th>\n",
       "      <th>Name</th>\n",
       "    </tr>\n",
       "  </thead>\n",
       "  <tbody>\n",
       "    <tr>\n",
       "      <th>0</th>\n",
       "      <td>ms</td>\n",
       "      <td>ms</td>\n",
       "      <td>NaN</td>\n",
       "      <td>NaN</td>\n",
       "      <td>NaN</td>\n",
       "      <td>NaN</td>\n",
       "      <td>NaN</td>\n",
       "      <td>NaN</td>\n",
       "      <td>NaN</td>\n",
       "      <td>B</td>\n",
       "      <td>B</td>\n",
       "      <td>MB</td>\n",
       "      <td>GB/s</td>\n",
       "      <td>NaN</td>\n",
       "      <td>NaN</td>\n",
       "      <td>NaN</td>\n",
       "      <td>NaN</td>\n",
       "    </tr>\n",
       "    <tr>\n",
       "      <th>1</th>\n",
       "      <td>665.032627</td>\n",
       "      <td>10.783099</td>\n",
       "      <td>NaN</td>\n",
       "      <td>NaN</td>\n",
       "      <td>NaN</td>\n",
       "      <td>NaN</td>\n",
       "      <td>NaN</td>\n",
       "      <td>NaN</td>\n",
       "      <td>NaN</td>\n",
       "      <td>NaN</td>\n",
       "      <td>NaN</td>\n",
       "      <td>38.146973</td>\n",
       "      <td>3.454749</td>\n",
       "      <td>GeForce GTX 950 (0)</td>\n",
       "      <td>1.0</td>\n",
       "      <td>13.0</td>\n",
       "      <td>[CUDA memcpy HtoD]</td>\n",
       "    </tr>\n",
       "    <tr>\n",
       "      <th>2</th>\n",
       "      <td>668.190628</td>\n",
       "      <td>12.898855</td>\n",
       "      <td>NaN</td>\n",
       "      <td>NaN</td>\n",
       "      <td>NaN</td>\n",
       "      <td>NaN</td>\n",
       "      <td>NaN</td>\n",
       "      <td>NaN</td>\n",
       "      <td>NaN</td>\n",
       "      <td>NaN</td>\n",
       "      <td>NaN</td>\n",
       "      <td>38.146973</td>\n",
       "      <td>2.888078</td>\n",
       "      <td>GeForce GTX 950 (0)</td>\n",
       "      <td>1.0</td>\n",
       "      <td>14.0</td>\n",
       "      <td>[CUDA memcpy HtoD]</td>\n",
       "    </tr>\n",
       "    <tr>\n",
       "      <th>3</th>\n",
       "      <td>675.816942</td>\n",
       "      <td>12.913127</td>\n",
       "      <td>NaN</td>\n",
       "      <td>NaN</td>\n",
       "      <td>NaN</td>\n",
       "      <td>NaN</td>\n",
       "      <td>NaN</td>\n",
       "      <td>NaN</td>\n",
       "      <td>NaN</td>\n",
       "      <td>NaN</td>\n",
       "      <td>NaN</td>\n",
       "      <td>38.146973</td>\n",
       "      <td>2.884886</td>\n",
       "      <td>GeForce GTX 950 (0)</td>\n",
       "      <td>1.0</td>\n",
       "      <td>13.0</td>\n",
       "      <td>[CUDA memcpy HtoD]</td>\n",
       "    </tr>\n",
       "    <tr>\n",
       "      <th>4</th>\n",
       "      <td>681.090667</td>\n",
       "      <td>10.213144</td>\n",
       "      <td>NaN</td>\n",
       "      <td>NaN</td>\n",
       "      <td>NaN</td>\n",
       "      <td>NaN</td>\n",
       "      <td>NaN</td>\n",
       "      <td>NaN</td>\n",
       "      <td>NaN</td>\n",
       "      <td>NaN</td>\n",
       "      <td>NaN</td>\n",
       "      <td>38.146973</td>\n",
       "      <td>3.647545</td>\n",
       "      <td>GeForce GTX 950 (0)</td>\n",
       "      <td>1.0</td>\n",
       "      <td>14.0</td>\n",
       "      <td>[CUDA memcpy HtoD]</td>\n",
       "    </tr>\n",
       "    <tr>\n",
       "      <th>5</th>\n",
       "      <td>688.741397</td>\n",
       "      <td>1.377896</td>\n",
       "      <td>39063.0</td>\n",
       "      <td>1.0</td>\n",
       "      <td>1.0</td>\n",
       "      <td>256.0</td>\n",
       "      <td>1.0</td>\n",
       "      <td>1.0</td>\n",
       "      <td>8.0</td>\n",
       "      <td>0</td>\n",
       "      <td>0</td>\n",
       "      <td>NaN</td>\n",
       "      <td>NaN</td>\n",
       "      <td>GeForce GTX 950 (0)</td>\n",
       "      <td>1.0</td>\n",
       "      <td>13.0</td>\n",
       "      <td>kernel_vectorAdd(float const *, float const *,...</td>\n",
       "    </tr>\n",
       "    <tr>\n",
       "      <th>6</th>\n",
       "      <td>690.126461</td>\n",
       "      <td>10.658490</td>\n",
       "      <td>NaN</td>\n",
       "      <td>NaN</td>\n",
       "      <td>NaN</td>\n",
       "      <td>NaN</td>\n",
       "      <td>NaN</td>\n",
       "      <td>NaN</td>\n",
       "      <td>NaN</td>\n",
       "      <td>NaN</td>\n",
       "      <td>NaN</td>\n",
       "      <td>38.146973</td>\n",
       "      <td>3.495139</td>\n",
       "      <td>GeForce GTX 950 (0)</td>\n",
       "      <td>1.0</td>\n",
       "      <td>13.0</td>\n",
       "      <td>[CUDA memcpy DtoH]</td>\n",
       "    </tr>\n",
       "    <tr>\n",
       "      <th>7</th>\n",
       "      <td>691.316867</td>\n",
       "      <td>1.366120</td>\n",
       "      <td>39063.0</td>\n",
       "      <td>1.0</td>\n",
       "      <td>1.0</td>\n",
       "      <td>256.0</td>\n",
       "      <td>1.0</td>\n",
       "      <td>1.0</td>\n",
       "      <td>8.0</td>\n",
       "      <td>0</td>\n",
       "      <td>0</td>\n",
       "      <td>NaN</td>\n",
       "      <td>NaN</td>\n",
       "      <td>GeForce GTX 950 (0)</td>\n",
       "      <td>1.0</td>\n",
       "      <td>14.0</td>\n",
       "      <td>kernel_vectorAdd(float const *, float const *,...</td>\n",
       "    </tr>\n",
       "    <tr>\n",
       "      <th>8</th>\n",
       "      <td>693.294222</td>\n",
       "      <td>9.522868</td>\n",
       "      <td>NaN</td>\n",
       "      <td>NaN</td>\n",
       "      <td>NaN</td>\n",
       "      <td>NaN</td>\n",
       "      <td>NaN</td>\n",
       "      <td>NaN</td>\n",
       "      <td>NaN</td>\n",
       "      <td>NaN</td>\n",
       "      <td>NaN</td>\n",
       "      <td>38.146973</td>\n",
       "      <td>3.911942</td>\n",
       "      <td>GeForce GTX 950 (0)</td>\n",
       "      <td>1.0</td>\n",
       "      <td>14.0</td>\n",
       "      <td>[CUDA memcpy DtoH]</td>\n",
       "    </tr>\n",
       "  </tbody>\n",
       "</table>\n",
       "</div>"
      ],
      "text/plain": [
       "        Start   Duration   Grid X  Grid Y  Grid Z  Block X  Block Y  Block Z  \\\n",
       "0          ms         ms      NaN     NaN     NaN      NaN      NaN      NaN   \n",
       "1  665.032627  10.783099      NaN     NaN     NaN      NaN      NaN      NaN   \n",
       "2  668.190628  12.898855      NaN     NaN     NaN      NaN      NaN      NaN   \n",
       "3  675.816942  12.913127      NaN     NaN     NaN      NaN      NaN      NaN   \n",
       "4  681.090667  10.213144      NaN     NaN     NaN      NaN      NaN      NaN   \n",
       "5  688.741397   1.377896  39063.0     1.0     1.0    256.0      1.0      1.0   \n",
       "6  690.126461  10.658490      NaN     NaN     NaN      NaN      NaN      NaN   \n",
       "7  691.316867   1.366120  39063.0     1.0     1.0    256.0      1.0      1.0   \n",
       "8  693.294222   9.522868      NaN     NaN     NaN      NaN      NaN      NaN   \n",
       "\n",
       "   Registers Per Thread Static SMem Dynamic SMem       Size Throughput  \\\n",
       "0                   NaN           B            B         MB       GB/s   \n",
       "1                   NaN         NaN          NaN  38.146973   3.454749   \n",
       "2                   NaN         NaN          NaN  38.146973   2.888078   \n",
       "3                   NaN         NaN          NaN  38.146973   2.884886   \n",
       "4                   NaN         NaN          NaN  38.146973   3.647545   \n",
       "5                   8.0           0            0        NaN        NaN   \n",
       "6                   NaN         NaN          NaN  38.146973   3.495139   \n",
       "7                   8.0           0            0        NaN        NaN   \n",
       "8                   NaN         NaN          NaN  38.146973   3.911942   \n",
       "\n",
       "                Device  Context  Stream  \\\n",
       "0                  NaN      NaN     NaN   \n",
       "1  GeForce GTX 950 (0)      1.0    13.0   \n",
       "2  GeForce GTX 950 (0)      1.0    14.0   \n",
       "3  GeForce GTX 950 (0)      1.0    13.0   \n",
       "4  GeForce GTX 950 (0)      1.0    14.0   \n",
       "5  GeForce GTX 950 (0)      1.0    13.0   \n",
       "6  GeForce GTX 950 (0)      1.0    13.0   \n",
       "7  GeForce GTX 950 (0)      1.0    14.0   \n",
       "8  GeForce GTX 950 (0)      1.0    14.0   \n",
       "\n",
       "                                                Name  \n",
       "0                                                NaN  \n",
       "1                                 [CUDA memcpy HtoD]  \n",
       "2                                 [CUDA memcpy HtoD]  \n",
       "3                                 [CUDA memcpy HtoD]  \n",
       "4                                 [CUDA memcpy HtoD]  \n",
       "5  kernel_vectorAdd(float const *, float const *,...  \n",
       "6                                 [CUDA memcpy DtoH]  \n",
       "7  kernel_vectorAdd(float const *, float const *,...  \n",
       "8                                 [CUDA memcpy DtoH]  "
      ]
     },
     "execution_count": 6,
     "metadata": {},
     "output_type": "execute_result"
    }
   ],
   "source": [
    "df_trace_2cke"
   ]
  },
  {
   "cell_type": "code",
   "execution_count": 7,
   "metadata": {
    "collapsed": false,
    "scrolled": true
   },
   "outputs": [
    {
     "data": {
      "image/png": "[encoded data removed]",
      "text/plain": [
       "<matplotlib.figure.Figure at 0x7f420817b490>"
      ]
     },
     "metadata": {},
     "output_type": "display_data"
    }
   ],
   "source": [
    "cuda_timeline.plot_trace(df_trace_2cke)"
   ]
  },
  {
   "cell_type": "markdown",
   "metadata": {},
   "source": [
    "# 1cke - read trace and reset the timeline"
   ]
  },
  {
   "cell_type": "code",
   "execution_count": 8,
   "metadata": {
    "collapsed": false
   },
   "outputs": [],
   "source": [
    "df_single_stream = read_trace.get_timing(df_trace)"
   ]
  },
  {
   "cell_type": "code",
   "execution_count": 9,
   "metadata": {
    "collapsed": false
   },
   "outputs": [
    {
     "data": {
      "text/html": [
       "<div>\n",
       "<table border=\"1\" class=\"dataframe\">\n",
       "  <thead>\n",
       "    <tr style=\"text-align: right;\">\n",
       "      <th></th>\n",
       "      <th>stream</th>\n",
       "      <th>api_type</th>\n",
       "      <th>start</th>\n",
       "      <th>end</th>\n",
       "      <th>size</th>\n",
       "      <th>duration</th>\n",
       "    </tr>\n",
       "  </thead>\n",
       "  <tbody>\n",
       "    <tr>\n",
       "      <th>0</th>\n",
       "      <td>0.0</td>\n",
       "      <td>h2d</td>\n",
       "      <td>610.840271</td>\n",
       "      <td>617.277086</td>\n",
       "      <td>38146.973</td>\n",
       "      <td>6.436815</td>\n",
       "    </tr>\n",
       "    <tr>\n",
       "      <th>1</th>\n",
       "      <td>0.0</td>\n",
       "      <td>h2d</td>\n",
       "      <td>617.278302</td>\n",
       "      <td>623.708301</td>\n",
       "      <td>38146.973</td>\n",
       "      <td>6.429999</td>\n",
       "    </tr>\n",
       "    <tr>\n",
       "      <th>2</th>\n",
       "      <td>0.0</td>\n",
       "      <td>kern</td>\n",
       "      <td>623.719789</td>\n",
       "      <td>624.996407</td>\n",
       "      <td>0.000</td>\n",
       "      <td>1.276618</td>\n",
       "    </tr>\n",
       "    <tr>\n",
       "      <th>3</th>\n",
       "      <td>0.0</td>\n",
       "      <td>d2h</td>\n",
       "      <td>625.003191</td>\n",
       "      <td>631.272837</td>\n",
       "      <td>38146.973</td>\n",
       "      <td>6.269646</td>\n",
       "    </tr>\n",
       "  </tbody>\n",
       "</table>\n",
       "</div>"
      ],
      "text/plain": [
       "   stream api_type       start         end       size  duration\n",
       "0     0.0      h2d  610.840271  617.277086  38146.973  6.436815\n",
       "1     0.0      h2d  617.278302  623.708301  38146.973  6.429999\n",
       "2     0.0     kern  623.719789  624.996407      0.000  1.276618\n",
       "3     0.0      d2h  625.003191  631.272837  38146.973  6.269646"
      ]
     },
     "execution_count": 9,
     "metadata": {},
     "output_type": "execute_result"
    }
   ],
   "source": [
    "df_single_stream"
   ]
  },
  {
   "cell_type": "code",
   "execution_count": 10,
   "metadata": {
    "collapsed": false
   },
   "outputs": [],
   "source": [
    "df_s1 = read_trace.reset_starting(df_single_stream)"
   ]
  },
  {
   "cell_type": "code",
   "execution_count": 11,
   "metadata": {
    "collapsed": false
   },
   "outputs": [
    {
     "data": {
      "text/html": [
       "<div>\n",
       "<table border=\"1\" class=\"dataframe\">\n",
       "  <thead>\n",
       "    <tr style=\"text-align: right;\">\n",
       "      <th></th>\n",
       "      <th>stream</th>\n",
       "      <th>api_type</th>\n",
       "      <th>start</th>\n",
       "      <th>end</th>\n",
       "      <th>size</th>\n",
       "      <th>duration</th>\n",
       "    </tr>\n",
       "  </thead>\n",
       "  <tbody>\n",
       "    <tr>\n",
       "      <th>0</th>\n",
       "      <td>0.0</td>\n",
       "      <td>h2d</td>\n",
       "      <td>0.000000</td>\n",
       "      <td>6.436815</td>\n",
       "      <td>38146.973</td>\n",
       "      <td>6.436815</td>\n",
       "    </tr>\n",
       "    <tr>\n",
       "      <th>1</th>\n",
       "      <td>0.0</td>\n",
       "      <td>h2d</td>\n",
       "      <td>6.438031</td>\n",
       "      <td>12.868030</td>\n",
       "      <td>38146.973</td>\n",
       "      <td>6.429999</td>\n",
       "    </tr>\n",
       "    <tr>\n",
       "      <th>2</th>\n",
       "      <td>0.0</td>\n",
       "      <td>kern</td>\n",
       "      <td>12.879518</td>\n",
       "      <td>14.156136</td>\n",
       "      <td>0.000</td>\n",
       "      <td>1.276618</td>\n",
       "    </tr>\n",
       "    <tr>\n",
       "      <th>3</th>\n",
       "      <td>0.0</td>\n",
       "      <td>d2h</td>\n",
       "      <td>14.162920</td>\n",
       "      <td>20.432566</td>\n",
       "      <td>38146.973</td>\n",
       "      <td>6.269646</td>\n",
       "    </tr>\n",
       "  </tbody>\n",
       "</table>\n",
       "</div>"
      ],
      "text/plain": [
       "   stream api_type      start        end       size  duration\n",
       "0     0.0      h2d   0.000000   6.436815  38146.973  6.436815\n",
       "1     0.0      h2d   6.438031  12.868030  38146.973  6.429999\n",
       "2     0.0     kern  12.879518  14.156136      0.000  1.276618\n",
       "3     0.0      d2h  14.162920  20.432566  38146.973  6.269646"
      ]
     },
     "execution_count": 11,
     "metadata": {},
     "output_type": "execute_result"
    }
   ],
   "source": [
    "df_s1"
   ]
  },
  {
   "cell_type": "markdown",
   "metadata": {},
   "source": [
    "### 2cke case"
   ]
  },
  {
   "cell_type": "code",
   "execution_count": 12,
   "metadata": {
    "collapsed": true
   },
   "outputs": [],
   "source": [
    "df_2stream = read_trace.get_timing(df_trace_2cke)"
   ]
  },
  {
   "cell_type": "code",
   "execution_count": 13,
   "metadata": {
    "collapsed": false,
    "scrolled": true
   },
   "outputs": [
    {
     "data": {
      "text/html": [
       "<div>\n",
       "<table border=\"1\" class=\"dataframe\">\n",
       "  <thead>\n",
       "    <tr style=\"text-align: right;\">\n",
       "      <th></th>\n",
       "      <th>stream</th>\n",
       "      <th>api_type</th>\n",
       "      <th>start</th>\n",
       "      <th>end</th>\n",
       "      <th>size</th>\n",
       "      <th>duration</th>\n",
       "    </tr>\n",
       "  </thead>\n",
       "  <tbody>\n",
       "    <tr>\n",
       "      <th>0</th>\n",
       "      <td>0.0</td>\n",
       "      <td>h2d</td>\n",
       "      <td>665.032627</td>\n",
       "      <td>675.815726</td>\n",
       "      <td>38146.973</td>\n",
       "      <td>10.783099</td>\n",
       "    </tr>\n",
       "    <tr>\n",
       "      <th>1</th>\n",
       "      <td>0.0</td>\n",
       "      <td>h2d</td>\n",
       "      <td>675.816942</td>\n",
       "      <td>688.730069</td>\n",
       "      <td>38146.973</td>\n",
       "      <td>12.913127</td>\n",
       "    </tr>\n",
       "    <tr>\n",
       "      <th>2</th>\n",
       "      <td>0.0</td>\n",
       "      <td>kern</td>\n",
       "      <td>688.741397</td>\n",
       "      <td>690.119293</td>\n",
       "      <td>0.000</td>\n",
       "      <td>1.377896</td>\n",
       "    </tr>\n",
       "    <tr>\n",
       "      <th>3</th>\n",
       "      <td>0.0</td>\n",
       "      <td>d2h</td>\n",
       "      <td>690.126461</td>\n",
       "      <td>700.784951</td>\n",
       "      <td>38146.973</td>\n",
       "      <td>10.658490</td>\n",
       "    </tr>\n",
       "    <tr>\n",
       "      <th>4</th>\n",
       "      <td>1.0</td>\n",
       "      <td>h2d</td>\n",
       "      <td>668.190628</td>\n",
       "      <td>681.089483</td>\n",
       "      <td>38146.973</td>\n",
       "      <td>12.898855</td>\n",
       "    </tr>\n",
       "    <tr>\n",
       "      <th>5</th>\n",
       "      <td>1.0</td>\n",
       "      <td>h2d</td>\n",
       "      <td>681.090667</td>\n",
       "      <td>691.303811</td>\n",
       "      <td>38146.973</td>\n",
       "      <td>10.213144</td>\n",
       "    </tr>\n",
       "    <tr>\n",
       "      <th>6</th>\n",
       "      <td>1.0</td>\n",
       "      <td>kern</td>\n",
       "      <td>691.316867</td>\n",
       "      <td>692.682987</td>\n",
       "      <td>0.000</td>\n",
       "      <td>1.366120</td>\n",
       "    </tr>\n",
       "    <tr>\n",
       "      <th>7</th>\n",
       "      <td>1.0</td>\n",
       "      <td>d2h</td>\n",
       "      <td>693.294222</td>\n",
       "      <td>702.817090</td>\n",
       "      <td>38146.973</td>\n",
       "      <td>9.522868</td>\n",
       "    </tr>\n",
       "  </tbody>\n",
       "</table>\n",
       "</div>"
      ],
      "text/plain": [
       "   stream api_type       start         end       size   duration\n",
       "0     0.0      h2d  665.032627  675.815726  38146.973  10.783099\n",
       "1     0.0      h2d  675.816942  688.730069  38146.973  12.913127\n",
       "2     0.0     kern  688.741397  690.119293      0.000   1.377896\n",
       "3     0.0      d2h  690.126461  700.784951  38146.973  10.658490\n",
       "4     1.0      h2d  668.190628  681.089483  38146.973  12.898855\n",
       "5     1.0      h2d  681.090667  691.303811  38146.973  10.213144\n",
       "6     1.0     kern  691.316867  692.682987      0.000   1.366120\n",
       "7     1.0      d2h  693.294222  702.817090  38146.973   9.522868"
      ]
     },
     "execution_count": 13,
     "metadata": {},
     "output_type": "execute_result"
    }
   ],
   "source": [
    "df_2stream"
   ]
  },
  {
   "cell_type": "code",
   "execution_count": 14,
   "metadata": {
    "collapsed": false
   },
   "outputs": [
    {
     "name": "stdout",
     "output_type": "stream",
     "text": [
      "37.784463\n"
     ]
    }
   ],
   "source": [
    "tot_runtime = read_trace.getTotalRuntime(df_2stream)\n",
    "print tot_runtime"
   ]
  },
  {
   "cell_type": "markdown",
   "metadata": {},
   "source": [
    "# 2 cke"
   ]
  },
  {
   "cell_type": "code",
   "execution_count": 15,
   "metadata": {
    "collapsed": true
   },
   "outputs": [],
   "source": [
    "stream_num = 2\n",
    "df_cke_list = cke.init_trace_list(df_s1, stream_num = stream_num)"
   ]
  },
  {
   "cell_type": "code",
   "execution_count": 16,
   "metadata": {
    "collapsed": false
   },
   "outputs": [
    {
     "data": {
      "text/html": [
       "<div>\n",
       "<table border=\"1\" class=\"dataframe\">\n",
       "  <thead>\n",
       "    <tr style=\"text-align: right;\">\n",
       "      <th></th>\n",
       "      <th>stream</th>\n",
       "      <th>api_type</th>\n",
       "      <th>start</th>\n",
       "      <th>end</th>\n",
       "      <th>size</th>\n",
       "      <th>duration</th>\n",
       "    </tr>\n",
       "  </thead>\n",
       "  <tbody>\n",
       "    <tr>\n",
       "      <th>0</th>\n",
       "      <td>0</td>\n",
       "      <td>h2d</td>\n",
       "      <td>0.000000</td>\n",
       "      <td>6.436815</td>\n",
       "      <td>38146.973</td>\n",
       "      <td>6.436815</td>\n",
       "    </tr>\n",
       "    <tr>\n",
       "      <th>1</th>\n",
       "      <td>0</td>\n",
       "      <td>h2d</td>\n",
       "      <td>6.438031</td>\n",
       "      <td>12.868030</td>\n",
       "      <td>38146.973</td>\n",
       "      <td>6.429999</td>\n",
       "    </tr>\n",
       "    <tr>\n",
       "      <th>2</th>\n",
       "      <td>0</td>\n",
       "      <td>kern</td>\n",
       "      <td>12.879518</td>\n",
       "      <td>14.156136</td>\n",
       "      <td>0.000</td>\n",
       "      <td>1.276618</td>\n",
       "    </tr>\n",
       "    <tr>\n",
       "      <th>3</th>\n",
       "      <td>0</td>\n",
       "      <td>d2h</td>\n",
       "      <td>14.162920</td>\n",
       "      <td>20.432566</td>\n",
       "      <td>38146.973</td>\n",
       "      <td>6.269646</td>\n",
       "    </tr>\n",
       "  </tbody>\n",
       "</table>\n",
       "</div>"
      ],
      "text/plain": [
       "   stream api_type      start        end       size  duration\n",
       "0       0      h2d   0.000000   6.436815  38146.973  6.436815\n",
       "1       0      h2d   6.438031  12.868030  38146.973  6.429999\n",
       "2       0     kern  12.879518  14.156136      0.000  1.276618\n",
       "3       0      d2h  14.162920  20.432566  38146.973  6.269646"
      ]
     },
     "execution_count": 16,
     "metadata": {},
     "output_type": "execute_result"
    }
   ],
   "source": [
    "df_cke_list[0]"
   ]
  },
  {
   "cell_type": "code",
   "execution_count": 17,
   "metadata": {
    "collapsed": false
   },
   "outputs": [],
   "source": [
    "#df_cke_list[1]"
   ]
  },
  {
   "cell_type": "code",
   "execution_count": 18,
   "metadata": {
    "collapsed": false
   },
   "outputs": [
    {
     "name": "stdout",
     "output_type": "stream",
     "text": [
      "stream_startTime : 3.158431\n"
     ]
    }
   ],
   "source": [
    "# find when to start the stream and update the starting pos for the trace\n",
    "H2D_H2D_OVLP_TH = 3.158431\n",
    "\n",
    "for i in range(1,stream_num):\n",
    "    # compute the time for the init data transfer\n",
    "    stream_startTime = cke.find_h2d_start(df_cke_list[i-1], H2D_H2D_OVLP_TH)\n",
    "    print('stream_startTime : {}'.format(stream_startTime))\n",
    "    df_cke_list[i].start += stream_startTime\n",
    "    df_cke_list[i].end   += stream_startTime"
   ]
  },
  {
   "cell_type": "code",
   "execution_count": 19,
   "metadata": {
    "collapsed": false
   },
   "outputs": [
    {
     "data": {
      "text/html": [
       "<div>\n",
       "<table border=\"1\" class=\"dataframe\">\n",
       "  <thead>\n",
       "    <tr style=\"text-align: right;\">\n",
       "      <th></th>\n",
       "      <th>stream</th>\n",
       "      <th>api_type</th>\n",
       "      <th>start</th>\n",
       "      <th>end</th>\n",
       "      <th>size</th>\n",
       "      <th>duration</th>\n",
       "    </tr>\n",
       "  </thead>\n",
       "  <tbody>\n",
       "    <tr>\n",
       "      <th>0</th>\n",
       "      <td>0</td>\n",
       "      <td>h2d</td>\n",
       "      <td>0.000000</td>\n",
       "      <td>6.436815</td>\n",
       "      <td>38146.973</td>\n",
       "      <td>6.436815</td>\n",
       "    </tr>\n",
       "    <tr>\n",
       "      <th>1</th>\n",
       "      <td>0</td>\n",
       "      <td>h2d</td>\n",
       "      <td>6.438031</td>\n",
       "      <td>12.868030</td>\n",
       "      <td>38146.973</td>\n",
       "      <td>6.429999</td>\n",
       "    </tr>\n",
       "    <tr>\n",
       "      <th>2</th>\n",
       "      <td>0</td>\n",
       "      <td>kern</td>\n",
       "      <td>12.879518</td>\n",
       "      <td>14.156136</td>\n",
       "      <td>0.000</td>\n",
       "      <td>1.276618</td>\n",
       "    </tr>\n",
       "    <tr>\n",
       "      <th>3</th>\n",
       "      <td>0</td>\n",
       "      <td>d2h</td>\n",
       "      <td>14.162920</td>\n",
       "      <td>20.432566</td>\n",
       "      <td>38146.973</td>\n",
       "      <td>6.269646</td>\n",
       "    </tr>\n",
       "  </tbody>\n",
       "</table>\n",
       "</div>"
      ],
      "text/plain": [
       "   stream api_type      start        end       size  duration\n",
       "0       0      h2d   0.000000   6.436815  38146.973  6.436815\n",
       "1       0      h2d   6.438031  12.868030  38146.973  6.429999\n",
       "2       0     kern  12.879518  14.156136      0.000  1.276618\n",
       "3       0      d2h  14.162920  20.432566  38146.973  6.269646"
      ]
     },
     "execution_count": 19,
     "metadata": {},
     "output_type": "execute_result"
    }
   ],
   "source": [
    "df_cke_list[0]"
   ]
  },
  {
   "cell_type": "code",
   "execution_count": 20,
   "metadata": {
    "collapsed": false,
    "scrolled": true
   },
   "outputs": [
    {
     "data": {
      "text/html": [
       "<div>\n",
       "<table border=\"1\" class=\"dataframe\">\n",
       "  <thead>\n",
       "    <tr style=\"text-align: right;\">\n",
       "      <th></th>\n",
       "      <th>stream</th>\n",
       "      <th>api_type</th>\n",
       "      <th>start</th>\n",
       "      <th>end</th>\n",
       "      <th>size</th>\n",
       "      <th>duration</th>\n",
       "    </tr>\n",
       "  </thead>\n",
       "  <tbody>\n",
       "    <tr>\n",
       "      <th>0</th>\n",
       "      <td>1</td>\n",
       "      <td>h2d</td>\n",
       "      <td>3.158431</td>\n",
       "      <td>9.595246</td>\n",
       "      <td>38146.973</td>\n",
       "      <td>6.436815</td>\n",
       "    </tr>\n",
       "    <tr>\n",
       "      <th>1</th>\n",
       "      <td>1</td>\n",
       "      <td>h2d</td>\n",
       "      <td>9.596462</td>\n",
       "      <td>16.026461</td>\n",
       "      <td>38146.973</td>\n",
       "      <td>6.429999</td>\n",
       "    </tr>\n",
       "    <tr>\n",
       "      <th>2</th>\n",
       "      <td>1</td>\n",
       "      <td>kern</td>\n",
       "      <td>16.037949</td>\n",
       "      <td>17.314567</td>\n",
       "      <td>0.000</td>\n",
       "      <td>1.276618</td>\n",
       "    </tr>\n",
       "    <tr>\n",
       "      <th>3</th>\n",
       "      <td>1</td>\n",
       "      <td>d2h</td>\n",
       "      <td>17.321351</td>\n",
       "      <td>23.590997</td>\n",
       "      <td>38146.973</td>\n",
       "      <td>6.269646</td>\n",
       "    </tr>\n",
       "  </tbody>\n",
       "</table>\n",
       "</div>"
      ],
      "text/plain": [
       "   stream api_type      start        end       size  duration\n",
       "0       1      h2d   3.158431   9.595246  38146.973  6.436815\n",
       "1       1      h2d   9.596462  16.026461  38146.973  6.429999\n",
       "2       1     kern  16.037949  17.314567      0.000  1.276618\n",
       "3       1      d2h  17.321351  23.590997  38146.973  6.269646"
      ]
     },
     "execution_count": 20,
     "metadata": {},
     "output_type": "execute_result"
    }
   ],
   "source": [
    "df_cke_list[1]"
   ]
  },
  {
   "cell_type": "code",
   "execution_count": 21,
   "metadata": {
    "collapsed": false
   },
   "outputs": [],
   "source": [
    "# streams_api_status = []\n",
    "# for i in range(stream_num):\n",
    "#     current_s = df_cke_list[i]\n",
    "#     #print current_s.shape\n",
    "#     local_api_status = []\n",
    "#     api_num = current_s.shape[0]\n",
    "#     for j in range(api_num):\n",
    "#         local_api_status.append([current_s['api_type'][j], 'none']) \n",
    "    \n",
    "#     # append the current api trace to the entire api status\n",
    "#     streams_api_status.append(local_api_status)"
   ]
  },
  {
   "cell_type": "code",
   "execution_count": 22,
   "metadata": {
    "collapsed": false
   },
   "outputs": [],
   "source": [
    "# streams_api_timing = []\n",
    "# for i in range(stream_num):\n",
    "#     current_s = df_cke_list[i]\n",
    "#     #print current_s.shape\n",
    "#     local_api_tming = []\n",
    "#     api_num = current_s.shape[0]\n",
    "#     for j in range(api_num):\n",
    "#         local_api_tming.append([current_s['start'][j], current_s['end'][j] ]) \n",
    "    \n",
    "#     # append the current api trace to the entire api status\n",
    "#     streams_api_timing.append(local_api_tming)"
   ]
  },
  {
   "cell_type": "code",
   "execution_count": 23,
   "metadata": {
    "collapsed": false
   },
   "outputs": [
    {
     "name": "stdout",
     "output_type": "stream",
     "text": [
      "       start        end api_type    size_kb  stream_id status           bw\n",
      "0   0.000000   6.436815      h2d  38146.973        0.0  sleep  5926.373991\n",
      "4   3.158431   9.595246      h2d  38146.973        1.0  sleep  5926.373991\n",
      "1   6.438031  12.868030      h2d  38146.973        0.0  sleep  5932.656133\n",
      "5   9.596462  16.026461      h2d  38146.973        1.0  sleep  5932.656133\n",
      "2  12.879518  14.156136     kern      0.000        0.0  sleep     0.000000\n",
      "3  14.162920  20.432566      d2h  38146.973        0.0  sleep  6084.390251\n",
      "6  16.037949  17.314567     kern      0.000        1.0  sleep     0.000000\n",
      "7  17.321351  23.590997      d2h  38146.973        1.0  sleep  6084.390251\n"
     ]
    }
   ],
   "source": [
    "df_all_api = cke.init_sort_api(df_cke_list)\n",
    "print df_all_api"
   ]
  },
  {
   "cell_type": "code",
   "execution_count": 24,
   "metadata": {
    "collapsed": true
   },
   "outputs": [],
   "source": [
    "df_all_api['bytes_done'] = 0.0\n",
    "df_all_api['bytes_left'] = df_all_api['size_kb']"
   ]
  },
  {
   "cell_type": "code",
   "execution_count": 25,
   "metadata": {
    "collapsed": false
   },
   "outputs": [
    {
     "data": {
      "text/html": [
       "<div>\n",
       "<table border=\"1\" class=\"dataframe\">\n",
       "  <thead>\n",
       "    <tr style=\"text-align: right;\">\n",
       "      <th></th>\n",
       "      <th>start</th>\n",
       "      <th>end</th>\n",
       "      <th>api_type</th>\n",
       "      <th>size_kb</th>\n",
       "      <th>stream_id</th>\n",
       "      <th>status</th>\n",
       "      <th>bw</th>\n",
       "      <th>bytes_done</th>\n",
       "      <th>bytes_left</th>\n",
       "    </tr>\n",
       "  </thead>\n",
       "  <tbody>\n",
       "    <tr>\n",
       "      <th>0</th>\n",
       "      <td>0.000000</td>\n",
       "      <td>6.436815</td>\n",
       "      <td>h2d</td>\n",
       "      <td>38146.973</td>\n",
       "      <td>0.0</td>\n",
       "      <td>sleep</td>\n",
       "      <td>5926.373991</td>\n",
       "      <td>0.0</td>\n",
       "      <td>38146.973</td>\n",
       "    </tr>\n",
       "    <tr>\n",
       "      <th>4</th>\n",
       "      <td>3.158431</td>\n",
       "      <td>9.595246</td>\n",
       "      <td>h2d</td>\n",
       "      <td>38146.973</td>\n",
       "      <td>1.0</td>\n",
       "      <td>sleep</td>\n",
       "      <td>5926.373991</td>\n",
       "      <td>0.0</td>\n",
       "      <td>38146.973</td>\n",
       "    </tr>\n",
       "    <tr>\n",
       "      <th>1</th>\n",
       "      <td>6.438031</td>\n",
       "      <td>12.868030</td>\n",
       "      <td>h2d</td>\n",
       "      <td>38146.973</td>\n",
       "      <td>0.0</td>\n",
       "      <td>sleep</td>\n",
       "      <td>5932.656133</td>\n",
       "      <td>0.0</td>\n",
       "      <td>38146.973</td>\n",
       "    </tr>\n",
       "    <tr>\n",
       "      <th>5</th>\n",
       "      <td>9.596462</td>\n",
       "      <td>16.026461</td>\n",
       "      <td>h2d</td>\n",
       "      <td>38146.973</td>\n",
       "      <td>1.0</td>\n",
       "      <td>sleep</td>\n",
       "      <td>5932.656133</td>\n",
       "      <td>0.0</td>\n",
       "      <td>38146.973</td>\n",
       "    </tr>\n",
       "    <tr>\n",
       "      <th>2</th>\n",
       "      <td>12.879518</td>\n",
       "      <td>14.156136</td>\n",
       "      <td>kern</td>\n",
       "      <td>0.000</td>\n",
       "      <td>0.0</td>\n",
       "      <td>sleep</td>\n",
       "      <td>0.000000</td>\n",
       "      <td>0.0</td>\n",
       "      <td>0.000</td>\n",
       "    </tr>\n",
       "    <tr>\n",
       "      <th>3</th>\n",
       "      <td>14.162920</td>\n",
       "      <td>20.432566</td>\n",
       "      <td>d2h</td>\n",
       "      <td>38146.973</td>\n",
       "      <td>0.0</td>\n",
       "      <td>sleep</td>\n",
       "      <td>6084.390251</td>\n",
       "      <td>0.0</td>\n",
       "      <td>38146.973</td>\n",
       "    </tr>\n",
       "    <tr>\n",
       "      <th>6</th>\n",
       "      <td>16.037949</td>\n",
       "      <td>17.314567</td>\n",
       "      <td>kern</td>\n",
       "      <td>0.000</td>\n",
       "      <td>1.0</td>\n",
       "      <td>sleep</td>\n",
       "      <td>0.000000</td>\n",
       "      <td>0.0</td>\n",
       "      <td>0.000</td>\n",
       "    </tr>\n",
       "    <tr>\n",
       "      <th>7</th>\n",
       "      <td>17.321351</td>\n",
       "      <td>23.590997</td>\n",
       "      <td>d2h</td>\n",
       "      <td>38146.973</td>\n",
       "      <td>1.0</td>\n",
       "      <td>sleep</td>\n",
       "      <td>6084.390251</td>\n",
       "      <td>0.0</td>\n",
       "      <td>38146.973</td>\n",
       "    </tr>\n",
       "  </tbody>\n",
       "</table>\n",
       "</div>"
      ],
      "text/plain": [
       "       start        end api_type    size_kb  stream_id status           bw  \\\n",
       "0   0.000000   6.436815      h2d  38146.973        0.0  sleep  5926.373991   \n",
       "4   3.158431   9.595246      h2d  38146.973        1.0  sleep  5926.373991   \n",
       "1   6.438031  12.868030      h2d  38146.973        0.0  sleep  5932.656133   \n",
       "5   9.596462  16.026461      h2d  38146.973        1.0  sleep  5932.656133   \n",
       "2  12.879518  14.156136     kern      0.000        0.0  sleep     0.000000   \n",
       "3  14.162920  20.432566      d2h  38146.973        0.0  sleep  6084.390251   \n",
       "6  16.037949  17.314567     kern      0.000        1.0  sleep     0.000000   \n",
       "7  17.321351  23.590997      d2h  38146.973        1.0  sleep  6084.390251   \n",
       "\n",
       "   bytes_done  bytes_left  \n",
       "0         0.0   38146.973  \n",
       "4         0.0   38146.973  \n",
       "1         0.0   38146.973  \n",
       "5         0.0   38146.973  \n",
       "2         0.0       0.000  \n",
       "3         0.0   38146.973  \n",
       "6         0.0       0.000  \n",
       "7         0.0   38146.973  "
      ]
     },
     "execution_count": 25,
     "metadata": {},
     "output_type": "execute_result"
    }
   ],
   "source": [
    "df_all_api"
   ]
  },
  {
   "cell_type": "code",
   "execution_count": 26,
   "metadata": {
    "collapsed": false
   },
   "outputs": [],
   "source": [
    "# print df_all_api.iloc[0]\n",
    "# print df_all_api.iloc[1]"
   ]
  },
  {
   "cell_type": "code",
   "execution_count": 42,
   "metadata": {
    "collapsed": false
   },
   "outputs": [
    {
     "name": "stdout",
     "output_type": "stream",
     "text": [
      "check the api for the coming stream\n",
      "h2d_h2d\n",
      "18718.0433303\n",
      "3.278384\n",
      "6.436815\n"
     ]
    }
   ],
   "source": [
    "#print df_all_api.shape[0]\n",
    "\n",
    "curapi = df_all_api.iloc[0]['api_type']\n",
    "curapi_start = df_all_api.iloc[0]['start']\n",
    "curapi_end = df_all_api.iloc[0]['end']\n",
    "curapi_stream = df_all_api.iloc[0]['stream_id']\n",
    "# print(curapi_stream)\n",
    "df_all_api.iloc[0, df_all_api.columns.get_loc('status')]  = 'wake' # set value without indexing\n",
    "\n",
    "\n",
    "\n",
    "\n",
    "# find the next api info, if it is from the same stream, there is non ovlp\n",
    "nextapi = df_all_api.iloc[1]['api_type']\n",
    "nextapi_start = df_all_api.iloc[1]['start']\n",
    "nextapi_end = df_all_api.iloc[1]['end']\n",
    "nextapi_stream = df_all_api.iloc[1]['stream_id']\n",
    "# print(nextapi_stream)\n",
    "\n",
    "cnt_curr_stream = 0\n",
    "check_coming_stream  = 0\n",
    "\n",
    "if curapi_stream == nextapi_stream:\n",
    "    print('cont next api for current stream')\n",
    "    cnt_curr_stream = 1\n",
    "else:\n",
    "    print('check the api for the coming stream')\n",
    "    check_coming_stream = 1\n",
    "\n",
    "#----------------------\n",
    "run_h2d_mod = 0\n",
    "run_ker_mod = 0\n",
    "run_d2h_mod = 0\n",
    "\n",
    "if check_coming_stream:\n",
    "    if curapi == 'h2d' and nextapi == 'h2d':\n",
    "        print('h2d_h2d')\n",
    "        run_h2d_mod = 1\n",
    "    if curapi == 'kern' and nextapi == 'kern':\n",
    "        print('kern_kern')\n",
    "        run_ker_mod = 1\n",
    "    if curapi == 'd2h' and nextapi == 'd2h':\n",
    "        run_d2h_mod = 1\n",
    "        print('d2h_d2h')\n",
    "        \n",
    "if run_h2d_mod == 1:\n",
    "    no_ovlap_time = nextapi_start - curapi_start\n",
    "    # use the org bw to transfer\n",
    "    curr_trans = df_all_api.iloc[0]['bw'] * no_ovlap_time\n",
    "    print curr_trans\n",
    "    \n",
    "    # update the bytes_done\n",
    "    df_all_api.iloc[0, df_all_api.columns.get_loc('bytes_done')]  = curr_trans\n",
    "    df_all_api.iloc[0, df_all_api.columns.get_loc('bytes_left')]  = df_all_api.iloc[0]['size_kb'] - curr_trans\n",
    "    \n",
    "    # from nextapi_start, there is 2-way h2d concurrency\n",
    "    cc = 2\n",
    "    \n",
    "    df_all_api.iloc[1, df_all_api.columns.get_loc('status')] = 'wake'\n",
    "    \n",
    "    # predict with current concurrency for both api\n",
    "    current_time2run = df_all_api.iloc[0]['bytes_left'] / df_all_api.iloc[0]['bw']\n",
    "    print current_time2run\n",
    "    next_time2run = df_all_api.iloc[1]['bytes_left'] / df_all_api.iloc[1]['bw']\n",
    "    print next_time2run\n",
    "    \n",
    "    if current_time2run < next_time2run:\n",
    "        current_finish_early = 1\n",
    "        \n",
    "    "
   ]
  },
  {
   "cell_type": "code",
   "execution_count": 28,
   "metadata": {
    "collapsed": false
   },
   "outputs": [
    {
     "data": {
      "text/html": [
       "<div>\n",
       "<table border=\"1\" class=\"dataframe\">\n",
       "  <thead>\n",
       "    <tr style=\"text-align: right;\">\n",
       "      <th></th>\n",
       "      <th>start</th>\n",
       "      <th>end</th>\n",
       "      <th>api_type</th>\n",
       "      <th>size_kb</th>\n",
       "      <th>stream_id</th>\n",
       "      <th>status</th>\n",
       "      <th>bw</th>\n",
       "      <th>bytes_done</th>\n",
       "      <th>bytes_left</th>\n",
       "    </tr>\n",
       "  </thead>\n",
       "  <tbody>\n",
       "    <tr>\n",
       "      <th>0</th>\n",
       "      <td>0.000000</td>\n",
       "      <td>6.436815</td>\n",
       "      <td>h2d</td>\n",
       "      <td>38146.973</td>\n",
       "      <td>0.0</td>\n",
       "      <td>wake</td>\n",
       "      <td>5926.373991</td>\n",
       "      <td>18718.04333</td>\n",
       "      <td>19428.92967</td>\n",
       "    </tr>\n",
       "    <tr>\n",
       "      <th>4</th>\n",
       "      <td>3.158431</td>\n",
       "      <td>9.595246</td>\n",
       "      <td>h2d</td>\n",
       "      <td>38146.973</td>\n",
       "      <td>1.0</td>\n",
       "      <td>wake</td>\n",
       "      <td>5926.373991</td>\n",
       "      <td>0.00000</td>\n",
       "      <td>38146.97300</td>\n",
       "    </tr>\n",
       "    <tr>\n",
       "      <th>1</th>\n",
       "      <td>6.438031</td>\n",
       "      <td>12.868030</td>\n",
       "      <td>h2d</td>\n",
       "      <td>38146.973</td>\n",
       "      <td>0.0</td>\n",
       "      <td>sleep</td>\n",
       "      <td>5932.656133</td>\n",
       "      <td>0.00000</td>\n",
       "      <td>38146.97300</td>\n",
       "    </tr>\n",
       "    <tr>\n",
       "      <th>5</th>\n",
       "      <td>9.596462</td>\n",
       "      <td>16.026461</td>\n",
       "      <td>h2d</td>\n",
       "      <td>38146.973</td>\n",
       "      <td>1.0</td>\n",
       "      <td>sleep</td>\n",
       "      <td>5932.656133</td>\n",
       "      <td>0.00000</td>\n",
       "      <td>38146.97300</td>\n",
       "    </tr>\n",
       "    <tr>\n",
       "      <th>2</th>\n",
       "      <td>12.879518</td>\n",
       "      <td>14.156136</td>\n",
       "      <td>kern</td>\n",
       "      <td>0.000</td>\n",
       "      <td>0.0</td>\n",
       "      <td>sleep</td>\n",
       "      <td>0.000000</td>\n",
       "      <td>0.00000</td>\n",
       "      <td>0.00000</td>\n",
       "    </tr>\n",
       "    <tr>\n",
       "      <th>3</th>\n",
       "      <td>14.162920</td>\n",
       "      <td>20.432566</td>\n",
       "      <td>d2h</td>\n",
       "      <td>38146.973</td>\n",
       "      <td>0.0</td>\n",
       "      <td>sleep</td>\n",
       "      <td>6084.390251</td>\n",
       "      <td>0.00000</td>\n",
       "      <td>38146.97300</td>\n",
       "    </tr>\n",
       "    <tr>\n",
       "      <th>6</th>\n",
       "      <td>16.037949</td>\n",
       "      <td>17.314567</td>\n",
       "      <td>kern</td>\n",
       "      <td>0.000</td>\n",
       "      <td>1.0</td>\n",
       "      <td>sleep</td>\n",
       "      <td>0.000000</td>\n",
       "      <td>0.00000</td>\n",
       "      <td>0.00000</td>\n",
       "    </tr>\n",
       "    <tr>\n",
       "      <th>7</th>\n",
       "      <td>17.321351</td>\n",
       "      <td>23.590997</td>\n",
       "      <td>d2h</td>\n",
       "      <td>38146.973</td>\n",
       "      <td>1.0</td>\n",
       "      <td>sleep</td>\n",
       "      <td>6084.390251</td>\n",
       "      <td>0.00000</td>\n",
       "      <td>38146.97300</td>\n",
       "    </tr>\n",
       "  </tbody>\n",
       "</table>\n",
       "</div>"
      ],
      "text/plain": [
       "       start        end api_type    size_kb  stream_id status           bw  \\\n",
       "0   0.000000   6.436815      h2d  38146.973        0.0   wake  5926.373991   \n",
       "4   3.158431   9.595246      h2d  38146.973        1.0   wake  5926.373991   \n",
       "1   6.438031  12.868030      h2d  38146.973        0.0  sleep  5932.656133   \n",
       "5   9.596462  16.026461      h2d  38146.973        1.0  sleep  5932.656133   \n",
       "2  12.879518  14.156136     kern      0.000        0.0  sleep     0.000000   \n",
       "3  14.162920  20.432566      d2h  38146.973        0.0  sleep  6084.390251   \n",
       "6  16.037949  17.314567     kern      0.000        1.0  sleep     0.000000   \n",
       "7  17.321351  23.590997      d2h  38146.973        1.0  sleep  6084.390251   \n",
       "\n",
       "    bytes_done   bytes_left  \n",
       "0  18718.04333  19428.92967  \n",
       "4      0.00000  38146.97300  \n",
       "1      0.00000  38146.97300  \n",
       "5      0.00000  38146.97300  \n",
       "2      0.00000      0.00000  \n",
       "3      0.00000  38146.97300  \n",
       "6      0.00000      0.00000  \n",
       "7      0.00000  38146.97300  "
      ]
     },
     "execution_count": 28,
     "metadata": {},
     "output_type": "execute_result"
    }
   ],
   "source": [
    "df_all_api"
   ]
  },
  {
   "cell_type": "markdown",
   "metadata": {},
   "source": [
    "# 3cke"
   ]
  },
  {
   "cell_type": "code",
   "execution_count": 29,
   "metadata": {
    "collapsed": false
   },
   "outputs": [],
   "source": [
    "stream_num = 3\n",
    "\n",
    "df_cke_list = cke.init_trace_list(df_s1, stream_num = stream_num)"
   ]
  },
  {
   "cell_type": "code",
   "execution_count": 30,
   "metadata": {
    "collapsed": false
   },
   "outputs": [
    {
     "data": {
      "text/html": [
       "<div>\n",
       "<table border=\"1\" class=\"dataframe\">\n",
       "  <thead>\n",
       "    <tr style=\"text-align: right;\">\n",
       "      <th></th>\n",
       "      <th>stream</th>\n",
       "      <th>api_type</th>\n",
       "      <th>start</th>\n",
       "      <th>end</th>\n",
       "      <th>size</th>\n",
       "      <th>duration</th>\n",
       "    </tr>\n",
       "  </thead>\n",
       "  <tbody>\n",
       "    <tr>\n",
       "      <th>0</th>\n",
       "      <td>0</td>\n",
       "      <td>h2d</td>\n",
       "      <td>0.000000</td>\n",
       "      <td>6.436815</td>\n",
       "      <td>38146.973</td>\n",
       "      <td>6.436815</td>\n",
       "    </tr>\n",
       "    <tr>\n",
       "      <th>1</th>\n",
       "      <td>0</td>\n",
       "      <td>h2d</td>\n",
       "      <td>6.438031</td>\n",
       "      <td>12.868030</td>\n",
       "      <td>38146.973</td>\n",
       "      <td>6.429999</td>\n",
       "    </tr>\n",
       "    <tr>\n",
       "      <th>2</th>\n",
       "      <td>0</td>\n",
       "      <td>kern</td>\n",
       "      <td>12.879518</td>\n",
       "      <td>14.156136</td>\n",
       "      <td>0.000</td>\n",
       "      <td>1.276618</td>\n",
       "    </tr>\n",
       "    <tr>\n",
       "      <th>3</th>\n",
       "      <td>0</td>\n",
       "      <td>d2h</td>\n",
       "      <td>14.162920</td>\n",
       "      <td>20.432566</td>\n",
       "      <td>38146.973</td>\n",
       "      <td>6.269646</td>\n",
       "    </tr>\n",
       "  </tbody>\n",
       "</table>\n",
       "</div>"
      ],
      "text/plain": [
       "   stream api_type      start        end       size  duration\n",
       "0       0      h2d   0.000000   6.436815  38146.973  6.436815\n",
       "1       0      h2d   6.438031  12.868030  38146.973  6.429999\n",
       "2       0     kern  12.879518  14.156136      0.000  1.276618\n",
       "3       0      d2h  14.162920  20.432566  38146.973  6.269646"
      ]
     },
     "execution_count": 30,
     "metadata": {},
     "output_type": "execute_result"
    }
   ],
   "source": [
    "df_cke_list[0]"
   ]
  },
  {
   "cell_type": "code",
   "execution_count": 31,
   "metadata": {
    "collapsed": false
   },
   "outputs": [
    {
     "data": {
      "text/html": [
       "<div>\n",
       "<table border=\"1\" class=\"dataframe\">\n",
       "  <thead>\n",
       "    <tr style=\"text-align: right;\">\n",
       "      <th></th>\n",
       "      <th>stream</th>\n",
       "      <th>api_type</th>\n",
       "      <th>start</th>\n",
       "      <th>end</th>\n",
       "      <th>size</th>\n",
       "      <th>duration</th>\n",
       "    </tr>\n",
       "  </thead>\n",
       "  <tbody>\n",
       "    <tr>\n",
       "      <th>0</th>\n",
       "      <td>1</td>\n",
       "      <td>h2d</td>\n",
       "      <td>0.000000</td>\n",
       "      <td>6.436815</td>\n",
       "      <td>38146.973</td>\n",
       "      <td>6.436815</td>\n",
       "    </tr>\n",
       "    <tr>\n",
       "      <th>1</th>\n",
       "      <td>1</td>\n",
       "      <td>h2d</td>\n",
       "      <td>6.438031</td>\n",
       "      <td>12.868030</td>\n",
       "      <td>38146.973</td>\n",
       "      <td>6.429999</td>\n",
       "    </tr>\n",
       "    <tr>\n",
       "      <th>2</th>\n",
       "      <td>1</td>\n",
       "      <td>kern</td>\n",
       "      <td>12.879518</td>\n",
       "      <td>14.156136</td>\n",
       "      <td>0.000</td>\n",
       "      <td>1.276618</td>\n",
       "    </tr>\n",
       "    <tr>\n",
       "      <th>3</th>\n",
       "      <td>1</td>\n",
       "      <td>d2h</td>\n",
       "      <td>14.162920</td>\n",
       "      <td>20.432566</td>\n",
       "      <td>38146.973</td>\n",
       "      <td>6.269646</td>\n",
       "    </tr>\n",
       "  </tbody>\n",
       "</table>\n",
       "</div>"
      ],
      "text/plain": [
       "   stream api_type      start        end       size  duration\n",
       "0       1      h2d   0.000000   6.436815  38146.973  6.436815\n",
       "1       1      h2d   6.438031  12.868030  38146.973  6.429999\n",
       "2       1     kern  12.879518  14.156136      0.000  1.276618\n",
       "3       1      d2h  14.162920  20.432566  38146.973  6.269646"
      ]
     },
     "execution_count": 31,
     "metadata": {},
     "output_type": "execute_result"
    }
   ],
   "source": [
    "df_cke_list[1]"
   ]
  },
  {
   "cell_type": "code",
   "execution_count": 32,
   "metadata": {
    "collapsed": false
   },
   "outputs": [
    {
     "data": {
      "text/html": [
       "<div>\n",
       "<table border=\"1\" class=\"dataframe\">\n",
       "  <thead>\n",
       "    <tr style=\"text-align: right;\">\n",
       "      <th></th>\n",
       "      <th>stream</th>\n",
       "      <th>api_type</th>\n",
       "      <th>start</th>\n",
       "      <th>end</th>\n",
       "      <th>size</th>\n",
       "      <th>duration</th>\n",
       "    </tr>\n",
       "  </thead>\n",
       "  <tbody>\n",
       "    <tr>\n",
       "      <th>0</th>\n",
       "      <td>2</td>\n",
       "      <td>h2d</td>\n",
       "      <td>0.000000</td>\n",
       "      <td>6.436815</td>\n",
       "      <td>38146.973</td>\n",
       "      <td>6.436815</td>\n",
       "    </tr>\n",
       "    <tr>\n",
       "      <th>1</th>\n",
       "      <td>2</td>\n",
       "      <td>h2d</td>\n",
       "      <td>6.438031</td>\n",
       "      <td>12.868030</td>\n",
       "      <td>38146.973</td>\n",
       "      <td>6.429999</td>\n",
       "    </tr>\n",
       "    <tr>\n",
       "      <th>2</th>\n",
       "      <td>2</td>\n",
       "      <td>kern</td>\n",
       "      <td>12.879518</td>\n",
       "      <td>14.156136</td>\n",
       "      <td>0.000</td>\n",
       "      <td>1.276618</td>\n",
       "    </tr>\n",
       "    <tr>\n",
       "      <th>3</th>\n",
       "      <td>2</td>\n",
       "      <td>d2h</td>\n",
       "      <td>14.162920</td>\n",
       "      <td>20.432566</td>\n",
       "      <td>38146.973</td>\n",
       "      <td>6.269646</td>\n",
       "    </tr>\n",
       "  </tbody>\n",
       "</table>\n",
       "</div>"
      ],
      "text/plain": [
       "   stream api_type      start        end       size  duration\n",
       "0       2      h2d   0.000000   6.436815  38146.973  6.436815\n",
       "1       2      h2d   6.438031  12.868030  38146.973  6.429999\n",
       "2       2     kern  12.879518  14.156136      0.000  1.276618\n",
       "3       2      d2h  14.162920  20.432566  38146.973  6.269646"
      ]
     },
     "execution_count": 32,
     "metadata": {},
     "output_type": "execute_result"
    }
   ],
   "source": [
    "df_cke_list[2]"
   ]
  },
  {
   "cell_type": "code",
   "execution_count": 33,
   "metadata": {
    "collapsed": false
   },
   "outputs": [
    {
     "name": "stdout",
     "output_type": "stream",
     "text": [
      "stream_startTime : 3.158431\n",
      "stream_startTime : 6.316862\n"
     ]
    }
   ],
   "source": [
    "# find when to start the stream and update the starting pos for the trace\n",
    "H2D_H2D_OVLP_TH = 3.158431\n",
    "\n",
    "for i in range(1,stream_num):\n",
    "    # compute the time for the init data transfer\n",
    "    stream_startTime = cke.find_h2d_start(df_cke_list[i-1], H2D_H2D_OVLP_TH)\n",
    "    print('stream_startTime : {}'.format(stream_startTime))\n",
    "    df_cke_list[i].start += stream_startTime\n",
    "    df_cke_list[i].end   += stream_startTime"
   ]
  },
  {
   "cell_type": "code",
   "execution_count": 34,
   "metadata": {
    "collapsed": false
   },
   "outputs": [
    {
     "data": {
      "text/html": [
       "<div>\n",
       "<table border=\"1\" class=\"dataframe\">\n",
       "  <thead>\n",
       "    <tr style=\"text-align: right;\">\n",
       "      <th></th>\n",
       "      <th>stream</th>\n",
       "      <th>api_type</th>\n",
       "      <th>start</th>\n",
       "      <th>end</th>\n",
       "      <th>size</th>\n",
       "      <th>duration</th>\n",
       "    </tr>\n",
       "  </thead>\n",
       "  <tbody>\n",
       "    <tr>\n",
       "      <th>0</th>\n",
       "      <td>0</td>\n",
       "      <td>h2d</td>\n",
       "      <td>0.000000</td>\n",
       "      <td>6.436815</td>\n",
       "      <td>38146.973</td>\n",
       "      <td>6.436815</td>\n",
       "    </tr>\n",
       "    <tr>\n",
       "      <th>1</th>\n",
       "      <td>0</td>\n",
       "      <td>h2d</td>\n",
       "      <td>6.438031</td>\n",
       "      <td>12.868030</td>\n",
       "      <td>38146.973</td>\n",
       "      <td>6.429999</td>\n",
       "    </tr>\n",
       "    <tr>\n",
       "      <th>2</th>\n",
       "      <td>0</td>\n",
       "      <td>kern</td>\n",
       "      <td>12.879518</td>\n",
       "      <td>14.156136</td>\n",
       "      <td>0.000</td>\n",
       "      <td>1.276618</td>\n",
       "    </tr>\n",
       "    <tr>\n",
       "      <th>3</th>\n",
       "      <td>0</td>\n",
       "      <td>d2h</td>\n",
       "      <td>14.162920</td>\n",
       "      <td>20.432566</td>\n",
       "      <td>38146.973</td>\n",
       "      <td>6.269646</td>\n",
       "    </tr>\n",
       "  </tbody>\n",
       "</table>\n",
       "</div>"
      ],
      "text/plain": [
       "   stream api_type      start        end       size  duration\n",
       "0       0      h2d   0.000000   6.436815  38146.973  6.436815\n",
       "1       0      h2d   6.438031  12.868030  38146.973  6.429999\n",
       "2       0     kern  12.879518  14.156136      0.000  1.276618\n",
       "3       0      d2h  14.162920  20.432566  38146.973  6.269646"
      ]
     },
     "execution_count": 34,
     "metadata": {},
     "output_type": "execute_result"
    }
   ],
   "source": [
    "df_cke_list[0]"
   ]
  },
  {
   "cell_type": "code",
   "execution_count": 35,
   "metadata": {
    "collapsed": false
   },
   "outputs": [
    {
     "data": {
      "text/html": [
       "<div>\n",
       "<table border=\"1\" class=\"dataframe\">\n",
       "  <thead>\n",
       "    <tr style=\"text-align: right;\">\n",
       "      <th></th>\n",
       "      <th>stream</th>\n",
       "      <th>api_type</th>\n",
       "      <th>start</th>\n",
       "      <th>end</th>\n",
       "      <th>size</th>\n",
       "      <th>duration</th>\n",
       "    </tr>\n",
       "  </thead>\n",
       "  <tbody>\n",
       "    <tr>\n",
       "      <th>0</th>\n",
       "      <td>1</td>\n",
       "      <td>h2d</td>\n",
       "      <td>3.158431</td>\n",
       "      <td>9.595246</td>\n",
       "      <td>38146.973</td>\n",
       "      <td>6.436815</td>\n",
       "    </tr>\n",
       "    <tr>\n",
       "      <th>1</th>\n",
       "      <td>1</td>\n",
       "      <td>h2d</td>\n",
       "      <td>9.596462</td>\n",
       "      <td>16.026461</td>\n",
       "      <td>38146.973</td>\n",
       "      <td>6.429999</td>\n",
       "    </tr>\n",
       "    <tr>\n",
       "      <th>2</th>\n",
       "      <td>1</td>\n",
       "      <td>kern</td>\n",
       "      <td>16.037949</td>\n",
       "      <td>17.314567</td>\n",
       "      <td>0.000</td>\n",
       "      <td>1.276618</td>\n",
       "    </tr>\n",
       "    <tr>\n",
       "      <th>3</th>\n",
       "      <td>1</td>\n",
       "      <td>d2h</td>\n",
       "      <td>17.321351</td>\n",
       "      <td>23.590997</td>\n",
       "      <td>38146.973</td>\n",
       "      <td>6.269646</td>\n",
       "    </tr>\n",
       "  </tbody>\n",
       "</table>\n",
       "</div>"
      ],
      "text/plain": [
       "   stream api_type      start        end       size  duration\n",
       "0       1      h2d   3.158431   9.595246  38146.973  6.436815\n",
       "1       1      h2d   9.596462  16.026461  38146.973  6.429999\n",
       "2       1     kern  16.037949  17.314567      0.000  1.276618\n",
       "3       1      d2h  17.321351  23.590997  38146.973  6.269646"
      ]
     },
     "execution_count": 35,
     "metadata": {},
     "output_type": "execute_result"
    }
   ],
   "source": [
    "df_cke_list[1]"
   ]
  },
  {
   "cell_type": "code",
   "execution_count": 36,
   "metadata": {
    "collapsed": false
   },
   "outputs": [
    {
     "data": {
      "text/html": [
       "<div>\n",
       "<table border=\"1\" class=\"dataframe\">\n",
       "  <thead>\n",
       "    <tr style=\"text-align: right;\">\n",
       "      <th></th>\n",
       "      <th>stream</th>\n",
       "      <th>api_type</th>\n",
       "      <th>start</th>\n",
       "      <th>end</th>\n",
       "      <th>size</th>\n",
       "      <th>duration</th>\n",
       "    </tr>\n",
       "  </thead>\n",
       "  <tbody>\n",
       "    <tr>\n",
       "      <th>0</th>\n",
       "      <td>2</td>\n",
       "      <td>h2d</td>\n",
       "      <td>6.316862</td>\n",
       "      <td>12.753677</td>\n",
       "      <td>38146.973</td>\n",
       "      <td>6.436815</td>\n",
       "    </tr>\n",
       "    <tr>\n",
       "      <th>1</th>\n",
       "      <td>2</td>\n",
       "      <td>h2d</td>\n",
       "      <td>12.754893</td>\n",
       "      <td>19.184892</td>\n",
       "      <td>38146.973</td>\n",
       "      <td>6.429999</td>\n",
       "    </tr>\n",
       "    <tr>\n",
       "      <th>2</th>\n",
       "      <td>2</td>\n",
       "      <td>kern</td>\n",
       "      <td>19.196380</td>\n",
       "      <td>20.472998</td>\n",
       "      <td>0.000</td>\n",
       "      <td>1.276618</td>\n",
       "    </tr>\n",
       "    <tr>\n",
       "      <th>3</th>\n",
       "      <td>2</td>\n",
       "      <td>d2h</td>\n",
       "      <td>20.479782</td>\n",
       "      <td>26.749428</td>\n",
       "      <td>38146.973</td>\n",
       "      <td>6.269646</td>\n",
       "    </tr>\n",
       "  </tbody>\n",
       "</table>\n",
       "</div>"
      ],
      "text/plain": [
       "   stream api_type      start        end       size  duration\n",
       "0       2      h2d   6.316862  12.753677  38146.973  6.436815\n",
       "1       2      h2d  12.754893  19.184892  38146.973  6.429999\n",
       "2       2     kern  19.196380  20.472998      0.000  1.276618\n",
       "3       2      d2h  20.479782  26.749428  38146.973  6.269646"
      ]
     },
     "execution_count": 36,
     "metadata": {},
     "output_type": "execute_result"
    }
   ],
   "source": [
    "df_cke_list[2]"
   ]
  },
  {
   "cell_type": "markdown",
   "metadata": {},
   "source": [
    "# plot all the stream timeline"
   ]
  },
  {
   "cell_type": "code",
   "execution_count": 37,
   "metadata": {
    "collapsed": false
   },
   "outputs": [
    {
     "data": {
      "image/png": "[encoded data removed]",
      "text/plain": [
       "<matplotlib.figure.Figure at 0x7f420817b850>"
      ]
     },
     "metadata": {},
     "output_type": "display_data"
    }
   ],
   "source": [
    "cuda_timeline.plot_cke_list(df_cke_list, savefig=True)"
   ]
  },
  {
   "cell_type": "code",
   "execution_count": 38,
   "metadata": {
    "collapsed": false
   },
   "outputs": [
    {
     "data": {
      "image/png": "[encoded data removed]",
      "text/plain": [
       "<matplotlib.figure.Figure at 0x7f41d916c9d0>"
      ]
     },
     "metadata": {},
     "output_type": "display_data"
    }
   ],
   "source": [
    "cuda_timeline.plot_cke_list(df_cke_list[0:2])"
   ]
  },
  {
   "cell_type": "code",
   "execution_count": 39,
   "metadata": {
    "collapsed": false
   },
   "outputs": [
    {
     "name": "stdout",
     "output_type": "stream",
     "text": [
      "20.432566\n"
     ]
    }
   ],
   "source": [
    "tot_runtime = read_trace.getTotalRuntime(df_cke_list[0:2])\n",
    "print tot_runtime"
   ]
  },
  {
   "cell_type": "markdown",
   "metadata": {},
   "source": [
    "# Check the h2d overlapping"
   ]
  },
  {
   "cell_type": "code",
   "execution_count": null,
   "metadata": {
    "collapsed": true
   },
   "outputs": [],
   "source": []
  },
  {
   "cell_type": "code",
   "execution_count": 40,
   "metadata": {
    "collapsed": false
   },
   "outputs": [],
   "source": [
    "# # extract kernel info\n",
    "# streaminfo = get_stream_info(df_trace)\n",
    "# current_kern_info = streaminfo[0].kernel_info[0]\n",
    "\n",
    "# grid_dim = float(current_kern_info.grid_x) * float(current_kern_info.grid_y) * float(current_kern_info.grid_z)\n",
    "# block_dim = float(current_kern_info.blk_x) * float(current_kern_info.blk_y) * float(current_kern_info.blk_z)\n",
    "# reg_per_thread = float(current_kern_info.regs_per_thread)\n",
    "# sm_per_blk = float(current_kern_info.sm_per_block)\n",
    "    \n",
    "# # kernel runtime in ms\n",
    "# current_kern =  streaminfo[0].kernel[0]\n",
    "# kern_runtime_ms = float(current_kern.end_time_ms) - float(current_kern.start_time_ms)\n",
    "\n",
    "# kernel = KernelInfo()\n",
    "# kernel.blockDim = block_dim\n",
    "# kernel.gridDim = grid_dim\n",
    "# kernel.reg_per_thread = reg_per_thread\n",
    "# kernel.sharedmem_per_blk = sm_per_blk\n",
    "# kernel.runtime_ms = kern_runtime_ms\n",
    "\n",
    "# kernel.avg_blk_time = compute_avgblktime(gtx950, kernel)\n",
    "# #print kernel_avg_blk_time"
   ]
  },
  {
   "cell_type": "code",
   "execution_count": null,
   "metadata": {
    "collapsed": false
   },
   "outputs": [],
   "source": []
  },
  {
   "cell_type": "markdown",
   "metadata": {},
   "source": [
    "### check whether there is h2d overlapping"
   ]
  },
  {
   "cell_type": "code",
   "execution_count": 41,
   "metadata": {
    "collapsed": false
   },
   "outputs": [
    {
     "ename": "NameError",
     "evalue": "name 'find_h2ds_timing' is not defined",
     "output_type": "error",
     "traceback": [
      "\u001b[0;31m---------------------------------------------------------------------------\u001b[0m",
      "\u001b[0;31mNameError\u001b[0m                                 Traceback (most recent call last)",
      "\u001b[0;32m<ipython-input-41-1ba2dd7df3a4>\u001b[0m in \u001b[0;36m<module>\u001b[0;34m()\u001b[0m\n\u001b[0;32m----> 1\u001b[0;31m \u001b[0mprev_stm_h2ds_start\u001b[0m\u001b[0;34m,\u001b[0m \u001b[0mprev_stm_h2ds_end\u001b[0m \u001b[0;34m=\u001b[0m \u001b[0mfind_h2ds_timing\u001b[0m\u001b[0;34m(\u001b[0m\u001b[0mdf_cke_list\u001b[0m\u001b[0;34m[\u001b[0m\u001b[0;36m0\u001b[0m\u001b[0;34m]\u001b[0m\u001b[0;34m)\u001b[0m\u001b[0;34m\u001b[0m\u001b[0m\n\u001b[0m\u001b[1;32m      2\u001b[0m \u001b[0;32mprint\u001b[0m\u001b[0;34m(\u001b[0m\u001b[0;34m\"prev stream h2ds : {} - {}\"\u001b[0m\u001b[0;34m.\u001b[0m\u001b[0mformat\u001b[0m\u001b[0;34m(\u001b[0m\u001b[0mprev_stm_h2ds_start\u001b[0m\u001b[0;34m,\u001b[0m \u001b[0mprev_stm_h2ds_end\u001b[0m\u001b[0;34m)\u001b[0m\u001b[0;34m)\u001b[0m\u001b[0;34m\u001b[0m\u001b[0m\n\u001b[1;32m      3\u001b[0m \u001b[0;34m\u001b[0m\u001b[0m\n\u001b[1;32m      4\u001b[0m \u001b[0mcurr_stm_h2ds_start\u001b[0m\u001b[0;34m,\u001b[0m \u001b[0mcurr_stm_h2ds_end\u001b[0m \u001b[0;34m=\u001b[0m \u001b[0mfind_h2ds_timing\u001b[0m\u001b[0;34m(\u001b[0m\u001b[0mdf_cke_list\u001b[0m\u001b[0;34m[\u001b[0m\u001b[0;36m1\u001b[0m\u001b[0;34m]\u001b[0m\u001b[0;34m)\u001b[0m\u001b[0;34m\u001b[0m\u001b[0m\n\u001b[1;32m      5\u001b[0m \u001b[0;32mprint\u001b[0m\u001b[0;34m(\u001b[0m\u001b[0;34m\"curr stream h2ds : {} - {}\"\u001b[0m\u001b[0;34m.\u001b[0m\u001b[0mformat\u001b[0m\u001b[0;34m(\u001b[0m\u001b[0mcurr_stm_h2ds_start\u001b[0m\u001b[0;34m,\u001b[0m \u001b[0mcurr_stm_h2ds_end\u001b[0m\u001b[0;34m)\u001b[0m\u001b[0;34m)\u001b[0m\u001b[0;34m\u001b[0m\u001b[0m\n",
      "\u001b[0;31mNameError\u001b[0m: name 'find_h2ds_timing' is not defined"
     ]
    }
   ],
   "source": [
    "prev_stm_h2ds_start, prev_stm_h2ds_end = find_h2ds_timing(df_cke_list[0])\n",
    "print(\"prev stream h2ds : {} - {}\".format(prev_stm_h2ds_start, prev_stm_h2ds_end))\n",
    "\n",
    "curr_stm_h2ds_start, curr_stm_h2ds_end = find_h2ds_timing(df_cke_list[1])\n",
    "print(\"curr stream h2ds : {} - {}\".format(curr_stm_h2ds_start, curr_stm_h2ds_end))"
   ]
  },
  {
   "cell_type": "code",
   "execution_count": null,
   "metadata": {
    "collapsed": false
   },
   "outputs": [],
   "source": [
    "if curr_stm_h2ds_start >=prev_stm_h2ds_start and curr_stm_h2ds_start < prev_stm_h2ds_end:\n",
    "    h2ds_ovlp_between_stream = True \n",
    "else:\n",
    "    h2ds_ovlp_between_stream = False\n",
    "\n",
    "print(\"h2ds_ovlp_between_stream : {}\".format(h2ds_ovlp_between_stream))"
   ]
  },
  {
   "cell_type": "markdown",
   "metadata": {},
   "source": [
    "### check kernel overlapping"
   ]
  },
  {
   "cell_type": "code",
   "execution_count": null,
   "metadata": {
    "collapsed": false
   },
   "outputs": [],
   "source": [
    "prev_stm_kern_start, prev_stm_kern_end = find_kern_timing(df_cke_list[0])\n",
    "print(\"prev stream kern : {} - {}\".format(prev_stm_kern_start, prev_stm_kern_end))\n",
    "\n",
    "curr_stm_kern_start, curr_stm_kern_end = find_kern_timing(df_cke_list[1])\n",
    "print(\"curr stream kern : {} - {}\".format(curr_stm_kern_start, curr_stm_kern_end))\n"
   ]
  },
  {
   "cell_type": "code",
   "execution_count": null,
   "metadata": {
    "collapsed": false
   },
   "outputs": [],
   "source": [
    "if  prev_stm_kern_start <= curr_stm_kern_start < prev_stm_kern_end:\n",
    "    kern_ovlp_between_stream = True \n",
    "else:\n",
    "    kern_ovlp_between_stream = False\n",
    "\n",
    "print(\"kern_ovlp_between_stream : {}\".format(kern_ovlp_between_stream))"
   ]
  },
  {
   "cell_type": "markdown",
   "metadata": {},
   "source": [
    "#### use cke model if kern_ovlp_between_stream is true"
   ]
  },
  {
   "cell_type": "code",
   "execution_count": null,
   "metadata": {
    "collapsed": false
   },
   "outputs": [],
   "source": [
    "# get the overlapping kernel info from both stream\n",
    "\n",
    "# since the ovlp kernels are identical, we duplicate twice\n",
    "kernel_num = 2\n",
    "kernels = [kernel for i in range(kernel_num)]\n",
    "\n",
    "pred_cke_time, kernels_start_end = model_cke_from_same_kernel(gtx950, kernels)"
   ]
  },
  {
   "cell_type": "code",
   "execution_count": null,
   "metadata": {
    "collapsed": false
   },
   "outputs": [],
   "source": [
    "pred_cke_time"
   ]
  },
  {
   "cell_type": "code",
   "execution_count": null,
   "metadata": {
    "collapsed": false
   },
   "outputs": [],
   "source": [
    "kernels_start_end"
   ]
  },
  {
   "cell_type": "code",
   "execution_count": null,
   "metadata": {
    "collapsed": false
   },
   "outputs": [],
   "source": [
    "df_cke_list[0]"
   ]
  },
  {
   "cell_type": "code",
   "execution_count": null,
   "metadata": {
    "collapsed": false
   },
   "outputs": [],
   "source": [
    "df_cke_list[1]"
   ]
  },
  {
   "cell_type": "code",
   "execution_count": null,
   "metadata": {
    "collapsed": true
   },
   "outputs": [],
   "source": [
    "def api_order(df_trace):\n",
    "    order_ls = []\n",
    "    for index,row in df_trace.iterrows():\n",
    "        order_ls.append([str(row.api_type), index])\n",
    "    return order_ls"
   ]
  },
  {
   "cell_type": "code",
   "execution_count": null,
   "metadata": {
    "collapsed": false
   },
   "outputs": [],
   "source": [
    "cke1_api_list = api_order(df_cke_list[1])\n",
    "print cke1_api_list"
   ]
  },
  {
   "cell_type": "code",
   "execution_count": null,
   "metadata": {
    "collapsed": true
   },
   "outputs": [],
   "source": [
    "def find_api_pos(ls, api_name, order):\n",
    "    count = 0\n",
    "    index = 0\n",
    "    found = 0\n",
    "    for api in ls:\n",
    "        if api[0] == api_name:\n",
    "            count = count + 1\n",
    "            if count == order:\n",
    "                found = 1\n",
    "                index = api[1]\n",
    "                break;\n",
    "    return found, index"
   ]
  },
  {
   "cell_type": "code",
   "execution_count": null,
   "metadata": {
    "collapsed": false
   },
   "outputs": [],
   "source": [
    "# found, pos = find_api_pos(cke1_api_list, \"kern\", 1)\n",
    "# print(\"found : {}, pos : {}\".format(found, pos))"
   ]
  },
  {
   "cell_type": "code",
   "execution_count": null,
   "metadata": {
    "collapsed": false
   },
   "outputs": [],
   "source": [
    "# adjust kernel timing \n",
    "\n",
    "df_current = df_cke_list[1]\n",
    "df_current_kern = df_current.loc[df_current.api_type == \"kern\"]\n",
    "#print df_current_kern.start\n",
    "#print df_current_kern.end\n",
    "\n",
    "df_prev = df_cke_list[0]\n",
    "df_prev_kern = df_prev.loc[df_prev.api_type == \"kern\"]\n",
    "#print df_prev_kern.start\n",
    "\n",
    "kern_start_update =  float(df_prev_kern.start) + kernels_start_end[1][0]\n",
    "print kern_start_update\n",
    "\n",
    "kern_end_update = float(df_prev_kern.start) + kernels_start_end[1][1]\n",
    "print kern_end_update\n",
    "\n",
    "# we need to adjust the timing for the following api calls too\n",
    "# find out the kern_d2h ovhd\n",
    "df_current_d2h = df_current.loc[df_current.api_type == \"d2h\"]\n",
    "#print df_current_d2h.start\n",
    "#print df_current_kern.end\n",
    "\n",
    "kern_d2h_ovhd = float(df_current_d2h.start) - float(df_current_kern.end)\n",
    "print kern_d2h_ovhd\n",
    "\n",
    "\n",
    "d2h_new_start = kern_end_update + kern_d2h_ovhd\n",
    "print d2h_new_start\n",
    "\n",
    "d2h_delta = d2h_new_start - float(df_current_d2h.start)\n",
    "print d2h_delta\n",
    "\n",
    "### update\n",
    "found, pos = find_api_pos(cke1_api_list, \"kern\", 1)  # find the 1st kern in the api list\n",
    "print(\"found : {}, pos : {}\".format(found, pos))\n",
    "\n",
    "df_current.set_value(pos, 'start', kern_start_update)\n",
    "df_current.set_value(pos, 'end', kern_end_update)\n",
    "df_current.set_value(pos, 'duration', kern_end_update - kern_start_update)\n",
    "#df_current_kern.start = kern_start_update \n",
    "#df_current_kern.end = kern_end_update\n",
    "#df_current_kern.duration = kern_end_update - kern_start_update\n",
    "\n",
    "\n",
    "found, pos = find_api_pos(cke1_api_list, \"d2h\", 1)  # find the 1st kern in the api list\n",
    "print(\"found : {}, pos : {}\".format(found, pos))\n",
    "\n",
    "df_current.set_value(pos, 'start', d2h_new_start)\n",
    "df_current.set_value(pos, 'end', df_current_d2h.end + d2h_delta)\n",
    "#df_current_d2h.start = d2h_new_start\n",
    "#df_current_d2h.end = df_current_d2h.end + d2h_delta"
   ]
  },
  {
   "cell_type": "code",
   "execution_count": null,
   "metadata": {
    "collapsed": false
   },
   "outputs": [],
   "source": [
    "df_cke_list[0]"
   ]
  },
  {
   "cell_type": "code",
   "execution_count": null,
   "metadata": {
    "collapsed": false
   },
   "outputs": [],
   "source": [
    "df_cke_list[1]"
   ]
  },
  {
   "cell_type": "markdown",
   "metadata": {},
   "source": [
    "### check whether d2h overlap"
   ]
  },
  {
   "cell_type": "code",
   "execution_count": null,
   "metadata": {
    "collapsed": false
   },
   "outputs": [],
   "source": [
    "prev_stm_d2h_start, prev_stm_d2h_end = find_d2h_timing(df_cke_list[0])\n",
    "print(\"prev stream d2h : {} - {}\".format(prev_stm_d2h_start, prev_stm_d2h_end))\n",
    "\n",
    "curr_stm_d2h_start, curr_stm_d2h_end = find_d2h_timing(df_cke_list[1])\n",
    "print(\"curr stream d2h : {} - {}\".format(curr_stm_d2h_start, curr_stm_d2h_end))"
   ]
  },
  {
   "cell_type": "code",
   "execution_count": null,
   "metadata": {
    "collapsed": false
   },
   "outputs": [],
   "source": [
    "if  prev_stm_d2h_start <= curr_stm_d2h_start < prev_stm_d2h_end:\n",
    "    d2h_ovlp_between_stream = True \n",
    "else:\n",
    "    d2h_ovlp_between_stream = False\n",
    "\n",
    "print(\"d2h_ovlp_between_stream : {}\".format(d2h_ovlp_between_stream))"
   ]
  }
 ],
 "metadata": {
  "kernelspec": {
   "display_name": "Python [conda root]",
   "language": "python",
   "name": "conda-root-py"
  },
  "language_info": {
   "codemirror_mode": {
    "name": "ipython",
    "version": 2
   },
   "file_extension": ".py",
   "mimetype": "text/x-python",
   "name": "python",
   "nbconvert_exporter": "python",
   "pygments_lexer": "ipython2",
   "version": "2.7.13"
  }
 },
 "nbformat": 4,
 "nbformat_minor": 2
}
