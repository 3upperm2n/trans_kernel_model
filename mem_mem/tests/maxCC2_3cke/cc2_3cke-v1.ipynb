{
 "cells": [
  {
   "cell_type": "markdown",
   "metadata": {
    "deletable": true,
    "editable": true
   },
   "source": [
    "scheme:\n",
    "\n",
    "* 1) for data transfer, pick 1st sleep api (h2d) fo stream-0, current cc = 1 (concurrency),\n",
    "* 2) check whether there is overalp with stream-\n",
    "* 2) if there is overlap, finish cc=1, start from cc++ (cc=2), predit the future ending time\n",
    "* 3) during the predicted ending time, check whether there is overlap with stream-2\n",
    "* 4) if there is overalap, finish cc=2, start from cc++ (cc=3), predict the future ending time\n",
    "* 5) go to step 3) , search through all the cuda streams\n",
    "* 6) for each time range, we need to find out how many apis have overlap and which-pair have conflicts or not"
   ]
  },
  {
   "cell_type": "code",
   "execution_count": 1,
   "metadata": {
    "collapsed": false,
    "deletable": true,
    "editable": true,
    "run_control": {
     "marked": false
    }
   },
   "outputs": [],
   "source": [
    "%load_ext autoreload\n",
    "%autoreload 2\n",
    "\n",
    "import warnings\n",
    "import pandas as pd\n",
    "import numpy as np\n",
    "import os\n",
    "import sys # error msg, add the modules\n",
    "import operator # sorting\n",
    "from math import *\n",
    "import matplotlib.pyplot as plt\n",
    "\n",
    "sys.path.append('../../')\n",
    "\n",
    "import cuda_timeline\n",
    "import read_trace\n",
    "import avgblk\n",
    "import cke\n",
    "from model_param import *\n",
    "\n",
    "warnings.filterwarnings(\"ignore\", category=np.VisibleDeprecationWarning)"
   ]
  },
  {
   "cell_type": "markdown",
   "metadata": {
    "deletable": true,
    "editable": true,
    "run_control": {
     "marked": false
    }
   },
   "source": [
    "# gpu info"
   ]
  },
  {
   "cell_type": "code",
   "execution_count": 2,
   "metadata": {
    "collapsed": false,
    "deletable": true,
    "editable": true,
    "run_control": {
     "marked": false
    }
   },
   "outputs": [],
   "source": [
    "gtx950 = DeviceInfo()\n",
    "gtx950.sm_num = 6\n",
    "gtx950.sharedmem_per_sm = 49152\n",
    "gtx950.reg_per_sm = 65536\n",
    "gtx950.maxthreads_per_sm = 2048"
   ]
  },
  {
   "cell_type": "code",
   "execution_count": 3,
   "metadata": {
    "collapsed": false,
    "deletable": true,
    "editable": true
   },
   "outputs": [],
   "source": [
    "# init SM resources\n",
    "SM_resList, SM_traceList = init_gpu(gtx950)"
   ]
  },
  {
   "cell_type": "code",
   "execution_count": 4,
   "metadata": {
    "collapsed": false,
    "deletable": true,
    "editable": true
   },
   "outputs": [],
   "source": [
    "#SM_resList[0]"
   ]
  },
  {
   "cell_type": "code",
   "execution_count": 5,
   "metadata": {
    "collapsed": false,
    "deletable": true,
    "editable": true
   },
   "outputs": [
    {
     "data": {
      "text/html": [
       "<div>\n",
       "<table border=\"1\" class=\"dataframe\">\n",
       "  <thead>\n",
       "    <tr style=\"text-align: right;\">\n",
       "      <th></th>\n",
       "      <th>sm_id</th>\n",
       "      <th>block_id</th>\n",
       "      <th>block_start</th>\n",
       "      <th>block_end</th>\n",
       "      <th>batch_id</th>\n",
       "      <th>kernel_id</th>\n",
       "      <th>active</th>\n",
       "    </tr>\n",
       "  </thead>\n",
       "  <tbody>\n",
       "  </tbody>\n",
       "</table>\n",
       "</div>"
      ],
      "text/plain": [
       "Empty DataFrame\n",
       "Columns: [sm_id, block_id, block_start, block_end, batch_id, kernel_id, active]\n",
       "Index: []"
      ]
     },
     "execution_count": 5,
     "metadata": {},
     "output_type": "execute_result"
    }
   ],
   "source": [
    "SM_traceList[0]"
   ]
  },
  {
   "cell_type": "markdown",
   "metadata": {
    "deletable": true,
    "editable": true
   },
   "source": [
    "# Understand the input"
   ]
  },
  {
   "cell_type": "code",
   "execution_count": 6,
   "metadata": {
    "collapsed": false,
    "deletable": true,
    "editable": true
   },
   "outputs": [],
   "source": [
    "trace_s1 = 'trace_s1_5m.csv'\n",
    "df_trace_s1 = read_trace.Trace2dataframe(trace_s1)\n",
    "\n",
    "trace_s3 = 'trace_s3_5m.csv'\n",
    "df_trace_s3 = read_trace.Trace2dataframe(trace_s3)"
   ]
  },
  {
   "cell_type": "code",
   "execution_count": 7,
   "metadata": {
    "collapsed": false,
    "deletable": true,
    "editable": true
   },
   "outputs": [],
   "source": [
    "#df_trace_s1"
   ]
  },
  {
   "cell_type": "code",
   "execution_count": 8,
   "metadata": {
    "collapsed": false,
    "deletable": true,
    "editable": true
   },
   "outputs": [
    {
     "name": "stderr",
     "output_type": "stream",
     "text": [
      "/Users/leiming/anaconda2/lib/python2.7/site-packages/matplotlib/axes/_base.py:1292: UnicodeWarning: Unicode equal comparison failed to convert both arguments to Unicode - interpreting them as being unequal\n",
      "  if aspect == 'normal':\n",
      "/Users/leiming/anaconda2/lib/python2.7/site-packages/matplotlib/axes/_base.py:1297: UnicodeWarning: Unicode equal comparison failed to convert both arguments to Unicode - interpreting them as being unequal\n",
      "  elif aspect in ('equal', 'auto'):\n"
     ]
    },
    {
     "data": {
      "image/png": "[encoded data removed]",
      "text/plain": [
       "<matplotlib.figure.Figure at 0x116ad2b10>"
      ]
     },
     "metadata": {},
     "output_type": "display_data"
    }
   ],
   "source": [
    "cuda_timeline.plot_trace(df_trace_s1)"
   ]
  },
  {
   "cell_type": "code",
   "execution_count": 9,
   "metadata": {
    "collapsed": false,
    "deletable": true,
    "editable": true
   },
   "outputs": [],
   "source": [
    "#cuda_timeline.plot_trace(df_trace_s2)"
   ]
  },
  {
   "cell_type": "code",
   "execution_count": 10,
   "metadata": {
    "collapsed": false,
    "deletable": true,
    "editable": true
   },
   "outputs": [
    {
     "data": {
      "image/png": "[encoded data removed]",
      "text/plain": [
       "<matplotlib.figure.Figure at 0x116ed2510>"
      ]
     },
     "metadata": {},
     "output_type": "display_data"
    }
   ],
   "source": [
    "cuda_timeline.plot_trace(df_trace_s3)"
   ]
  },
  {
   "cell_type": "markdown",
   "metadata": {
    "deletable": true,
    "editable": true
   },
   "source": [
    "# Kernel Info from the single stream"
   ]
  },
  {
   "cell_type": "code",
   "execution_count": 11,
   "metadata": {
    "collapsed": false,
    "deletable": true,
    "editable": true
   },
   "outputs": [
    {
     "name": "stdout",
     "output_type": "stream",
     "text": [
      "Kernel Info\n",
      "\t\tblockDim 256.0\n",
      "\t\tgridkDim 19532.0\n",
      "\t\tregs 28.0\n",
      "\t\tshared memory 0.0\n",
      "\t\truntime (ms) 11.914429\n",
      "\t\taverage block execution time (ms) 0.0292737813268\n",
      "\t\tstart time (ms) 0\n"
     ]
    }
   ],
   "source": [
    "# extract kernel info from trace\n",
    "# warning: currently lmted to one kernel\n",
    "\n",
    "kernel = read_trace.GetKernelInfo(df_trace_s1, gtx950)\n",
    "\n",
    "Dump_kernel_info(kernel)"
   ]
  },
  {
   "cell_type": "markdown",
   "metadata": {
    "deletable": true,
    "editable": true
   },
   "source": [
    "# model 3 cuda streams"
   ]
  },
  {
   "cell_type": "code",
   "execution_count": 12,
   "metadata": {
    "collapsed": false,
    "deletable": true,
    "editable": true
   },
   "outputs": [
    {
     "name": "stdout",
     "output_type": "stream",
     "text": [
      "Kernel Info\n",
      "\t\tblockDim 256.0\n",
      "\t\tgridkDim 19532.0\n",
      "\t\tregs 28.0\n",
      "\t\tshared memory 0.0\n",
      "\t\truntime (ms) 11.914429\n",
      "\t\taverage block execution time (ms) 0.0292737813268\n",
      "\t\tstart time (ms) 0\n"
     ]
    }
   ],
   "source": [
    "# for each stream, have a dd for each kernel\n",
    "stream_kernel_list = []\n",
    "\n",
    "stream_num = 3\n",
    "\n",
    "for sid in range(stream_num):\n",
    "    #print sid\n",
    "    # key will be the kernel order\n",
    "    # value will be the kernel info\n",
    "    kern_dd = {}\n",
    "    kern_dd[0] = Copy_kernel_info(kernel)\n",
    "    stream_kernel_list.append(kern_dd)\n",
    "    \n",
    "    \n",
    "Dump_kernel_info(stream_kernel_list[0][0])"
   ]
  },
  {
   "cell_type": "markdown",
   "metadata": {
    "deletable": true,
    "editable": true
   },
   "source": [
    "### start kernel from beginning"
   ]
  },
  {
   "cell_type": "code",
   "execution_count": 13,
   "metadata": {
    "collapsed": false,
    "deletable": true,
    "editable": true
   },
   "outputs": [],
   "source": [
    "df_s1_trace_timing = read_trace.Get_timing_from_trace(df_trace_s1)\n",
    "df_s1 = read_trace.Reset_starting(df_s1_trace_timing)"
   ]
  },
  {
   "cell_type": "code",
   "execution_count": 14,
   "metadata": {
    "collapsed": false,
    "deletable": true,
    "editable": true
   },
   "outputs": [
    {
     "data": {
      "text/html": [
       "<div>\n",
       "<table border=\"1\" class=\"dataframe\">\n",
       "  <thead>\n",
       "    <tr style=\"text-align: right;\">\n",
       "      <th></th>\n",
       "      <th>stream</th>\n",
       "      <th>api_type</th>\n",
       "      <th>start</th>\n",
       "      <th>end</th>\n",
       "      <th>size</th>\n",
       "      <th>duration</th>\n",
       "    </tr>\n",
       "  </thead>\n",
       "  <tbody>\n",
       "    <tr>\n",
       "      <th>0</th>\n",
       "      <td>0.0</td>\n",
       "      <td>h2d</td>\n",
       "      <td>0.000000</td>\n",
       "      <td>3.187298</td>\n",
       "      <td>19073.486</td>\n",
       "      <td>3.187298</td>\n",
       "    </tr>\n",
       "    <tr>\n",
       "      <th>1</th>\n",
       "      <td>0.0</td>\n",
       "      <td>h2d</td>\n",
       "      <td>3.188514</td>\n",
       "      <td>6.384227</td>\n",
       "      <td>19073.486</td>\n",
       "      <td>3.195713</td>\n",
       "    </tr>\n",
       "    <tr>\n",
       "      <th>2</th>\n",
       "      <td>0.0</td>\n",
       "      <td>kern</td>\n",
       "      <td>6.391203</td>\n",
       "      <td>18.305632</td>\n",
       "      <td>0.000</td>\n",
       "      <td>11.914429</td>\n",
       "    </tr>\n",
       "    <tr>\n",
       "      <th>3</th>\n",
       "      <td>0.0</td>\n",
       "      <td>d2h</td>\n",
       "      <td>18.311008</td>\n",
       "      <td>21.445857</td>\n",
       "      <td>19073.486</td>\n",
       "      <td>3.134849</td>\n",
       "    </tr>\n",
       "  </tbody>\n",
       "</table>\n",
       "</div>"
      ],
      "text/plain": [
       "   stream api_type      start        end       size   duration\n",
       "0     0.0      h2d   0.000000   3.187298  19073.486   3.187298\n",
       "1     0.0      h2d   3.188514   6.384227  19073.486   3.195713\n",
       "2     0.0     kern   6.391203  18.305632      0.000  11.914429\n",
       "3     0.0      d2h  18.311008  21.445857  19073.486   3.134849"
      ]
     },
     "execution_count": 14,
     "metadata": {},
     "output_type": "execute_result"
    }
   ],
   "source": [
    "df_s1"
   ]
  },
  {
   "cell_type": "markdown",
   "metadata": {
    "deletable": true,
    "editable": true
   },
   "source": [
    "### set the h2d start for all the cuda streams"
   ]
  },
  {
   "cell_type": "code",
   "execution_count": 15,
   "metadata": {
    "collapsed": false,
    "deletable": true,
    "editable": true
   },
   "outputs": [
    {
     "name": "stdout",
     "output_type": "stream",
     "text": [
      "stream_startTime : 3.160431\n",
      "stream_startTime : 6.320862\n"
     ]
    }
   ],
   "source": [
    "# find when to start the stream and update the starting pos for the trace\n",
    "H2D_H2D_OVLP_TH = 3.158431\n",
    "\n",
    "df_cke_list = cke.init_trace_list(df_s1, stream_num = stream_num, h2d_ovlp_th = H2D_H2D_OVLP_TH)"
   ]
  },
  {
   "cell_type": "code",
   "execution_count": 16,
   "metadata": {
    "collapsed": false,
    "deletable": true,
    "editable": true
   },
   "outputs": [],
   "source": [
    "#df_cke_list[0]"
   ]
  },
  {
   "cell_type": "code",
   "execution_count": 17,
   "metadata": {
    "collapsed": false,
    "deletable": true,
    "editable": true
   },
   "outputs": [],
   "source": [
    "#df_cke_list[1]"
   ]
  },
  {
   "cell_type": "code",
   "execution_count": 18,
   "metadata": {
    "collapsed": false,
    "deletable": true,
    "editable": true
   },
   "outputs": [],
   "source": [
    "#df_cke_list[2]"
   ]
  },
  {
   "cell_type": "markdown",
   "metadata": {
    "deletable": true,
    "editable": true
   },
   "source": [
    "### merge all the cuda stream trace together"
   ]
  },
  {
   "cell_type": "code",
   "execution_count": 19,
   "metadata": {
    "collapsed": true,
    "deletable": true,
    "editable": true
   },
   "outputs": [],
   "source": [
    "df_all_api = cke.init_sort_api_with_extra_cols(df_cke_list)"
   ]
  },
  {
   "cell_type": "code",
   "execution_count": 20,
   "metadata": {
    "collapsed": false,
    "deletable": true,
    "editable": true
   },
   "outputs": [],
   "source": [
    "#df_all_api"
   ]
  },
  {
   "cell_type": "markdown",
   "metadata": {
    "deletable": true,
    "editable": true
   },
   "source": [
    "### start algorithm"
   ]
  },
  {
   "cell_type": "code",
   "execution_count": 21,
   "metadata": {
    "collapsed": false,
    "deletable": true,
    "editable": true
   },
   "outputs": [
    {
     "name": "stdout",
     "output_type": "stream",
     "text": [
      "stream 0 : active_api None\n",
      "stream 1 : active_api None\n",
      "stream 2 : active_api None\n",
      "\n",
      "------------\n",
      "\n",
      " new round => row 0, stream-id 0.0\n",
      "stream 0 : active_api 0\n",
      "stream 1 : active_api None\n",
      "stream 2 : active_api None\n",
      "simPos 0.0\n",
      "=> pick row 4, stream-id 1.0\n",
      "current position : 3.160431\n",
      "stream 0 : active_api 0\n",
      "stream 1 : active_api None\n",
      "stream 2 : active_api None\n",
      "simPos 0.0  curPos 3.160431\n",
      "wake list [0] \n",
      "h2d_list : [0]\n",
      "d2h_list : []\n",
      "kern_list : []\n",
      "cc 1 for all the wake list\n",
      "stream 0 : active_api 0\n",
      "stream 1 : active_api 4\n",
      "stream 2 : active_api None\n",
      "stream 0 : active_api 0\n",
      "stream 1 : active_api 4\n",
      "stream 2 : active_api None\n",
      "=> pick row 1, stream-id 0.0\n",
      "current position : 3.188514\n",
      "stream 0 : active_api 0\n",
      "stream 1 : active_api 4\n",
      "stream 2 : active_api None\n",
      "end prev api call at row 0\n",
      "wake list [0, 4] \n",
      "2\n",
      "row 1, Updated current position : 3.215381\n",
      "move_wake_for_coming_call, wake list [4] \n",
      "stream 0 : active_api 1\n",
      "stream 1 : active_api 4\n",
      "stream 2 : active_api None\n",
      "stream 0 : active_api 1\n",
      "stream 1 : active_api 4\n",
      "stream 2 : active_api None\n",
      "simPos 3.215381  curPos 3.215381\n",
      "{0: 1, 1: 4, 2: None}\n",
      "\n",
      "------------\n",
      "\n",
      " new round => row 4, stream-id 1.0\n",
      "stream 0 : active_api 1\n",
      "stream 1 : active_api 4\n",
      "stream 2 : active_api None\n",
      "simPos 3.215381\n",
      "=> pick row 1, stream-id 0.0\n",
      "=> picked row 1 is already running. select next\n",
      "=> pick row 8, stream-id 2.0\n",
      "current position : 6.320862\n",
      "stream 0 : active_api 1\n",
      "stream 1 : active_api 4\n",
      "stream 2 : active_api None\n",
      "simPos 3.215381  curPos 6.320862\n",
      "wake list [4, 1] \n",
      "h2d_list : [4, 1]\n",
      "d2h_list : []\n",
      "kern_list : []\n",
      "cc 2 for all the wake list\n",
      "stream 0 : active_api 1\n",
      "stream 1 : active_api 4\n",
      "stream 2 : active_api 8\n",
      "stream 0 : active_api 1\n",
      "stream 1 : active_api 4\n",
      "stream 2 : active_api 8\n",
      "stream 0 : active_api 1\n",
      "stream 1 : active_api 4\n",
      "stream 2 : active_api 8\n",
      "simPos 6.320862  curPos 6.320862\n",
      "[4, 1, 8]\n",
      "row to end : 4, its stream 1.0\n",
      "next call after : 5\n",
      "wake list [4, 1, 8] \n",
      "3\n",
      "move_wake_for_coming_call, wake list [1, 8] \n",
      "{0: 1, 1: None, 2: 8}\n",
      "\n",
      "------------\n",
      "\n",
      " new round => row 1, stream-id 0.0\n",
      "stream 0 : active_api 1\n",
      "stream 1 : active_api None\n",
      "stream 2 : active_api 8\n",
      "simPos 11.1415015\n",
      "=> pick row 8, stream-id 2.0\n",
      "=> picked row 8 is already running. select next\n",
      "=> pick row 5, stream-id 1.0\n",
      "current position : 11.1415015\n",
      "stream 0 : active_api 1\n",
      "stream 1 : active_api None\n",
      "stream 2 : active_api 8\n",
      "simPos 11.1415015  curPos 11.1415015\n",
      "wake list [1, 8, 5] \n",
      "h2d_list : [1, 8, 5]\n",
      "d2h_list : []\n",
      "kern_list : []\n",
      "cc 3 for all the wake list\n",
      "stream 0 : active_api 1\n",
      "stream 1 : active_api 5\n",
      "stream 2 : active_api 8\n",
      "stream 0 : active_api 1\n",
      "stream 1 : active_api 5\n",
      "stream 2 : active_api 8\n",
      "stream 0 : active_api 1\n",
      "stream 1 : active_api 5\n",
      "stream 2 : active_api 8\n",
      "simPos 11.1415015  curPos 11.1415015\n",
      "[1, 8, 5]\n",
      "row to end : 1, its stream 0.0\n",
      "next call after : 2\n",
      "wake list [1, 8] \n",
      "2\n",
      "move_wake_for_coming_call, wake list [8, 5] \n",
      "{0: None, 1: 5, 2: 8}\n",
      "\n",
      "------------\n",
      "\n",
      " new round => row 8, stream-id 2.0\n",
      "stream 0 : active_api None\n",
      "stream 1 : active_api 5\n",
      "stream 2 : active_api 8\n",
      "simPos 11.2190415\n",
      "=> pick row 5, stream-id 1.0\n",
      "=> picked row 5 is already running. select next\n",
      "=> pick row 2, stream-id 0.0\n",
      "current position : 11.2190415\n",
      "stream 0 : active_api None\n",
      "stream 1 : active_api 5\n",
      "stream 2 : active_api 8\n",
      "simPos 11.2190415  curPos 11.2190415\n",
      "wake list [8, 5, 2] \n",
      "h2d_list : [8, 5]\n",
      "d2h_list : []\n",
      "kern_list : [2]\n",
      "cc 2 for all the wake list\n",
      "stream 0 : active_api 2\n",
      "stream 1 : active_api 5\n",
      "stream 2 : active_api 8\n"
     ]
    },
    {
     "name": "stderr",
     "output_type": "stream",
     "text": [
      "kernel model no accomplished yet!"
     ]
    }
   ],
   "source": [
    "simPos = 0.0\n",
    "more_streams = stream_num - 1\n",
    "\n",
    "active_stream_dd = {}\n",
    "for s in range(stream_num):\n",
    "    active_stream_dd[s] = None\n",
    "\n",
    "Dump_dd(active_stream_dd)\n",
    "\n",
    "\n",
    "round_count = 1\n",
    "while not cke.AllDone(df_all_api):\n",
    "    \n",
    "    #if round_count == 3: break\n",
    "        \n",
    "    df_all_api, r1, r1_stream = cke.pick_base_call(df_all_api)\n",
    "    #\n",
    "    # wake it up if r1 is in sleep\n",
    "    if GetInfo(df_all_api, r1, 'status') == 'sleep': df_all_api = SetWake(df_all_api, r1)\n",
    "    #\n",
    "    # if r1 no in the pool add it\n",
    "    if active_stream_dd[r1_stream] == None: active_stream_dd[r1_stream] = r1\n",
    "    print('\\n------------\\n\\n new round => row {}, stream-id {}'.format(r1, r1_stream))\n",
    "    \n",
    "    Dump_dd(active_stream_dd)\n",
    "    \n",
    "    \n",
    "    print('simPos {}'.format(simPos))\n",
    "    \n",
    "    #if round_count == 4: break\n",
    "    \n",
    "    #\n",
    "    # simulation position: simPos should be ahead of r1_start for wake call\n",
    "    #r1_start = GetInfo(df_all_api, r1, 'start')\n",
    "    #if r1_start >= simPos: simPos = r1_start\n",
    "    #print('simulation position : {}'.format(simPos))\n",
    "    \n",
    "    #if round_count == 2: break\n",
    "    \n",
    "    prev_row = r1\n",
    "    \n",
    "    for i in range(0, more_streams):\n",
    "        \n",
    "        #if round_count == 4 and i == 0: break\n",
    "        \n",
    "        df_all_api, r2, r2_stream = cke.start_next_call(df_all_api, prev_row)\n",
    "        print('=> pick row {}, stream-id {}'.format(r2, r2_stream))\n",
    "        \n",
    "        #if round_count == 4 and i == 1: break\n",
    "            \n",
    "        #\n",
    "        # check r2 is already running, if yes,continue to pick next\n",
    "        if active_stream_dd[r2_stream] == r2: \n",
    "            print('=> picked row {} is already running. select next'.format(r2))\n",
    "            prev_row = r2\n",
    "            #if round_count == 4 and i == 0: break\n",
    "            continue\n",
    "            \n",
    "        #if round_count == 3 and i == 0: break\n",
    "        #if round_count == 2: break\n",
    "        \n",
    "        \n",
    "        # current position\n",
    "        curPos = GetInfo(df_all_api, r2, 'start')\n",
    "        print('current position : {}'.format(curPos))\n",
    "        \n",
    "        Dump_dd(active_stream_dd)\n",
    "        \n",
    "        #if round_count == 4 and i == 1: break    \n",
    "        #if round == 2 and i == 0: break\n",
    "\n",
    "        \n",
    "        \n",
    "        \n",
    "        if active_stream_dd[r2_stream] == None:\n",
    "            active_stream_dd[r2_stream] = r2        \n",
    "            # update trace during the range\n",
    "            print('simPos {}  curPos {}'.format(simPos, curPos))\n",
    "            \n",
    "            df_all_api = cke.update_by_range(df_all_api, simPos, curPos)\n",
    "            \n",
    "            Dump_dd(active_stream_dd)\n",
    "            \n",
    "            if round_count == 4 and i == 1: break\n",
    "                             \n",
    "        else:\n",
    "            #\n",
    "            # there is stream api ahead, find out which call and terminate it\n",
    "            row_2nd = Find_prevapi_samestream(df_all_api, r2, r2_stream)\n",
    "            print('end prev api call at row {}'.format(row_2nd))\n",
    "            \n",
    "            #if round_count == 1 and i == 1: break\n",
    "                \n",
    "                \n",
    "            #\n",
    "            # end the target row, update the bytes for other call\n",
    "            df_all_api = cke.end_target_row(df_all_api, row_2nd, simPos, curPos)\n",
    "            #\n",
    "            # update curPos, since r2 start has been shifted right\n",
    "            curPos = GetInfo(df_all_api, r2, 'start')\n",
    "            df_all_api = UpdateCell(df_all_api, r2, 'current_pos', curPos)\n",
    "            print('row {}, Updated current position : {}'.format(r2, curPos))\n",
    "            \n",
    "            #if round_count == 1 and i == 1: break\n",
    "                \n",
    "            #\n",
    "            # assume there is no ovlp between row_2nd end and r2_start\n",
    "            row2nd_end = GetInfo(df_all_api, row_2nd, 'end')\n",
    "            df_all_api = cke.move_wake_for_coming_call(df_all_api, row2nd_end, curPos)\n",
    "            #\n",
    "            # update the count for active stream pool: remove row2nd, add r2 to the pool\n",
    "            active_stream_dd[r2_stream] = r2\n",
    "            #Dump_dd(active_stream_dd)\n",
    "            \n",
    "            #if round_count == 1 and i == 1: break\n",
    "            \n",
    "        #\n",
    "        # shift right\n",
    "        simPos = curPos\n",
    "        #\n",
    "        # update prev_row\n",
    "        prev_row = r2\n",
    "        \n",
    "        #\n",
    "        # dump active dd\n",
    "        Dump_dd(active_stream_dd)\n",
    "        \n",
    "        #if i == 0: break\n",
    "        #if round_count == 3 and i == 1: break\n",
    "    \n",
    "    if round_count == 4: break\n",
    "        \n",
    "    #\n",
    "    # end of For loop\n",
    "    # dump active dd\n",
    "    Dump_dd(active_stream_dd)\n",
    "    print('simPos {}  curPos {}'.format(simPos, curPos))\n",
    "    \n",
    "    #\n",
    "    #\n",
    "    # check whether the active pool is full, if yes, terminate the api that ends soon\n",
    "    df_all_api, active_stream_dd, simPos = cke.check_activestream_and_update(df_all_api, active_stream_dd, simPos)\n",
    "    \n",
    "    print active_stream_dd\n",
    "    \n",
    "    if round_count == 4: break\n",
    "        \n",
    "    round_count += 1"
   ]
  },
  {
   "cell_type": "code",
   "execution_count": 22,
   "metadata": {
    "collapsed": false,
    "deletable": true,
    "editable": true
   },
   "outputs": [
    {
     "data": {
      "text/html": [
       "<div>\n",
       "<table border=\"1\" class=\"dataframe\">\n",
       "  <thead>\n",
       "    <tr style=\"text-align: right;\">\n",
       "      <th></th>\n",
       "      <th>start</th>\n",
       "      <th>end</th>\n",
       "      <th>api_type</th>\n",
       "      <th>size_kb</th>\n",
       "      <th>stream_id</th>\n",
       "      <th>status</th>\n",
       "      <th>bw</th>\n",
       "      <th>bytes_done</th>\n",
       "      <th>bytes_left</th>\n",
       "      <th>current_pos</th>\n",
       "      <th>pred_end</th>\n",
       "    </tr>\n",
       "  </thead>\n",
       "  <tbody>\n",
       "    <tr>\n",
       "      <th>0</th>\n",
       "      <td>0.000000</td>\n",
       "      <td>3.214165</td>\n",
       "      <td>h2d</td>\n",
       "      <td>19073.486</td>\n",
       "      <td>0.0</td>\n",
       "      <td>done</td>\n",
       "      <td>5984.217980</td>\n",
       "      <td>19073.486000</td>\n",
       "      <td>0.000000</td>\n",
       "      <td>3.214165</td>\n",
       "      <td>3.214165</td>\n",
       "    </tr>\n",
       "    <tr>\n",
       "      <th>4</th>\n",
       "      <td>3.160431</td>\n",
       "      <td>11.140286</td>\n",
       "      <td>h2d</td>\n",
       "      <td>19073.486</td>\n",
       "      <td>1.0</td>\n",
       "      <td>done</td>\n",
       "      <td>5984.217980</td>\n",
       "      <td>19073.486000</td>\n",
       "      <td>0.000000</td>\n",
       "      <td>11.140286</td>\n",
       "      <td>11.140286</td>\n",
       "    </tr>\n",
       "    <tr>\n",
       "      <th>1</th>\n",
       "      <td>3.215381</td>\n",
       "      <td>11.212066</td>\n",
       "      <td>h2d</td>\n",
       "      <td>19073.486</td>\n",
       "      <td>0.0</td>\n",
       "      <td>done</td>\n",
       "      <td>5968.460247</td>\n",
       "      <td>19073.486000</td>\n",
       "      <td>0.000000</td>\n",
       "      <td>11.212066</td>\n",
       "      <td>11.212066</td>\n",
       "    </tr>\n",
       "    <tr>\n",
       "      <th>8</th>\n",
       "      <td>6.320862</td>\n",
       "      <td>9.508160</td>\n",
       "      <td>h2d</td>\n",
       "      <td>19073.486</td>\n",
       "      <td>2.0</td>\n",
       "      <td>wake</td>\n",
       "      <td>5984.217980</td>\n",
       "      <td>9705.596687</td>\n",
       "      <td>9199.834520</td>\n",
       "      <td>11.219042</td>\n",
       "      <td>12.756391</td>\n",
       "    </tr>\n",
       "    <tr>\n",
       "      <th>5</th>\n",
       "      <td>11.141502</td>\n",
       "      <td>14.337215</td>\n",
       "      <td>h2d</td>\n",
       "      <td>19073.486</td>\n",
       "      <td>1.0</td>\n",
       "      <td>wake</td>\n",
       "      <td>5968.460247</td>\n",
       "      <td>41.635979</td>\n",
       "      <td>19031.850021</td>\n",
       "      <td>11.219042</td>\n",
       "      <td>14.337215</td>\n",
       "    </tr>\n",
       "    <tr>\n",
       "      <th>2</th>\n",
       "      <td>11.219042</td>\n",
       "      <td>23.133471</td>\n",
       "      <td>kern</td>\n",
       "      <td>0.000</td>\n",
       "      <td>0.0</td>\n",
       "      <td>wake</td>\n",
       "      <td>0.000000</td>\n",
       "      <td>0.000000</td>\n",
       "      <td>0.000000</td>\n",
       "      <td>11.219042</td>\n",
       "      <td>23.133471</td>\n",
       "    </tr>\n",
       "    <tr>\n",
       "      <th>9</th>\n",
       "      <td>9.509376</td>\n",
       "      <td>12.705089</td>\n",
       "      <td>h2d</td>\n",
       "      <td>19073.486</td>\n",
       "      <td>2.0</td>\n",
       "      <td>sleep</td>\n",
       "      <td>5968.460247</td>\n",
       "      <td>0.000000</td>\n",
       "      <td>19073.486000</td>\n",
       "      <td>0.000000</td>\n",
       "      <td>0.000000</td>\n",
       "    </tr>\n",
       "    <tr>\n",
       "      <th>6</th>\n",
       "      <td>14.344191</td>\n",
       "      <td>26.258620</td>\n",
       "      <td>kern</td>\n",
       "      <td>0.000</td>\n",
       "      <td>1.0</td>\n",
       "      <td>sleep</td>\n",
       "      <td>0.000000</td>\n",
       "      <td>0.000000</td>\n",
       "      <td>0.000000</td>\n",
       "      <td>0.000000</td>\n",
       "      <td>26.258620</td>\n",
       "    </tr>\n",
       "    <tr>\n",
       "      <th>10</th>\n",
       "      <td>12.712065</td>\n",
       "      <td>24.626494</td>\n",
       "      <td>kern</td>\n",
       "      <td>0.000</td>\n",
       "      <td>2.0</td>\n",
       "      <td>sleep</td>\n",
       "      <td>0.000000</td>\n",
       "      <td>0.000000</td>\n",
       "      <td>0.000000</td>\n",
       "      <td>0.000000</td>\n",
       "      <td>0.000000</td>\n",
       "    </tr>\n",
       "    <tr>\n",
       "      <th>3</th>\n",
       "      <td>23.138847</td>\n",
       "      <td>26.273696</td>\n",
       "      <td>d2h</td>\n",
       "      <td>19073.486</td>\n",
       "      <td>0.0</td>\n",
       "      <td>sleep</td>\n",
       "      <td>6084.339628</td>\n",
       "      <td>0.000000</td>\n",
       "      <td>19073.486000</td>\n",
       "      <td>0.000000</td>\n",
       "      <td>26.273696</td>\n",
       "    </tr>\n",
       "    <tr>\n",
       "      <th>7</th>\n",
       "      <td>26.263996</td>\n",
       "      <td>29.398845</td>\n",
       "      <td>d2h</td>\n",
       "      <td>19073.486</td>\n",
       "      <td>1.0</td>\n",
       "      <td>sleep</td>\n",
       "      <td>6084.339628</td>\n",
       "      <td>0.000000</td>\n",
       "      <td>19073.486000</td>\n",
       "      <td>0.000000</td>\n",
       "      <td>29.398845</td>\n",
       "    </tr>\n",
       "    <tr>\n",
       "      <th>11</th>\n",
       "      <td>24.631870</td>\n",
       "      <td>27.766719</td>\n",
       "      <td>d2h</td>\n",
       "      <td>19073.486</td>\n",
       "      <td>2.0</td>\n",
       "      <td>sleep</td>\n",
       "      <td>6084.339628</td>\n",
       "      <td>0.000000</td>\n",
       "      <td>19073.486000</td>\n",
       "      <td>0.000000</td>\n",
       "      <td>0.000000</td>\n",
       "    </tr>\n",
       "  </tbody>\n",
       "</table>\n",
       "</div>"
      ],
      "text/plain": [
       "        start        end api_type    size_kb  stream_id status           bw  \\\n",
       "0    0.000000   3.214165      h2d  19073.486        0.0   done  5984.217980   \n",
       "4    3.160431  11.140286      h2d  19073.486        1.0   done  5984.217980   \n",
       "1    3.215381  11.212066      h2d  19073.486        0.0   done  5968.460247   \n",
       "8    6.320862   9.508160      h2d  19073.486        2.0   wake  5984.217980   \n",
       "5   11.141502  14.337215      h2d  19073.486        1.0   wake  5968.460247   \n",
       "2   11.219042  23.133471     kern      0.000        0.0   wake     0.000000   \n",
       "9    9.509376  12.705089      h2d  19073.486        2.0  sleep  5968.460247   \n",
       "6   14.344191  26.258620     kern      0.000        1.0  sleep     0.000000   \n",
       "10  12.712065  24.626494     kern      0.000        2.0  sleep     0.000000   \n",
       "3   23.138847  26.273696      d2h  19073.486        0.0  sleep  6084.339628   \n",
       "7   26.263996  29.398845      d2h  19073.486        1.0  sleep  6084.339628   \n",
       "11  24.631870  27.766719      d2h  19073.486        2.0  sleep  6084.339628   \n",
       "\n",
       "      bytes_done    bytes_left  current_pos   pred_end  \n",
       "0   19073.486000      0.000000     3.214165   3.214165  \n",
       "4   19073.486000      0.000000    11.140286  11.140286  \n",
       "1   19073.486000      0.000000    11.212066  11.212066  \n",
       "8    9705.596687   9199.834520    11.219042  12.756391  \n",
       "5      41.635979  19031.850021    11.219042  14.337215  \n",
       "2       0.000000      0.000000    11.219042  23.133471  \n",
       "9       0.000000  19073.486000     0.000000   0.000000  \n",
       "6       0.000000      0.000000     0.000000  26.258620  \n",
       "10      0.000000      0.000000     0.000000   0.000000  \n",
       "3       0.000000  19073.486000     0.000000  26.273696  \n",
       "7       0.000000  19073.486000     0.000000  29.398845  \n",
       "11      0.000000  19073.486000     0.000000   0.000000  "
      ]
     },
     "execution_count": 22,
     "metadata": {},
     "output_type": "execute_result"
    }
   ],
   "source": [
    "df_all_api"
   ]
  },
  {
   "cell_type": "code",
   "execution_count": 23,
   "metadata": {
    "collapsed": true,
    "deletable": true,
    "editable": true
   },
   "outputs": [],
   "source": [
    "#\n",
    "# run above\n",
    "# "
   ]
  }
 ],
 "metadata": {
  "kernelspec": {
   "display_name": "Python [conda root]",
   "language": "python",
   "name": "conda-root-py"
  },
  "language_info": {
   "codemirror_mode": {
    "name": "ipython",
    "version": 2
   },
   "file_extension": ".py",
   "mimetype": "text/x-python",
   "name": "python",
   "nbconvert_exporter": "python",
   "pygments_lexer": "ipython2",
   "version": "2.7.13"
  }
 },
 "nbformat": 4,
 "nbformat_minor": 2
}
