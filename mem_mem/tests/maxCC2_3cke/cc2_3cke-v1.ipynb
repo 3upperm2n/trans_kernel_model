{
 "cells": [
  {
   "cell_type": "markdown",
   "metadata": {
    "deletable": true,
    "editable": true
   },
   "source": [
    "scheme:\n",
    "\n",
    "* 1) for data transfer, pick 1st sleep api (h2d) fo stream-0, current cc = 1 (concurrency),\n",
    "* 2) check whether there is overalp with stream-\n",
    "* 2) if there is overlap, finish cc=1, start from cc++ (cc=2), predit the future ending time\n",
    "* 3) during the predicted ending time, check whether there is overlap with stream-2\n",
    "* 4) if there is overalap, finish cc=2, start from cc++ (cc=3), predict the future ending time\n",
    "* 5) go to step 3) , search through all the cuda streams\n",
    "* 6) for each time range, we need to find out how many apis have overlap and which-pair have conflicts or not"
   ]
  },
  {
   "cell_type": "code",
   "execution_count": 1,
   "metadata": {
    "collapsed": false,
    "deletable": true,
    "editable": true,
    "run_control": {
     "marked": false
    }
   },
   "outputs": [
    {
     "ename": "SyntaxError",
     "evalue": "invalid syntax (model_param.py, line 145)",
     "output_type": "error",
     "traceback": [
      "\u001b[0;36m  File \u001b[0;32m\"../../model_param.py\"\u001b[0;36m, line \u001b[0;32m145\u001b[0m\n\u001b[0;31m    def GetKernelInfoAndTag(df, row, stream_kernel_list)\u001b[0m\n\u001b[0m                                                        ^\u001b[0m\n\u001b[0;31mSyntaxError\u001b[0m\u001b[0;31m:\u001b[0m invalid syntax\n"
     ]
    }
   ],
   "source": [
    "%load_ext autoreload\n",
    "%autoreload 2\n",
    "\n",
    "import warnings\n",
    "import pandas as pd\n",
    "import numpy as np\n",
    "import os\n",
    "import sys # error msg, add the modules\n",
    "import operator # sorting\n",
    "from math import *\n",
    "import matplotlib.pyplot as plt\n",
    "\n",
    "sys.path.append('../../')\n",
    "\n",
    "import cuda_timeline\n",
    "import read_trace\n",
    "import avgblk\n",
    "import cke\n",
    "from model_param import *\n",
    "\n",
    "warnings.filterwarnings(\"ignore\", category=np.VisibleDeprecationWarning)"
   ]
  },
  {
   "cell_type": "markdown",
   "metadata": {
    "deletable": true,
    "editable": true,
    "run_control": {
     "marked": false
    }
   },
   "source": [
    "# gpu info"
   ]
  },
  {
   "cell_type": "code",
   "execution_count": null,
   "metadata": {
    "collapsed": false,
    "deletable": true,
    "editable": true,
    "run_control": {
     "marked": false
    }
   },
   "outputs": [],
   "source": [
    "gtx950 = DeviceInfo()\n",
    "gtx950.sm_num = 6\n",
    "gtx950.sharedmem_per_sm = 49152\n",
    "gtx950.reg_per_sm = 65536\n",
    "gtx950.maxthreads_per_sm = 2048"
   ]
  },
  {
   "cell_type": "markdown",
   "metadata": {
    "deletable": true,
    "editable": true
   },
   "source": [
    "### sm resource list and sm trace list"
   ]
  },
  {
   "cell_type": "code",
   "execution_count": null,
   "metadata": {
    "collapsed": false,
    "deletable": true,
    "editable": true
   },
   "outputs": [],
   "source": [
    "# init SM resources\n",
    "SM_resList, SM_traceList = init_gpu(gtx950)"
   ]
  },
  {
   "cell_type": "code",
   "execution_count": null,
   "metadata": {
    "collapsed": false,
    "deletable": true,
    "editable": true
   },
   "outputs": [],
   "source": [
    "SM_resList[0]"
   ]
  },
  {
   "cell_type": "code",
   "execution_count": null,
   "metadata": {
    "collapsed": false,
    "deletable": true,
    "editable": true
   },
   "outputs": [],
   "source": [
    "SM_traceList[0]"
   ]
  },
  {
   "cell_type": "markdown",
   "metadata": {
    "deletable": true,
    "editable": true
   },
   "source": [
    "# Understand the input"
   ]
  },
  {
   "cell_type": "code",
   "execution_count": null,
   "metadata": {
    "collapsed": false,
    "deletable": true,
    "editable": true
   },
   "outputs": [],
   "source": [
    "trace_s1 = 'trace_s1_5m.csv'\n",
    "df_trace_s1 = read_trace.Trace2dataframe(trace_s1)\n",
    "\n",
    "trace_s3 = 'trace_s3_5m.csv'\n",
    "df_trace_s3 = read_trace.Trace2dataframe(trace_s3)"
   ]
  },
  {
   "cell_type": "code",
   "execution_count": null,
   "metadata": {
    "collapsed": false,
    "deletable": true,
    "editable": true
   },
   "outputs": [],
   "source": [
    "#df_trace_s1"
   ]
  },
  {
   "cell_type": "code",
   "execution_count": null,
   "metadata": {
    "collapsed": false,
    "deletable": true,
    "editable": true
   },
   "outputs": [],
   "source": [
    "cuda_timeline.plot_trace(df_trace_s1)"
   ]
  },
  {
   "cell_type": "code",
   "execution_count": null,
   "metadata": {
    "collapsed": false,
    "deletable": true,
    "editable": true
   },
   "outputs": [],
   "source": [
    "#cuda_timeline.plot_trace(df_trace_s2)"
   ]
  },
  {
   "cell_type": "code",
   "execution_count": null,
   "metadata": {
    "collapsed": false,
    "deletable": true,
    "editable": true
   },
   "outputs": [],
   "source": [
    "cuda_timeline.plot_trace(df_trace_s3)"
   ]
  },
  {
   "cell_type": "markdown",
   "metadata": {
    "deletable": true,
    "editable": true
   },
   "source": [
    "# Kernel Info from the single stream"
   ]
  },
  {
   "cell_type": "code",
   "execution_count": null,
   "metadata": {
    "collapsed": false,
    "deletable": true,
    "editable": true
   },
   "outputs": [],
   "source": [
    "# extract kernel info from trace\n",
    "# warning: currently lmted to one kernel\n",
    "\n",
    "kernel = read_trace.GetKernelInfo(df_trace_s1, gtx950)\n",
    "\n",
    "Dump_kernel_info(kernel)"
   ]
  },
  {
   "cell_type": "markdown",
   "metadata": {
    "deletable": true,
    "editable": true
   },
   "source": [
    "# set up cuda stream kernels"
   ]
  },
  {
   "cell_type": "code",
   "execution_count": null,
   "metadata": {
    "collapsed": false,
    "deletable": true,
    "editable": true
   },
   "outputs": [],
   "source": [
    "# for each stream, have a dd for each kernel\n",
    "stream_kernel_list = []\n",
    "\n",
    "stream_num = 3\n",
    "\n",
    "for sid in range(stream_num):\n",
    "    #print sid\n",
    "    # key will be the kernel order\n",
    "    # value will be the kernel info\n",
    "    kern_dd = {}\n",
    "    kern_dd[0] = Copy_kernel_info(kernel)\n",
    "    stream_kernel_list.append(kern_dd)\n",
    "    \n",
    "    \n",
    "Dump_kernel_info(stream_kernel_list[0][0])"
   ]
  },
  {
   "cell_type": "markdown",
   "metadata": {
    "deletable": true,
    "editable": true
   },
   "source": [
    "### start kernel from beginning"
   ]
  },
  {
   "cell_type": "code",
   "execution_count": null,
   "metadata": {
    "collapsed": false,
    "deletable": true,
    "editable": true
   },
   "outputs": [],
   "source": [
    "df_s1_trace_timing = read_trace.Get_timing_from_trace(df_trace_s1)\n",
    "df_s1 = read_trace.Reset_starting(df_s1_trace_timing)"
   ]
  },
  {
   "cell_type": "code",
   "execution_count": null,
   "metadata": {
    "collapsed": false,
    "deletable": true,
    "editable": true
   },
   "outputs": [],
   "source": [
    "df_s1"
   ]
  },
  {
   "cell_type": "markdown",
   "metadata": {
    "deletable": true,
    "editable": true
   },
   "source": [
    "### set the h2d start for all the cuda streams"
   ]
  },
  {
   "cell_type": "code",
   "execution_count": null,
   "metadata": {
    "collapsed": false,
    "deletable": true,
    "editable": true
   },
   "outputs": [],
   "source": [
    "# find when to start the stream and update the starting pos for the trace\n",
    "H2D_H2D_OVLP_TH = 3.158431\n",
    "\n",
    "df_cke_list = cke.init_trace_list(df_s1, stream_num = stream_num, h2d_ovlp_th = H2D_H2D_OVLP_TH)"
   ]
  },
  {
   "cell_type": "code",
   "execution_count": null,
   "metadata": {
    "collapsed": false,
    "deletable": true,
    "editable": true
   },
   "outputs": [],
   "source": [
    "#df_cke_list[0]"
   ]
  },
  {
   "cell_type": "code",
   "execution_count": null,
   "metadata": {
    "collapsed": false,
    "deletable": true,
    "editable": true
   },
   "outputs": [],
   "source": [
    "#df_cke_list[1]"
   ]
  },
  {
   "cell_type": "code",
   "execution_count": null,
   "metadata": {
    "collapsed": false,
    "deletable": true,
    "editable": true
   },
   "outputs": [],
   "source": [
    "#df_cke_list[2]"
   ]
  },
  {
   "cell_type": "markdown",
   "metadata": {
    "deletable": true,
    "editable": true
   },
   "source": [
    "### merge all the cuda stream trace together"
   ]
  },
  {
   "cell_type": "code",
   "execution_count": null,
   "metadata": {
    "collapsed": true,
    "deletable": true,
    "editable": true
   },
   "outputs": [],
   "source": [
    "df_all_api = cke.init_sort_api_with_extra_cols(df_cke_list)"
   ]
  },
  {
   "cell_type": "code",
   "execution_count": null,
   "metadata": {
    "collapsed": false,
    "deletable": true,
    "editable": true
   },
   "outputs": [],
   "source": [
    "df_all_api"
   ]
  },
  {
   "cell_type": "markdown",
   "metadata": {
    "deletable": true,
    "editable": true
   },
   "source": [
    "### start algorithm"
   ]
  },
  {
   "cell_type": "code",
   "execution_count": null,
   "metadata": {
    "collapsed": false,
    "deletable": true,
    "editable": true
   },
   "outputs": [],
   "source": [
    "simPos = 0.0\n",
    "more_streams = stream_num - 1\n",
    "\n",
    "active_stream_dd = {}\n",
    "for s in range(stream_num):\n",
    "    active_stream_dd[s] = None\n",
    "\n",
    "Dump_dd(active_stream_dd)\n",
    "\n",
    "\n",
    "round_count = 1\n",
    "while not cke.AllDone(df_all_api):\n",
    "    \n",
    "    #if round_count == 3: break\n",
    "        \n",
    "    df_all_api, r1, r1_stream = cke.pick_base_call(df_all_api)\n",
    "    #\n",
    "    # wake it up if r1 is in sleep\n",
    "    if GetInfo(df_all_api, r1, 'status') == 'sleep': df_all_api = SetWake(df_all_api, r1)\n",
    "    #\n",
    "    # if r1 no in the pool add it\n",
    "    if active_stream_dd[r1_stream] == None: active_stream_dd[r1_stream] = r1\n",
    "    print('\\n------------\\n\\n new round => row {}, stream-id {}'.format(r1, r1_stream))\n",
    "    \n",
    "    Dump_dd(active_stream_dd)\n",
    "    \n",
    "    \n",
    "    print('simPos {}'.format(simPos))\n",
    "    \n",
    "    #if round_count == 6: break\n",
    "    \n",
    "    #\n",
    "    # simulation position: simPos should be ahead of r1_start for wake call\n",
    "    #r1_start = GetInfo(df_all_api, r1, 'start')\n",
    "    #if r1_start >= simPos: simPos = r1_start\n",
    "    #print('simulation position : {}'.format(simPos))\n",
    "    \n",
    "    #if round_count == 2: break\n",
    "    \n",
    "    prev_row = r1\n",
    "    \n",
    "    for i in range(0, more_streams):\n",
    "        \n",
    "        #if round_count == 4 and i == 0: break\n",
    "        \n",
    "        df_all_api, r2, r2_stream = cke.start_next_call(df_all_api, prev_row)\n",
    "        print('=> pick row {}, stream-id {}'.format(r2, r2_stream))\n",
    "        \n",
    "        #if round_count == 6 and i == 1: break\n",
    "            \n",
    "        #\n",
    "        # check r2 is already running, if yes,continue to pick next\n",
    "        if active_stream_dd[r2_stream] == r2: \n",
    "            print('=> picked row {} is already running. select next'.format(r2))\n",
    "            prev_row = r2\n",
    "            #if round_count == 6 and i == 0: break\n",
    "            continue\n",
    "            \n",
    "        #if round_count == 3 and i == 0: break\n",
    "        #if round_count == 2: break\n",
    "        \n",
    "        \n",
    "        # current position\n",
    "        curPos = GetInfo(df_all_api, r2, 'start')\n",
    "        print('current position : {}'.format(curPos))\n",
    "        \n",
    "        Dump_dd(active_stream_dd)\n",
    "        \n",
    "        #if round_count == 5 and i == 1: break    \n",
    "        #if round == 2 and i == 0: break\n",
    "\n",
    "        \n",
    "        if active_stream_dd[r2_stream] == None:\n",
    "            active_stream_dd[r2_stream] = r2        \n",
    "            # update trace during the range\n",
    "            print('simPos {}  curPos {}'.format(simPos, curPos))\n",
    "            \n",
    "            df_all_api,SM_resList, SM_traceList = cke.update_by_range(df_all_api, simPos, curPos,\n",
    "                                                                      gtx950,\n",
    "                                                                      SM_resList, SM_traceList,\n",
    "                                                                      stream_kernel_list)\n",
    "            #\n",
    "            # find the kernel execution time from the sm trace table\n",
    "            #result_kernel_runtime_dd = avgblk.Get_KernTime(SM_traceList)\n",
    "            #print result_kernel_runtime_dd\n",
    "\n",
    "        \n",
    "            Dump_dd(active_stream_dd)\n",
    "            \n",
    "            if round_count == 6 and i == 1: break\n",
    "                             \n",
    "        else:\n",
    "            #\n",
    "            # there is stream api ahead, find out which call and terminate it\n",
    "            row_2nd = Find_prevapi_samestream(df_all_api, r2, r2_stream)\n",
    "            print('end prev api call at row {}'.format(row_2nd))\n",
    "            \n",
    "            #if round_count == 1 and i == 1: break\n",
    "                \n",
    "                \n",
    "            #\n",
    "            # end the target row, update the bytes for other call\n",
    "            df_all_api = cke.end_target_row(df_all_api, row_2nd, simPos, curPos)\n",
    "            #\n",
    "            # update curPos, since r2 start has been shifted right\n",
    "            curPos = GetInfo(df_all_api, r2, 'start')\n",
    "            df_all_api = UpdateCell(df_all_api, r2, 'current_pos', curPos)\n",
    "            print('row {}, Updated current position : {}'.format(r2, curPos))\n",
    "            \n",
    "            #if round_count == 1 and i == 1: break\n",
    "                \n",
    "            #\n",
    "            # assume there is no ovlp between row_2nd end and r2_start\n",
    "            row2nd_end = GetInfo(df_all_api, row_2nd, 'end')\n",
    "            df_all_api = cke.move_wake_for_coming_call(df_all_api, row2nd_end, curPos)\n",
    "            #\n",
    "            # update the count for active stream pool: remove row2nd, add r2 to the pool\n",
    "            active_stream_dd[r2_stream] = r2\n",
    "            #Dump_dd(active_stream_dd)\n",
    "            \n",
    "            #if round_count == 1 and i == 1: break\n",
    "            \n",
    "        #\n",
    "        # shift right\n",
    "        simPos = curPos\n",
    "        #\n",
    "        # update prev_row\n",
    "        prev_row = r2\n",
    "        \n",
    "        #\n",
    "        # dump active dd\n",
    "        #Dump_dd(active_stream_dd)\n",
    "        \n",
    "        #if i == 0: break\n",
    "        if round_count == 6 and i == 1: break\n",
    "    \n",
    "    if round_count == 6: break\n",
    "        \n",
    "    #\n",
    "    # end of For loop\n",
    "    # dump active dd\n",
    "    Dump_dd(active_stream_dd)\n",
    "    print('simPos {}  curPos {}'.format(simPos, curPos))\n",
    "    \n",
    "    \n",
    "    #if round_count == 5: break\n",
    "    \n",
    "    \n",
    "    #\n",
    "    #\n",
    "    # check whether the active pool is full, if yes, terminate the api that ends soon\n",
    "    df_all_api, active_stream_dd, simPos = cke.check_activestream_and_update(df_all_api, active_stream_dd, simPos)\n",
    "    \n",
    "    print active_stream_dd\n",
    "    \n",
    "    if round_count == 6: break\n",
    "        \n",
    "    round_count += 1"
   ]
  },
  {
   "cell_type": "code",
   "execution_count": null,
   "metadata": {
    "collapsed": false,
    "deletable": true,
    "editable": true
   },
   "outputs": [],
   "source": [
    "df_all_api"
   ]
  },
  {
   "cell_type": "code",
   "execution_count": null,
   "metadata": {
    "collapsed": true,
    "deletable": true,
    "editable": true
   },
   "outputs": [],
   "source": [
    "#\n",
    "# run above\n",
    "# "
   ]
  }
 ],
 "metadata": {
  "kernelspec": {
   "display_name": "Python [conda root]",
   "language": "python",
   "name": "conda-root-py"
  },
  "language_info": {
   "codemirror_mode": {
    "name": "ipython",
    "version": 2
   },
   "file_extension": ".py",
   "mimetype": "text/x-python",
   "name": "python",
   "nbconvert_exporter": "python",
   "pygments_lexer": "ipython2",
   "version": "2.7.13"
  }
 },
 "nbformat": 4,
 "nbformat_minor": 2
}
