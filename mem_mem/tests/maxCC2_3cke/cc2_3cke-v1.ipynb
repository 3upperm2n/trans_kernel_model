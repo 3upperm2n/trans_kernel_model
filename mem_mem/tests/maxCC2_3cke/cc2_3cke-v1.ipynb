{
 "cells": [
  {
   "cell_type": "markdown",
   "metadata": {
    "deletable": true,
    "editable": true
   },
   "source": [
    "scheme:\n",
    "\n",
    "* 1) for data transfer, pick 1st sleep api (h2d) fo stream-0, current cc = 1 (concurrency),\n",
    "* 2) check whether there is overalp with stream-\n",
    "* 2) if there is overlap, finish cc=1, start from cc++ (cc=2), predit the future ending time\n",
    "* 3) during the predicted ending time, check whether there is overlap with stream-2\n",
    "* 4) if there is overalap, finish cc=2, start from cc++ (cc=3), predict the future ending time\n",
    "* 5) go to step 3) , search through all the cuda streams\n",
    "* 6) for each time range, we need to find out how many apis have overlap and which-pair have conflicts or not"
   ]
  },
  {
   "cell_type": "code",
   "execution_count": 1,
   "metadata": {
    "collapsed": false,
    "deletable": true,
    "editable": true,
    "run_control": {
     "marked": false
    }
   },
   "outputs": [],
   "source": [
    "%load_ext autoreload\n",
    "%autoreload 2\n",
    "\n",
    "import warnings\n",
    "import pandas as pd\n",
    "import numpy as np\n",
    "import os\n",
    "import sys # error msg, add the modules\n",
    "import operator # sorting\n",
    "from math import *\n",
    "import matplotlib.pyplot as plt\n",
    "\n",
    "sys.path.append('../../')\n",
    "\n",
    "import cuda_timeline\n",
    "import read_trace\n",
    "import avgblk\n",
    "import cke\n",
    "from model_param import *\n",
    "\n",
    "warnings.filterwarnings(\"ignore\", category=np.VisibleDeprecationWarning)"
   ]
  },
  {
   "cell_type": "markdown",
   "metadata": {
    "deletable": true,
    "editable": true,
    "run_control": {
     "marked": false
    }
   },
   "source": [
    "# gpu info"
   ]
  },
  {
   "cell_type": "code",
   "execution_count": 2,
   "metadata": {
    "collapsed": false,
    "deletable": true,
    "editable": true,
    "run_control": {
     "marked": false
    }
   },
   "outputs": [],
   "source": [
    "gtx950 = DeviceInfo()\n",
    "gtx950.sm_num = 6\n",
    "gtx950.sharedmem_per_sm = 49152\n",
    "gtx950.reg_per_sm = 65536\n",
    "gtx950.maxthreads_per_sm = 2048"
   ]
  },
  {
   "cell_type": "code",
   "execution_count": 3,
   "metadata": {
    "collapsed": false,
    "deletable": true,
    "editable": true
   },
   "outputs": [],
   "source": [
    "# init SM resources\n",
    "SM_resList, SM_traceList = init_gpu(gtx950)"
   ]
  },
  {
   "cell_type": "code",
   "execution_count": 4,
   "metadata": {
    "collapsed": false,
    "deletable": true,
    "editable": true
   },
   "outputs": [],
   "source": [
    "#SM_resList[0]"
   ]
  },
  {
   "cell_type": "code",
   "execution_count": 5,
   "metadata": {
    "collapsed": false,
    "deletable": true,
    "editable": true
   },
   "outputs": [
    {
     "data": {
      "text/html": [
       "<div>\n",
       "<table border=\"1\" class=\"dataframe\">\n",
       "  <thead>\n",
       "    <tr style=\"text-align: right;\">\n",
       "      <th></th>\n",
       "      <th>sm_id</th>\n",
       "      <th>block_id</th>\n",
       "      <th>block_start</th>\n",
       "      <th>block_end</th>\n",
       "      <th>batch_id</th>\n",
       "      <th>kernel_id</th>\n",
       "      <th>active</th>\n",
       "    </tr>\n",
       "  </thead>\n",
       "  <tbody>\n",
       "  </tbody>\n",
       "</table>\n",
       "</div>"
      ],
      "text/plain": [
       "Empty DataFrame\n",
       "Columns: [sm_id, block_id, block_start, block_end, batch_id, kernel_id, active]\n",
       "Index: []"
      ]
     },
     "execution_count": 5,
     "metadata": {},
     "output_type": "execute_result"
    }
   ],
   "source": [
    "SM_traceList[0]"
   ]
  },
  {
   "cell_type": "markdown",
   "metadata": {
    "deletable": true,
    "editable": true
   },
   "source": [
    "# Understand the input"
   ]
  },
  {
   "cell_type": "code",
   "execution_count": 6,
   "metadata": {
    "collapsed": false,
    "deletable": true,
    "editable": true
   },
   "outputs": [],
   "source": [
    "trace_s1 = 'trace_s1_5m.csv'\n",
    "df_trace_s1 = read_trace.Trace2dataframe(trace_s1)\n",
    "\n",
    "trace_s3 = 'trace_s3_5m.csv'\n",
    "df_trace_s3 = read_trace.Trace2dataframe(trace_s3)"
   ]
  },
  {
   "cell_type": "code",
   "execution_count": 7,
   "metadata": {
    "collapsed": false,
    "deletable": true,
    "editable": true
   },
   "outputs": [],
   "source": [
    "#df_trace_s1"
   ]
  },
  {
   "cell_type": "code",
   "execution_count": 8,
   "metadata": {
    "collapsed": false,
    "deletable": true,
    "editable": true
   },
   "outputs": [
    {
     "name": "stderr",
     "output_type": "stream",
     "text": [
      "/home/leiming/anaconda2/lib/python2.7/site-packages/matplotlib/axes/_base.py:1215: UnicodeWarning: Unicode equal comparison failed to convert both arguments to Unicode - interpreting them as being unequal\n",
      "  if aspect == 'normal':\n",
      "/home/leiming/anaconda2/lib/python2.7/site-packages/matplotlib/axes/_base.py:1220: UnicodeWarning: Unicode equal comparison failed to convert both arguments to Unicode - interpreting them as being unequal\n",
      "  elif aspect in ('equal', 'auto'):\n"
     ]
    },
    {
     "data": {
      "image/png": "[encoded data removed]",
      "text/plain": [
       "<matplotlib.figure.Figure at 0x7fc38c4b1dd0>"
      ]
     },
     "metadata": {},
     "output_type": "display_data"
    }
   ],
   "source": [
    "cuda_timeline.plot_trace(df_trace_s1)"
   ]
  },
  {
   "cell_type": "code",
   "execution_count": 9,
   "metadata": {
    "collapsed": false,
    "deletable": true,
    "editable": true
   },
   "outputs": [],
   "source": [
    "#cuda_timeline.plot_trace(df_trace_s2)"
   ]
  },
  {
   "cell_type": "code",
   "execution_count": 10,
   "metadata": {
    "collapsed": false,
    "deletable": true,
    "editable": true
   },
   "outputs": [
    {
     "data": {
      "image/png": "[encoded data removed]",
      "text/plain": [
       "<matplotlib.figure.Figure at 0x7fc38c4ced90>"
      ]
     },
     "metadata": {},
     "output_type": "display_data"
    }
   ],
   "source": [
    "cuda_timeline.plot_trace(df_trace_s3)"
   ]
  },
  {
   "cell_type": "markdown",
   "metadata": {
    "deletable": true,
    "editable": true
   },
   "source": [
    "# Kernel Info from the single stream"
   ]
  },
  {
   "cell_type": "code",
   "execution_count": 11,
   "metadata": {
    "collapsed": false,
    "deletable": true,
    "editable": true
   },
   "outputs": [
    {
     "name": "stdout",
     "output_type": "stream",
     "text": [
      "Kernel Info\n",
      "\t\tblockDim 256.0\n",
      "\t\tgridkDim 19532.0\n",
      "\t\tregs 28.0\n",
      "\t\tshared memory 0.0\n",
      "\t\truntime (ms) 11.914429\n",
      "\t\taverage block execution time (ms) 0.0292737813268\n",
      "\t\tstart time (ms) 0\n"
     ]
    }
   ],
   "source": [
    "# extract kernel info from trace\n",
    "# warning: currently lmted to one kernel\n",
    "\n",
    "kernel = read_trace.GetKernelInfo(df_trace_s1, gtx950)\n",
    "\n",
    "Dump_kernel_info(kernel)"
   ]
  },
  {
   "cell_type": "markdown",
   "metadata": {
    "deletable": true,
    "editable": true
   },
   "source": [
    "# model 3 cuda streams"
   ]
  },
  {
   "cell_type": "code",
   "execution_count": 12,
   "metadata": {
    "collapsed": false,
    "deletable": true,
    "editable": true
   },
   "outputs": [
    {
     "name": "stdout",
     "output_type": "stream",
     "text": [
      "Kernel Info\n",
      "\t\tblockDim 256.0\n",
      "\t\tgridkDim 19532.0\n",
      "\t\tregs 28.0\n",
      "\t\tshared memory 0.0\n",
      "\t\truntime (ms) 11.914429\n",
      "\t\taverage block execution time (ms) 0.0292737813268\n",
      "\t\tstart time (ms) 0\n"
     ]
    }
   ],
   "source": [
    "# for each stream, have a dd for each kernel\n",
    "stream_kernel_list = []\n",
    "\n",
    "stream_num = 3\n",
    "\n",
    "for sid in range(stream_num):\n",
    "    #print sid\n",
    "    # key will be the kernel order\n",
    "    # value will be the kernel info\n",
    "    kern_dd = {}\n",
    "    kern_dd[0] = Copy_kernel_info(kernel)\n",
    "    stream_kernel_list.append(kern_dd)\n",
    "    \n",
    "    \n",
    "Dump_kernel_info(stream_kernel_list[0][0])"
   ]
  },
  {
   "cell_type": "markdown",
   "metadata": {
    "deletable": true,
    "editable": true
   },
   "source": [
    "### start kernel from beginning"
   ]
  },
  {
   "cell_type": "code",
   "execution_count": 13,
   "metadata": {
    "collapsed": false,
    "deletable": true,
    "editable": true
   },
   "outputs": [],
   "source": [
    "df_s1_trace_timing = read_trace.Get_timing_from_trace(df_trace_s1)\n",
    "df_s1 = read_trace.Reset_starting(df_s1_trace_timing)"
   ]
  },
  {
   "cell_type": "code",
   "execution_count": 14,
   "metadata": {
    "collapsed": false,
    "deletable": true,
    "editable": true
   },
   "outputs": [
    {
     "data": {
      "text/html": [
       "<div>\n",
       "<table border=\"1\" class=\"dataframe\">\n",
       "  <thead>\n",
       "    <tr style=\"text-align: right;\">\n",
       "      <th></th>\n",
       "      <th>stream</th>\n",
       "      <th>api_type</th>\n",
       "      <th>start</th>\n",
       "      <th>end</th>\n",
       "      <th>size</th>\n",
       "      <th>duration</th>\n",
       "    </tr>\n",
       "  </thead>\n",
       "  <tbody>\n",
       "    <tr>\n",
       "      <th>0</th>\n",
       "      <td>0.0</td>\n",
       "      <td>h2d</td>\n",
       "      <td>0.000000</td>\n",
       "      <td>3.187298</td>\n",
       "      <td>19073.486</td>\n",
       "      <td>3.187298</td>\n",
       "    </tr>\n",
       "    <tr>\n",
       "      <th>1</th>\n",
       "      <td>0.0</td>\n",
       "      <td>h2d</td>\n",
       "      <td>3.188514</td>\n",
       "      <td>6.384227</td>\n",
       "      <td>19073.486</td>\n",
       "      <td>3.195713</td>\n",
       "    </tr>\n",
       "    <tr>\n",
       "      <th>2</th>\n",
       "      <td>0.0</td>\n",
       "      <td>kern</td>\n",
       "      <td>6.391203</td>\n",
       "      <td>18.305632</td>\n",
       "      <td>0.000</td>\n",
       "      <td>11.914429</td>\n",
       "    </tr>\n",
       "    <tr>\n",
       "      <th>3</th>\n",
       "      <td>0.0</td>\n",
       "      <td>d2h</td>\n",
       "      <td>18.311008</td>\n",
       "      <td>21.445857</td>\n",
       "      <td>19073.486</td>\n",
       "      <td>3.134849</td>\n",
       "    </tr>\n",
       "  </tbody>\n",
       "</table>\n",
       "</div>"
      ],
      "text/plain": [
       "   stream api_type      start        end       size   duration\n",
       "0     0.0      h2d   0.000000   3.187298  19073.486   3.187298\n",
       "1     0.0      h2d   3.188514   6.384227  19073.486   3.195713\n",
       "2     0.0     kern   6.391203  18.305632      0.000  11.914429\n",
       "3     0.0      d2h  18.311008  21.445857  19073.486   3.134849"
      ]
     },
     "execution_count": 14,
     "metadata": {},
     "output_type": "execute_result"
    }
   ],
   "source": [
    "df_s1"
   ]
  },
  {
   "cell_type": "markdown",
   "metadata": {
    "deletable": true,
    "editable": true
   },
   "source": [
    "### set the h2d start for all the cuda streams"
   ]
  },
  {
   "cell_type": "code",
   "execution_count": 15,
   "metadata": {
    "collapsed": false,
    "deletable": true,
    "editable": true
   },
   "outputs": [
    {
     "name": "stdout",
     "output_type": "stream",
     "text": [
      "stream_startTime : 3.160431\n",
      "stream_startTime : 6.320862\n"
     ]
    }
   ],
   "source": [
    "# find when to start the stream and update the starting pos for the trace\n",
    "H2D_H2D_OVLP_TH = 3.158431\n",
    "\n",
    "df_cke_list = cke.init_trace_list(df_s1, stream_num = stream_num, h2d_ovlp_th = H2D_H2D_OVLP_TH)"
   ]
  },
  {
   "cell_type": "code",
   "execution_count": 16,
   "metadata": {
    "collapsed": false,
    "deletable": true,
    "editable": true
   },
   "outputs": [
    {
     "data": {
      "text/html": [
       "<div>\n",
       "<table border=\"1\" class=\"dataframe\">\n",
       "  <thead>\n",
       "    <tr style=\"text-align: right;\">\n",
       "      <th></th>\n",
       "      <th>stream</th>\n",
       "      <th>api_type</th>\n",
       "      <th>start</th>\n",
       "      <th>end</th>\n",
       "      <th>size</th>\n",
       "      <th>duration</th>\n",
       "    </tr>\n",
       "  </thead>\n",
       "  <tbody>\n",
       "    <tr>\n",
       "      <th>0</th>\n",
       "      <td>0</td>\n",
       "      <td>h2d</td>\n",
       "      <td>0.000000</td>\n",
       "      <td>3.187298</td>\n",
       "      <td>19073.486</td>\n",
       "      <td>3.187298</td>\n",
       "    </tr>\n",
       "    <tr>\n",
       "      <th>1</th>\n",
       "      <td>0</td>\n",
       "      <td>h2d</td>\n",
       "      <td>3.188514</td>\n",
       "      <td>6.384227</td>\n",
       "      <td>19073.486</td>\n",
       "      <td>3.195713</td>\n",
       "    </tr>\n",
       "    <tr>\n",
       "      <th>2</th>\n",
       "      <td>0</td>\n",
       "      <td>kern</td>\n",
       "      <td>6.391203</td>\n",
       "      <td>18.305632</td>\n",
       "      <td>0.000</td>\n",
       "      <td>11.914429</td>\n",
       "    </tr>\n",
       "    <tr>\n",
       "      <th>3</th>\n",
       "      <td>0</td>\n",
       "      <td>d2h</td>\n",
       "      <td>18.311008</td>\n",
       "      <td>21.445857</td>\n",
       "      <td>19073.486</td>\n",
       "      <td>3.134849</td>\n",
       "    </tr>\n",
       "  </tbody>\n",
       "</table>\n",
       "</div>"
      ],
      "text/plain": [
       "   stream api_type      start        end       size   duration\n",
       "0       0      h2d   0.000000   3.187298  19073.486   3.187298\n",
       "1       0      h2d   3.188514   6.384227  19073.486   3.195713\n",
       "2       0     kern   6.391203  18.305632      0.000  11.914429\n",
       "3       0      d2h  18.311008  21.445857  19073.486   3.134849"
      ]
     },
     "execution_count": 16,
     "metadata": {},
     "output_type": "execute_result"
    }
   ],
   "source": [
    "df_cke_list[0]"
   ]
  },
  {
   "cell_type": "code",
   "execution_count": 17,
   "metadata": {
    "collapsed": false,
    "deletable": true,
    "editable": true
   },
   "outputs": [
    {
     "data": {
      "text/html": [
       "<div>\n",
       "<table border=\"1\" class=\"dataframe\">\n",
       "  <thead>\n",
       "    <tr style=\"text-align: right;\">\n",
       "      <th></th>\n",
       "      <th>stream</th>\n",
       "      <th>api_type</th>\n",
       "      <th>start</th>\n",
       "      <th>end</th>\n",
       "      <th>size</th>\n",
       "      <th>duration</th>\n",
       "    </tr>\n",
       "  </thead>\n",
       "  <tbody>\n",
       "    <tr>\n",
       "      <th>0</th>\n",
       "      <td>1</td>\n",
       "      <td>h2d</td>\n",
       "      <td>3.160431</td>\n",
       "      <td>6.347729</td>\n",
       "      <td>19073.486</td>\n",
       "      <td>3.187298</td>\n",
       "    </tr>\n",
       "    <tr>\n",
       "      <th>1</th>\n",
       "      <td>1</td>\n",
       "      <td>h2d</td>\n",
       "      <td>6.348945</td>\n",
       "      <td>9.544658</td>\n",
       "      <td>19073.486</td>\n",
       "      <td>3.195713</td>\n",
       "    </tr>\n",
       "    <tr>\n",
       "      <th>2</th>\n",
       "      <td>1</td>\n",
       "      <td>kern</td>\n",
       "      <td>9.551634</td>\n",
       "      <td>21.466063</td>\n",
       "      <td>0.000</td>\n",
       "      <td>11.914429</td>\n",
       "    </tr>\n",
       "    <tr>\n",
       "      <th>3</th>\n",
       "      <td>1</td>\n",
       "      <td>d2h</td>\n",
       "      <td>21.471439</td>\n",
       "      <td>24.606288</td>\n",
       "      <td>19073.486</td>\n",
       "      <td>3.134849</td>\n",
       "    </tr>\n",
       "  </tbody>\n",
       "</table>\n",
       "</div>"
      ],
      "text/plain": [
       "   stream api_type      start        end       size   duration\n",
       "0       1      h2d   3.160431   6.347729  19073.486   3.187298\n",
       "1       1      h2d   6.348945   9.544658  19073.486   3.195713\n",
       "2       1     kern   9.551634  21.466063      0.000  11.914429\n",
       "3       1      d2h  21.471439  24.606288  19073.486   3.134849"
      ]
     },
     "execution_count": 17,
     "metadata": {},
     "output_type": "execute_result"
    }
   ],
   "source": [
    "df_cke_list[1]"
   ]
  },
  {
   "cell_type": "code",
   "execution_count": 18,
   "metadata": {
    "collapsed": false,
    "deletable": true,
    "editable": true
   },
   "outputs": [
    {
     "data": {
      "text/html": [
       "<div>\n",
       "<table border=\"1\" class=\"dataframe\">\n",
       "  <thead>\n",
       "    <tr style=\"text-align: right;\">\n",
       "      <th></th>\n",
       "      <th>stream</th>\n",
       "      <th>api_type</th>\n",
       "      <th>start</th>\n",
       "      <th>end</th>\n",
       "      <th>size</th>\n",
       "      <th>duration</th>\n",
       "    </tr>\n",
       "  </thead>\n",
       "  <tbody>\n",
       "    <tr>\n",
       "      <th>0</th>\n",
       "      <td>2</td>\n",
       "      <td>h2d</td>\n",
       "      <td>6.320862</td>\n",
       "      <td>9.508160</td>\n",
       "      <td>19073.486</td>\n",
       "      <td>3.187298</td>\n",
       "    </tr>\n",
       "    <tr>\n",
       "      <th>1</th>\n",
       "      <td>2</td>\n",
       "      <td>h2d</td>\n",
       "      <td>9.509376</td>\n",
       "      <td>12.705089</td>\n",
       "      <td>19073.486</td>\n",
       "      <td>3.195713</td>\n",
       "    </tr>\n",
       "    <tr>\n",
       "      <th>2</th>\n",
       "      <td>2</td>\n",
       "      <td>kern</td>\n",
       "      <td>12.712065</td>\n",
       "      <td>24.626494</td>\n",
       "      <td>0.000</td>\n",
       "      <td>11.914429</td>\n",
       "    </tr>\n",
       "    <tr>\n",
       "      <th>3</th>\n",
       "      <td>2</td>\n",
       "      <td>d2h</td>\n",
       "      <td>24.631870</td>\n",
       "      <td>27.766719</td>\n",
       "      <td>19073.486</td>\n",
       "      <td>3.134849</td>\n",
       "    </tr>\n",
       "  </tbody>\n",
       "</table>\n",
       "</div>"
      ],
      "text/plain": [
       "   stream api_type      start        end       size   duration\n",
       "0       2      h2d   6.320862   9.508160  19073.486   3.187298\n",
       "1       2      h2d   9.509376  12.705089  19073.486   3.195713\n",
       "2       2     kern  12.712065  24.626494      0.000  11.914429\n",
       "3       2      d2h  24.631870  27.766719  19073.486   3.134849"
      ]
     },
     "execution_count": 18,
     "metadata": {},
     "output_type": "execute_result"
    }
   ],
   "source": [
    "df_cke_list[2]"
   ]
  },
  {
   "cell_type": "markdown",
   "metadata": {
    "deletable": true,
    "editable": true
   },
   "source": [
    "### merge all the cuda stream trace together"
   ]
  },
  {
   "cell_type": "code",
   "execution_count": 19,
   "metadata": {
    "collapsed": true,
    "deletable": true,
    "editable": true
   },
   "outputs": [],
   "source": [
    "df_all_api = cke.init_sort_api_with_extra_cols(df_cke_list)"
   ]
  },
  {
   "cell_type": "code",
   "execution_count": 20,
   "metadata": {
    "collapsed": false,
    "deletable": true,
    "editable": true
   },
   "outputs": [
    {
     "data": {
      "text/html": [
       "<div>\n",
       "<table border=\"1\" class=\"dataframe\">\n",
       "  <thead>\n",
       "    <tr style=\"text-align: right;\">\n",
       "      <th></th>\n",
       "      <th>start</th>\n",
       "      <th>end</th>\n",
       "      <th>api_type</th>\n",
       "      <th>size_kb</th>\n",
       "      <th>stream_id</th>\n",
       "      <th>status</th>\n",
       "      <th>bw</th>\n",
       "      <th>bytes_done</th>\n",
       "      <th>bytes_left</th>\n",
       "      <th>current_pos</th>\n",
       "      <th>pred_end</th>\n",
       "    </tr>\n",
       "  </thead>\n",
       "  <tbody>\n",
       "    <tr>\n",
       "      <th>0</th>\n",
       "      <td>0.000000</td>\n",
       "      <td>3.187298</td>\n",
       "      <td>h2d</td>\n",
       "      <td>19073.486</td>\n",
       "      <td>0.0</td>\n",
       "      <td>sleep</td>\n",
       "      <td>5984.217980</td>\n",
       "      <td>0.0</td>\n",
       "      <td>19073.486</td>\n",
       "      <td>0.0</td>\n",
       "      <td>0.0</td>\n",
       "    </tr>\n",
       "    <tr>\n",
       "      <th>4</th>\n",
       "      <td>3.160431</td>\n",
       "      <td>6.347729</td>\n",
       "      <td>h2d</td>\n",
       "      <td>19073.486</td>\n",
       "      <td>1.0</td>\n",
       "      <td>sleep</td>\n",
       "      <td>5984.217980</td>\n",
       "      <td>0.0</td>\n",
       "      <td>19073.486</td>\n",
       "      <td>0.0</td>\n",
       "      <td>0.0</td>\n",
       "    </tr>\n",
       "    <tr>\n",
       "      <th>1</th>\n",
       "      <td>3.188514</td>\n",
       "      <td>6.384227</td>\n",
       "      <td>h2d</td>\n",
       "      <td>19073.486</td>\n",
       "      <td>0.0</td>\n",
       "      <td>sleep</td>\n",
       "      <td>5968.460247</td>\n",
       "      <td>0.0</td>\n",
       "      <td>19073.486</td>\n",
       "      <td>0.0</td>\n",
       "      <td>0.0</td>\n",
       "    </tr>\n",
       "    <tr>\n",
       "      <th>8</th>\n",
       "      <td>6.320862</td>\n",
       "      <td>9.508160</td>\n",
       "      <td>h2d</td>\n",
       "      <td>19073.486</td>\n",
       "      <td>2.0</td>\n",
       "      <td>sleep</td>\n",
       "      <td>5984.217980</td>\n",
       "      <td>0.0</td>\n",
       "      <td>19073.486</td>\n",
       "      <td>0.0</td>\n",
       "      <td>0.0</td>\n",
       "    </tr>\n",
       "    <tr>\n",
       "      <th>5</th>\n",
       "      <td>6.348945</td>\n",
       "      <td>9.544658</td>\n",
       "      <td>h2d</td>\n",
       "      <td>19073.486</td>\n",
       "      <td>1.0</td>\n",
       "      <td>sleep</td>\n",
       "      <td>5968.460247</td>\n",
       "      <td>0.0</td>\n",
       "      <td>19073.486</td>\n",
       "      <td>0.0</td>\n",
       "      <td>0.0</td>\n",
       "    </tr>\n",
       "    <tr>\n",
       "      <th>2</th>\n",
       "      <td>6.391203</td>\n",
       "      <td>18.305632</td>\n",
       "      <td>kern</td>\n",
       "      <td>0.000</td>\n",
       "      <td>0.0</td>\n",
       "      <td>sleep</td>\n",
       "      <td>0.000000</td>\n",
       "      <td>0.0</td>\n",
       "      <td>0.000</td>\n",
       "      <td>0.0</td>\n",
       "      <td>0.0</td>\n",
       "    </tr>\n",
       "    <tr>\n",
       "      <th>9</th>\n",
       "      <td>9.509376</td>\n",
       "      <td>12.705089</td>\n",
       "      <td>h2d</td>\n",
       "      <td>19073.486</td>\n",
       "      <td>2.0</td>\n",
       "      <td>sleep</td>\n",
       "      <td>5968.460247</td>\n",
       "      <td>0.0</td>\n",
       "      <td>19073.486</td>\n",
       "      <td>0.0</td>\n",
       "      <td>0.0</td>\n",
       "    </tr>\n",
       "    <tr>\n",
       "      <th>6</th>\n",
       "      <td>9.551634</td>\n",
       "      <td>21.466063</td>\n",
       "      <td>kern</td>\n",
       "      <td>0.000</td>\n",
       "      <td>1.0</td>\n",
       "      <td>sleep</td>\n",
       "      <td>0.000000</td>\n",
       "      <td>0.0</td>\n",
       "      <td>0.000</td>\n",
       "      <td>0.0</td>\n",
       "      <td>0.0</td>\n",
       "    </tr>\n",
       "    <tr>\n",
       "      <th>10</th>\n",
       "      <td>12.712065</td>\n",
       "      <td>24.626494</td>\n",
       "      <td>kern</td>\n",
       "      <td>0.000</td>\n",
       "      <td>2.0</td>\n",
       "      <td>sleep</td>\n",
       "      <td>0.000000</td>\n",
       "      <td>0.0</td>\n",
       "      <td>0.000</td>\n",
       "      <td>0.0</td>\n",
       "      <td>0.0</td>\n",
       "    </tr>\n",
       "    <tr>\n",
       "      <th>3</th>\n",
       "      <td>18.311008</td>\n",
       "      <td>21.445857</td>\n",
       "      <td>d2h</td>\n",
       "      <td>19073.486</td>\n",
       "      <td>0.0</td>\n",
       "      <td>sleep</td>\n",
       "      <td>6084.339628</td>\n",
       "      <td>0.0</td>\n",
       "      <td>19073.486</td>\n",
       "      <td>0.0</td>\n",
       "      <td>0.0</td>\n",
       "    </tr>\n",
       "    <tr>\n",
       "      <th>7</th>\n",
       "      <td>21.471439</td>\n",
       "      <td>24.606288</td>\n",
       "      <td>d2h</td>\n",
       "      <td>19073.486</td>\n",
       "      <td>1.0</td>\n",
       "      <td>sleep</td>\n",
       "      <td>6084.339628</td>\n",
       "      <td>0.0</td>\n",
       "      <td>19073.486</td>\n",
       "      <td>0.0</td>\n",
       "      <td>0.0</td>\n",
       "    </tr>\n",
       "    <tr>\n",
       "      <th>11</th>\n",
       "      <td>24.631870</td>\n",
       "      <td>27.766719</td>\n",
       "      <td>d2h</td>\n",
       "      <td>19073.486</td>\n",
       "      <td>2.0</td>\n",
       "      <td>sleep</td>\n",
       "      <td>6084.339628</td>\n",
       "      <td>0.0</td>\n",
       "      <td>19073.486</td>\n",
       "      <td>0.0</td>\n",
       "      <td>0.0</td>\n",
       "    </tr>\n",
       "  </tbody>\n",
       "</table>\n",
       "</div>"
      ],
      "text/plain": [
       "        start        end api_type    size_kb  stream_id status           bw  \\\n",
       "0    0.000000   3.187298      h2d  19073.486        0.0  sleep  5984.217980   \n",
       "4    3.160431   6.347729      h2d  19073.486        1.0  sleep  5984.217980   \n",
       "1    3.188514   6.384227      h2d  19073.486        0.0  sleep  5968.460247   \n",
       "8    6.320862   9.508160      h2d  19073.486        2.0  sleep  5984.217980   \n",
       "5    6.348945   9.544658      h2d  19073.486        1.0  sleep  5968.460247   \n",
       "2    6.391203  18.305632     kern      0.000        0.0  sleep     0.000000   \n",
       "9    9.509376  12.705089      h2d  19073.486        2.0  sleep  5968.460247   \n",
       "6    9.551634  21.466063     kern      0.000        1.0  sleep     0.000000   \n",
       "10  12.712065  24.626494     kern      0.000        2.0  sleep     0.000000   \n",
       "3   18.311008  21.445857      d2h  19073.486        0.0  sleep  6084.339628   \n",
       "7   21.471439  24.606288      d2h  19073.486        1.0  sleep  6084.339628   \n",
       "11  24.631870  27.766719      d2h  19073.486        2.0  sleep  6084.339628   \n",
       "\n",
       "    bytes_done  bytes_left  current_pos  pred_end  \n",
       "0          0.0   19073.486          0.0       0.0  \n",
       "4          0.0   19073.486          0.0       0.0  \n",
       "1          0.0   19073.486          0.0       0.0  \n",
       "8          0.0   19073.486          0.0       0.0  \n",
       "5          0.0   19073.486          0.0       0.0  \n",
       "2          0.0       0.000          0.0       0.0  \n",
       "9          0.0   19073.486          0.0       0.0  \n",
       "6          0.0       0.000          0.0       0.0  \n",
       "10         0.0       0.000          0.0       0.0  \n",
       "3          0.0   19073.486          0.0       0.0  \n",
       "7          0.0   19073.486          0.0       0.0  \n",
       "11         0.0   19073.486          0.0       0.0  "
      ]
     },
     "execution_count": 20,
     "metadata": {},
     "output_type": "execute_result"
    }
   ],
   "source": [
    "df_all_api"
   ]
  },
  {
   "cell_type": "markdown",
   "metadata": {
    "deletable": true,
    "editable": true
   },
   "source": [
    "### start algorithm"
   ]
  },
  {
   "cell_type": "code",
   "execution_count": 21,
   "metadata": {
    "collapsed": false,
    "deletable": true,
    "editable": true
   },
   "outputs": [
    {
     "name": "stdout",
     "output_type": "stream",
     "text": [
      "row 0, stream-id 0.0\n",
      "=> pick row 4, stream-id 1.0\n",
      "simulation position : 0.0\n",
      "current position : 3.160431\n",
      "wake list [0] \n",
      "[0]\n",
      "[]\n",
      "[]\n",
      "=> pick row 1, stream-id 0.0\n",
      "simulation position : 3.160431\n",
      "current position : 3.188514\n",
      "end prev api call at row 0\n",
      "wake list [0, 4] \n",
      "2\n",
      "row 1, Updated current position : 3.215381\n",
      "move_wake_for_coming_call, wake list [4] \n"
     ]
    }
   ],
   "source": [
    "simPos = 0.0\n",
    "more_streams = stream_num - 1\n",
    "\n",
    "active_stream_dd = {}\n",
    "for s in range(stream_num):\n",
    "    active_stream_dd[s] = 0\n",
    "#print active_stream_dd\n",
    "\n",
    "round = 1\n",
    "while not cke.AllDone(df_all_api):\n",
    "    df_all_api, r1, r1_stream = cke.pick_base_call(df_all_api)\n",
    "    df_all_api = SetWake(df_all_api, r1)\n",
    "    print('new round => row {}, stream-id {}'.format(r1, r1_stream))\n",
    "    active_stream_dd[r1_stream] += 1\n",
    "    #print active_stream_dd\n",
    "    \n",
    "    # simulation position\n",
    "    simPos = GetInfo(df_all_api, r1, 'start')\n",
    "    \n",
    "    if round == 2: break\n",
    "    \n",
    "    for i in range(0, more_streams):\n",
    "        df_all_api, r2, r2_stream = cke.start_next_call(df_all_api)\n",
    "        print('=> pick row {}, stream-id {}'.format(r2, r2_stream))\n",
    "        \n",
    "        print('simulation position : {}'.format(simPos))\n",
    "        \n",
    "        # current position\n",
    "        curPos = GetInfo(df_all_api, r2, 'start')\n",
    "        print('current position : {}'.format(curPos))\n",
    "            \n",
    "        # check the active stream\n",
    "        if active_stream_dd[r2_stream] == 0:\n",
    "            active_stream_dd[r2_stream] +=  1\n",
    "                    \n",
    "            # update trace during the range\n",
    "            df_all_api = cke.update_by_range(df_all_api, simPos, curPos)\n",
    "                             \n",
    "        else:\n",
    "            #\n",
    "            # there is stream api ahead, find out which call and terminate it\n",
    "            row_2nd = Find_prevapi_samestream(df_all_api, r2, r2_stream)\n",
    "            print('end prev api call at row {}'.format(row_2nd))\n",
    "            #\n",
    "            # end the target row, update the bytes for other call\n",
    "            df_all_api = cke.end_target_row(df_all_api, row_2nd, simPos, curPos)\n",
    "            #\n",
    "            # update curPos, since r2 start has been shifted right\n",
    "            curPos = GetInfo(df_all_api, r2, 'start')\n",
    "            df_all_api = UpdateCell(df_all_api, r2, 'current_pos', curPos)\n",
    "            print('row {}, Updated current position : {}'.format(r2, curPos))\n",
    "            #\n",
    "            # assume there is no ovlp between row_2nd end and r2_start\n",
    "            row2nd_end = GetInfo(df_all_api, row_2nd, 'end')\n",
    "            df_all_api = cke.move_wake_for_coming_call(df_all_api, row2nd_end, curPos)\n",
    "            #\n",
    "            # update the count for active stream pool: remove row2nd, add r2 to the pool\n",
    "            active_stream_dd[r2_stream] =  1\n",
    "        \n",
    "        \n",
    "        # shift right\n",
    "        simPos = curPos\n",
    "        \n",
    "        if i == 0: break\n",
    "            \n",
    "    \n",
    "    round += 1"
   ]
  },
  {
   "cell_type": "code",
   "execution_count": 22,
   "metadata": {
    "collapsed": false,
    "deletable": true,
    "editable": true
   },
   "outputs": [
    {
     "data": {
      "text/html": [
       "<div>\n",
       "<table border=\"1\" class=\"dataframe\">\n",
       "  <thead>\n",
       "    <tr style=\"text-align: right;\">\n",
       "      <th></th>\n",
       "      <th>start</th>\n",
       "      <th>end</th>\n",
       "      <th>api_type</th>\n",
       "      <th>size_kb</th>\n",
       "      <th>stream_id</th>\n",
       "      <th>status</th>\n",
       "      <th>bw</th>\n",
       "      <th>bytes_done</th>\n",
       "      <th>bytes_left</th>\n",
       "      <th>current_pos</th>\n",
       "      <th>pred_end</th>\n",
       "    </tr>\n",
       "  </thead>\n",
       "  <tbody>\n",
       "    <tr>\n",
       "      <th>0</th>\n",
       "      <td>0.000000</td>\n",
       "      <td>3.214165</td>\n",
       "      <td>h2d</td>\n",
       "      <td>19073.486</td>\n",
       "      <td>0.0</td>\n",
       "      <td>done</td>\n",
       "      <td>5984.217980</td>\n",
       "      <td>19073.486000</td>\n",
       "      <td>0.000000</td>\n",
       "      <td>3.214165</td>\n",
       "      <td>3.214165</td>\n",
       "    </tr>\n",
       "    <tr>\n",
       "      <th>4</th>\n",
       "      <td>3.160431</td>\n",
       "      <td>6.347729</td>\n",
       "      <td>h2d</td>\n",
       "      <td>19073.486</td>\n",
       "      <td>1.0</td>\n",
       "      <td>wake</td>\n",
       "      <td>5984.217980</td>\n",
       "      <td>19241.540794</td>\n",
       "      <td>18905.431206</td>\n",
       "      <td>3.215381</td>\n",
       "      <td>6.374596</td>\n",
       "    </tr>\n",
       "    <tr>\n",
       "      <th>1</th>\n",
       "      <td>3.215381</td>\n",
       "      <td>6.411094</td>\n",
       "      <td>h2d</td>\n",
       "      <td>19073.486</td>\n",
       "      <td>0.0</td>\n",
       "      <td>wake</td>\n",
       "      <td>5968.460247</td>\n",
       "      <td>0.000000</td>\n",
       "      <td>19073.486000</td>\n",
       "      <td>3.215381</td>\n",
       "      <td>6.411094</td>\n",
       "    </tr>\n",
       "    <tr>\n",
       "      <th>8</th>\n",
       "      <td>6.320862</td>\n",
       "      <td>9.508160</td>\n",
       "      <td>h2d</td>\n",
       "      <td>19073.486</td>\n",
       "      <td>2.0</td>\n",
       "      <td>sleep</td>\n",
       "      <td>5984.217980</td>\n",
       "      <td>0.000000</td>\n",
       "      <td>19073.486000</td>\n",
       "      <td>0.000000</td>\n",
       "      <td>0.000000</td>\n",
       "    </tr>\n",
       "    <tr>\n",
       "      <th>5</th>\n",
       "      <td>6.348945</td>\n",
       "      <td>9.544658</td>\n",
       "      <td>h2d</td>\n",
       "      <td>19073.486</td>\n",
       "      <td>1.0</td>\n",
       "      <td>sleep</td>\n",
       "      <td>5968.460247</td>\n",
       "      <td>0.000000</td>\n",
       "      <td>19073.486000</td>\n",
       "      <td>0.000000</td>\n",
       "      <td>0.000000</td>\n",
       "    </tr>\n",
       "    <tr>\n",
       "      <th>2</th>\n",
       "      <td>6.418070</td>\n",
       "      <td>18.332499</td>\n",
       "      <td>kern</td>\n",
       "      <td>0.000</td>\n",
       "      <td>0.0</td>\n",
       "      <td>sleep</td>\n",
       "      <td>0.000000</td>\n",
       "      <td>0.000000</td>\n",
       "      <td>0.000000</td>\n",
       "      <td>0.000000</td>\n",
       "      <td>18.332499</td>\n",
       "    </tr>\n",
       "    <tr>\n",
       "      <th>9</th>\n",
       "      <td>9.509376</td>\n",
       "      <td>12.705089</td>\n",
       "      <td>h2d</td>\n",
       "      <td>19073.486</td>\n",
       "      <td>2.0</td>\n",
       "      <td>sleep</td>\n",
       "      <td>5968.460247</td>\n",
       "      <td>0.000000</td>\n",
       "      <td>19073.486000</td>\n",
       "      <td>0.000000</td>\n",
       "      <td>0.000000</td>\n",
       "    </tr>\n",
       "    <tr>\n",
       "      <th>6</th>\n",
       "      <td>9.551634</td>\n",
       "      <td>21.466063</td>\n",
       "      <td>kern</td>\n",
       "      <td>0.000</td>\n",
       "      <td>1.0</td>\n",
       "      <td>sleep</td>\n",
       "      <td>0.000000</td>\n",
       "      <td>0.000000</td>\n",
       "      <td>0.000000</td>\n",
       "      <td>0.000000</td>\n",
       "      <td>0.000000</td>\n",
       "    </tr>\n",
       "    <tr>\n",
       "      <th>10</th>\n",
       "      <td>12.712065</td>\n",
       "      <td>24.626494</td>\n",
       "      <td>kern</td>\n",
       "      <td>0.000</td>\n",
       "      <td>2.0</td>\n",
       "      <td>sleep</td>\n",
       "      <td>0.000000</td>\n",
       "      <td>0.000000</td>\n",
       "      <td>0.000000</td>\n",
       "      <td>0.000000</td>\n",
       "      <td>0.000000</td>\n",
       "    </tr>\n",
       "    <tr>\n",
       "      <th>3</th>\n",
       "      <td>18.337875</td>\n",
       "      <td>21.472724</td>\n",
       "      <td>d2h</td>\n",
       "      <td>19073.486</td>\n",
       "      <td>0.0</td>\n",
       "      <td>sleep</td>\n",
       "      <td>6084.339628</td>\n",
       "      <td>0.000000</td>\n",
       "      <td>19073.486000</td>\n",
       "      <td>0.000000</td>\n",
       "      <td>21.472724</td>\n",
       "    </tr>\n",
       "    <tr>\n",
       "      <th>7</th>\n",
       "      <td>21.471439</td>\n",
       "      <td>24.606288</td>\n",
       "      <td>d2h</td>\n",
       "      <td>19073.486</td>\n",
       "      <td>1.0</td>\n",
       "      <td>sleep</td>\n",
       "      <td>6084.339628</td>\n",
       "      <td>0.000000</td>\n",
       "      <td>19073.486000</td>\n",
       "      <td>0.000000</td>\n",
       "      <td>0.000000</td>\n",
       "    </tr>\n",
       "    <tr>\n",
       "      <th>11</th>\n",
       "      <td>24.631870</td>\n",
       "      <td>27.766719</td>\n",
       "      <td>d2h</td>\n",
       "      <td>19073.486</td>\n",
       "      <td>2.0</td>\n",
       "      <td>sleep</td>\n",
       "      <td>6084.339628</td>\n",
       "      <td>0.000000</td>\n",
       "      <td>19073.486000</td>\n",
       "      <td>0.000000</td>\n",
       "      <td>0.000000</td>\n",
       "    </tr>\n",
       "  </tbody>\n",
       "</table>\n",
       "</div>"
      ],
      "text/plain": [
       "        start        end api_type    size_kb  stream_id status           bw  \\\n",
       "0    0.000000   3.214165      h2d  19073.486        0.0   done  5984.217980   \n",
       "4    3.160431   6.347729      h2d  19073.486        1.0   wake  5984.217980   \n",
       "1    3.215381   6.411094      h2d  19073.486        0.0   wake  5968.460247   \n",
       "8    6.320862   9.508160      h2d  19073.486        2.0  sleep  5984.217980   \n",
       "5    6.348945   9.544658      h2d  19073.486        1.0  sleep  5968.460247   \n",
       "2    6.418070  18.332499     kern      0.000        0.0  sleep     0.000000   \n",
       "9    9.509376  12.705089      h2d  19073.486        2.0  sleep  5968.460247   \n",
       "6    9.551634  21.466063     kern      0.000        1.0  sleep     0.000000   \n",
       "10  12.712065  24.626494     kern      0.000        2.0  sleep     0.000000   \n",
       "3   18.337875  21.472724      d2h  19073.486        0.0  sleep  6084.339628   \n",
       "7   21.471439  24.606288      d2h  19073.486        1.0  sleep  6084.339628   \n",
       "11  24.631870  27.766719      d2h  19073.486        2.0  sleep  6084.339628   \n",
       "\n",
       "      bytes_done    bytes_left  current_pos   pred_end  \n",
       "0   19073.486000      0.000000     3.214165   3.214165  \n",
       "4   19241.540794  18905.431206     3.215381   6.374596  \n",
       "1       0.000000  19073.486000     3.215381   6.411094  \n",
       "8       0.000000  19073.486000     0.000000   0.000000  \n",
       "5       0.000000  19073.486000     0.000000   0.000000  \n",
       "2       0.000000      0.000000     0.000000  18.332499  \n",
       "9       0.000000  19073.486000     0.000000   0.000000  \n",
       "6       0.000000      0.000000     0.000000   0.000000  \n",
       "10      0.000000      0.000000     0.000000   0.000000  \n",
       "3       0.000000  19073.486000     0.000000  21.472724  \n",
       "7       0.000000  19073.486000     0.000000   0.000000  \n",
       "11      0.000000  19073.486000     0.000000   0.000000  "
      ]
     },
     "execution_count": 22,
     "metadata": {},
     "output_type": "execute_result"
    }
   ],
   "source": [
    "df_all_api"
   ]
  },
  {
   "cell_type": "code",
   "execution_count": 23,
   "metadata": {
    "collapsed": true,
    "deletable": true,
    "editable": true
   },
   "outputs": [],
   "source": [
    "#\n",
    "# run above\n",
    "# "
   ]
  }
 ],
 "metadata": {
  "kernelspec": {
   "display_name": "Python [conda root]",
   "language": "python",
   "name": "conda-root-py"
  },
  "language_info": {
   "codemirror_mode": {
    "name": "ipython",
    "version": 2
   },
   "file_extension": ".py",
   "mimetype": "text/x-python",
   "name": "python",
   "nbconvert_exporter": "python",
   "pygments_lexer": "ipython2",
   "version": "2.7.13"
  }
 },
 "nbformat": 4,
 "nbformat_minor": 2
}
