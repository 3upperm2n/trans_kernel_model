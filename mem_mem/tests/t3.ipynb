{
 "cells": [
  {
   "cell_type": "code",
   "execution_count": 40,
   "metadata": {
    "collapsed": false
   },
   "outputs": [
    {
     "name": "stdout",
     "output_type": "stream",
     "text": [
      "The autoreload extension is already loaded. To reload it, use:\n",
      "  %reload_ext autoreload\n"
     ]
    }
   ],
   "source": [
    "%load_ext autoreload\n",
    "%autoreload 2"
   ]
  },
  {
   "cell_type": "code",
   "execution_count": 41,
   "metadata": {
    "collapsed": false,
    "deletable": true,
    "editable": true,
    "run_control": {
     "marked": false
    }
   },
   "outputs": [],
   "source": [
    "import warnings\n",
    "import pandas as pd\n",
    "import numpy as np\n",
    "import os\n",
    "import sys # error msg, add the modules\n",
    "import operator # sorting\n",
    "from math import *\n",
    "import matplotlib.pyplot as plt\n",
    "\n",
    "sys.path.append('../')\n",
    "\n",
    "import read_trace\n",
    "import cuda_timeline\n",
    "from avgblkmodel import *\n",
    "import cke\n",
    "from df_util import *\n",
    "#from model_cke import *\n",
    "\n",
    "warnings.filterwarnings(\"ignore\", category=np.VisibleDeprecationWarning)"
   ]
  },
  {
   "cell_type": "markdown",
   "metadata": {
    "deletable": true,
    "editable": true,
    "run_control": {
     "marked": false
    }
   },
   "source": [
    "# gpu info"
   ]
  },
  {
   "cell_type": "code",
   "execution_count": 42,
   "metadata": {
    "collapsed": false,
    "deletable": true,
    "editable": true,
    "run_control": {
     "marked": false
    }
   },
   "outputs": [],
   "source": [
    "gtx950 = DeviceInfo()\n",
    "gtx950.sm_num = 6\n",
    "gtx950.sharedmem_per_sm = 49152\n",
    "gtx950.reg_per_sm = 65536\n",
    "gtx950.maxthreads_per_sm = 2048"
   ]
  },
  {
   "cell_type": "markdown",
   "metadata": {
    "deletable": true,
    "editable": true,
    "run_control": {
     "marked": false
    }
   },
   "source": [
    "# 2 stream info"
   ]
  },
  {
   "cell_type": "code",
   "execution_count": 43,
   "metadata": {
    "collapsed": false,
    "deletable": true,
    "editable": true,
    "run_control": {
     "marked": false
    }
   },
   "outputs": [],
   "source": [
    "# 10M for mem_mem : where the h2d between streams are overlapped\n",
    "trace_file = 'trace_10M_s1.csv'\n",
    "trace_file_2cke = 'trace_h2d_h2d_ovlp.csv'\n",
    "\n",
    "df_trace = read_trace.trace2dataframe(trace_file) # read the trace to the dataframe\n",
    "df_trace_2cke = read_trace.trace2dataframe(trace_file_2cke)"
   ]
  },
  {
   "cell_type": "code",
   "execution_count": 44,
   "metadata": {
    "collapsed": false,
    "deletable": true,
    "editable": true,
    "run_control": {
     "marked": false
    },
    "scrolled": true
   },
   "outputs": [],
   "source": [
    "#df_trace"
   ]
  },
  {
   "cell_type": "code",
   "execution_count": 45,
   "metadata": {
    "collapsed": false,
    "deletable": true,
    "editable": true,
    "run_control": {
     "marked": false
    }
   },
   "outputs": [],
   "source": [
    "#cuda_timeline.plot_trace(df_trace)"
   ]
  },
  {
   "cell_type": "code",
   "execution_count": 46,
   "metadata": {
    "collapsed": false,
    "deletable": true,
    "editable": true,
    "run_control": {
     "marked": false
    }
   },
   "outputs": [
    {
     "data": {
      "text/html": [
       "<div>\n",
       "<table border=\"1\" class=\"dataframe\">\n",
       "  <thead>\n",
       "    <tr style=\"text-align: right;\">\n",
       "      <th></th>\n",
       "      <th>Start</th>\n",
       "      <th>Duration</th>\n",
       "      <th>Grid X</th>\n",
       "      <th>Grid Y</th>\n",
       "      <th>Grid Z</th>\n",
       "      <th>Block X</th>\n",
       "      <th>Block Y</th>\n",
       "      <th>Block Z</th>\n",
       "      <th>Registers Per Thread</th>\n",
       "      <th>Static SMem</th>\n",
       "      <th>Dynamic SMem</th>\n",
       "      <th>Size</th>\n",
       "      <th>Throughput</th>\n",
       "      <th>Device</th>\n",
       "      <th>Context</th>\n",
       "      <th>Stream</th>\n",
       "      <th>Name</th>\n",
       "    </tr>\n",
       "  </thead>\n",
       "  <tbody>\n",
       "    <tr>\n",
       "      <th>0</th>\n",
       "      <td>ms</td>\n",
       "      <td>ms</td>\n",
       "      <td>NaN</td>\n",
       "      <td>NaN</td>\n",
       "      <td>NaN</td>\n",
       "      <td>NaN</td>\n",
       "      <td>NaN</td>\n",
       "      <td>NaN</td>\n",
       "      <td>NaN</td>\n",
       "      <td>B</td>\n",
       "      <td>B</td>\n",
       "      <td>MB</td>\n",
       "      <td>GB/s</td>\n",
       "      <td>NaN</td>\n",
       "      <td>NaN</td>\n",
       "      <td>NaN</td>\n",
       "      <td>NaN</td>\n",
       "    </tr>\n",
       "    <tr>\n",
       "      <th>1</th>\n",
       "      <td>665.032627</td>\n",
       "      <td>10.783099</td>\n",
       "      <td>NaN</td>\n",
       "      <td>NaN</td>\n",
       "      <td>NaN</td>\n",
       "      <td>NaN</td>\n",
       "      <td>NaN</td>\n",
       "      <td>NaN</td>\n",
       "      <td>NaN</td>\n",
       "      <td>NaN</td>\n",
       "      <td>NaN</td>\n",
       "      <td>38.146973</td>\n",
       "      <td>3.454749</td>\n",
       "      <td>GeForce GTX 950 (0)</td>\n",
       "      <td>1.0</td>\n",
       "      <td>13.0</td>\n",
       "      <td>[CUDA memcpy HtoD]</td>\n",
       "    </tr>\n",
       "    <tr>\n",
       "      <th>2</th>\n",
       "      <td>668.190628</td>\n",
       "      <td>12.898855</td>\n",
       "      <td>NaN</td>\n",
       "      <td>NaN</td>\n",
       "      <td>NaN</td>\n",
       "      <td>NaN</td>\n",
       "      <td>NaN</td>\n",
       "      <td>NaN</td>\n",
       "      <td>NaN</td>\n",
       "      <td>NaN</td>\n",
       "      <td>NaN</td>\n",
       "      <td>38.146973</td>\n",
       "      <td>2.888078</td>\n",
       "      <td>GeForce GTX 950 (0)</td>\n",
       "      <td>1.0</td>\n",
       "      <td>14.0</td>\n",
       "      <td>[CUDA memcpy HtoD]</td>\n",
       "    </tr>\n",
       "    <tr>\n",
       "      <th>3</th>\n",
       "      <td>675.816942</td>\n",
       "      <td>12.913127</td>\n",
       "      <td>NaN</td>\n",
       "      <td>NaN</td>\n",
       "      <td>NaN</td>\n",
       "      <td>NaN</td>\n",
       "      <td>NaN</td>\n",
       "      <td>NaN</td>\n",
       "      <td>NaN</td>\n",
       "      <td>NaN</td>\n",
       "      <td>NaN</td>\n",
       "      <td>38.146973</td>\n",
       "      <td>2.884886</td>\n",
       "      <td>GeForce GTX 950 (0)</td>\n",
       "      <td>1.0</td>\n",
       "      <td>13.0</td>\n",
       "      <td>[CUDA memcpy HtoD]</td>\n",
       "    </tr>\n",
       "    <tr>\n",
       "      <th>4</th>\n",
       "      <td>681.090667</td>\n",
       "      <td>10.213144</td>\n",
       "      <td>NaN</td>\n",
       "      <td>NaN</td>\n",
       "      <td>NaN</td>\n",
       "      <td>NaN</td>\n",
       "      <td>NaN</td>\n",
       "      <td>NaN</td>\n",
       "      <td>NaN</td>\n",
       "      <td>NaN</td>\n",
       "      <td>NaN</td>\n",
       "      <td>38.146973</td>\n",
       "      <td>3.647545</td>\n",
       "      <td>GeForce GTX 950 (0)</td>\n",
       "      <td>1.0</td>\n",
       "      <td>14.0</td>\n",
       "      <td>[CUDA memcpy HtoD]</td>\n",
       "    </tr>\n",
       "    <tr>\n",
       "      <th>5</th>\n",
       "      <td>688.741397</td>\n",
       "      <td>1.377896</td>\n",
       "      <td>39063.0</td>\n",
       "      <td>1.0</td>\n",
       "      <td>1.0</td>\n",
       "      <td>256.0</td>\n",
       "      <td>1.0</td>\n",
       "      <td>1.0</td>\n",
       "      <td>8.0</td>\n",
       "      <td>0</td>\n",
       "      <td>0</td>\n",
       "      <td>NaN</td>\n",
       "      <td>NaN</td>\n",
       "      <td>GeForce GTX 950 (0)</td>\n",
       "      <td>1.0</td>\n",
       "      <td>13.0</td>\n",
       "      <td>kernel_vectorAdd(float const *, float const *,...</td>\n",
       "    </tr>\n",
       "    <tr>\n",
       "      <th>6</th>\n",
       "      <td>690.126461</td>\n",
       "      <td>10.658490</td>\n",
       "      <td>NaN</td>\n",
       "      <td>NaN</td>\n",
       "      <td>NaN</td>\n",
       "      <td>NaN</td>\n",
       "      <td>NaN</td>\n",
       "      <td>NaN</td>\n",
       "      <td>NaN</td>\n",
       "      <td>NaN</td>\n",
       "      <td>NaN</td>\n",
       "      <td>38.146973</td>\n",
       "      <td>3.495139</td>\n",
       "      <td>GeForce GTX 950 (0)</td>\n",
       "      <td>1.0</td>\n",
       "      <td>13.0</td>\n",
       "      <td>[CUDA memcpy DtoH]</td>\n",
       "    </tr>\n",
       "    <tr>\n",
       "      <th>7</th>\n",
       "      <td>691.316867</td>\n",
       "      <td>1.366120</td>\n",
       "      <td>39063.0</td>\n",
       "      <td>1.0</td>\n",
       "      <td>1.0</td>\n",
       "      <td>256.0</td>\n",
       "      <td>1.0</td>\n",
       "      <td>1.0</td>\n",
       "      <td>8.0</td>\n",
       "      <td>0</td>\n",
       "      <td>0</td>\n",
       "      <td>NaN</td>\n",
       "      <td>NaN</td>\n",
       "      <td>GeForce GTX 950 (0)</td>\n",
       "      <td>1.0</td>\n",
       "      <td>14.0</td>\n",
       "      <td>kernel_vectorAdd(float const *, float const *,...</td>\n",
       "    </tr>\n",
       "    <tr>\n",
       "      <th>8</th>\n",
       "      <td>693.294222</td>\n",
       "      <td>9.522868</td>\n",
       "      <td>NaN</td>\n",
       "      <td>NaN</td>\n",
       "      <td>NaN</td>\n",
       "      <td>NaN</td>\n",
       "      <td>NaN</td>\n",
       "      <td>NaN</td>\n",
       "      <td>NaN</td>\n",
       "      <td>NaN</td>\n",
       "      <td>NaN</td>\n",
       "      <td>38.146973</td>\n",
       "      <td>3.911942</td>\n",
       "      <td>GeForce GTX 950 (0)</td>\n",
       "      <td>1.0</td>\n",
       "      <td>14.0</td>\n",
       "      <td>[CUDA memcpy DtoH]</td>\n",
       "    </tr>\n",
       "  </tbody>\n",
       "</table>\n",
       "</div>"
      ],
      "text/plain": [
       "        Start   Duration   Grid X  Grid Y  Grid Z  Block X  Block Y  Block Z  \\\n",
       "0          ms         ms      NaN     NaN     NaN      NaN      NaN      NaN   \n",
       "1  665.032627  10.783099      NaN     NaN     NaN      NaN      NaN      NaN   \n",
       "2  668.190628  12.898855      NaN     NaN     NaN      NaN      NaN      NaN   \n",
       "3  675.816942  12.913127      NaN     NaN     NaN      NaN      NaN      NaN   \n",
       "4  681.090667  10.213144      NaN     NaN     NaN      NaN      NaN      NaN   \n",
       "5  688.741397   1.377896  39063.0     1.0     1.0    256.0      1.0      1.0   \n",
       "6  690.126461  10.658490      NaN     NaN     NaN      NaN      NaN      NaN   \n",
       "7  691.316867   1.366120  39063.0     1.0     1.0    256.0      1.0      1.0   \n",
       "8  693.294222   9.522868      NaN     NaN     NaN      NaN      NaN      NaN   \n",
       "\n",
       "   Registers Per Thread Static SMem Dynamic SMem       Size Throughput  \\\n",
       "0                   NaN           B            B         MB       GB/s   \n",
       "1                   NaN         NaN          NaN  38.146973   3.454749   \n",
       "2                   NaN         NaN          NaN  38.146973   2.888078   \n",
       "3                   NaN         NaN          NaN  38.146973   2.884886   \n",
       "4                   NaN         NaN          NaN  38.146973   3.647545   \n",
       "5                   8.0           0            0        NaN        NaN   \n",
       "6                   NaN         NaN          NaN  38.146973   3.495139   \n",
       "7                   8.0           0            0        NaN        NaN   \n",
       "8                   NaN         NaN          NaN  38.146973   3.911942   \n",
       "\n",
       "                Device  Context  Stream  \\\n",
       "0                  NaN      NaN     NaN   \n",
       "1  GeForce GTX 950 (0)      1.0    13.0   \n",
       "2  GeForce GTX 950 (0)      1.0    14.0   \n",
       "3  GeForce GTX 950 (0)      1.0    13.0   \n",
       "4  GeForce GTX 950 (0)      1.0    14.0   \n",
       "5  GeForce GTX 950 (0)      1.0    13.0   \n",
       "6  GeForce GTX 950 (0)      1.0    13.0   \n",
       "7  GeForce GTX 950 (0)      1.0    14.0   \n",
       "8  GeForce GTX 950 (0)      1.0    14.0   \n",
       "\n",
       "                                                Name  \n",
       "0                                                NaN  \n",
       "1                                 [CUDA memcpy HtoD]  \n",
       "2                                 [CUDA memcpy HtoD]  \n",
       "3                                 [CUDA memcpy HtoD]  \n",
       "4                                 [CUDA memcpy HtoD]  \n",
       "5  kernel_vectorAdd(float const *, float const *,...  \n",
       "6                                 [CUDA memcpy DtoH]  \n",
       "7  kernel_vectorAdd(float const *, float const *,...  \n",
       "8                                 [CUDA memcpy DtoH]  "
      ]
     },
     "execution_count": 46,
     "metadata": {},
     "output_type": "execute_result"
    }
   ],
   "source": [
    "df_trace_2cke"
   ]
  },
  {
   "cell_type": "code",
   "execution_count": 47,
   "metadata": {
    "collapsed": false,
    "deletable": true,
    "editable": true,
    "run_control": {
     "marked": false
    },
    "scrolled": true
   },
   "outputs": [
    {
     "data": {
      "image/png": "[encoded data removed]",
      "text/plain": [
       "<matplotlib.figure.Figure at 0x11732c290>"
      ]
     },
     "metadata": {},
     "output_type": "display_data"
    }
   ],
   "source": [
    "cuda_timeline.plot_trace(df_trace_2cke)"
   ]
  },
  {
   "cell_type": "markdown",
   "metadata": {
    "deletable": true,
    "editable": true,
    "run_control": {
     "marked": false
    }
   },
   "source": [
    "# 1cke - read trace and reset the timeline"
   ]
  },
  {
   "cell_type": "code",
   "execution_count": 48,
   "metadata": {
    "collapsed": false,
    "deletable": true,
    "editable": true,
    "run_control": {
     "marked": false
    }
   },
   "outputs": [],
   "source": [
    "df_single_stream = read_trace.get_timing(df_trace)"
   ]
  },
  {
   "cell_type": "code",
   "execution_count": 49,
   "metadata": {
    "collapsed": false,
    "deletable": true,
    "editable": true,
    "run_control": {
     "marked": false
    }
   },
   "outputs": [
    {
     "data": {
      "text/html": [
       "<div>\n",
       "<table border=\"1\" class=\"dataframe\">\n",
       "  <thead>\n",
       "    <tr style=\"text-align: right;\">\n",
       "      <th></th>\n",
       "      <th>stream</th>\n",
       "      <th>api_type</th>\n",
       "      <th>start</th>\n",
       "      <th>end</th>\n",
       "      <th>size</th>\n",
       "      <th>duration</th>\n",
       "    </tr>\n",
       "  </thead>\n",
       "  <tbody>\n",
       "    <tr>\n",
       "      <th>0</th>\n",
       "      <td>0.0</td>\n",
       "      <td>h2d</td>\n",
       "      <td>610.840271</td>\n",
       "      <td>617.277086</td>\n",
       "      <td>38146.973</td>\n",
       "      <td>6.436815</td>\n",
       "    </tr>\n",
       "    <tr>\n",
       "      <th>1</th>\n",
       "      <td>0.0</td>\n",
       "      <td>h2d</td>\n",
       "      <td>617.278302</td>\n",
       "      <td>623.708301</td>\n",
       "      <td>38146.973</td>\n",
       "      <td>6.429999</td>\n",
       "    </tr>\n",
       "    <tr>\n",
       "      <th>2</th>\n",
       "      <td>0.0</td>\n",
       "      <td>kern</td>\n",
       "      <td>623.719789</td>\n",
       "      <td>624.996407</td>\n",
       "      <td>0.000</td>\n",
       "      <td>1.276618</td>\n",
       "    </tr>\n",
       "    <tr>\n",
       "      <th>3</th>\n",
       "      <td>0.0</td>\n",
       "      <td>d2h</td>\n",
       "      <td>625.003191</td>\n",
       "      <td>631.272837</td>\n",
       "      <td>38146.973</td>\n",
       "      <td>6.269646</td>\n",
       "    </tr>\n",
       "  </tbody>\n",
       "</table>\n",
       "</div>"
      ],
      "text/plain": [
       "   stream api_type       start         end       size  duration\n",
       "0     0.0      h2d  610.840271  617.277086  38146.973  6.436815\n",
       "1     0.0      h2d  617.278302  623.708301  38146.973  6.429999\n",
       "2     0.0     kern  623.719789  624.996407      0.000  1.276618\n",
       "3     0.0      d2h  625.003191  631.272837  38146.973  6.269646"
      ]
     },
     "execution_count": 49,
     "metadata": {},
     "output_type": "execute_result"
    }
   ],
   "source": [
    "df_single_stream"
   ]
  },
  {
   "cell_type": "code",
   "execution_count": 50,
   "metadata": {
    "collapsed": false,
    "deletable": true,
    "editable": true,
    "run_control": {
     "marked": false
    }
   },
   "outputs": [],
   "source": [
    "df_s1 = read_trace.reset_starting(df_single_stream)"
   ]
  },
  {
   "cell_type": "code",
   "execution_count": 51,
   "metadata": {
    "collapsed": false,
    "deletable": true,
    "editable": true,
    "run_control": {
     "marked": false
    }
   },
   "outputs": [
    {
     "data": {
      "text/html": [
       "<div>\n",
       "<table border=\"1\" class=\"dataframe\">\n",
       "  <thead>\n",
       "    <tr style=\"text-align: right;\">\n",
       "      <th></th>\n",
       "      <th>stream</th>\n",
       "      <th>api_type</th>\n",
       "      <th>start</th>\n",
       "      <th>end</th>\n",
       "      <th>size</th>\n",
       "      <th>duration</th>\n",
       "    </tr>\n",
       "  </thead>\n",
       "  <tbody>\n",
       "    <tr>\n",
       "      <th>0</th>\n",
       "      <td>0.0</td>\n",
       "      <td>h2d</td>\n",
       "      <td>0.000000</td>\n",
       "      <td>6.436815</td>\n",
       "      <td>38146.973</td>\n",
       "      <td>6.436815</td>\n",
       "    </tr>\n",
       "    <tr>\n",
       "      <th>1</th>\n",
       "      <td>0.0</td>\n",
       "      <td>h2d</td>\n",
       "      <td>6.438031</td>\n",
       "      <td>12.868030</td>\n",
       "      <td>38146.973</td>\n",
       "      <td>6.429999</td>\n",
       "    </tr>\n",
       "    <tr>\n",
       "      <th>2</th>\n",
       "      <td>0.0</td>\n",
       "      <td>kern</td>\n",
       "      <td>12.879518</td>\n",
       "      <td>14.156136</td>\n",
       "      <td>0.000</td>\n",
       "      <td>1.276618</td>\n",
       "    </tr>\n",
       "    <tr>\n",
       "      <th>3</th>\n",
       "      <td>0.0</td>\n",
       "      <td>d2h</td>\n",
       "      <td>14.162920</td>\n",
       "      <td>20.432566</td>\n",
       "      <td>38146.973</td>\n",
       "      <td>6.269646</td>\n",
       "    </tr>\n",
       "  </tbody>\n",
       "</table>\n",
       "</div>"
      ],
      "text/plain": [
       "   stream api_type      start        end       size  duration\n",
       "0     0.0      h2d   0.000000   6.436815  38146.973  6.436815\n",
       "1     0.0      h2d   6.438031  12.868030  38146.973  6.429999\n",
       "2     0.0     kern  12.879518  14.156136      0.000  1.276618\n",
       "3     0.0      d2h  14.162920  20.432566  38146.973  6.269646"
      ]
     },
     "execution_count": 51,
     "metadata": {},
     "output_type": "execute_result"
    }
   ],
   "source": [
    "df_s1"
   ]
  },
  {
   "cell_type": "markdown",
   "metadata": {
    "deletable": true,
    "editable": true,
    "run_control": {
     "marked": false
    }
   },
   "source": [
    "### 2cke case"
   ]
  },
  {
   "cell_type": "code",
   "execution_count": 52,
   "metadata": {
    "collapsed": true,
    "deletable": true,
    "editable": true,
    "run_control": {
     "marked": false
    }
   },
   "outputs": [],
   "source": [
    "df_2stream = read_trace.get_timing(df_trace_2cke)"
   ]
  },
  {
   "cell_type": "code",
   "execution_count": 53,
   "metadata": {
    "collapsed": false,
    "deletable": true,
    "editable": true,
    "run_control": {
     "marked": false
    },
    "scrolled": true
   },
   "outputs": [
    {
     "data": {
      "text/html": [
       "<div>\n",
       "<table border=\"1\" class=\"dataframe\">\n",
       "  <thead>\n",
       "    <tr style=\"text-align: right;\">\n",
       "      <th></th>\n",
       "      <th>stream</th>\n",
       "      <th>api_type</th>\n",
       "      <th>start</th>\n",
       "      <th>end</th>\n",
       "      <th>size</th>\n",
       "      <th>duration</th>\n",
       "    </tr>\n",
       "  </thead>\n",
       "  <tbody>\n",
       "    <tr>\n",
       "      <th>0</th>\n",
       "      <td>0.0</td>\n",
       "      <td>h2d</td>\n",
       "      <td>665.032627</td>\n",
       "      <td>675.815726</td>\n",
       "      <td>38146.973</td>\n",
       "      <td>10.783099</td>\n",
       "    </tr>\n",
       "    <tr>\n",
       "      <th>1</th>\n",
       "      <td>0.0</td>\n",
       "      <td>h2d</td>\n",
       "      <td>675.816942</td>\n",
       "      <td>688.730069</td>\n",
       "      <td>38146.973</td>\n",
       "      <td>12.913127</td>\n",
       "    </tr>\n",
       "    <tr>\n",
       "      <th>2</th>\n",
       "      <td>0.0</td>\n",
       "      <td>kern</td>\n",
       "      <td>688.741397</td>\n",
       "      <td>690.119293</td>\n",
       "      <td>0.000</td>\n",
       "      <td>1.377896</td>\n",
       "    </tr>\n",
       "    <tr>\n",
       "      <th>3</th>\n",
       "      <td>0.0</td>\n",
       "      <td>d2h</td>\n",
       "      <td>690.126461</td>\n",
       "      <td>700.784951</td>\n",
       "      <td>38146.973</td>\n",
       "      <td>10.658490</td>\n",
       "    </tr>\n",
       "    <tr>\n",
       "      <th>4</th>\n",
       "      <td>1.0</td>\n",
       "      <td>h2d</td>\n",
       "      <td>668.190628</td>\n",
       "      <td>681.089483</td>\n",
       "      <td>38146.973</td>\n",
       "      <td>12.898855</td>\n",
       "    </tr>\n",
       "    <tr>\n",
       "      <th>5</th>\n",
       "      <td>1.0</td>\n",
       "      <td>h2d</td>\n",
       "      <td>681.090667</td>\n",
       "      <td>691.303811</td>\n",
       "      <td>38146.973</td>\n",
       "      <td>10.213144</td>\n",
       "    </tr>\n",
       "    <tr>\n",
       "      <th>6</th>\n",
       "      <td>1.0</td>\n",
       "      <td>kern</td>\n",
       "      <td>691.316867</td>\n",
       "      <td>692.682987</td>\n",
       "      <td>0.000</td>\n",
       "      <td>1.366120</td>\n",
       "    </tr>\n",
       "    <tr>\n",
       "      <th>7</th>\n",
       "      <td>1.0</td>\n",
       "      <td>d2h</td>\n",
       "      <td>693.294222</td>\n",
       "      <td>702.817090</td>\n",
       "      <td>38146.973</td>\n",
       "      <td>9.522868</td>\n",
       "    </tr>\n",
       "  </tbody>\n",
       "</table>\n",
       "</div>"
      ],
      "text/plain": [
       "   stream api_type       start         end       size   duration\n",
       "0     0.0      h2d  665.032627  675.815726  38146.973  10.783099\n",
       "1     0.0      h2d  675.816942  688.730069  38146.973  12.913127\n",
       "2     0.0     kern  688.741397  690.119293      0.000   1.377896\n",
       "3     0.0      d2h  690.126461  700.784951  38146.973  10.658490\n",
       "4     1.0      h2d  668.190628  681.089483  38146.973  12.898855\n",
       "5     1.0      h2d  681.090667  691.303811  38146.973  10.213144\n",
       "6     1.0     kern  691.316867  692.682987      0.000   1.366120\n",
       "7     1.0      d2h  693.294222  702.817090  38146.973   9.522868"
      ]
     },
     "execution_count": 53,
     "metadata": {},
     "output_type": "execute_result"
    }
   ],
   "source": [
    "df_2stream"
   ]
  },
  {
   "cell_type": "code",
   "execution_count": 54,
   "metadata": {
    "collapsed": false,
    "deletable": true,
    "editable": true,
    "run_control": {
     "marked": false
    }
   },
   "outputs": [
    {
     "name": "stdout",
     "output_type": "stream",
     "text": [
      "37.784463\n"
     ]
    }
   ],
   "source": [
    "tot_runtime = read_trace.getTotalRuntime(df_2stream)\n",
    "print tot_runtime"
   ]
  },
  {
   "cell_type": "markdown",
   "metadata": {
    "deletable": true,
    "editable": true,
    "run_control": {
     "marked": false
    }
   },
   "source": [
    "# 2 cke"
   ]
  },
  {
   "cell_type": "code",
   "execution_count": 55,
   "metadata": {
    "collapsed": false,
    "deletable": true,
    "editable": true,
    "run_control": {
     "marked": false
    }
   },
   "outputs": [],
   "source": [
    "stream_num = 2\n",
    "\n",
    "# find when to start the stream and update the starting pos for the trace\n",
    "H2D_H2D_OVLP_TH = 3.158431\n",
    "\n",
    "df_cke_list = cke.init_trace_list(df_s1, stream_num = stream_num, h2d_ovlp_th = H2D_H2D_OVLP_TH)"
   ]
  },
  {
   "cell_type": "code",
   "execution_count": 57,
   "metadata": {
    "collapsed": false,
    "deletable": true,
    "editable": true,
    "run_control": {
     "marked": false
    }
   },
   "outputs": [
    {
     "data": {
      "text/html": [
       "<div>\n",
       "<table border=\"1\" class=\"dataframe\">\n",
       "  <thead>\n",
       "    <tr style=\"text-align: right;\">\n",
       "      <th></th>\n",
       "      <th>stream</th>\n",
       "      <th>api_type</th>\n",
       "      <th>start</th>\n",
       "      <th>end</th>\n",
       "      <th>size</th>\n",
       "      <th>duration</th>\n",
       "    </tr>\n",
       "  </thead>\n",
       "  <tbody>\n",
       "    <tr>\n",
       "      <th>0</th>\n",
       "      <td>0</td>\n",
       "      <td>h2d</td>\n",
       "      <td>0.000000</td>\n",
       "      <td>6.436815</td>\n",
       "      <td>38146.973</td>\n",
       "      <td>6.436815</td>\n",
       "    </tr>\n",
       "    <tr>\n",
       "      <th>1</th>\n",
       "      <td>0</td>\n",
       "      <td>h2d</td>\n",
       "      <td>6.438031</td>\n",
       "      <td>12.868030</td>\n",
       "      <td>38146.973</td>\n",
       "      <td>6.429999</td>\n",
       "    </tr>\n",
       "    <tr>\n",
       "      <th>2</th>\n",
       "      <td>0</td>\n",
       "      <td>kern</td>\n",
       "      <td>12.879518</td>\n",
       "      <td>14.156136</td>\n",
       "      <td>0.000</td>\n",
       "      <td>1.276618</td>\n",
       "    </tr>\n",
       "    <tr>\n",
       "      <th>3</th>\n",
       "      <td>0</td>\n",
       "      <td>d2h</td>\n",
       "      <td>14.162920</td>\n",
       "      <td>20.432566</td>\n",
       "      <td>38146.973</td>\n",
       "      <td>6.269646</td>\n",
       "    </tr>\n",
       "  </tbody>\n",
       "</table>\n",
       "</div>"
      ],
      "text/plain": [
       "   stream api_type      start        end       size  duration\n",
       "0       0      h2d   0.000000   6.436815  38146.973  6.436815\n",
       "1       0      h2d   6.438031  12.868030  38146.973  6.429999\n",
       "2       0     kern  12.879518  14.156136      0.000  1.276618\n",
       "3       0      d2h  14.162920  20.432566  38146.973  6.269646"
      ]
     },
     "execution_count": 57,
     "metadata": {},
     "output_type": "execute_result"
    }
   ],
   "source": [
    "df_cke_list[0]"
   ]
  },
  {
   "cell_type": "code",
   "execution_count": 58,
   "metadata": {
    "collapsed": false,
    "deletable": true,
    "editable": true,
    "run_control": {
     "marked": false
    }
   },
   "outputs": [
    {
     "data": {
      "text/html": [
       "<div>\n",
       "<table border=\"1\" class=\"dataframe\">\n",
       "  <thead>\n",
       "    <tr style=\"text-align: right;\">\n",
       "      <th></th>\n",
       "      <th>stream</th>\n",
       "      <th>api_type</th>\n",
       "      <th>start</th>\n",
       "      <th>end</th>\n",
       "      <th>size</th>\n",
       "      <th>duration</th>\n",
       "    </tr>\n",
       "  </thead>\n",
       "  <tbody>\n",
       "    <tr>\n",
       "      <th>0</th>\n",
       "      <td>1</td>\n",
       "      <td>h2d</td>\n",
       "      <td>3.158431</td>\n",
       "      <td>9.595246</td>\n",
       "      <td>38146.973</td>\n",
       "      <td>6.436815</td>\n",
       "    </tr>\n",
       "    <tr>\n",
       "      <th>1</th>\n",
       "      <td>1</td>\n",
       "      <td>h2d</td>\n",
       "      <td>9.596462</td>\n",
       "      <td>16.026461</td>\n",
       "      <td>38146.973</td>\n",
       "      <td>6.429999</td>\n",
       "    </tr>\n",
       "    <tr>\n",
       "      <th>2</th>\n",
       "      <td>1</td>\n",
       "      <td>kern</td>\n",
       "      <td>16.037949</td>\n",
       "      <td>17.314567</td>\n",
       "      <td>0.000</td>\n",
       "      <td>1.276618</td>\n",
       "    </tr>\n",
       "    <tr>\n",
       "      <th>3</th>\n",
       "      <td>1</td>\n",
       "      <td>d2h</td>\n",
       "      <td>17.321351</td>\n",
       "      <td>23.590997</td>\n",
       "      <td>38146.973</td>\n",
       "      <td>6.269646</td>\n",
       "    </tr>\n",
       "  </tbody>\n",
       "</table>\n",
       "</div>"
      ],
      "text/plain": [
       "   stream api_type      start        end       size  duration\n",
       "0       1      h2d   3.158431   9.595246  38146.973  6.436815\n",
       "1       1      h2d   9.596462  16.026461  38146.973  6.429999\n",
       "2       1     kern  16.037949  17.314567      0.000  1.276618\n",
       "3       1      d2h  17.321351  23.590997  38146.973  6.269646"
      ]
     },
     "execution_count": 58,
     "metadata": {},
     "output_type": "execute_result"
    }
   ],
   "source": [
    "df_cke_list[1]"
   ]
  },
  {
   "cell_type": "markdown",
   "metadata": {},
   "source": [
    "### sort"
   ]
  },
  {
   "cell_type": "code",
   "execution_count": 19,
   "metadata": {
    "collapsed": false,
    "deletable": true,
    "editable": true,
    "run_control": {
     "marked": false
    }
   },
   "outputs": [],
   "source": [
    "df_all_api = cke.init_sort_api_with_extra_cols(df_cke_list)"
   ]
  },
  {
   "cell_type": "code",
   "execution_count": 20,
   "metadata": {
    "collapsed": false,
    "deletable": true,
    "editable": true,
    "run_control": {
     "marked": false
    }
   },
   "outputs": [],
   "source": [
    "df_all_api"
   ]
  },
  {
   "cell_type": "code",
   "execution_count": 21,
   "metadata": {
    "collapsed": false,
    "deletable": true,
    "editable": true,
    "run_control": {
     "marked": false
    },
    "scrolled": true
   },
   "outputs": [],
   "source": [
    "#df_all_api.loc[df_all_api.stream_id == 0]"
   ]
  },
  {
   "cell_type": "code",
   "execution_count": 22,
   "metadata": {
    "collapsed": false,
    "deletable": true,
    "editable": true,
    "run_control": {
     "marked": false
    }
   },
   "outputs": [],
   "source": [
    "# print df_all_api.iloc[0]\n",
    "# print df_all_api.iloc[1]"
   ]
  },
  {
   "cell_type": "code",
   "execution_count": 23,
   "metadata": {
    "collapsed": false
   },
   "outputs": [],
   "source": [
    "#df_all_api"
   ]
  },
  {
   "cell_type": "code",
   "execution_count": 24,
   "metadata": {
    "collapsed": false
   },
   "outputs": [],
   "source": [
    "# pick the 1st sleep call and wake up\n",
    "r1 = cke.pick_first_in_sleep(df_all_api)\n",
    "df_all_api = SetWake(df_all_api, r1)\n",
    "\n",
    "# pick another in the sleep mode, if it is from the same stream, there is non ovlp\n",
    "r2 = cke.pick_first_in_sleep(df_all_api)\n",
    "df_all_api = SetWake(df_all_api, r2)\n",
    "#print('r2 {}'.format(r2))\n",
    "\n",
    "# check concurrency\n",
    "conc = cke.check_cc(df_all_api, r1, r2)\n",
    "\n",
    "# concurrency\n",
    "if conc == True:\n",
    "    df_all_api = cke.update_before_conc(df_all_api, r1, r2)\n",
    "    # set r2 to wake\n",
    "    df_all_api = SetWake(df_all_api, r2)\n",
    "    # current concurrency\n",
    "    cc = 2.0\n",
    "    # predict with concurrency for rows 0 and 1\n",
    "    df_all_api = cke.Predict_end(df_all_api, [r1, r2], ways = cc)\n",
    "    # get the time range from wake api, to check the next concurrent api\n",
    "    rangeT = cke.Get_next_range(df_all_api)\n",
    "    #print rangeT\n",
    "    \n",
    "    extra_conc = cke.check_cc_by_time(df_all_api, rangeT) # check whether there is conc during the rangeT\n",
    "    \n",
    "    if extra_conc == 0: # update timing using the pred_end\n",
    "        df_all_api = cke.Update_with_pred_end(df_all_api, rangeT, ways = cc)\n",
    "        # check if any api is done, and update the timing for the other apis in that stream\n",
    "        df_all_api = cke.UpdateStreamTime(df_all_api)"
   ]
  },
  {
   "cell_type": "code",
   "execution_count": 25,
   "metadata": {
    "collapsed": false
   },
   "outputs": [
    {
     "data": {
      "text/html": [
       "<div>\n",
       "<table border=\"1\" class=\"dataframe\">\n",
       "  <thead>\n",
       "    <tr style=\"text-align: right;\">\n",
       "      <th></th>\n",
       "      <th>start</th>\n",
       "      <th>end</th>\n",
       "      <th>api_type</th>\n",
       "      <th>size_kb</th>\n",
       "      <th>stream_id</th>\n",
       "      <th>status</th>\n",
       "      <th>bw</th>\n",
       "      <th>bytes_done</th>\n",
       "      <th>bytes_left</th>\n",
       "      <th>current_pos</th>\n",
       "      <th>time_left</th>\n",
       "      <th>pred_end</th>\n",
       "    </tr>\n",
       "  </thead>\n",
       "  <tbody>\n",
       "    <tr>\n",
       "      <th>0</th>\n",
       "      <td>0.000000</td>\n",
       "      <td>9.715199</td>\n",
       "      <td>h2d</td>\n",
       "      <td>38146.973</td>\n",
       "      <td>0.0</td>\n",
       "      <td>done</td>\n",
       "      <td>5926.373991</td>\n",
       "      <td>38146.97300</td>\n",
       "      <td>0.00000</td>\n",
       "      <td>9.715199</td>\n",
       "      <td>0.0</td>\n",
       "      <td>9.715199</td>\n",
       "    </tr>\n",
       "    <tr>\n",
       "      <th>4</th>\n",
       "      <td>3.158431</td>\n",
       "      <td>9.595246</td>\n",
       "      <td>h2d</td>\n",
       "      <td>38146.973</td>\n",
       "      <td>1.0</td>\n",
       "      <td>wake</td>\n",
       "      <td>5926.373991</td>\n",
       "      <td>19428.92967</td>\n",
       "      <td>18718.04333</td>\n",
       "      <td>9.715199</td>\n",
       "      <td>0.0</td>\n",
       "      <td>0.000000</td>\n",
       "    </tr>\n",
       "    <tr>\n",
       "      <th>1</th>\n",
       "      <td>9.716415</td>\n",
       "      <td>16.146414</td>\n",
       "      <td>h2d</td>\n",
       "      <td>38146.973</td>\n",
       "      <td>0.0</td>\n",
       "      <td>sleep</td>\n",
       "      <td>5932.656133</td>\n",
       "      <td>0.00000</td>\n",
       "      <td>38146.97300</td>\n",
       "      <td>0.000000</td>\n",
       "      <td>0.0</td>\n",
       "      <td>0.000000</td>\n",
       "    </tr>\n",
       "    <tr>\n",
       "      <th>5</th>\n",
       "      <td>9.596462</td>\n",
       "      <td>16.026461</td>\n",
       "      <td>h2d</td>\n",
       "      <td>38146.973</td>\n",
       "      <td>1.0</td>\n",
       "      <td>sleep</td>\n",
       "      <td>5932.656133</td>\n",
       "      <td>0.00000</td>\n",
       "      <td>38146.97300</td>\n",
       "      <td>0.000000</td>\n",
       "      <td>0.0</td>\n",
       "      <td>0.000000</td>\n",
       "    </tr>\n",
       "    <tr>\n",
       "      <th>2</th>\n",
       "      <td>16.157902</td>\n",
       "      <td>17.434520</td>\n",
       "      <td>kern</td>\n",
       "      <td>0.000</td>\n",
       "      <td>0.0</td>\n",
       "      <td>sleep</td>\n",
       "      <td>0.000000</td>\n",
       "      <td>0.00000</td>\n",
       "      <td>0.00000</td>\n",
       "      <td>0.000000</td>\n",
       "      <td>0.0</td>\n",
       "      <td>0.000000</td>\n",
       "    </tr>\n",
       "    <tr>\n",
       "      <th>3</th>\n",
       "      <td>17.441304</td>\n",
       "      <td>23.710950</td>\n",
       "      <td>d2h</td>\n",
       "      <td>38146.973</td>\n",
       "      <td>0.0</td>\n",
       "      <td>sleep</td>\n",
       "      <td>6084.390251</td>\n",
       "      <td>0.00000</td>\n",
       "      <td>38146.97300</td>\n",
       "      <td>0.000000</td>\n",
       "      <td>0.0</td>\n",
       "      <td>0.000000</td>\n",
       "    </tr>\n",
       "    <tr>\n",
       "      <th>6</th>\n",
       "      <td>16.037949</td>\n",
       "      <td>17.314567</td>\n",
       "      <td>kern</td>\n",
       "      <td>0.000</td>\n",
       "      <td>1.0</td>\n",
       "      <td>sleep</td>\n",
       "      <td>0.000000</td>\n",
       "      <td>0.00000</td>\n",
       "      <td>0.00000</td>\n",
       "      <td>0.000000</td>\n",
       "      <td>0.0</td>\n",
       "      <td>0.000000</td>\n",
       "    </tr>\n",
       "    <tr>\n",
       "      <th>7</th>\n",
       "      <td>17.321351</td>\n",
       "      <td>23.590997</td>\n",
       "      <td>d2h</td>\n",
       "      <td>38146.973</td>\n",
       "      <td>1.0</td>\n",
       "      <td>sleep</td>\n",
       "      <td>6084.390251</td>\n",
       "      <td>0.00000</td>\n",
       "      <td>38146.97300</td>\n",
       "      <td>0.000000</td>\n",
       "      <td>0.0</td>\n",
       "      <td>0.000000</td>\n",
       "    </tr>\n",
       "  </tbody>\n",
       "</table>\n",
       "</div>"
      ],
      "text/plain": [
       "       start        end api_type    size_kb  stream_id status           bw  \\\n",
       "0   0.000000   9.715199      h2d  38146.973        0.0   done  5926.373991   \n",
       "4   3.158431   9.595246      h2d  38146.973        1.0   wake  5926.373991   \n",
       "1   9.716415  16.146414      h2d  38146.973        0.0  sleep  5932.656133   \n",
       "5   9.596462  16.026461      h2d  38146.973        1.0  sleep  5932.656133   \n",
       "2  16.157902  17.434520     kern      0.000        0.0  sleep     0.000000   \n",
       "3  17.441304  23.710950      d2h  38146.973        0.0  sleep  6084.390251   \n",
       "6  16.037949  17.314567     kern      0.000        1.0  sleep     0.000000   \n",
       "7  17.321351  23.590997      d2h  38146.973        1.0  sleep  6084.390251   \n",
       "\n",
       "    bytes_done   bytes_left  current_pos  time_left  pred_end  \n",
       "0  38146.97300      0.00000     9.715199        0.0  9.715199  \n",
       "4  19428.92967  18718.04333     9.715199        0.0  0.000000  \n",
       "1      0.00000  38146.97300     0.000000        0.0  0.000000  \n",
       "5      0.00000  38146.97300     0.000000        0.0  0.000000  \n",
       "2      0.00000      0.00000     0.000000        0.0  0.000000  \n",
       "3      0.00000  38146.97300     0.000000        0.0  0.000000  \n",
       "6      0.00000      0.00000     0.000000        0.0  0.000000  \n",
       "7      0.00000  38146.97300     0.000000        0.0  0.000000  "
      ]
     },
     "execution_count": 25,
     "metadata": {},
     "output_type": "execute_result"
    }
   ],
   "source": [
    "df_all_api"
   ]
  },
  {
   "cell_type": "code",
   "execution_count": 26,
   "metadata": {
    "collapsed": false
   },
   "outputs": [],
   "source": [
    "## select the next api/call to wake it up\n",
    "\n",
    "# pick another in the sleep mode, if it is from the same stream, there is non ovlp\n",
    "r3 = cke.pick_first_in_sleep(df_all_api)\n",
    "df_all_api = SetWake(df_all_api, r3)\n",
    "#print r3\n",
    "\n",
    "# the current_pos is ahead of coming call start: move to the next start\n",
    "df_all_api = cke.StartNext(df_all_api, [r2, r3])\n",
    "\n",
    "# check the concurrency, and predict accordingly\n",
    "# check concurrency\n",
    "df_all_api = cke.Predict_checkCC(df_all_api, r2, r3)\n",
    "\n",
    "# get the time range from wake api, to check the next concurrent api\n",
    "rangeT = cke.Get_next_range(df_all_api)\n",
    "#print rangeT\n",
    "\n",
    "extra_conc = cke.check_cc_by_time(df_all_api, rangeT) # check whether there is conc during the rangeT\n",
    "#print extra_conc\n",
    "\n",
    "if extra_conc == 0: # update timing using the pred_end\n",
    "    df_all_api = cke.Update_with_pred_end(df_all_api, rangeT, ways = 2.0)\n",
    "    # check if any api is done, and update the timing for the other apis in that stream\n",
    "    df_all_api = cke.UpdateStreamTime(df_all_api)"
   ]
  },
  {
   "cell_type": "code",
   "execution_count": 27,
   "metadata": {
    "collapsed": false
   },
   "outputs": [],
   "source": [
    "# pick another in the sleep mode, if it is from the same stream, there is non ovlp\n",
    "r4 = cke.pick_first_in_sleep(df_all_api)\n",
    "df_all_api = SetWake(df_all_api, r4)\n",
    "#print r4\n",
    "\n",
    "# the current_pos is ahead of coming call start: move to the next start\n",
    "df_all_api = cke.StartNext(df_all_api, [r3, r4])\n",
    "\n",
    "# check the concurrency, and predict accordingly\n",
    "# check concurrency\n",
    "df_all_api = cke.Predict_checkCC(df_all_api, r3, r4)\n",
    "\n",
    "# get the time range from wake api, to check the next concurrent api\n",
    "rangeT = cke.Get_next_range(df_all_api)\n",
    "#print rangeT\n",
    "\n",
    "extra_conc = cke.check_cc_by_time(df_all_api, rangeT) # check whether there is conc during the rangeT\n",
    "# print extra_conc\n",
    "\n",
    "if extra_conc == 0: # update timing using the pred_end\n",
    "    df_all_api = cke.Update_with_pred_end(df_all_api, rangeT, ways = 2.0)\n",
    "    # check if any api is done, and update the timing for the other apis in that stream\n",
    "    df_all_api = cke.UpdateStreamTime(df_all_api)"
   ]
  },
  {
   "cell_type": "code",
   "execution_count": 28,
   "metadata": {
    "collapsed": false
   },
   "outputs": [
    {
     "name": "stdout",
     "output_type": "stream",
     "text": [
      "2\n"
     ]
    }
   ],
   "source": [
    "# pick another in the sleep mode, if it is from the same stream, there is non ovlp\n",
    "r5 = cke.pick_first_in_sleep(df_all_api)\n",
    "df_all_api = SetWake(df_all_api, r5)\n",
    "print r5\n",
    "\n",
    "# the current_pos is ahead of coming call start: move to the next start\n",
    "df_all_api = cke.StartNext_checktype(df_all_api, [r4, r5])\n",
    "\n",
    "# we need to check whether r4 and r5 are the same api type\n",
    "# if not, there will be no conflict (in this case, we can directly predict their end time)\n",
    "whichType = cke.checkType(df_all_api, r4, r5)\n",
    "\n",
    "if whichType == None:\n",
    "    # api type is different, there is no conflict\n",
    "    df_all_api = cke.Predict_noConflict(df_all_api, r4, r5)\n",
    "    \n",
    "# get the time range from wake api, to check the next concurrent api\n",
    "rangeT = cke.Get_next_range(df_all_api)\n",
    "#print rangeT\n",
    "\n",
    "extra_conc = cke.check_cc_by_time(df_all_api, rangeT) # check whether there is conc during the rangeT\n",
    "#print extra_conc\n",
    "\n",
    "if extra_conc == 0: # update timing using the pred_end\n",
    "    df_all_api = cke.Update_wake_noConflict(df_all_api, rangeT)\n",
    "    # check if any api is done, and update the timing for the other apis in that stream\n",
    "    df_all_api = cke.UpdateStreamTime(df_all_api)"
   ]
  },
  {
   "cell_type": "code",
   "execution_count": 29,
   "metadata": {
    "collapsed": false
   },
   "outputs": [
    {
     "name": "stdout",
     "output_type": "stream",
     "text": [
      "5\n",
      "3\n",
      "None\n"
     ]
    }
   ],
   "source": [
    "# pick another in the sleep mode, if it is from the same stream, there is non ovlp\n",
    "r6 = cke.pick_first_in_sleep(df_all_api)\n",
    "df_all_api = SetWake(df_all_api, r6)\n",
    "print r4\n",
    "print r6\n",
    "\n",
    "# Noted: we need to work on active wake api, use r4 and r6\n",
    "df_all_api = cke.StartNext_checktype(df_all_api, [r4, r6])\n",
    "\n",
    "# we need to check whether r4 and r5 are the same api type\n",
    "# if not, there will be no conflict (in this case, we can directly predict their end time)\n",
    "whichType = cke.checkType(df_all_api, r4, r6)\n",
    "print whichType\n",
    "\n",
    "if whichType == None:\n",
    "    df_all_api = cke.Predict_noConflict(df_all_api, r4, r6) # api type is different, there is no conflict\n",
    "    \n",
    "# get the time range from wake api, to check the next concurrent api\n",
    "rangeT = cke.Get_next_range(df_all_api)\n",
    "# print rangeT\n",
    "\n",
    "extra_conc = cke.check_cc_by_time(df_all_api, rangeT) # check whether there is conc during the rangeT\n",
    "# print extra_conc\n",
    "\n",
    "if extra_conc == 0: # update timing using the pred_end\n",
    "    df_all_api = cke.Update_wake_noConflict(df_all_api, rangeT)\n",
    "    # check if any api is done, and update the timing for the other apis in that stream\n",
    "    df_all_api = cke.UpdateStreamTime(df_all_api)"
   ]
  },
  {
   "cell_type": "code",
   "execution_count": 30,
   "metadata": {
    "collapsed": false
   },
   "outputs": [
    {
     "name": "stdout",
     "output_type": "stream",
     "text": [
      "6\n",
      "None\n",
      "[25.745115999999939, 27.021733999999924]\n",
      "0\n"
     ]
    }
   ],
   "source": [
    "# pick another in the sleep mode, if it is from the same stream, there is non ovlp\n",
    "r7 = cke.pick_first_in_sleep(df_all_api)\n",
    "df_all_api = SetWake(df_all_api, r7)\n",
    "print r7\n",
    "\n",
    "# the current_pos is ahead of coming call start: move to the next start\n",
    "df_all_api = cke.StartNext_checktype(df_all_api, [r6, r7])\n",
    "\n",
    "# we need to check whether they are the same api type\n",
    "# if not, there will be no conflict (in this case, we can directly predict their end time)\n",
    "whichType = cke.checkType(df_all_api, r6, r7)\n",
    "print whichType\n",
    "\n",
    "if whichType == None:\n",
    "    df_all_api = cke.Predict_noConflict(df_all_api, r6, r7) # api type is different, there is no conflict\n",
    "    \n",
    "# get the time range from wake api, to check the next concurrent api\n",
    "rangeT = cke.Get_next_range(df_all_api)\n",
    "print rangeT    \n",
    "\n",
    "extra_conc = cke.check_cc_by_time(df_all_api, rangeT) # check whether there is conc during the rangeT\n",
    "print extra_conc\n",
    "\n",
    "if extra_conc == 0: # update timing using the pred_end\n",
    "    df_all_api = cke.Update_wake_noConflict(df_all_api, rangeT)\n",
    "    # check if any api is done, and update the timing for the other apis in that stream\n",
    "    df_all_api = cke.UpdateStreamTime(df_all_api)"
   ]
  },
  {
   "cell_type": "code",
   "execution_count": 31,
   "metadata": {
    "collapsed": false
   },
   "outputs": [
    {
     "name": "stdout",
     "output_type": "stream",
     "text": [
      "7\n",
      "d2h\n",
      "[27.028517999999963, 33.250947999999894]\n",
      "0\n"
     ]
    }
   ],
   "source": [
    "# pick another in the sleep mode, if it is from the same stream, there is non ovlp\n",
    "r8 = cke.pick_first_in_sleep(df_all_api)\n",
    "df_all_api = SetWake(df_all_api, r8)\n",
    "print r8\n",
    "\n",
    "# the current_pos is ahead of coming call start: move to the next start\n",
    "df_all_api = cke.StartNext_checktype(df_all_api, [r6, r8])\n",
    "\n",
    "# we need to check whether r6 and r8 are the same api type\n",
    "# if not, there will be no conflict (in this case, we can directly predict their end time)\n",
    "# if they are overlapping, use conflict version\n",
    "whichType = cke.checkType(df_all_api, r6, r8)\n",
    "print whichType\n",
    "\n",
    "if whichType in ['h2d', 'd2h']:\n",
    "    df_all_api = cke.Predict_transferOvlp(df_all_api, r6, r8, ways = 2.0)\n",
    "    \n",
    "# get the time range from wake api, to check the next concurrent api\n",
    "rangeT = cke.Get_next_range(df_all_api)\n",
    "print rangeT    \n",
    "\n",
    "extra_conc = cke.check_cc_by_time(df_all_api, rangeT) # check whether there is conc during the rangeT\n",
    "print extra_conc\n",
    "\n",
    "if extra_conc == 0: # update timing using the pred_end\n",
    "    df_all_api = cke.Update_wake_transferOvlp(df_all_api, rangeT, ways = 2.0)\n",
    "    # check if any api is done, and update the timing for the other apis in that stream\n",
    "    df_all_api = cke.UpdateStreamTime(df_all_api)\n",
    "    "
   ]
  },
  {
   "cell_type": "code",
   "execution_count": 32,
   "metadata": {
    "collapsed": false
   },
   "outputs": [
    {
     "name": "stdout",
     "output_type": "stream",
     "text": [
      "None\n"
     ]
    }
   ],
   "source": [
    "# pick another in the sleep mode, if it is from the same stream, there is non ovlp\n",
    "r9 = cke.pick_first_in_sleep(df_all_api)\n",
    "print r9\n",
    "# df_all_api = SetWake(df_all_api, r8)\n",
    "# print r9\n",
    "\n",
    "if r9 == None:\n",
    "    # work on current wake api (this is the last api call)\n",
    "    # current_wake\n",
    "    df_all_api = cke.UpdateStream_lastapi(df_all_api)"
   ]
  },
  {
   "cell_type": "code",
   "execution_count": 33,
   "metadata": {
    "collapsed": false
   },
   "outputs": [
    {
     "data": {
      "text/html": [
       "<div>\n",
       "<table border=\"1\" class=\"dataframe\">\n",
       "  <thead>\n",
       "    <tr style=\"text-align: right;\">\n",
       "      <th></th>\n",
       "      <th>start</th>\n",
       "      <th>end</th>\n",
       "      <th>api_type</th>\n",
       "      <th>size_kb</th>\n",
       "      <th>stream_id</th>\n",
       "      <th>status</th>\n",
       "      <th>bw</th>\n",
       "      <th>bytes_done</th>\n",
       "      <th>bytes_left</th>\n",
       "      <th>current_pos</th>\n",
       "      <th>time_left</th>\n",
       "      <th>pred_end</th>\n",
       "    </tr>\n",
       "  </thead>\n",
       "  <tbody>\n",
       "    <tr>\n",
       "      <th>0</th>\n",
       "      <td>0.000000</td>\n",
       "      <td>9.715199</td>\n",
       "      <td>h2d</td>\n",
       "      <td>38146.973</td>\n",
       "      <td>0.0</td>\n",
       "      <td>done</td>\n",
       "      <td>5926.373991</td>\n",
       "      <td>38146.973</td>\n",
       "      <td>0.0</td>\n",
       "      <td>9.715199</td>\n",
       "      <td>0.0</td>\n",
       "      <td>9.715199</td>\n",
       "    </tr>\n",
       "    <tr>\n",
       "      <th>4</th>\n",
       "      <td>3.158431</td>\n",
       "      <td>16.030845</td>\n",
       "      <td>h2d</td>\n",
       "      <td>38146.973</td>\n",
       "      <td>1.0</td>\n",
       "      <td>done</td>\n",
       "      <td>5926.373991</td>\n",
       "      <td>38146.973</td>\n",
       "      <td>0.0</td>\n",
       "      <td>16.030845</td>\n",
       "      <td>0.0</td>\n",
       "      <td>16.030845</td>\n",
       "    </tr>\n",
       "    <tr>\n",
       "      <th>1</th>\n",
       "      <td>9.716415</td>\n",
       "      <td>22.575197</td>\n",
       "      <td>h2d</td>\n",
       "      <td>38146.973</td>\n",
       "      <td>0.0</td>\n",
       "      <td>done</td>\n",
       "      <td>5932.656133</td>\n",
       "      <td>38146.973</td>\n",
       "      <td>0.0</td>\n",
       "      <td>22.575197</td>\n",
       "      <td>0.0</td>\n",
       "      <td>22.575197</td>\n",
       "    </tr>\n",
       "    <tr>\n",
       "      <th>5</th>\n",
       "      <td>16.032061</td>\n",
       "      <td>25.733628</td>\n",
       "      <td>h2d</td>\n",
       "      <td>38146.973</td>\n",
       "      <td>1.0</td>\n",
       "      <td>done</td>\n",
       "      <td>5932.656133</td>\n",
       "      <td>38146.973</td>\n",
       "      <td>0.0</td>\n",
       "      <td>25.733628</td>\n",
       "      <td>0.0</td>\n",
       "      <td>25.733628</td>\n",
       "    </tr>\n",
       "    <tr>\n",
       "      <th>2</th>\n",
       "      <td>22.586685</td>\n",
       "      <td>23.863303</td>\n",
       "      <td>kern</td>\n",
       "      <td>0.000</td>\n",
       "      <td>0.0</td>\n",
       "      <td>done</td>\n",
       "      <td>0.000000</td>\n",
       "      <td>0.000</td>\n",
       "      <td>0.0</td>\n",
       "      <td>23.863303</td>\n",
       "      <td>0.0</td>\n",
       "      <td>23.863303</td>\n",
       "    </tr>\n",
       "    <tr>\n",
       "      <th>3</th>\n",
       "      <td>23.870087</td>\n",
       "      <td>33.250948</td>\n",
       "      <td>d2h</td>\n",
       "      <td>38146.973</td>\n",
       "      <td>0.0</td>\n",
       "      <td>done</td>\n",
       "      <td>6084.390251</td>\n",
       "      <td>38146.973</td>\n",
       "      <td>0.0</td>\n",
       "      <td>33.250948</td>\n",
       "      <td>0.0</td>\n",
       "      <td>33.250948</td>\n",
       "    </tr>\n",
       "    <tr>\n",
       "      <th>6</th>\n",
       "      <td>25.745116</td>\n",
       "      <td>27.021734</td>\n",
       "      <td>kern</td>\n",
       "      <td>0.000</td>\n",
       "      <td>1.0</td>\n",
       "      <td>done</td>\n",
       "      <td>0.000000</td>\n",
       "      <td>0.000</td>\n",
       "      <td>0.0</td>\n",
       "      <td>27.021734</td>\n",
       "      <td>0.0</td>\n",
       "      <td>27.021734</td>\n",
       "    </tr>\n",
       "    <tr>\n",
       "      <th>7</th>\n",
       "      <td>27.028518</td>\n",
       "      <td>36.409379</td>\n",
       "      <td>d2h</td>\n",
       "      <td>38146.973</td>\n",
       "      <td>1.0</td>\n",
       "      <td>done</td>\n",
       "      <td>6084.390251</td>\n",
       "      <td>38146.973</td>\n",
       "      <td>0.0</td>\n",
       "      <td>36.409379</td>\n",
       "      <td>0.0</td>\n",
       "      <td>36.409379</td>\n",
       "    </tr>\n",
       "  </tbody>\n",
       "</table>\n",
       "</div>"
      ],
      "text/plain": [
       "       start        end api_type    size_kb  stream_id status           bw  \\\n",
       "0   0.000000   9.715199      h2d  38146.973        0.0   done  5926.373991   \n",
       "4   3.158431  16.030845      h2d  38146.973        1.0   done  5926.373991   \n",
       "1   9.716415  22.575197      h2d  38146.973        0.0   done  5932.656133   \n",
       "5  16.032061  25.733628      h2d  38146.973        1.0   done  5932.656133   \n",
       "2  22.586685  23.863303     kern      0.000        0.0   done     0.000000   \n",
       "3  23.870087  33.250948      d2h  38146.973        0.0   done  6084.390251   \n",
       "6  25.745116  27.021734     kern      0.000        1.0   done     0.000000   \n",
       "7  27.028518  36.409379      d2h  38146.973        1.0   done  6084.390251   \n",
       "\n",
       "   bytes_done  bytes_left  current_pos  time_left   pred_end  \n",
       "0   38146.973         0.0     9.715199        0.0   9.715199  \n",
       "4   38146.973         0.0    16.030845        0.0  16.030845  \n",
       "1   38146.973         0.0    22.575197        0.0  22.575197  \n",
       "5   38146.973         0.0    25.733628        0.0  25.733628  \n",
       "2       0.000         0.0    23.863303        0.0  23.863303  \n",
       "3   38146.973         0.0    33.250948        0.0  33.250948  \n",
       "6       0.000         0.0    27.021734        0.0  27.021734  \n",
       "7   38146.973         0.0    36.409379        0.0  36.409379  "
      ]
     },
     "execution_count": 33,
     "metadata": {},
     "output_type": "execute_result"
    }
   ],
   "source": [
    "df_all_api"
   ]
  },
  {
   "cell_type": "code",
   "execution_count": 34,
   "metadata": {
    "collapsed": true
   },
   "outputs": [],
   "source": [
    "#\n",
    "# run above\n",
    "#"
   ]
  },
  {
   "cell_type": "code",
   "execution_count": 35,
   "metadata": {
    "collapsed": false
   },
   "outputs": [
    {
     "data": {
      "text/html": [
       "<div>\n",
       "<table border=\"1\" class=\"dataframe\">\n",
       "  <thead>\n",
       "    <tr style=\"text-align: right;\">\n",
       "      <th></th>\n",
       "      <th>start</th>\n",
       "      <th>end</th>\n",
       "      <th>api_type</th>\n",
       "      <th>size_kb</th>\n",
       "      <th>stream_id</th>\n",
       "      <th>status</th>\n",
       "      <th>bw</th>\n",
       "      <th>bytes_done</th>\n",
       "      <th>bytes_left</th>\n",
       "      <th>current_pos</th>\n",
       "      <th>time_left</th>\n",
       "      <th>pred_end</th>\n",
       "    </tr>\n",
       "  </thead>\n",
       "  <tbody>\n",
       "    <tr>\n",
       "      <th>0</th>\n",
       "      <td>0.000000</td>\n",
       "      <td>9.715199</td>\n",
       "      <td>h2d</td>\n",
       "      <td>38146.973</td>\n",
       "      <td>0.0</td>\n",
       "      <td>done</td>\n",
       "      <td>5926.373991</td>\n",
       "      <td>38146.973</td>\n",
       "      <td>0.0</td>\n",
       "      <td>9.715199</td>\n",
       "      <td>0.0</td>\n",
       "      <td>9.715199</td>\n",
       "    </tr>\n",
       "    <tr>\n",
       "      <th>1</th>\n",
       "      <td>9.716415</td>\n",
       "      <td>22.575197</td>\n",
       "      <td>h2d</td>\n",
       "      <td>38146.973</td>\n",
       "      <td>0.0</td>\n",
       "      <td>done</td>\n",
       "      <td>5932.656133</td>\n",
       "      <td>38146.973</td>\n",
       "      <td>0.0</td>\n",
       "      <td>22.575197</td>\n",
       "      <td>0.0</td>\n",
       "      <td>22.575197</td>\n",
       "    </tr>\n",
       "    <tr>\n",
       "      <th>2</th>\n",
       "      <td>22.586685</td>\n",
       "      <td>23.863303</td>\n",
       "      <td>kern</td>\n",
       "      <td>0.000</td>\n",
       "      <td>0.0</td>\n",
       "      <td>done</td>\n",
       "      <td>0.000000</td>\n",
       "      <td>0.000</td>\n",
       "      <td>0.0</td>\n",
       "      <td>23.863303</td>\n",
       "      <td>0.0</td>\n",
       "      <td>23.863303</td>\n",
       "    </tr>\n",
       "    <tr>\n",
       "      <th>3</th>\n",
       "      <td>23.870087</td>\n",
       "      <td>33.250948</td>\n",
       "      <td>d2h</td>\n",
       "      <td>38146.973</td>\n",
       "      <td>0.0</td>\n",
       "      <td>done</td>\n",
       "      <td>6084.390251</td>\n",
       "      <td>38146.973</td>\n",
       "      <td>0.0</td>\n",
       "      <td>33.250948</td>\n",
       "      <td>0.0</td>\n",
       "      <td>33.250948</td>\n",
       "    </tr>\n",
       "  </tbody>\n",
       "</table>\n",
       "</div>"
      ],
      "text/plain": [
       "       start        end api_type    size_kb  stream_id status           bw  \\\n",
       "0   0.000000   9.715199      h2d  38146.973        0.0   done  5926.373991   \n",
       "1   9.716415  22.575197      h2d  38146.973        0.0   done  5932.656133   \n",
       "2  22.586685  23.863303     kern      0.000        0.0   done     0.000000   \n",
       "3  23.870087  33.250948      d2h  38146.973        0.0   done  6084.390251   \n",
       "\n",
       "   bytes_done  bytes_left  current_pos  time_left   pred_end  \n",
       "0   38146.973         0.0     9.715199        0.0   9.715199  \n",
       "1   38146.973         0.0    22.575197        0.0  22.575197  \n",
       "2       0.000         0.0    23.863303        0.0  23.863303  \n",
       "3   38146.973         0.0    33.250948        0.0  33.250948  "
      ]
     },
     "execution_count": 35,
     "metadata": {},
     "output_type": "execute_result"
    }
   ],
   "source": [
    "df_all_api.loc[df_all_api.stream_id == 0]"
   ]
  },
  {
   "cell_type": "code",
   "execution_count": 36,
   "metadata": {
    "collapsed": false
   },
   "outputs": [
    {
     "data": {
      "text/html": [
       "<div>\n",
       "<table border=\"1\" class=\"dataframe\">\n",
       "  <thead>\n",
       "    <tr style=\"text-align: right;\">\n",
       "      <th></th>\n",
       "      <th>start</th>\n",
       "      <th>end</th>\n",
       "      <th>api_type</th>\n",
       "      <th>size_kb</th>\n",
       "      <th>stream_id</th>\n",
       "      <th>status</th>\n",
       "      <th>bw</th>\n",
       "      <th>bytes_done</th>\n",
       "      <th>bytes_left</th>\n",
       "      <th>current_pos</th>\n",
       "      <th>time_left</th>\n",
       "      <th>pred_end</th>\n",
       "    </tr>\n",
       "  </thead>\n",
       "  <tbody>\n",
       "    <tr>\n",
       "      <th>4</th>\n",
       "      <td>3.158431</td>\n",
       "      <td>16.030845</td>\n",
       "      <td>h2d</td>\n",
       "      <td>38146.973</td>\n",
       "      <td>1.0</td>\n",
       "      <td>done</td>\n",
       "      <td>5926.373991</td>\n",
       "      <td>38146.973</td>\n",
       "      <td>0.0</td>\n",
       "      <td>16.030845</td>\n",
       "      <td>0.0</td>\n",
       "      <td>16.030845</td>\n",
       "    </tr>\n",
       "    <tr>\n",
       "      <th>5</th>\n",
       "      <td>16.032061</td>\n",
       "      <td>25.733628</td>\n",
       "      <td>h2d</td>\n",
       "      <td>38146.973</td>\n",
       "      <td>1.0</td>\n",
       "      <td>done</td>\n",
       "      <td>5932.656133</td>\n",
       "      <td>38146.973</td>\n",
       "      <td>0.0</td>\n",
       "      <td>25.733628</td>\n",
       "      <td>0.0</td>\n",
       "      <td>25.733628</td>\n",
       "    </tr>\n",
       "    <tr>\n",
       "      <th>6</th>\n",
       "      <td>25.745116</td>\n",
       "      <td>27.021734</td>\n",
       "      <td>kern</td>\n",
       "      <td>0.000</td>\n",
       "      <td>1.0</td>\n",
       "      <td>done</td>\n",
       "      <td>0.000000</td>\n",
       "      <td>0.000</td>\n",
       "      <td>0.0</td>\n",
       "      <td>27.021734</td>\n",
       "      <td>0.0</td>\n",
       "      <td>27.021734</td>\n",
       "    </tr>\n",
       "    <tr>\n",
       "      <th>7</th>\n",
       "      <td>27.028518</td>\n",
       "      <td>36.409379</td>\n",
       "      <td>d2h</td>\n",
       "      <td>38146.973</td>\n",
       "      <td>1.0</td>\n",
       "      <td>done</td>\n",
       "      <td>6084.390251</td>\n",
       "      <td>38146.973</td>\n",
       "      <td>0.0</td>\n",
       "      <td>36.409379</td>\n",
       "      <td>0.0</td>\n",
       "      <td>36.409379</td>\n",
       "    </tr>\n",
       "  </tbody>\n",
       "</table>\n",
       "</div>"
      ],
      "text/plain": [
       "       start        end api_type    size_kb  stream_id status           bw  \\\n",
       "4   3.158431  16.030845      h2d  38146.973        1.0   done  5926.373991   \n",
       "5  16.032061  25.733628      h2d  38146.973        1.0   done  5932.656133   \n",
       "6  25.745116  27.021734     kern      0.000        1.0   done     0.000000   \n",
       "7  27.028518  36.409379      d2h  38146.973        1.0   done  6084.390251   \n",
       "\n",
       "   bytes_done  bytes_left  current_pos  time_left   pred_end  \n",
       "4   38146.973         0.0    16.030845        0.0  16.030845  \n",
       "5   38146.973         0.0    25.733628        0.0  25.733628  \n",
       "6       0.000         0.0    27.021734        0.0  27.021734  \n",
       "7   38146.973         0.0    36.409379        0.0  36.409379  "
      ]
     },
     "execution_count": 36,
     "metadata": {},
     "output_type": "execute_result"
    }
   ],
   "source": [
    "df_all_api.loc[df_all_api.stream_id == 1]"
   ]
  },
  {
   "cell_type": "markdown",
   "metadata": {
    "deletable": true,
    "editable": true,
    "run_control": {
     "marked": false
    }
   },
   "source": [
    "# 3cke"
   ]
  },
  {
   "cell_type": "markdown",
   "metadata": {
    "deletable": true,
    "editable": true,
    "run_control": {
     "marked": false
    }
   },
   "source": [
    "# plot all the stream timeline"
   ]
  },
  {
   "cell_type": "code",
   "execution_count": 37,
   "metadata": {
    "collapsed": false,
    "deletable": true,
    "editable": true,
    "run_control": {
     "marked": false
    }
   },
   "outputs": [
    {
     "data": {
      "image/png": "[encoded data removed]",
      "text/plain": [
       "<matplotlib.figure.Figure at 0x11735d950>"
      ]
     },
     "metadata": {},
     "output_type": "display_data"
    }
   ],
   "source": [
    "cuda_timeline.plot_cke_list(df_cke_list, savefig=True)"
   ]
  },
  {
   "cell_type": "code",
   "execution_count": 38,
   "metadata": {
    "collapsed": false,
    "deletable": true,
    "editable": true,
    "run_control": {
     "marked": false
    }
   },
   "outputs": [
    {
     "data": {
      "image/png": "[encoded data removed]",
      "text/plain": [
       "<matplotlib.figure.Figure at 0x117452f90>"
      ]
     },
     "metadata": {},
     "output_type": "display_data"
    }
   ],
   "source": [
    "cuda_timeline.plot_cke_list(df_cke_list[0:2])"
   ]
  },
  {
   "cell_type": "code",
   "execution_count": 39,
   "metadata": {
    "collapsed": false,
    "deletable": true,
    "editable": true,
    "run_control": {
     "marked": false
    }
   },
   "outputs": [
    {
     "name": "stdout",
     "output_type": "stream",
     "text": [
      "20.432566\n"
     ]
    }
   ],
   "source": [
    "tot_runtime = read_trace.getTotalRuntime(df_cke_list[0:2])\n",
    "print tot_runtime"
   ]
  }
 ],
 "metadata": {
  "kernelspec": {
   "display_name": "Python [conda root]",
   "language": "python",
   "name": "conda-root-py"
  },
  "language_info": {
   "codemirror_mode": {
    "name": "ipython",
    "version": 2
   },
   "file_extension": ".py",
   "mimetype": "text/x-python",
   "name": "python",
   "nbconvert_exporter": "python",
   "pygments_lexer": "ipython2",
   "version": "2.7.13"
  }
 },
 "nbformat": 4,
 "nbformat_minor": 2
}
