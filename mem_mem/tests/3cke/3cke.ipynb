{
 "cells": [
  {
   "cell_type": "markdown",
   "metadata": {},
   "source": [
    "scheme:\n",
    "\n",
    "* 1) for data transfer, pick 1st sleep api (h2d) fo stream-0, current cc = 1 (concurrency),\n",
    "* 2) check whether there is overalp with stream-\n",
    "* 2) if there is overlap, finish cc=1, start from cc++ (cc=2), predit the future ending time\n",
    "* 3) during the predicted ending time, check whether there is overlap with stream-2\n",
    "* 4) if there is overalap, finish cc=2, start from cc++ (cc=3), predict the future ending time\n",
    "* 5) go to step 3) , search through all the cuda streams\n",
    "* 6) for each time range, we need to find out how many apis have overlap and which-pair have conflicts or not"
   ]
  },
  {
   "cell_type": "code",
   "execution_count": 19,
   "metadata": {
    "collapsed": false,
    "deletable": true,
    "editable": true,
    "run_control": {
     "marked": false
    }
   },
   "outputs": [
    {
     "name": "stdout",
     "output_type": "stream",
     "text": [
      "The autoreload extension is already loaded. To reload it, use:\n",
      "  %reload_ext autoreload\n"
     ]
    }
   ],
   "source": [
    "%load_ext autoreload\n",
    "%autoreload 2\n",
    "\n",
    "import warnings\n",
    "import pandas as pd\n",
    "import numpy as np\n",
    "import os\n",
    "import sys # error msg, add the modules\n",
    "import operator # sorting\n",
    "from math import *\n",
    "import matplotlib.pyplot as plt\n",
    "\n",
    "sys.path.append('../../')\n",
    "\n",
    "import cuda_timeline\n",
    "import read_trace\n",
    "import avgblk\n",
    "import cke\n",
    "from model_param import *\n",
    "from df_util import *\n",
    "\n",
    "warnings.filterwarnings(\"ignore\", category=np.VisibleDeprecationWarning)"
   ]
  },
  {
   "cell_type": "markdown",
   "metadata": {
    "deletable": true,
    "editable": true,
    "run_control": {
     "marked": false
    }
   },
   "source": [
    "# gpu info"
   ]
  },
  {
   "cell_type": "code",
   "execution_count": 20,
   "metadata": {
    "collapsed": false,
    "deletable": true,
    "editable": true,
    "run_control": {
     "marked": false
    }
   },
   "outputs": [],
   "source": [
    "gtx950 = DeviceInfo()\n",
    "gtx950.sm_num = 6\n",
    "gtx950.sharedmem_per_sm = 49152\n",
    "gtx950.reg_per_sm = 65536\n",
    "gtx950.maxthreads_per_sm = 2048"
   ]
  },
  {
   "cell_type": "code",
   "execution_count": 21,
   "metadata": {
    "collapsed": false,
    "deletable": true,
    "editable": true
   },
   "outputs": [],
   "source": [
    "# init SM resources\n",
    "SM_resList, SM_traceList = init_gpu(gtx950)"
   ]
  },
  {
   "cell_type": "code",
   "execution_count": 22,
   "metadata": {
    "collapsed": false,
    "deletable": true,
    "editable": true
   },
   "outputs": [],
   "source": [
    "#SM_resList[0]"
   ]
  },
  {
   "cell_type": "code",
   "execution_count": 23,
   "metadata": {
    "collapsed": false,
    "deletable": true,
    "editable": true
   },
   "outputs": [
    {
     "data": {
      "text/html": [
       "<div>\n",
       "<table border=\"1\" class=\"dataframe\">\n",
       "  <thead>\n",
       "    <tr style=\"text-align: right;\">\n",
       "      <th></th>\n",
       "      <th>sm_id</th>\n",
       "      <th>block_id</th>\n",
       "      <th>block_start</th>\n",
       "      <th>block_end</th>\n",
       "      <th>batch_id</th>\n",
       "      <th>kernel_id</th>\n",
       "      <th>active</th>\n",
       "    </tr>\n",
       "  </thead>\n",
       "  <tbody>\n",
       "  </tbody>\n",
       "</table>\n",
       "</div>"
      ],
      "text/plain": [
       "Empty DataFrame\n",
       "Columns: [sm_id, block_id, block_start, block_end, batch_id, kernel_id, active]\n",
       "Index: []"
      ]
     },
     "execution_count": 23,
     "metadata": {},
     "output_type": "execute_result"
    }
   ],
   "source": [
    "SM_traceList[0]"
   ]
  },
  {
   "cell_type": "markdown",
   "metadata": {
    "deletable": true,
    "editable": true
   },
   "source": [
    "# Understand the input"
   ]
  },
  {
   "cell_type": "code",
   "execution_count": 24,
   "metadata": {
    "collapsed": false,
    "deletable": true,
    "editable": true
   },
   "outputs": [],
   "source": [
    "trace_s1 = 'trace_s1_5m.csv'\n",
    "df_trace_s1 = read_trace.Trace2dataframe(trace_s1)\n",
    "\n",
    "trace_s2 = 'trace_s2_5m.csv'\n",
    "df_trace_s2 = read_trace.Trace2dataframe(trace_s2)\n",
    "\n",
    "trace_s3 = 'trace_s3_5m.csv'\n",
    "df_trace_s3 = read_trace.Trace2dataframe(trace_s3)"
   ]
  },
  {
   "cell_type": "code",
   "execution_count": 25,
   "metadata": {
    "collapsed": false
   },
   "outputs": [
    {
     "data": {
      "image/png": "[encoded data removed]",
      "text/plain": [
       "<matplotlib.figure.Figure at 0x7f52727d5d50>"
      ]
     },
     "metadata": {},
     "output_type": "display_data"
    }
   ],
   "source": [
    "cuda_timeline.plot_trace(df_trace_s1)"
   ]
  },
  {
   "cell_type": "code",
   "execution_count": 26,
   "metadata": {
    "collapsed": false
   },
   "outputs": [
    {
     "data": {
      "image/png": "[encoded data removed]",
      "text/plain": [
       "<matplotlib.figure.Figure at 0x7f5251c64e50>"
      ]
     },
     "metadata": {},
     "output_type": "display_data"
    }
   ],
   "source": [
    "cuda_timeline.plot_trace(df_trace_s2)"
   ]
  },
  {
   "cell_type": "code",
   "execution_count": 27,
   "metadata": {
    "collapsed": false
   },
   "outputs": [
    {
     "data": {
      "image/png": "[encoded data removed]",
      "text/plain": [
       "<matplotlib.figure.Figure at 0x7f5251a845d0>"
      ]
     },
     "metadata": {},
     "output_type": "display_data"
    }
   ],
   "source": [
    "cuda_timeline.plot_trace(df_trace_s3)"
   ]
  },
  {
   "cell_type": "markdown",
   "metadata": {},
   "source": [
    "# Kernel Info from the single stream"
   ]
  },
  {
   "cell_type": "code",
   "execution_count": 28,
   "metadata": {
    "collapsed": false,
    "deletable": true,
    "editable": true
   },
   "outputs": [
    {
     "name": "stdout",
     "output_type": "stream",
     "text": [
      "Kernel Info\n",
      "\t\tblockDim 256.0\n",
      "\t\tgridkDim 19532.0\n",
      "\t\tregs 28.0\n",
      "\t\tshared memory 0.0\n",
      "\t\truntime (ms) 11.914429\n",
      "\t\taverage block execution time (ms) 0.0292737813268\n"
     ]
    }
   ],
   "source": [
    "# extract kernel info from trace\n",
    "# warning: currently lmted to one kernel\n",
    "\n",
    "kernel = read_trace.GetKernelInfo(df_trace_s1, gtx950)\n",
    "\n",
    "Dump_kernel_info(kernel)"
   ]
  },
  {
   "cell_type": "markdown",
   "metadata": {},
   "source": [
    "# model 3 cuda streams"
   ]
  },
  {
   "cell_type": "code",
   "execution_count": null,
   "metadata": {
    "collapsed": true
   },
   "outputs": [],
   "source": [
    "# for each stream, have a dd for each kernel\n",
    "stream_kernel_list = []\n",
    "\n",
    "stream_num = 2\n",
    "for sid in range(stream_num):\n",
    "    print sid\n",
    "    # key will be the kernel order\n",
    "    # value will be the kernel info\n",
    "    kern_dd = {}\n",
    "    kern_dd[0] = Copy_kern_info(kernel)\n",
    "    stream_kernel_list.append(kern_dd)"
   ]
  },
  {
   "cell_type": "code",
   "execution_count": null,
   "metadata": {
    "collapsed": true
   },
   "outputs": [],
   "source": [
    "#\n",
    "#\n",
    "# run above"
   ]
  },
  {
   "cell_type": "code",
   "execution_count": 9,
   "metadata": {
    "collapsed": false,
    "deletable": true,
    "editable": true
   },
   "outputs": [
    {
     "name": "stdout",
     "output_type": "stream",
     "text": [
      "0\n",
      "1\n"
     ]
    }
   ],
   "source": [
    "# for each stream, have a dd for each kernel\n",
    "stream_kernel_list = []\n",
    "\n",
    "stream_num = 2\n",
    "for sid in range(stream_num):\n",
    "    print sid\n",
    "    # key will be the kernel order\n",
    "    # value will be the kernel info\n",
    "    kern_dd = {}\n",
    "    kern_dd[0] = Copy_kern_info(kernel)\n",
    "    stream_kernel_list.append(kern_dd)\n",
    "    "
   ]
  },
  {
   "cell_type": "code",
   "execution_count": 10,
   "metadata": {
    "collapsed": false,
    "deletable": true,
    "editable": true
   },
   "outputs": [
    {
     "name": "stdout",
     "output_type": "stream",
     "text": [
      "0.056961\n",
      "0.0284805\n",
      "256.0\n",
      "0\n"
     ]
    }
   ],
   "source": [
    "s1_kern_dd = stream_kernel_list[0]\n",
    "print s1_kern_dd[0].runtime_ms\n",
    "print s1_kern_dd[0].avg_blk_time\n",
    "print s1_kern_dd[0].blockDim\n",
    "print s1_kern_dd[0].start_ms"
   ]
  },
  {
   "cell_type": "code",
   "execution_count": 11,
   "metadata": {
    "collapsed": false,
    "deletable": true,
    "editable": true
   },
   "outputs": [
    {
     "name": "stdout",
     "output_type": "stream",
     "text": [
      "2\n",
      "0.056961\n",
      "0.0284805\n",
      "256.0\n",
      "0\n"
     ]
    }
   ],
   "source": [
    "print len(stream_kernel_list)\n",
    "print stream_kernel_list[1][0].runtime_ms\n",
    "print stream_kernel_list[1][0].avg_blk_time\n",
    "print stream_kernel_list[1][0].blockDim\n",
    "print stream_kernel_list[1][0].start_ms"
   ]
  },
  {
   "cell_type": "markdown",
   "metadata": {
    "deletable": true,
    "editable": true
   },
   "source": [
    "# 2 streams"
   ]
  },
  {
   "cell_type": "code",
   "execution_count": 12,
   "metadata": {
    "collapsed": false,
    "deletable": true,
    "editable": true
   },
   "outputs": [],
   "source": [
    "trace_file_2cke = '2stream_kern_ovlp_23000.csv'\n",
    "df_trace_2cke = read_trace.Trace2dataframe(trace_file_2cke)"
   ]
  },
  {
   "cell_type": "code",
   "execution_count": 13,
   "metadata": {
    "collapsed": false,
    "deletable": true,
    "editable": true
   },
   "outputs": [
    {
     "data": {
      "text/html": [
       "<div>\n",
       "<table border=\"1\" class=\"dataframe\">\n",
       "  <thead>\n",
       "    <tr style=\"text-align: right;\">\n",
       "      <th></th>\n",
       "      <th>Start</th>\n",
       "      <th>Duration</th>\n",
       "      <th>Grid X</th>\n",
       "      <th>Grid Y</th>\n",
       "      <th>Grid Z</th>\n",
       "      <th>Block X</th>\n",
       "      <th>Block Y</th>\n",
       "      <th>Block Z</th>\n",
       "      <th>Registers Per Thread</th>\n",
       "      <th>Static SMem</th>\n",
       "      <th>Dynamic SMem</th>\n",
       "      <th>Size</th>\n",
       "      <th>Throughput</th>\n",
       "      <th>Device</th>\n",
       "      <th>Context</th>\n",
       "      <th>Stream</th>\n",
       "      <th>Name</th>\n",
       "    </tr>\n",
       "  </thead>\n",
       "  <tbody>\n",
       "    <tr>\n",
       "      <th>0</th>\n",
       "      <td>ms</td>\n",
       "      <td>us</td>\n",
       "      <td>NaN</td>\n",
       "      <td>NaN</td>\n",
       "      <td>NaN</td>\n",
       "      <td>NaN</td>\n",
       "      <td>NaN</td>\n",
       "      <td>NaN</td>\n",
       "      <td>NaN</td>\n",
       "      <td>B</td>\n",
       "      <td>B</td>\n",
       "      <td>KB</td>\n",
       "      <td>GB/s</td>\n",
       "      <td>NaN</td>\n",
       "      <td>NaN</td>\n",
       "      <td>NaN</td>\n",
       "      <td>NaN</td>\n",
       "    </tr>\n",
       "    <tr>\n",
       "      <th>1</th>\n",
       "      <td>806.383704</td>\n",
       "      <td>16.704000</td>\n",
       "      <td>NaN</td>\n",
       "      <td>NaN</td>\n",
       "      <td>NaN</td>\n",
       "      <td>NaN</td>\n",
       "      <td>NaN</td>\n",
       "      <td>NaN</td>\n",
       "      <td>NaN</td>\n",
       "      <td>NaN</td>\n",
       "      <td>NaN</td>\n",
       "      <td>89.843750</td>\n",
       "      <td>5.129411</td>\n",
       "      <td>GeForce GTX 950 (0)</td>\n",
       "      <td>1.0</td>\n",
       "      <td>13.0</td>\n",
       "      <td>[CUDA memcpy HtoD]</td>\n",
       "    </tr>\n",
       "    <tr>\n",
       "      <th>2</th>\n",
       "      <td>806.401624</td>\n",
       "      <td>16.417000</td>\n",
       "      <td>NaN</td>\n",
       "      <td>NaN</td>\n",
       "      <td>NaN</td>\n",
       "      <td>NaN</td>\n",
       "      <td>NaN</td>\n",
       "      <td>NaN</td>\n",
       "      <td>NaN</td>\n",
       "      <td>NaN</td>\n",
       "      <td>NaN</td>\n",
       "      <td>89.843750</td>\n",
       "      <td>5.219082</td>\n",
       "      <td>GeForce GTX 950 (0)</td>\n",
       "      <td>1.0</td>\n",
       "      <td>13.0</td>\n",
       "      <td>[CUDA memcpy HtoD]</td>\n",
       "    </tr>\n",
       "    <tr>\n",
       "      <th>3</th>\n",
       "      <td>806.419321</td>\n",
       "      <td>16.576000</td>\n",
       "      <td>NaN</td>\n",
       "      <td>NaN</td>\n",
       "      <td>NaN</td>\n",
       "      <td>NaN</td>\n",
       "      <td>NaN</td>\n",
       "      <td>NaN</td>\n",
       "      <td>NaN</td>\n",
       "      <td>NaN</td>\n",
       "      <td>NaN</td>\n",
       "      <td>89.843750</td>\n",
       "      <td>5.169020</td>\n",
       "      <td>GeForce GTX 950 (0)</td>\n",
       "      <td>1.0</td>\n",
       "      <td>14.0</td>\n",
       "      <td>[CUDA memcpy HtoD]</td>\n",
       "    </tr>\n",
       "    <tr>\n",
       "      <th>4</th>\n",
       "      <td>806.437113</td>\n",
       "      <td>20.993000</td>\n",
       "      <td>NaN</td>\n",
       "      <td>NaN</td>\n",
       "      <td>NaN</td>\n",
       "      <td>NaN</td>\n",
       "      <td>NaN</td>\n",
       "      <td>NaN</td>\n",
       "      <td>NaN</td>\n",
       "      <td>NaN</td>\n",
       "      <td>NaN</td>\n",
       "      <td>89.843750</td>\n",
       "      <td>4.081440</td>\n",
       "      <td>GeForce GTX 950 (0)</td>\n",
       "      <td>1.0</td>\n",
       "      <td>14.0</td>\n",
       "      <td>[CUDA memcpy HtoD]</td>\n",
       "    </tr>\n",
       "    <tr>\n",
       "      <th>5</th>\n",
       "      <td>806.716992</td>\n",
       "      <td>69.089000</td>\n",
       "      <td>90.0</td>\n",
       "      <td>1.0</td>\n",
       "      <td>1.0</td>\n",
       "      <td>256.0</td>\n",
       "      <td>1.0</td>\n",
       "      <td>1.0</td>\n",
       "      <td>28.0</td>\n",
       "      <td>0</td>\n",
       "      <td>0</td>\n",
       "      <td>NaN</td>\n",
       "      <td>NaN</td>\n",
       "      <td>GeForce GTX 950 (0)</td>\n",
       "      <td>1.0</td>\n",
       "      <td>13.0</td>\n",
       "      <td>kernel_vectorAdd(float const *, float const *,...</td>\n",
       "    </tr>\n",
       "    <tr>\n",
       "      <th>6</th>\n",
       "      <td>806.755233</td>\n",
       "      <td>73.793000</td>\n",
       "      <td>90.0</td>\n",
       "      <td>1.0</td>\n",
       "      <td>1.0</td>\n",
       "      <td>256.0</td>\n",
       "      <td>1.0</td>\n",
       "      <td>1.0</td>\n",
       "      <td>28.0</td>\n",
       "      <td>0</td>\n",
       "      <td>0</td>\n",
       "      <td>NaN</td>\n",
       "      <td>NaN</td>\n",
       "      <td>GeForce GTX 950 (0)</td>\n",
       "      <td>1.0</td>\n",
       "      <td>14.0</td>\n",
       "      <td>kernel_vectorAdd(float const *, float const *,...</td>\n",
       "    </tr>\n",
       "    <tr>\n",
       "      <th>7</th>\n",
       "      <td>806.788705</td>\n",
       "      <td>15.937000</td>\n",
       "      <td>NaN</td>\n",
       "      <td>NaN</td>\n",
       "      <td>NaN</td>\n",
       "      <td>NaN</td>\n",
       "      <td>NaN</td>\n",
       "      <td>NaN</td>\n",
       "      <td>NaN</td>\n",
       "      <td>NaN</td>\n",
       "      <td>NaN</td>\n",
       "      <td>89.843750</td>\n",
       "      <td>5.376274</td>\n",
       "      <td>GeForce GTX 950 (0)</td>\n",
       "      <td>1.0</td>\n",
       "      <td>13.0</td>\n",
       "      <td>[CUDA memcpy DtoH]</td>\n",
       "    </tr>\n",
       "    <tr>\n",
       "      <th>8</th>\n",
       "      <td>806.832162</td>\n",
       "      <td>15.873000</td>\n",
       "      <td>NaN</td>\n",
       "      <td>NaN</td>\n",
       "      <td>NaN</td>\n",
       "      <td>NaN</td>\n",
       "      <td>NaN</td>\n",
       "      <td>NaN</td>\n",
       "      <td>NaN</td>\n",
       "      <td>NaN</td>\n",
       "      <td>NaN</td>\n",
       "      <td>89.843750</td>\n",
       "      <td>5.397951</td>\n",
       "      <td>GeForce GTX 950 (0)</td>\n",
       "      <td>1.0</td>\n",
       "      <td>14.0</td>\n",
       "      <td>[CUDA memcpy DtoH]</td>\n",
       "    </tr>\n",
       "  </tbody>\n",
       "</table>\n",
       "</div>"
      ],
      "text/plain": [
       "        Start   Duration  Grid X  Grid Y  Grid Z  Block X  Block Y  Block Z  \\\n",
       "0          ms         us     NaN     NaN     NaN      NaN      NaN      NaN   \n",
       "1  806.383704  16.704000     NaN     NaN     NaN      NaN      NaN      NaN   \n",
       "2  806.401624  16.417000     NaN     NaN     NaN      NaN      NaN      NaN   \n",
       "3  806.419321  16.576000     NaN     NaN     NaN      NaN      NaN      NaN   \n",
       "4  806.437113  20.993000     NaN     NaN     NaN      NaN      NaN      NaN   \n",
       "5  806.716992  69.089000    90.0     1.0     1.0    256.0      1.0      1.0   \n",
       "6  806.755233  73.793000    90.0     1.0     1.0    256.0      1.0      1.0   \n",
       "7  806.788705  15.937000     NaN     NaN     NaN      NaN      NaN      NaN   \n",
       "8  806.832162  15.873000     NaN     NaN     NaN      NaN      NaN      NaN   \n",
       "\n",
       "   Registers Per Thread Static SMem Dynamic SMem       Size Throughput  \\\n",
       "0                   NaN           B            B         KB       GB/s   \n",
       "1                   NaN         NaN          NaN  89.843750   5.129411   \n",
       "2                   NaN         NaN          NaN  89.843750   5.219082   \n",
       "3                   NaN         NaN          NaN  89.843750   5.169020   \n",
       "4                   NaN         NaN          NaN  89.843750   4.081440   \n",
       "5                  28.0           0            0        NaN        NaN   \n",
       "6                  28.0           0            0        NaN        NaN   \n",
       "7                   NaN         NaN          NaN  89.843750   5.376274   \n",
       "8                   NaN         NaN          NaN  89.843750   5.397951   \n",
       "\n",
       "                Device  Context  Stream  \\\n",
       "0                  NaN      NaN     NaN   \n",
       "1  GeForce GTX 950 (0)      1.0    13.0   \n",
       "2  GeForce GTX 950 (0)      1.0    13.0   \n",
       "3  GeForce GTX 950 (0)      1.0    14.0   \n",
       "4  GeForce GTX 950 (0)      1.0    14.0   \n",
       "5  GeForce GTX 950 (0)      1.0    13.0   \n",
       "6  GeForce GTX 950 (0)      1.0    14.0   \n",
       "7  GeForce GTX 950 (0)      1.0    13.0   \n",
       "8  GeForce GTX 950 (0)      1.0    14.0   \n",
       "\n",
       "                                                Name  \n",
       "0                                                NaN  \n",
       "1                                 [CUDA memcpy HtoD]  \n",
       "2                                 [CUDA memcpy HtoD]  \n",
       "3                                 [CUDA memcpy HtoD]  \n",
       "4                                 [CUDA memcpy HtoD]  \n",
       "5  kernel_vectorAdd(float const *, float const *,...  \n",
       "6  kernel_vectorAdd(float const *, float const *,...  \n",
       "7                                 [CUDA memcpy DtoH]  \n",
       "8                                 [CUDA memcpy DtoH]  "
      ]
     },
     "execution_count": 13,
     "metadata": {},
     "output_type": "execute_result"
    }
   ],
   "source": [
    "df_trace_2cke"
   ]
  },
  {
   "cell_type": "code",
   "execution_count": 14,
   "metadata": {
    "collapsed": false,
    "deletable": true,
    "editable": true
   },
   "outputs": [
    {
     "name": "stderr",
     "output_type": "stream",
     "text": [
      "/home/leiming/anaconda2/lib/python2.7/site-packages/matplotlib/axes/_base.py:1292: UnicodeWarning: Unicode equal comparison failed to convert both arguments to Unicode - interpreting them as being unequal\n",
      "  if aspect == 'normal':\n",
      "/home/leiming/anaconda2/lib/python2.7/site-packages/matplotlib/axes/_base.py:1297: UnicodeWarning: Unicode equal comparison failed to convert both arguments to Unicode - interpreting them as being unequal\n",
      "  elif aspect in ('equal', 'auto'):\n"
     ]
    },
    {
     "data": {
      "image/png": "[encoded data removed]",
      "text/plain": [
       "<matplotlib.figure.Figure at 0x7f3ccd96d490>"
      ]
     },
     "metadata": {},
     "output_type": "display_data"
    }
   ],
   "source": [
    "cuda_timeline.plot_trace(df_trace_2cke)"
   ]
  },
  {
   "cell_type": "markdown",
   "metadata": {
    "deletable": true,
    "editable": true
   },
   "source": [
    "# GroundTruth"
   ]
  },
  {
   "cell_type": "markdown",
   "metadata": {
    "deletable": true,
    "editable": true
   },
   "source": [
    "### 1 cke"
   ]
  },
  {
   "cell_type": "code",
   "execution_count": 15,
   "metadata": {
    "collapsed": false,
    "deletable": true,
    "editable": true
   },
   "outputs": [
    {
     "name": "stdout",
     "output_type": "stream",
     "text": [
      "0.279141\n"
     ]
    }
   ],
   "source": [
    "df_single_stream = read_trace.Get_timing_from_trace(df_trace)\n",
    "# print df_single_stream\n",
    "\n",
    "tot_runtime = read_trace.GetTotalRuntime(df_single_stream)\n",
    "print tot_runtime"
   ]
  },
  {
   "cell_type": "markdown",
   "metadata": {
    "deletable": true,
    "editable": true
   },
   "source": [
    "### 2 cke"
   ]
  },
  {
   "cell_type": "code",
   "execution_count": 16,
   "metadata": {
    "collapsed": false,
    "deletable": true,
    "editable": true
   },
   "outputs": [
    {
     "name": "stdout",
     "output_type": "stream",
     "text": [
      "   stream api_type       start         end      size  duration\n",
      "0     0.0      h2d  806.383704  806.400408  89.84375  0.016704\n",
      "1     0.0      h2d  806.401624  806.418041  89.84375  0.016417\n",
      "2     0.0     kern  806.716992  806.786081   0.00000  0.069089\n",
      "3     0.0      d2h  806.788705  806.804642  89.84375  0.015937\n",
      "4     1.0      h2d  806.419321  806.435897  89.84375  0.016576\n",
      "5     1.0      h2d  806.437113  806.458106  89.84375  0.020993\n",
      "6     1.0     kern  806.755233  806.829026   0.00000  0.073793\n",
      "7     1.0      d2h  806.832162  806.848035  89.84375  0.015873\n",
      "0.464331\n"
     ]
    }
   ],
   "source": [
    "df_2stream = read_trace.Get_timing_from_trace(df_trace_2cke)\n",
    "print df_2stream\n",
    "\n",
    "tot_runtime = read_trace.GetTotalRuntime(df_2stream)\n",
    "print tot_runtime"
   ]
  },
  {
   "cell_type": "markdown",
   "metadata": {
    "deletable": true,
    "editable": true
   },
   "source": [
    "# Start Modeling CKE"
   ]
  },
  {
   "cell_type": "code",
   "execution_count": 17,
   "metadata": {
    "collapsed": false,
    "deletable": true,
    "editable": true
   },
   "outputs": [
    {
     "name": "stdout",
     "output_type": "stream",
     "text": [
      "   stream api_type     start       end      size  duration\n",
      "0     0.0      h2d  0.000000  0.016641  89.84375  0.016641\n",
      "1     0.0      h2d  0.018081  0.034209  89.84375  0.016128\n",
      "2     0.0     kern  0.200611  0.257572   0.00000  0.056961\n",
      "3     0.0      d2h  0.263236  0.279141  89.84375  0.015905\n"
     ]
    }
   ],
   "source": [
    "df_s1 = read_trace.Reset_starting(df_single_stream)\n",
    "print df_s1"
   ]
  },
  {
   "cell_type": "code",
   "execution_count": 18,
   "metadata": {
    "collapsed": false,
    "deletable": true,
    "editable": true
   },
   "outputs": [
    {
     "name": "stdout",
     "output_type": "stream",
     "text": [
      "   stream api_type     start       end      size  duration\n",
      "0     0.0      h2d  0.000000  0.016704  89.84375  0.016704\n",
      "1     0.0      h2d  0.017920  0.034337  89.84375  0.016417\n",
      "2     0.0     kern  0.333288  0.402377   0.00000  0.069089\n",
      "3     0.0      d2h  0.405001  0.420938  89.84375  0.015937\n",
      "4     1.0      h2d  0.035617  0.052193  89.84375  0.016576\n",
      "5     1.0      h2d  0.053409  0.074402  89.84375  0.020993\n",
      "6     1.0     kern  0.371529  0.445322   0.00000  0.073793\n",
      "7     1.0      d2h  0.448458  0.464331  89.84375  0.015873\n"
     ]
    }
   ],
   "source": [
    "df_2stream_trace = read_trace.Reset_starting(df_2stream)\n",
    "print df_2stream_trace"
   ]
  },
  {
   "cell_type": "markdown",
   "metadata": {
    "deletable": true,
    "editable": true
   },
   "source": [
    "## model two streams"
   ]
  },
  {
   "cell_type": "code",
   "execution_count": 19,
   "metadata": {
    "collapsed": true,
    "deletable": true,
    "editable": true
   },
   "outputs": [],
   "source": [
    "stream_num = 2\n",
    "\n",
    "# find when to start the stream and update the starting pos for the trace\n",
    "H2D_H2D_OVLP_TH = 3.158431\n",
    "\n",
    "df_cke_list = cke.init_trace_list(df_s1, stream_num = stream_num, h2d_ovlp_th = H2D_H2D_OVLP_TH)"
   ]
  },
  {
   "cell_type": "code",
   "execution_count": 20,
   "metadata": {
    "collapsed": false,
    "deletable": true,
    "editable": true
   },
   "outputs": [],
   "source": [
    "# df_cke_list[0]"
   ]
  },
  {
   "cell_type": "code",
   "execution_count": 21,
   "metadata": {
    "collapsed": false,
    "deletable": true,
    "editable": true
   },
   "outputs": [],
   "source": [
    "# df_cke_list[1]"
   ]
  },
  {
   "cell_type": "code",
   "execution_count": 22,
   "metadata": {
    "collapsed": true,
    "deletable": true,
    "editable": true
   },
   "outputs": [],
   "source": [
    "df_all_api = cke.init_sort_api_with_extra_cols(df_cke_list)"
   ]
  },
  {
   "cell_type": "code",
   "execution_count": 23,
   "metadata": {
    "collapsed": false,
    "deletable": true,
    "editable": true,
    "scrolled": true
   },
   "outputs": [
    {
     "data": {
      "text/html": [
       "<div>\n",
       "<table border=\"1\" class=\"dataframe\">\n",
       "  <thead>\n",
       "    <tr style=\"text-align: right;\">\n",
       "      <th></th>\n",
       "      <th>start</th>\n",
       "      <th>end</th>\n",
       "      <th>api_type</th>\n",
       "      <th>size_kb</th>\n",
       "      <th>stream_id</th>\n",
       "      <th>status</th>\n",
       "      <th>bw</th>\n",
       "      <th>bytes_done</th>\n",
       "      <th>bytes_left</th>\n",
       "      <th>current_pos</th>\n",
       "      <th>pred_end</th>\n",
       "    </tr>\n",
       "  </thead>\n",
       "  <tbody>\n",
       "    <tr>\n",
       "      <th>0</th>\n",
       "      <td>0.000000</td>\n",
       "      <td>0.016641</td>\n",
       "      <td>h2d</td>\n",
       "      <td>89.84375</td>\n",
       "      <td>0.0</td>\n",
       "      <td>sleep</td>\n",
       "      <td>5398.939367</td>\n",
       "      <td>0.0</td>\n",
       "      <td>89.84375</td>\n",
       "      <td>0.0</td>\n",
       "      <td>0.0</td>\n",
       "    </tr>\n",
       "    <tr>\n",
       "      <th>1</th>\n",
       "      <td>0.018081</td>\n",
       "      <td>0.034209</td>\n",
       "      <td>h2d</td>\n",
       "      <td>89.84375</td>\n",
       "      <td>0.0</td>\n",
       "      <td>sleep</td>\n",
       "      <td>5570.669023</td>\n",
       "      <td>0.0</td>\n",
       "      <td>89.84375</td>\n",
       "      <td>0.0</td>\n",
       "      <td>0.0</td>\n",
       "    </tr>\n",
       "    <tr>\n",
       "      <th>4</th>\n",
       "      <td>0.036209</td>\n",
       "      <td>0.052850</td>\n",
       "      <td>h2d</td>\n",
       "      <td>89.84375</td>\n",
       "      <td>1.0</td>\n",
       "      <td>sleep</td>\n",
       "      <td>5398.939367</td>\n",
       "      <td>0.0</td>\n",
       "      <td>89.84375</td>\n",
       "      <td>0.0</td>\n",
       "      <td>0.0</td>\n",
       "    </tr>\n",
       "    <tr>\n",
       "      <th>5</th>\n",
       "      <td>0.054290</td>\n",
       "      <td>0.070418</td>\n",
       "      <td>h2d</td>\n",
       "      <td>89.84375</td>\n",
       "      <td>1.0</td>\n",
       "      <td>sleep</td>\n",
       "      <td>5570.669023</td>\n",
       "      <td>0.0</td>\n",
       "      <td>89.84375</td>\n",
       "      <td>0.0</td>\n",
       "      <td>0.0</td>\n",
       "    </tr>\n",
       "    <tr>\n",
       "      <th>2</th>\n",
       "      <td>0.200611</td>\n",
       "      <td>0.257572</td>\n",
       "      <td>kern</td>\n",
       "      <td>0.00000</td>\n",
       "      <td>0.0</td>\n",
       "      <td>sleep</td>\n",
       "      <td>0.000000</td>\n",
       "      <td>0.0</td>\n",
       "      <td>0.00000</td>\n",
       "      <td>0.0</td>\n",
       "      <td>0.0</td>\n",
       "    </tr>\n",
       "    <tr>\n",
       "      <th>6</th>\n",
       "      <td>0.236820</td>\n",
       "      <td>0.293781</td>\n",
       "      <td>kern</td>\n",
       "      <td>0.00000</td>\n",
       "      <td>1.0</td>\n",
       "      <td>sleep</td>\n",
       "      <td>0.000000</td>\n",
       "      <td>0.0</td>\n",
       "      <td>0.00000</td>\n",
       "      <td>0.0</td>\n",
       "      <td>0.0</td>\n",
       "    </tr>\n",
       "    <tr>\n",
       "      <th>3</th>\n",
       "      <td>0.263236</td>\n",
       "      <td>0.279141</td>\n",
       "      <td>d2h</td>\n",
       "      <td>89.84375</td>\n",
       "      <td>0.0</td>\n",
       "      <td>sleep</td>\n",
       "      <td>5648.773970</td>\n",
       "      <td>0.0</td>\n",
       "      <td>89.84375</td>\n",
       "      <td>0.0</td>\n",
       "      <td>0.0</td>\n",
       "    </tr>\n",
       "    <tr>\n",
       "      <th>7</th>\n",
       "      <td>0.299445</td>\n",
       "      <td>0.315350</td>\n",
       "      <td>d2h</td>\n",
       "      <td>89.84375</td>\n",
       "      <td>1.0</td>\n",
       "      <td>sleep</td>\n",
       "      <td>5648.773970</td>\n",
       "      <td>0.0</td>\n",
       "      <td>89.84375</td>\n",
       "      <td>0.0</td>\n",
       "      <td>0.0</td>\n",
       "    </tr>\n",
       "  </tbody>\n",
       "</table>\n",
       "</div>"
      ],
      "text/plain": [
       "      start       end api_type   size_kb  stream_id status           bw  \\\n",
       "0  0.000000  0.016641      h2d  89.84375        0.0  sleep  5398.939367   \n",
       "1  0.018081  0.034209      h2d  89.84375        0.0  sleep  5570.669023   \n",
       "4  0.036209  0.052850      h2d  89.84375        1.0  sleep  5398.939367   \n",
       "5  0.054290  0.070418      h2d  89.84375        1.0  sleep  5570.669023   \n",
       "2  0.200611  0.257572     kern   0.00000        0.0  sleep     0.000000   \n",
       "6  0.236820  0.293781     kern   0.00000        1.0  sleep     0.000000   \n",
       "3  0.263236  0.279141      d2h  89.84375        0.0  sleep  5648.773970   \n",
       "7  0.299445  0.315350      d2h  89.84375        1.0  sleep  5648.773970   \n",
       "\n",
       "   bytes_done  bytes_left  current_pos  pred_end  \n",
       "0         0.0    89.84375          0.0       0.0  \n",
       "1         0.0    89.84375          0.0       0.0  \n",
       "4         0.0    89.84375          0.0       0.0  \n",
       "5         0.0    89.84375          0.0       0.0  \n",
       "2         0.0     0.00000          0.0       0.0  \n",
       "6         0.0     0.00000          0.0       0.0  \n",
       "3         0.0    89.84375          0.0       0.0  \n",
       "7         0.0    89.84375          0.0       0.0  "
      ]
     },
     "execution_count": 23,
     "metadata": {},
     "output_type": "execute_result"
    }
   ],
   "source": [
    "df_all_api"
   ]
  },
  {
   "cell_type": "markdown",
   "metadata": {
    "deletable": true,
    "editable": true
   },
   "source": [
    "### start algo"
   ]
  },
  {
   "cell_type": "code",
   "execution_count": 24,
   "metadata": {
    "collapsed": false,
    "deletable": true,
    "editable": true
   },
   "outputs": [
    {
     "name": "stdout",
     "output_type": "stream",
     "text": [
      "row:0 row:1\n",
      "row:1 row:4\n",
      "row:4 row:5\n",
      "row:5 row:2\n",
      "row:2 row:6\n",
      "run cke model\n",
      "[0.23682000000001335, 0.25757199999998193]\n",
      "extra_conc 0\n",
      "row:3 row:7\n",
      "row:None row:None\n"
     ]
    }
   ],
   "source": [
    "count = 0\n",
    "# break_count = 7\n",
    "break_count = 7\n",
    "\n",
    "while not cke.AllDone(df_all_api):\n",
    "    count = count + 1\n",
    "    #if count == break_count: break\n",
    "    \n",
    "    #-----------------------\n",
    "    # pick two api to model \n",
    "    #-----------------------\n",
    "    df_all_api, r1, r2 = cke.PickTwo(df_all_api)\n",
    "    \n",
    "    #if count == break_count: break\n",
    "\n",
    "    #-----------------------\n",
    "    # check the last api or not \n",
    "    #-----------------------\n",
    "    last_api = False\n",
    "    if r1 == None and r2 == None:\n",
    "        last_api = True\n",
    "        \n",
    "    if last_api == True:                          # go directly updating the last wake api\n",
    "        df_all_api = cke.UpdateStream_lastapi(df_all_api)\n",
    "        break\n",
    "    \n",
    "    \n",
    "    #-----------------------\n",
    "    # move the current_pos to the starting of coming api r2, and update r1 status\n",
    "    #-----------------------\n",
    "    df_all_api = cke.StartNext_byType(df_all_api, [r1, r2])\n",
    "    \n",
    "    #if count == break_count: break\n",
    "\n",
    "    #-----------------------------\n",
    "    # if one call is done, continue the next round\n",
    "    #-----------------------------\n",
    "    if cke.CheckRowDone(df_all_api, r1, r2):\n",
    "        continue\n",
    "        \n",
    "    #if count == break_count: break\n",
    "        \n",
    "    #-----------------------------\n",
    "    # when all calls are active\n",
    "    #-----------------------------\n",
    "    \n",
    "    #-----------------------------\n",
    "    # check whether the two calls are kerns, if yes\n",
    "    #-----------------------------\n",
    "    whichType = cke.CheckType(df_all_api, r1, r2) # check whether the same api\n",
    "    if whichType == None:\n",
    "        df_all_api = cke.Predict_noConflict(df_all_api, r1, r2)\n",
    "    elif whichType in ['h2d', 'd2h']: # data transfer in the same direction\n",
    "        df_all_api = cke.Predict_transferOvlp(df_all_api, r1, r2, ways = 2.0)\n",
    "    else: # concurrent kernel: todo\n",
    "        print('run cke model')\n",
    "        \n",
    "        #cke.model_2cke(df_all_api, r1, r2)\n",
    "        #if count == break_count: break\n",
    "            \n",
    "        r1_sid, r1_kid =cke.FindStreamAndKernID(df_all_api, r1)\n",
    "        #print('r1_stream_id {} , r1_kernel_id {}'.format(r1_sid, r1_kid))\n",
    "        r2_sid, r2_kid =cke.FindStreamAndKernID(df_all_api, r2)\n",
    "        #print('r2_stream_id {} , r2_kernel_id {}'.format(r2_sid, r2_kid))\n",
    "        r1_start_ms = cke.GetStartTime(df_all_api, r1)\n",
    "        r2_start_ms = cke.GetStartTime(df_all_api, r2)\n",
    "        \n",
    "        #print r1_start_ms\n",
    "        #print r2_start_ms\n",
    "        \n",
    "        #print('before:')\n",
    "        #print('r1 start :{} r2 start : {}'.format(stream_kernel_list[r1_sid][r1_kid].start_ms,\n",
    "        #                                         stream_kernel_list[r2_sid][r2_kid].start_ms))\n",
    "        \n",
    "        stream_kernel_list[0][0].start_ms = r1_start_ms\n",
    "        stream_kernel_list[1][0].start_ms = r2_start_ms\n",
    "        \n",
    "        \n",
    "        #print('after:')\n",
    "        #print('r1 start :{} r2 start : {}'.format(stream_kernel_list[r1_sid][r1_kid].start_ms,\n",
    "        #                                        stream_kernel_list[r2_sid][r2_kid].start_ms))\n",
    "        \n",
    "\n",
    "        #Dump_kern_info(stream_kernel_list[r1_sid][r1_kid])\n",
    "        #Dump_kern_info(stream_kernel_list[r2_sid][r2_kid])\n",
    "        \n",
    "        kernels_ = []\n",
    "        kernels_.append(stream_kernel_list[r1_sid][r1_kid])\n",
    "        kernels_.append(stream_kernel_list[r2_sid][r2_kid])\n",
    "\n",
    "        SM_resList, SM_traceList = avgblk.cke_model(gtx950, SM_resList, SM_traceList, kernels_)\n",
    "        \n",
    "        # find the kernel execution time from the sm trace table\n",
    "        result_kernel_runtime_dd = avgblk.Get_KernTime(SM_traceList)\n",
    "        \n",
    "        #print result_kernel_runtime_dd\n",
    "        \n",
    "        result_r1_start = result_kernel_runtime_dd[0][0]\n",
    "        result_r1_end = result_kernel_runtime_dd[0][1]\n",
    "        \n",
    "        result_r2_start = result_kernel_runtime_dd[1][0]\n",
    "        result_r2_end = result_kernel_runtime_dd[1][1]\n",
    "        \n",
    "        # r1 will be the 1st in dd, r2 will be the 2nd \n",
    "        df_all_api.set_value(r1, 'pred_end', result_r1_end)\n",
    "        df_all_api.set_value(r2, 'pred_end', result_r2_end)   # Warning: it is better to have a pred_start\n",
    "                                                              # Warning: but we care about the end timing for now\n",
    "\n",
    "        \n",
    "    #if count == break_count: break\n",
    "        \n",
    "        \n",
    "\n",
    "    # check any of r1 and r2 has status done. if done, go to next \n",
    "\n",
    "\n",
    "    rangeT = cke.Get_pred_range(df_all_api)\n",
    "    print rangeT\n",
    "\n",
    "    #if count == break_count: break\n",
    "\n",
    "    extra_conc = cke.Check_cc_by_time(df_all_api, rangeT) # check whether there is conc during the rangeT\n",
    "    print('extra_conc {}'.format(extra_conc))\n",
    "    \n",
    "    #if count == break_count: break\n",
    "        \n",
    "    if extra_conc == 0:\n",
    "        if whichType in ['h2d', 'd2h']:\n",
    "            df_all_api = cke.Update_wake_transferOvlp(df_all_api, rangeT, ways = 2.0)\n",
    "        elif whichType == 'kern':\n",
    "            df_all_api = cke.Update_wake_kernOvlp(df_all_api)\n",
    "        else: # no overlapping\n",
    "            df_all_api = cke.Update_wake_noConflict(df_all_api, rangeT)\n",
    "\n",
    "        #if count == break_count: break\n",
    "            \n",
    "        # check if any api is done, and update the timing for the other apis in that stream\n",
    "        df_all_api = cke.UpdateStreamTime(df_all_api)\n",
    "        \n",
    "        #if count == break_count: break\n",
    "\n",
    "    else: # todo : when there is additional overlapping\n",
    "        pass\n",
    "\n",
    "#         if count == break_count:\n",
    "#             break\n",
    "        \n"
   ]
  },
  {
   "cell_type": "code",
   "execution_count": 25,
   "metadata": {
    "collapsed": false,
    "deletable": true,
    "editable": true,
    "scrolled": true
   },
   "outputs": [
    {
     "data": {
      "text/html": [
       "<div>\n",
       "<table border=\"1\" class=\"dataframe\">\n",
       "  <thead>\n",
       "    <tr style=\"text-align: right;\">\n",
       "      <th></th>\n",
       "      <th>start</th>\n",
       "      <th>end</th>\n",
       "      <th>api_type</th>\n",
       "      <th>size_kb</th>\n",
       "      <th>stream_id</th>\n",
       "      <th>status</th>\n",
       "      <th>bw</th>\n",
       "      <th>bytes_done</th>\n",
       "      <th>bytes_left</th>\n",
       "      <th>current_pos</th>\n",
       "      <th>pred_end</th>\n",
       "    </tr>\n",
       "  </thead>\n",
       "  <tbody>\n",
       "    <tr>\n",
       "      <th>0</th>\n",
       "      <td>0.000000</td>\n",
       "      <td>0.016641</td>\n",
       "      <td>h2d</td>\n",
       "      <td>89.84375</td>\n",
       "      <td>0.0</td>\n",
       "      <td>done</td>\n",
       "      <td>5398.939367</td>\n",
       "      <td>89.84375</td>\n",
       "      <td>0.0</td>\n",
       "      <td>0.016641</td>\n",
       "      <td>0.016641</td>\n",
       "    </tr>\n",
       "    <tr>\n",
       "      <th>1</th>\n",
       "      <td>0.018081</td>\n",
       "      <td>0.034209</td>\n",
       "      <td>h2d</td>\n",
       "      <td>89.84375</td>\n",
       "      <td>0.0</td>\n",
       "      <td>done</td>\n",
       "      <td>5570.669023</td>\n",
       "      <td>89.84375</td>\n",
       "      <td>0.0</td>\n",
       "      <td>0.034209</td>\n",
       "      <td>0.034209</td>\n",
       "    </tr>\n",
       "    <tr>\n",
       "      <th>4</th>\n",
       "      <td>0.036209</td>\n",
       "      <td>0.052850</td>\n",
       "      <td>h2d</td>\n",
       "      <td>89.84375</td>\n",
       "      <td>1.0</td>\n",
       "      <td>done</td>\n",
       "      <td>5398.939367</td>\n",
       "      <td>89.84375</td>\n",
       "      <td>0.0</td>\n",
       "      <td>0.052850</td>\n",
       "      <td>0.052850</td>\n",
       "    </tr>\n",
       "    <tr>\n",
       "      <th>5</th>\n",
       "      <td>0.054290</td>\n",
       "      <td>0.070418</td>\n",
       "      <td>h2d</td>\n",
       "      <td>89.84375</td>\n",
       "      <td>1.0</td>\n",
       "      <td>done</td>\n",
       "      <td>5570.669023</td>\n",
       "      <td>89.84375</td>\n",
       "      <td>0.0</td>\n",
       "      <td>0.070418</td>\n",
       "      <td>0.070418</td>\n",
       "    </tr>\n",
       "    <tr>\n",
       "      <th>2</th>\n",
       "      <td>0.200611</td>\n",
       "      <td>0.257572</td>\n",
       "      <td>kern</td>\n",
       "      <td>0.00000</td>\n",
       "      <td>0.0</td>\n",
       "      <td>done</td>\n",
       "      <td>0.000000</td>\n",
       "      <td>0.00000</td>\n",
       "      <td>0.0</td>\n",
       "      <td>0.257572</td>\n",
       "      <td>0.257572</td>\n",
       "    </tr>\n",
       "    <tr>\n",
       "      <th>6</th>\n",
       "      <td>0.236820</td>\n",
       "      <td>0.314533</td>\n",
       "      <td>kern</td>\n",
       "      <td>0.00000</td>\n",
       "      <td>1.0</td>\n",
       "      <td>done</td>\n",
       "      <td>0.000000</td>\n",
       "      <td>0.00000</td>\n",
       "      <td>0.0</td>\n",
       "      <td>0.314533</td>\n",
       "      <td>0.314533</td>\n",
       "    </tr>\n",
       "    <tr>\n",
       "      <th>3</th>\n",
       "      <td>0.263236</td>\n",
       "      <td>0.279141</td>\n",
       "      <td>d2h</td>\n",
       "      <td>89.84375</td>\n",
       "      <td>0.0</td>\n",
       "      <td>done</td>\n",
       "      <td>5648.773970</td>\n",
       "      <td>89.84375</td>\n",
       "      <td>0.0</td>\n",
       "      <td>0.279141</td>\n",
       "      <td>0.279141</td>\n",
       "    </tr>\n",
       "    <tr>\n",
       "      <th>7</th>\n",
       "      <td>0.320197</td>\n",
       "      <td>0.336102</td>\n",
       "      <td>d2h</td>\n",
       "      <td>89.84375</td>\n",
       "      <td>1.0</td>\n",
       "      <td>done</td>\n",
       "      <td>5648.773970</td>\n",
       "      <td>89.84375</td>\n",
       "      <td>0.0</td>\n",
       "      <td>0.336102</td>\n",
       "      <td>0.336102</td>\n",
       "    </tr>\n",
       "  </tbody>\n",
       "</table>\n",
       "</div>"
      ],
      "text/plain": [
       "      start       end api_type   size_kb  stream_id status           bw  \\\n",
       "0  0.000000  0.016641      h2d  89.84375        0.0   done  5398.939367   \n",
       "1  0.018081  0.034209      h2d  89.84375        0.0   done  5570.669023   \n",
       "4  0.036209  0.052850      h2d  89.84375        1.0   done  5398.939367   \n",
       "5  0.054290  0.070418      h2d  89.84375        1.0   done  5570.669023   \n",
       "2  0.200611  0.257572     kern   0.00000        0.0   done     0.000000   \n",
       "6  0.236820  0.314533     kern   0.00000        1.0   done     0.000000   \n",
       "3  0.263236  0.279141      d2h  89.84375        0.0   done  5648.773970   \n",
       "7  0.320197  0.336102      d2h  89.84375        1.0   done  5648.773970   \n",
       "\n",
       "   bytes_done  bytes_left  current_pos  pred_end  \n",
       "0    89.84375         0.0     0.016641  0.016641  \n",
       "1    89.84375         0.0     0.034209  0.034209  \n",
       "4    89.84375         0.0     0.052850  0.052850  \n",
       "5    89.84375         0.0     0.070418  0.070418  \n",
       "2     0.00000         0.0     0.257572  0.257572  \n",
       "6     0.00000         0.0     0.314533  0.314533  \n",
       "3    89.84375         0.0     0.279141  0.279141  \n",
       "7    89.84375         0.0     0.336102  0.336102  "
      ]
     },
     "execution_count": 25,
     "metadata": {},
     "output_type": "execute_result"
    }
   ],
   "source": [
    "df_all_api"
   ]
  },
  {
   "cell_type": "code",
   "execution_count": 26,
   "metadata": {
    "collapsed": false,
    "deletable": true,
    "editable": true
   },
   "outputs": [
    {
     "data": {
      "text/html": [
       "<div>\n",
       "<table border=\"1\" class=\"dataframe\">\n",
       "  <thead>\n",
       "    <tr style=\"text-align: right;\">\n",
       "      <th></th>\n",
       "      <th>stream</th>\n",
       "      <th>api_type</th>\n",
       "      <th>start</th>\n",
       "      <th>end</th>\n",
       "      <th>size</th>\n",
       "      <th>duration</th>\n",
       "    </tr>\n",
       "  </thead>\n",
       "  <tbody>\n",
       "    <tr>\n",
       "      <th>0</th>\n",
       "      <td>0.0</td>\n",
       "      <td>h2d</td>\n",
       "      <td>0.000000</td>\n",
       "      <td>0.016704</td>\n",
       "      <td>89.84375</td>\n",
       "      <td>0.016704</td>\n",
       "    </tr>\n",
       "    <tr>\n",
       "      <th>1</th>\n",
       "      <td>0.0</td>\n",
       "      <td>h2d</td>\n",
       "      <td>0.017920</td>\n",
       "      <td>0.034337</td>\n",
       "      <td>89.84375</td>\n",
       "      <td>0.016417</td>\n",
       "    </tr>\n",
       "    <tr>\n",
       "      <th>2</th>\n",
       "      <td>0.0</td>\n",
       "      <td>kern</td>\n",
       "      <td>0.333288</td>\n",
       "      <td>0.402377</td>\n",
       "      <td>0.00000</td>\n",
       "      <td>0.069089</td>\n",
       "    </tr>\n",
       "    <tr>\n",
       "      <th>3</th>\n",
       "      <td>0.0</td>\n",
       "      <td>d2h</td>\n",
       "      <td>0.405001</td>\n",
       "      <td>0.420938</td>\n",
       "      <td>89.84375</td>\n",
       "      <td>0.015937</td>\n",
       "    </tr>\n",
       "    <tr>\n",
       "      <th>4</th>\n",
       "      <td>1.0</td>\n",
       "      <td>h2d</td>\n",
       "      <td>0.035617</td>\n",
       "      <td>0.052193</td>\n",
       "      <td>89.84375</td>\n",
       "      <td>0.016576</td>\n",
       "    </tr>\n",
       "    <tr>\n",
       "      <th>5</th>\n",
       "      <td>1.0</td>\n",
       "      <td>h2d</td>\n",
       "      <td>0.053409</td>\n",
       "      <td>0.074402</td>\n",
       "      <td>89.84375</td>\n",
       "      <td>0.020993</td>\n",
       "    </tr>\n",
       "    <tr>\n",
       "      <th>6</th>\n",
       "      <td>1.0</td>\n",
       "      <td>kern</td>\n",
       "      <td>0.371529</td>\n",
       "      <td>0.445322</td>\n",
       "      <td>0.00000</td>\n",
       "      <td>0.073793</td>\n",
       "    </tr>\n",
       "    <tr>\n",
       "      <th>7</th>\n",
       "      <td>1.0</td>\n",
       "      <td>d2h</td>\n",
       "      <td>0.448458</td>\n",
       "      <td>0.464331</td>\n",
       "      <td>89.84375</td>\n",
       "      <td>0.015873</td>\n",
       "    </tr>\n",
       "  </tbody>\n",
       "</table>\n",
       "</div>"
      ],
      "text/plain": [
       "   stream api_type     start       end      size  duration\n",
       "0     0.0      h2d  0.000000  0.016704  89.84375  0.016704\n",
       "1     0.0      h2d  0.017920  0.034337  89.84375  0.016417\n",
       "2     0.0     kern  0.333288  0.402377   0.00000  0.069089\n",
       "3     0.0      d2h  0.405001  0.420938  89.84375  0.015937\n",
       "4     1.0      h2d  0.035617  0.052193  89.84375  0.016576\n",
       "5     1.0      h2d  0.053409  0.074402  89.84375  0.020993\n",
       "6     1.0     kern  0.371529  0.445322   0.00000  0.073793\n",
       "7     1.0      d2h  0.448458  0.464331  89.84375  0.015873"
      ]
     },
     "execution_count": 26,
     "metadata": {},
     "output_type": "execute_result"
    }
   ],
   "source": [
    "df_2stream_trace"
   ]
  },
  {
   "cell_type": "code",
   "execution_count": 27,
   "metadata": {
    "collapsed": false,
    "deletable": true,
    "editable": true
   },
   "outputs": [
    {
     "data": {
      "text/html": [
       "<div>\n",
       "<table border=\"1\" class=\"dataframe\">\n",
       "  <thead>\n",
       "    <tr style=\"text-align: right;\">\n",
       "      <th></th>\n",
       "      <th>stream</th>\n",
       "      <th>api_type</th>\n",
       "      <th>start</th>\n",
       "      <th>end</th>\n",
       "      <th>size</th>\n",
       "      <th>duration</th>\n",
       "    </tr>\n",
       "  </thead>\n",
       "  <tbody>\n",
       "    <tr>\n",
       "      <th>0</th>\n",
       "      <td>0.0</td>\n",
       "      <td>h2d</td>\n",
       "      <td>0.000000</td>\n",
       "      <td>0.016641</td>\n",
       "      <td>89.84375</td>\n",
       "      <td>0.016641</td>\n",
       "    </tr>\n",
       "    <tr>\n",
       "      <th>1</th>\n",
       "      <td>0.0</td>\n",
       "      <td>h2d</td>\n",
       "      <td>0.018081</td>\n",
       "      <td>0.034209</td>\n",
       "      <td>89.84375</td>\n",
       "      <td>0.016128</td>\n",
       "    </tr>\n",
       "    <tr>\n",
       "      <th>2</th>\n",
       "      <td>0.0</td>\n",
       "      <td>kern</td>\n",
       "      <td>0.200611</td>\n",
       "      <td>0.257572</td>\n",
       "      <td>0.00000</td>\n",
       "      <td>0.056961</td>\n",
       "    </tr>\n",
       "    <tr>\n",
       "      <th>3</th>\n",
       "      <td>0.0</td>\n",
       "      <td>d2h</td>\n",
       "      <td>0.263236</td>\n",
       "      <td>0.279141</td>\n",
       "      <td>89.84375</td>\n",
       "      <td>0.015905</td>\n",
       "    </tr>\n",
       "  </tbody>\n",
       "</table>\n",
       "</div>"
      ],
      "text/plain": [
       "   stream api_type     start       end      size  duration\n",
       "0     0.0      h2d  0.000000  0.016641  89.84375  0.016641\n",
       "1     0.0      h2d  0.018081  0.034209  89.84375  0.016128\n",
       "2     0.0     kern  0.200611  0.257572   0.00000  0.056961\n",
       "3     0.0      d2h  0.263236  0.279141  89.84375  0.015905"
      ]
     },
     "execution_count": 27,
     "metadata": {},
     "output_type": "execute_result"
    }
   ],
   "source": [
    "df_s1"
   ]
  },
  {
   "cell_type": "code",
   "execution_count": 28,
   "metadata": {
    "collapsed": true,
    "deletable": true,
    "editable": true
   },
   "outputs": [],
   "source": [
    "#\n",
    "# run above\n",
    "#"
   ]
  }
 ],
 "metadata": {
  "kernelspec": {
   "display_name": "Python [conda root]",
   "language": "python",
   "name": "conda-root-py"
  },
  "language_info": {
   "codemirror_mode": {
    "name": "ipython",
    "version": 2
   },
   "file_extension": ".py",
   "mimetype": "text/x-python",
   "name": "python",
   "nbconvert_exporter": "python",
   "pygments_lexer": "ipython2",
   "version": "2.7.13"
  }
 },
 "nbformat": 4,
 "nbformat_minor": 2
}
