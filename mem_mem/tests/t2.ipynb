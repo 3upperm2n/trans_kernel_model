{
 "cells": [
  {
   "cell_type": "code",
   "execution_count": 1,
   "metadata": {
    "collapsed": false,
    "deletable": true,
    "editable": true,
    "run_control": {
     "marked": false
    }
   },
   "outputs": [],
   "source": [
    "import warnings\n",
    "import pandas as pd\n",
    "import numpy as np\n",
    "import os\n",
    "import sys # error msg, add the modules\n",
    "import operator # sorting\n",
    "from math import *\n",
    "import matplotlib.pyplot as plt\n",
    "\n",
    "sys.path.append('../')\n",
    "\n",
    "import read_trace\n",
    "import cuda_timeline\n",
    "from avgblkmodel import *\n",
    "import cke\n",
    "from df_util import *\n",
    "#from model_cke import *\n",
    "\n",
    "warnings.filterwarnings(\"ignore\", category=np.VisibleDeprecationWarning)"
   ]
  },
  {
   "cell_type": "markdown",
   "metadata": {
    "deletable": true,
    "editable": true,
    "run_control": {
     "marked": false
    }
   },
   "source": [
    "# gpu info"
   ]
  },
  {
   "cell_type": "code",
   "execution_count": 2,
   "metadata": {
    "collapsed": false,
    "deletable": true,
    "editable": true,
    "run_control": {
     "marked": false
    }
   },
   "outputs": [],
   "source": [
    "gtx950 = DeviceInfo()\n",
    "gtx950.sm_num = 6\n",
    "gtx950.sharedmem_per_sm = 49152\n",
    "gtx950.reg_per_sm = 65536\n",
    "gtx950.maxthreads_per_sm = 2048"
   ]
  },
  {
   "cell_type": "markdown",
   "metadata": {
    "deletable": true,
    "editable": true,
    "run_control": {
     "marked": false
    }
   },
   "source": [
    "# 2 stream info"
   ]
  },
  {
   "cell_type": "code",
   "execution_count": 3,
   "metadata": {
    "collapsed": false,
    "deletable": true,
    "editable": true,
    "run_control": {
     "marked": false
    }
   },
   "outputs": [],
   "source": [
    "# 10M for mem_mem : where the h2d between streams are overlapped\n",
    "trace_file = 'trace_10M_s1.csv'\n",
    "trace_file_2cke = 'trace_h2d_h2d_ovlp.csv'\n",
    "\n",
    "df_trace = read_trace.trace2dataframe(trace_file) # read the trace to the dataframe\n",
    "df_trace_2cke = read_trace.trace2dataframe(trace_file_2cke)"
   ]
  },
  {
   "cell_type": "code",
   "execution_count": 4,
   "metadata": {
    "collapsed": false,
    "deletable": true,
    "editable": true,
    "run_control": {
     "marked": false
    },
    "scrolled": true
   },
   "outputs": [],
   "source": [
    "#df_trace"
   ]
  },
  {
   "cell_type": "code",
   "execution_count": 5,
   "metadata": {
    "collapsed": false,
    "deletable": true,
    "editable": true,
    "run_control": {
     "marked": false
    }
   },
   "outputs": [],
   "source": [
    "#cuda_timeline.plot_trace(df_trace)"
   ]
  },
  {
   "cell_type": "code",
   "execution_count": 6,
   "metadata": {
    "collapsed": false,
    "deletable": true,
    "editable": true,
    "run_control": {
     "marked": false
    }
   },
   "outputs": [],
   "source": [
    "#df_trace_2cke"
   ]
  },
  {
   "cell_type": "code",
   "execution_count": 7,
   "metadata": {
    "collapsed": false,
    "deletable": true,
    "editable": true,
    "run_control": {
     "marked": false
    },
    "scrolled": true
   },
   "outputs": [],
   "source": [
    "#cuda_timeline.plot_trace(df_trace_2cke)"
   ]
  },
  {
   "cell_type": "markdown",
   "metadata": {
    "deletable": true,
    "editable": true,
    "run_control": {
     "marked": false
    }
   },
   "source": [
    "# 1cke - read trace and reset the timeline"
   ]
  },
  {
   "cell_type": "code",
   "execution_count": 8,
   "metadata": {
    "collapsed": false,
    "deletable": true,
    "editable": true,
    "run_control": {
     "marked": false
    }
   },
   "outputs": [],
   "source": [
    "df_single_stream = read_trace.get_timing(df_trace)"
   ]
  },
  {
   "cell_type": "code",
   "execution_count": 9,
   "metadata": {
    "collapsed": false,
    "deletable": true,
    "editable": true,
    "run_control": {
     "marked": false
    }
   },
   "outputs": [],
   "source": [
    "#df_single_stream"
   ]
  },
  {
   "cell_type": "code",
   "execution_count": 10,
   "metadata": {
    "collapsed": false,
    "deletable": true,
    "editable": true,
    "run_control": {
     "marked": false
    }
   },
   "outputs": [],
   "source": [
    "df_s1 = read_trace.reset_starting(df_single_stream)"
   ]
  },
  {
   "cell_type": "code",
   "execution_count": 11,
   "metadata": {
    "collapsed": false,
    "deletable": true,
    "editable": true,
    "run_control": {
     "marked": false
    }
   },
   "outputs": [],
   "source": [
    "#df_s1"
   ]
  },
  {
   "cell_type": "markdown",
   "metadata": {
    "deletable": true,
    "editable": true,
    "run_control": {
     "marked": false
    }
   },
   "source": [
    "### 2cke case"
   ]
  },
  {
   "cell_type": "code",
   "execution_count": 12,
   "metadata": {
    "collapsed": true,
    "deletable": true,
    "editable": true,
    "run_control": {
     "marked": false
    }
   },
   "outputs": [],
   "source": [
    "df_2stream = read_trace.get_timing(df_trace_2cke)"
   ]
  },
  {
   "cell_type": "code",
   "execution_count": 13,
   "metadata": {
    "collapsed": false,
    "deletable": true,
    "editable": true,
    "run_control": {
     "marked": false
    },
    "scrolled": true
   },
   "outputs": [],
   "source": [
    "# df_2stream"
   ]
  },
  {
   "cell_type": "code",
   "execution_count": 14,
   "metadata": {
    "collapsed": false,
    "deletable": true,
    "editable": true,
    "run_control": {
     "marked": false
    }
   },
   "outputs": [
    {
     "name": "stdout",
     "output_type": "stream",
     "text": [
      "37.784463\n"
     ]
    }
   ],
   "source": [
    "tot_runtime = read_trace.getTotalRuntime(df_2stream)\n",
    "print tot_runtime"
   ]
  },
  {
   "cell_type": "markdown",
   "metadata": {
    "deletable": true,
    "editable": true,
    "run_control": {
     "marked": false
    }
   },
   "source": [
    "# 2 cke"
   ]
  },
  {
   "cell_type": "code",
   "execution_count": 15,
   "metadata": {
    "collapsed": false,
    "deletable": true,
    "editable": true,
    "run_control": {
     "marked": false
    }
   },
   "outputs": [],
   "source": [
    "stream_num = 2\n",
    "\n",
    "# find when to start the stream and update the starting pos for the trace\n",
    "H2D_H2D_OVLP_TH = 3.158431\n",
    "\n",
    "df_cke_list = cke.init_trace_list(df_s1, stream_num = stream_num, h2d_ovlp_th = H2D_H2D_OVLP_TH)"
   ]
  },
  {
   "cell_type": "code",
   "execution_count": 16,
   "metadata": {
    "collapsed": false,
    "deletable": true,
    "editable": true,
    "run_control": {
     "marked": false
    }
   },
   "outputs": [],
   "source": [
    "#df_cke_list[0]"
   ]
  },
  {
   "cell_type": "code",
   "execution_count": 17,
   "metadata": {
    "collapsed": false,
    "deletable": true,
    "editable": true,
    "run_control": {
     "marked": false
    }
   },
   "outputs": [],
   "source": [
    "#df_cke_list[1]"
   ]
  },
  {
   "cell_type": "markdown",
   "metadata": {},
   "source": [
    "### sort"
   ]
  },
  {
   "cell_type": "code",
   "execution_count": 18,
   "metadata": {
    "collapsed": false,
    "deletable": true,
    "editable": true,
    "run_control": {
     "marked": false
    }
   },
   "outputs": [],
   "source": [
    "df_all_api = cke.init_sort_api_with_extra_cols(df_cke_list)"
   ]
  },
  {
   "cell_type": "code",
   "execution_count": 19,
   "metadata": {
    "collapsed": false,
    "deletable": true,
    "editable": true,
    "run_control": {
     "marked": false
    }
   },
   "outputs": [],
   "source": [
    "#df_all_api"
   ]
  },
  {
   "cell_type": "code",
   "execution_count": 20,
   "metadata": {
    "collapsed": false,
    "deletable": true,
    "editable": true,
    "run_control": {
     "marked": false
    },
    "scrolled": true
   },
   "outputs": [],
   "source": [
    "#df_all_api.loc[df_all_api.stream_id == 0]"
   ]
  },
  {
   "cell_type": "code",
   "execution_count": 21,
   "metadata": {
    "collapsed": false,
    "deletable": true,
    "editable": true,
    "run_control": {
     "marked": false
    }
   },
   "outputs": [],
   "source": [
    "# print df_all_api.iloc[0]\n",
    "# print df_all_api.iloc[1]"
   ]
  },
  {
   "cell_type": "code",
   "execution_count": 22,
   "metadata": {
    "collapsed": false
   },
   "outputs": [
    {
     "data": {
      "text/html": [
       "<div>\n",
       "<table border=\"1\" class=\"dataframe\">\n",
       "  <thead>\n",
       "    <tr style=\"text-align: right;\">\n",
       "      <th></th>\n",
       "      <th>start</th>\n",
       "      <th>end</th>\n",
       "      <th>api_type</th>\n",
       "      <th>size_kb</th>\n",
       "      <th>stream_id</th>\n",
       "      <th>status</th>\n",
       "      <th>bw</th>\n",
       "      <th>bytes_done</th>\n",
       "      <th>bytes_left</th>\n",
       "      <th>current_pos</th>\n",
       "      <th>time_left</th>\n",
       "      <th>pred_end</th>\n",
       "    </tr>\n",
       "  </thead>\n",
       "  <tbody>\n",
       "    <tr>\n",
       "      <th>0</th>\n",
       "      <td>0.000000</td>\n",
       "      <td>6.436815</td>\n",
       "      <td>h2d</td>\n",
       "      <td>38146.973</td>\n",
       "      <td>0.0</td>\n",
       "      <td>sleep</td>\n",
       "      <td>5926.373991</td>\n",
       "      <td>0.0</td>\n",
       "      <td>38146.973</td>\n",
       "      <td>0.0</td>\n",
       "      <td>0.0</td>\n",
       "      <td>0.0</td>\n",
       "    </tr>\n",
       "    <tr>\n",
       "      <th>4</th>\n",
       "      <td>3.158431</td>\n",
       "      <td>9.595246</td>\n",
       "      <td>h2d</td>\n",
       "      <td>38146.973</td>\n",
       "      <td>1.0</td>\n",
       "      <td>sleep</td>\n",
       "      <td>5926.373991</td>\n",
       "      <td>0.0</td>\n",
       "      <td>38146.973</td>\n",
       "      <td>0.0</td>\n",
       "      <td>0.0</td>\n",
       "      <td>0.0</td>\n",
       "    </tr>\n",
       "    <tr>\n",
       "      <th>1</th>\n",
       "      <td>6.438031</td>\n",
       "      <td>12.868030</td>\n",
       "      <td>h2d</td>\n",
       "      <td>38146.973</td>\n",
       "      <td>0.0</td>\n",
       "      <td>sleep</td>\n",
       "      <td>5932.656133</td>\n",
       "      <td>0.0</td>\n",
       "      <td>38146.973</td>\n",
       "      <td>0.0</td>\n",
       "      <td>0.0</td>\n",
       "      <td>0.0</td>\n",
       "    </tr>\n",
       "    <tr>\n",
       "      <th>5</th>\n",
       "      <td>9.596462</td>\n",
       "      <td>16.026461</td>\n",
       "      <td>h2d</td>\n",
       "      <td>38146.973</td>\n",
       "      <td>1.0</td>\n",
       "      <td>sleep</td>\n",
       "      <td>5932.656133</td>\n",
       "      <td>0.0</td>\n",
       "      <td>38146.973</td>\n",
       "      <td>0.0</td>\n",
       "      <td>0.0</td>\n",
       "      <td>0.0</td>\n",
       "    </tr>\n",
       "    <tr>\n",
       "      <th>2</th>\n",
       "      <td>12.879518</td>\n",
       "      <td>14.156136</td>\n",
       "      <td>kern</td>\n",
       "      <td>0.000</td>\n",
       "      <td>0.0</td>\n",
       "      <td>sleep</td>\n",
       "      <td>0.000000</td>\n",
       "      <td>0.0</td>\n",
       "      <td>0.000</td>\n",
       "      <td>0.0</td>\n",
       "      <td>0.0</td>\n",
       "      <td>0.0</td>\n",
       "    </tr>\n",
       "    <tr>\n",
       "      <th>3</th>\n",
       "      <td>14.162920</td>\n",
       "      <td>20.432566</td>\n",
       "      <td>d2h</td>\n",
       "      <td>38146.973</td>\n",
       "      <td>0.0</td>\n",
       "      <td>sleep</td>\n",
       "      <td>6084.390251</td>\n",
       "      <td>0.0</td>\n",
       "      <td>38146.973</td>\n",
       "      <td>0.0</td>\n",
       "      <td>0.0</td>\n",
       "      <td>0.0</td>\n",
       "    </tr>\n",
       "    <tr>\n",
       "      <th>6</th>\n",
       "      <td>16.037949</td>\n",
       "      <td>17.314567</td>\n",
       "      <td>kern</td>\n",
       "      <td>0.000</td>\n",
       "      <td>1.0</td>\n",
       "      <td>sleep</td>\n",
       "      <td>0.000000</td>\n",
       "      <td>0.0</td>\n",
       "      <td>0.000</td>\n",
       "      <td>0.0</td>\n",
       "      <td>0.0</td>\n",
       "      <td>0.0</td>\n",
       "    </tr>\n",
       "    <tr>\n",
       "      <th>7</th>\n",
       "      <td>17.321351</td>\n",
       "      <td>23.590997</td>\n",
       "      <td>d2h</td>\n",
       "      <td>38146.973</td>\n",
       "      <td>1.0</td>\n",
       "      <td>sleep</td>\n",
       "      <td>6084.390251</td>\n",
       "      <td>0.0</td>\n",
       "      <td>38146.973</td>\n",
       "      <td>0.0</td>\n",
       "      <td>0.0</td>\n",
       "      <td>0.0</td>\n",
       "    </tr>\n",
       "  </tbody>\n",
       "</table>\n",
       "</div>"
      ],
      "text/plain": [
       "       start        end api_type    size_kb  stream_id status           bw  \\\n",
       "0   0.000000   6.436815      h2d  38146.973        0.0  sleep  5926.373991   \n",
       "4   3.158431   9.595246      h2d  38146.973        1.0  sleep  5926.373991   \n",
       "1   6.438031  12.868030      h2d  38146.973        0.0  sleep  5932.656133   \n",
       "5   9.596462  16.026461      h2d  38146.973        1.0  sleep  5932.656133   \n",
       "2  12.879518  14.156136     kern      0.000        0.0  sleep     0.000000   \n",
       "3  14.162920  20.432566      d2h  38146.973        0.0  sleep  6084.390251   \n",
       "6  16.037949  17.314567     kern      0.000        1.0  sleep     0.000000   \n",
       "7  17.321351  23.590997      d2h  38146.973        1.0  sleep  6084.390251   \n",
       "\n",
       "   bytes_done  bytes_left  current_pos  time_left  pred_end  \n",
       "0         0.0   38146.973          0.0        0.0       0.0  \n",
       "4         0.0   38146.973          0.0        0.0       0.0  \n",
       "1         0.0   38146.973          0.0        0.0       0.0  \n",
       "5         0.0   38146.973          0.0        0.0       0.0  \n",
       "2         0.0       0.000          0.0        0.0       0.0  \n",
       "3         0.0   38146.973          0.0        0.0       0.0  \n",
       "6         0.0       0.000          0.0        0.0       0.0  \n",
       "7         0.0   38146.973          0.0        0.0       0.0  "
      ]
     },
     "execution_count": 22,
     "metadata": {},
     "output_type": "execute_result"
    }
   ],
   "source": [
    "df_all_api"
   ]
  },
  {
   "cell_type": "code",
   "execution_count": 23,
   "metadata": {
    "collapsed": false
   },
   "outputs": [],
   "source": [
    "# pick the 1st sleep call and wake up\n",
    "r1 = cke.pick_first_in_sleep(df_all_api)\n",
    "df_all_api = SetWake(df_all_api, r1)\n",
    "\n",
    "# pick another in the sleep mode, if it is from the same stream, there is non ovlp\n",
    "r2 = cke.pick_first_in_sleep(df_all_api)\n",
    "df_all_api = SetWake(df_all_api, r2)\n",
    "#print('r2 {}'.format(r2))\n",
    "\n",
    "# check concurrency\n",
    "conc = cke.check_cc(df_all_api, r1, r2)\n",
    "\n",
    "# concurrency\n",
    "if conc == 1:\n",
    "    df_all_api = cke.update_before_conc(df_all_api, r1, r2)\n",
    "    # set r2 to wake\n",
    "    df_all_api = SetWake(df_all_api, r2)\n",
    "    "
   ]
  },
  {
   "cell_type": "code",
   "execution_count": 24,
   "metadata": {
    "collapsed": false
   },
   "outputs": [
    {
     "data": {
      "text/html": [
       "<div>\n",
       "<table border=\"1\" class=\"dataframe\">\n",
       "  <thead>\n",
       "    <tr style=\"text-align: right;\">\n",
       "      <th></th>\n",
       "      <th>start</th>\n",
       "      <th>end</th>\n",
       "      <th>api_type</th>\n",
       "      <th>size_kb</th>\n",
       "      <th>stream_id</th>\n",
       "      <th>status</th>\n",
       "      <th>bw</th>\n",
       "      <th>bytes_done</th>\n",
       "      <th>bytes_left</th>\n",
       "      <th>current_pos</th>\n",
       "      <th>time_left</th>\n",
       "      <th>pred_end</th>\n",
       "    </tr>\n",
       "  </thead>\n",
       "  <tbody>\n",
       "    <tr>\n",
       "      <th>0</th>\n",
       "      <td>0.000000</td>\n",
       "      <td>6.436815</td>\n",
       "      <td>h2d</td>\n",
       "      <td>38146.973</td>\n",
       "      <td>0.0</td>\n",
       "      <td>wake</td>\n",
       "      <td>5926.373991</td>\n",
       "      <td>18718.04333</td>\n",
       "      <td>19428.92967</td>\n",
       "      <td>3.158431</td>\n",
       "      <td>0.0</td>\n",
       "      <td>0.0</td>\n",
       "    </tr>\n",
       "    <tr>\n",
       "      <th>4</th>\n",
       "      <td>3.158431</td>\n",
       "      <td>9.595246</td>\n",
       "      <td>h2d</td>\n",
       "      <td>38146.973</td>\n",
       "      <td>1.0</td>\n",
       "      <td>wake</td>\n",
       "      <td>5926.373991</td>\n",
       "      <td>0.00000</td>\n",
       "      <td>38146.97300</td>\n",
       "      <td>3.158431</td>\n",
       "      <td>0.0</td>\n",
       "      <td>0.0</td>\n",
       "    </tr>\n",
       "    <tr>\n",
       "      <th>1</th>\n",
       "      <td>6.438031</td>\n",
       "      <td>12.868030</td>\n",
       "      <td>h2d</td>\n",
       "      <td>38146.973</td>\n",
       "      <td>0.0</td>\n",
       "      <td>sleep</td>\n",
       "      <td>5932.656133</td>\n",
       "      <td>0.00000</td>\n",
       "      <td>38146.97300</td>\n",
       "      <td>0.000000</td>\n",
       "      <td>0.0</td>\n",
       "      <td>0.0</td>\n",
       "    </tr>\n",
       "    <tr>\n",
       "      <th>5</th>\n",
       "      <td>9.596462</td>\n",
       "      <td>16.026461</td>\n",
       "      <td>h2d</td>\n",
       "      <td>38146.973</td>\n",
       "      <td>1.0</td>\n",
       "      <td>sleep</td>\n",
       "      <td>5932.656133</td>\n",
       "      <td>0.00000</td>\n",
       "      <td>38146.97300</td>\n",
       "      <td>0.000000</td>\n",
       "      <td>0.0</td>\n",
       "      <td>0.0</td>\n",
       "    </tr>\n",
       "    <tr>\n",
       "      <th>2</th>\n",
       "      <td>12.879518</td>\n",
       "      <td>14.156136</td>\n",
       "      <td>kern</td>\n",
       "      <td>0.000</td>\n",
       "      <td>0.0</td>\n",
       "      <td>sleep</td>\n",
       "      <td>0.000000</td>\n",
       "      <td>0.00000</td>\n",
       "      <td>0.00000</td>\n",
       "      <td>0.000000</td>\n",
       "      <td>0.0</td>\n",
       "      <td>0.0</td>\n",
       "    </tr>\n",
       "    <tr>\n",
       "      <th>3</th>\n",
       "      <td>14.162920</td>\n",
       "      <td>20.432566</td>\n",
       "      <td>d2h</td>\n",
       "      <td>38146.973</td>\n",
       "      <td>0.0</td>\n",
       "      <td>sleep</td>\n",
       "      <td>6084.390251</td>\n",
       "      <td>0.00000</td>\n",
       "      <td>38146.97300</td>\n",
       "      <td>0.000000</td>\n",
       "      <td>0.0</td>\n",
       "      <td>0.0</td>\n",
       "    </tr>\n",
       "    <tr>\n",
       "      <th>6</th>\n",
       "      <td>16.037949</td>\n",
       "      <td>17.314567</td>\n",
       "      <td>kern</td>\n",
       "      <td>0.000</td>\n",
       "      <td>1.0</td>\n",
       "      <td>sleep</td>\n",
       "      <td>0.000000</td>\n",
       "      <td>0.00000</td>\n",
       "      <td>0.00000</td>\n",
       "      <td>0.000000</td>\n",
       "      <td>0.0</td>\n",
       "      <td>0.0</td>\n",
       "    </tr>\n",
       "    <tr>\n",
       "      <th>7</th>\n",
       "      <td>17.321351</td>\n",
       "      <td>23.590997</td>\n",
       "      <td>d2h</td>\n",
       "      <td>38146.973</td>\n",
       "      <td>1.0</td>\n",
       "      <td>sleep</td>\n",
       "      <td>6084.390251</td>\n",
       "      <td>0.00000</td>\n",
       "      <td>38146.97300</td>\n",
       "      <td>0.000000</td>\n",
       "      <td>0.0</td>\n",
       "      <td>0.0</td>\n",
       "    </tr>\n",
       "  </tbody>\n",
       "</table>\n",
       "</div>"
      ],
      "text/plain": [
       "       start        end api_type    size_kb  stream_id status           bw  \\\n",
       "0   0.000000   6.436815      h2d  38146.973        0.0   wake  5926.373991   \n",
       "4   3.158431   9.595246      h2d  38146.973        1.0   wake  5926.373991   \n",
       "1   6.438031  12.868030      h2d  38146.973        0.0  sleep  5932.656133   \n",
       "5   9.596462  16.026461      h2d  38146.973        1.0  sleep  5932.656133   \n",
       "2  12.879518  14.156136     kern      0.000        0.0  sleep     0.000000   \n",
       "3  14.162920  20.432566      d2h  38146.973        0.0  sleep  6084.390251   \n",
       "6  16.037949  17.314567     kern      0.000        1.0  sleep     0.000000   \n",
       "7  17.321351  23.590997      d2h  38146.973        1.0  sleep  6084.390251   \n",
       "\n",
       "    bytes_done   bytes_left  current_pos  time_left  pred_end  \n",
       "0  18718.04333  19428.92967     3.158431        0.0       0.0  \n",
       "4      0.00000  38146.97300     3.158431        0.0       0.0  \n",
       "1      0.00000  38146.97300     0.000000        0.0       0.0  \n",
       "5      0.00000  38146.97300     0.000000        0.0       0.0  \n",
       "2      0.00000      0.00000     0.000000        0.0       0.0  \n",
       "3      0.00000  38146.97300     0.000000        0.0       0.0  \n",
       "6      0.00000      0.00000     0.000000        0.0       0.0  \n",
       "7      0.00000  38146.97300     0.000000        0.0       0.0  "
      ]
     },
     "execution_count": 24,
     "metadata": {},
     "output_type": "execute_result"
    }
   ],
   "source": [
    "df_all_api"
   ]
  },
  {
   "cell_type": "code",
   "execution_count": 25,
   "metadata": {
    "collapsed": false,
    "deletable": true,
    "editable": true,
    "run_control": {
     "marked": false
    }
   },
   "outputs": [],
   "source": [
    "# #print df_all_api.shape[0]\n",
    "\n",
    "\n",
    "# # if check_coming_stream:\n",
    "# #     if curapi == 'h2d' and nextapi == 'h2d':\n",
    "# #         print('h2d_h2d')\n",
    "# #         run_h2d_mod = 1\n",
    "# #     if curapi == 'kern' and nextapi == 'kern':\n",
    "# #         print('kern_kern')\n",
    "# #         run_ker_mod = 1\n",
    "# #     if curapi == 'd2h' and nextapi == 'd2h':\n",
    "# #         run_d2h_mod = 1\n",
    "# #         print('d2h_d2h')\n",
    "        \n",
    "# if run_h2d_mod == 1:\n",
    "#     no_ovlap_time = nextapi_start - curapi_start\n",
    "#     # use the org bw to transfer\n",
    "#     curr_trans = df_all_api.iloc[0]['bw'] * no_ovlap_time\n",
    "#     #print('curr_trans : {}'.format(curr_trans))\n",
    "    \n",
    "#     # update the bytes_done\n",
    "#     df_all_api = UpdateCell(df_all_api, \n",
    "#                             0, 'bytes_done', \n",
    "#                             curr_trans)\n",
    "#     df_all_api = UpdateCell(df_all_api, \n",
    "#                             0, 'bytes_left', \n",
    "#                             df_all_api.iloc[0]['size_kb'] - curr_trans)\n",
    "#     df_all_api = UpdateCell(df_all_api, \n",
    "#                             0, 'current_pos',\n",
    "#                             nextapi_start)\n",
    "    \n",
    "#     # from nextapi_start, there is 2-way h2d concurrency\n",
    "#     cc = 2.0\n",
    "    \n",
    "#     df_all_api = UpdateCell(df_all_api, 1, 'status', 'wake')\n",
    "#     df_all_api = UpdateCell(df_all_api, 1, 'current_pos', df_all_api.iloc[1]['start'])\n",
    "    \n",
    "#     # predict with concurrency for rows 0 and 1\n",
    "#     df_all_api = UpdateTranTime(df_all_api, [0, 1], ways = cc)\n",
    "\n",
    "#     # check current_pos to pred_end, whether where there is api that is in sleep mode from different stream\n",
    "#     time_interv = GetRangeFromWakeStream(df_all_api)\n",
    "#     print time_interv\n",
    "#     newStream_at_interval = CheckOtherStream(df_all_api, time_interv)\n",
    "    \n",
    "#     if newStream_at_interval == 0:\n",
    "#         print('finish current api')\n",
    "#         df_all_api = UpdateWakeTiming(df_all_api, time_interv, cc)\n",
    "        \n",
    "#     # check if any api is done, and update the timing for the other apis in that stream\n",
    "#     df_all_api = DoneApiUpdate(df_all_api)\n",
    "    \n",
    "\n",
    "# ### now one api is done, we need to work on the next active api\n"
   ]
  },
  {
   "cell_type": "code",
   "execution_count": 26,
   "metadata": {
    "collapsed": false,
    "deletable": true,
    "editable": true,
    "run_control": {
     "marked": false
    }
   },
   "outputs": [
    {
     "data": {
      "text/html": [
       "<div>\n",
       "<table border=\"1\" class=\"dataframe\">\n",
       "  <thead>\n",
       "    <tr style=\"text-align: right;\">\n",
       "      <th></th>\n",
       "      <th>start</th>\n",
       "      <th>end</th>\n",
       "      <th>api_type</th>\n",
       "      <th>size_kb</th>\n",
       "      <th>stream_id</th>\n",
       "      <th>status</th>\n",
       "      <th>bw</th>\n",
       "      <th>bytes_done</th>\n",
       "      <th>bytes_left</th>\n",
       "      <th>current_pos</th>\n",
       "      <th>time_left</th>\n",
       "      <th>pred_end</th>\n",
       "    </tr>\n",
       "  </thead>\n",
       "  <tbody>\n",
       "    <tr>\n",
       "      <th>0</th>\n",
       "      <td>0.000000</td>\n",
       "      <td>6.436815</td>\n",
       "      <td>h2d</td>\n",
       "      <td>38146.973</td>\n",
       "      <td>0.0</td>\n",
       "      <td>wake</td>\n",
       "      <td>5926.373991</td>\n",
       "      <td>18718.04333</td>\n",
       "      <td>19428.92967</td>\n",
       "      <td>3.158431</td>\n",
       "      <td>0.0</td>\n",
       "      <td>0.0</td>\n",
       "    </tr>\n",
       "    <tr>\n",
       "      <th>4</th>\n",
       "      <td>3.158431</td>\n",
       "      <td>9.595246</td>\n",
       "      <td>h2d</td>\n",
       "      <td>38146.973</td>\n",
       "      <td>1.0</td>\n",
       "      <td>wake</td>\n",
       "      <td>5926.373991</td>\n",
       "      <td>0.00000</td>\n",
       "      <td>38146.97300</td>\n",
       "      <td>3.158431</td>\n",
       "      <td>0.0</td>\n",
       "      <td>0.0</td>\n",
       "    </tr>\n",
       "    <tr>\n",
       "      <th>1</th>\n",
       "      <td>6.438031</td>\n",
       "      <td>12.868030</td>\n",
       "      <td>h2d</td>\n",
       "      <td>38146.973</td>\n",
       "      <td>0.0</td>\n",
       "      <td>sleep</td>\n",
       "      <td>5932.656133</td>\n",
       "      <td>0.00000</td>\n",
       "      <td>38146.97300</td>\n",
       "      <td>0.000000</td>\n",
       "      <td>0.0</td>\n",
       "      <td>0.0</td>\n",
       "    </tr>\n",
       "    <tr>\n",
       "      <th>5</th>\n",
       "      <td>9.596462</td>\n",
       "      <td>16.026461</td>\n",
       "      <td>h2d</td>\n",
       "      <td>38146.973</td>\n",
       "      <td>1.0</td>\n",
       "      <td>sleep</td>\n",
       "      <td>5932.656133</td>\n",
       "      <td>0.00000</td>\n",
       "      <td>38146.97300</td>\n",
       "      <td>0.000000</td>\n",
       "      <td>0.0</td>\n",
       "      <td>0.0</td>\n",
       "    </tr>\n",
       "    <tr>\n",
       "      <th>2</th>\n",
       "      <td>12.879518</td>\n",
       "      <td>14.156136</td>\n",
       "      <td>kern</td>\n",
       "      <td>0.000</td>\n",
       "      <td>0.0</td>\n",
       "      <td>sleep</td>\n",
       "      <td>0.000000</td>\n",
       "      <td>0.00000</td>\n",
       "      <td>0.00000</td>\n",
       "      <td>0.000000</td>\n",
       "      <td>0.0</td>\n",
       "      <td>0.0</td>\n",
       "    </tr>\n",
       "    <tr>\n",
       "      <th>3</th>\n",
       "      <td>14.162920</td>\n",
       "      <td>20.432566</td>\n",
       "      <td>d2h</td>\n",
       "      <td>38146.973</td>\n",
       "      <td>0.0</td>\n",
       "      <td>sleep</td>\n",
       "      <td>6084.390251</td>\n",
       "      <td>0.00000</td>\n",
       "      <td>38146.97300</td>\n",
       "      <td>0.000000</td>\n",
       "      <td>0.0</td>\n",
       "      <td>0.0</td>\n",
       "    </tr>\n",
       "    <tr>\n",
       "      <th>6</th>\n",
       "      <td>16.037949</td>\n",
       "      <td>17.314567</td>\n",
       "      <td>kern</td>\n",
       "      <td>0.000</td>\n",
       "      <td>1.0</td>\n",
       "      <td>sleep</td>\n",
       "      <td>0.000000</td>\n",
       "      <td>0.00000</td>\n",
       "      <td>0.00000</td>\n",
       "      <td>0.000000</td>\n",
       "      <td>0.0</td>\n",
       "      <td>0.0</td>\n",
       "    </tr>\n",
       "    <tr>\n",
       "      <th>7</th>\n",
       "      <td>17.321351</td>\n",
       "      <td>23.590997</td>\n",
       "      <td>d2h</td>\n",
       "      <td>38146.973</td>\n",
       "      <td>1.0</td>\n",
       "      <td>sleep</td>\n",
       "      <td>6084.390251</td>\n",
       "      <td>0.00000</td>\n",
       "      <td>38146.97300</td>\n",
       "      <td>0.000000</td>\n",
       "      <td>0.0</td>\n",
       "      <td>0.0</td>\n",
       "    </tr>\n",
       "  </tbody>\n",
       "</table>\n",
       "</div>"
      ],
      "text/plain": [
       "       start        end api_type    size_kb  stream_id status           bw  \\\n",
       "0   0.000000   6.436815      h2d  38146.973        0.0   wake  5926.373991   \n",
       "4   3.158431   9.595246      h2d  38146.973        1.0   wake  5926.373991   \n",
       "1   6.438031  12.868030      h2d  38146.973        0.0  sleep  5932.656133   \n",
       "5   9.596462  16.026461      h2d  38146.973        1.0  sleep  5932.656133   \n",
       "2  12.879518  14.156136     kern      0.000        0.0  sleep     0.000000   \n",
       "3  14.162920  20.432566      d2h  38146.973        0.0  sleep  6084.390251   \n",
       "6  16.037949  17.314567     kern      0.000        1.0  sleep     0.000000   \n",
       "7  17.321351  23.590997      d2h  38146.973        1.0  sleep  6084.390251   \n",
       "\n",
       "    bytes_done   bytes_left  current_pos  time_left  pred_end  \n",
       "0  18718.04333  19428.92967     3.158431        0.0       0.0  \n",
       "4      0.00000  38146.97300     3.158431        0.0       0.0  \n",
       "1      0.00000  38146.97300     0.000000        0.0       0.0  \n",
       "5      0.00000  38146.97300     0.000000        0.0       0.0  \n",
       "2      0.00000      0.00000     0.000000        0.0       0.0  \n",
       "3      0.00000  38146.97300     0.000000        0.0       0.0  \n",
       "6      0.00000      0.00000     0.000000        0.0       0.0  \n",
       "7      0.00000  38146.97300     0.000000        0.0       0.0  "
      ]
     },
     "execution_count": 26,
     "metadata": {},
     "output_type": "execute_result"
    }
   ],
   "source": [
    "df_all_api"
   ]
  },
  {
   "cell_type": "code",
   "execution_count": 27,
   "metadata": {
    "collapsed": false,
    "deletable": true,
    "editable": true,
    "run_control": {
     "marked": false
    }
   },
   "outputs": [
    {
     "data": {
      "text/html": [
       "<div>\n",
       "<table border=\"1\" class=\"dataframe\">\n",
       "  <thead>\n",
       "    <tr style=\"text-align: right;\">\n",
       "      <th></th>\n",
       "      <th>start</th>\n",
       "      <th>end</th>\n",
       "      <th>api_type</th>\n",
       "      <th>size_kb</th>\n",
       "      <th>stream_id</th>\n",
       "      <th>status</th>\n",
       "      <th>bw</th>\n",
       "      <th>bytes_done</th>\n",
       "      <th>bytes_left</th>\n",
       "      <th>current_pos</th>\n",
       "      <th>time_left</th>\n",
       "      <th>pred_end</th>\n",
       "    </tr>\n",
       "  </thead>\n",
       "  <tbody>\n",
       "    <tr>\n",
       "      <th>0</th>\n",
       "      <td>0.000000</td>\n",
       "      <td>6.436815</td>\n",
       "      <td>h2d</td>\n",
       "      <td>38146.973</td>\n",
       "      <td>0.0</td>\n",
       "      <td>wake</td>\n",
       "      <td>5926.373991</td>\n",
       "      <td>18718.04333</td>\n",
       "      <td>19428.92967</td>\n",
       "      <td>3.158431</td>\n",
       "      <td>0.0</td>\n",
       "      <td>0.0</td>\n",
       "    </tr>\n",
       "    <tr>\n",
       "      <th>1</th>\n",
       "      <td>6.438031</td>\n",
       "      <td>12.868030</td>\n",
       "      <td>h2d</td>\n",
       "      <td>38146.973</td>\n",
       "      <td>0.0</td>\n",
       "      <td>sleep</td>\n",
       "      <td>5932.656133</td>\n",
       "      <td>0.00000</td>\n",
       "      <td>38146.97300</td>\n",
       "      <td>0.000000</td>\n",
       "      <td>0.0</td>\n",
       "      <td>0.0</td>\n",
       "    </tr>\n",
       "    <tr>\n",
       "      <th>2</th>\n",
       "      <td>12.879518</td>\n",
       "      <td>14.156136</td>\n",
       "      <td>kern</td>\n",
       "      <td>0.000</td>\n",
       "      <td>0.0</td>\n",
       "      <td>sleep</td>\n",
       "      <td>0.000000</td>\n",
       "      <td>0.00000</td>\n",
       "      <td>0.00000</td>\n",
       "      <td>0.000000</td>\n",
       "      <td>0.0</td>\n",
       "      <td>0.0</td>\n",
       "    </tr>\n",
       "    <tr>\n",
       "      <th>3</th>\n",
       "      <td>14.162920</td>\n",
       "      <td>20.432566</td>\n",
       "      <td>d2h</td>\n",
       "      <td>38146.973</td>\n",
       "      <td>0.0</td>\n",
       "      <td>sleep</td>\n",
       "      <td>6084.390251</td>\n",
       "      <td>0.00000</td>\n",
       "      <td>38146.97300</td>\n",
       "      <td>0.000000</td>\n",
       "      <td>0.0</td>\n",
       "      <td>0.0</td>\n",
       "    </tr>\n",
       "  </tbody>\n",
       "</table>\n",
       "</div>"
      ],
      "text/plain": [
       "       start        end api_type    size_kb  stream_id status           bw  \\\n",
       "0   0.000000   6.436815      h2d  38146.973        0.0   wake  5926.373991   \n",
       "1   6.438031  12.868030      h2d  38146.973        0.0  sleep  5932.656133   \n",
       "2  12.879518  14.156136     kern      0.000        0.0  sleep     0.000000   \n",
       "3  14.162920  20.432566      d2h  38146.973        0.0  sleep  6084.390251   \n",
       "\n",
       "    bytes_done   bytes_left  current_pos  time_left  pred_end  \n",
       "0  18718.04333  19428.92967     3.158431        0.0       0.0  \n",
       "1      0.00000  38146.97300     0.000000        0.0       0.0  \n",
       "2      0.00000      0.00000     0.000000        0.0       0.0  \n",
       "3      0.00000  38146.97300     0.000000        0.0       0.0  "
      ]
     },
     "execution_count": 27,
     "metadata": {},
     "output_type": "execute_result"
    }
   ],
   "source": [
    "df_all_api.loc[df_all_api.stream_id == 0]"
   ]
  },
  {
   "cell_type": "markdown",
   "metadata": {
    "deletable": true,
    "editable": true,
    "run_control": {
     "marked": false
    }
   },
   "source": [
    "# 3cke"
   ]
  },
  {
   "cell_type": "markdown",
   "metadata": {
    "deletable": true,
    "editable": true,
    "run_control": {
     "marked": false
    }
   },
   "source": [
    "# plot all the stream timeline"
   ]
  },
  {
   "cell_type": "code",
   "execution_count": 28,
   "metadata": {
    "collapsed": false,
    "deletable": true,
    "editable": true,
    "run_control": {
     "marked": false
    }
   },
   "outputs": [
    {
     "name": "stderr",
     "output_type": "stream",
     "text": [
      "/home/leiming/anaconda2/lib/python2.7/site-packages/matplotlib/axes/_base.py:1292: UnicodeWarning: Unicode equal comparison failed to convert both arguments to Unicode - interpreting them as being unequal\n",
      "  if aspect == 'normal':\n",
      "/home/leiming/anaconda2/lib/python2.7/site-packages/matplotlib/axes/_base.py:1297: UnicodeWarning: Unicode equal comparison failed to convert both arguments to Unicode - interpreting them as being unequal\n",
      "  elif aspect in ('equal', 'auto'):\n"
     ]
    },
    {
     "data": {
      "image/png": "[encoded data removed]",
      "text/plain": [
       "<matplotlib.figure.Figure at 0x7f147aba9a10>"
      ]
     },
     "metadata": {},
     "output_type": "display_data"
    }
   ],
   "source": [
    "cuda_timeline.plot_cke_list(df_cke_list, savefig=True)"
   ]
  },
  {
   "cell_type": "code",
   "execution_count": 29,
   "metadata": {
    "collapsed": false,
    "deletable": true,
    "editable": true,
    "run_control": {
     "marked": false
    }
   },
   "outputs": [
    {
     "data": {
      "image/png": "[encoded data removed]",
      "text/plain": [
       "<matplotlib.figure.Figure at 0x7f147770bfd0>"
      ]
     },
     "metadata": {},
     "output_type": "display_data"
    }
   ],
   "source": [
    "cuda_timeline.plot_cke_list(df_cke_list[0:2])"
   ]
  },
  {
   "cell_type": "code",
   "execution_count": 30,
   "metadata": {
    "collapsed": false,
    "deletable": true,
    "editable": true,
    "run_control": {
     "marked": false
    }
   },
   "outputs": [
    {
     "name": "stdout",
     "output_type": "stream",
     "text": [
      "20.432566\n"
     ]
    }
   ],
   "source": [
    "tot_runtime = read_trace.getTotalRuntime(df_cke_list[0:2])\n",
    "print tot_runtime"
   ]
  },
  {
   "cell_type": "markdown",
   "metadata": {
    "deletable": true,
    "editable": true,
    "run_control": {
     "marked": false
    }
   },
   "source": [
    "# Check the h2d overlapping"
   ]
  },
  {
   "cell_type": "code",
   "execution_count": null,
   "metadata": {
    "collapsed": true,
    "deletable": true,
    "editable": true,
    "run_control": {
     "marked": false
    }
   },
   "outputs": [],
   "source": []
  },
  {
   "cell_type": "code",
   "execution_count": 31,
   "metadata": {
    "collapsed": false,
    "deletable": true,
    "editable": true,
    "run_control": {
     "marked": false
    }
   },
   "outputs": [],
   "source": [
    "# # extract kernel info\n",
    "# streaminfo = get_stream_info(df_trace)\n",
    "# current_kern_info = streaminfo[0].kernel_info[0]\n",
    "\n",
    "# grid_dim = float(current_kern_info.grid_x) * float(current_kern_info.grid_y) * float(current_kern_info.grid_z)\n",
    "# block_dim = float(current_kern_info.blk_x) * float(current_kern_info.blk_y) * float(current_kern_info.blk_z)\n",
    "# reg_per_thread = float(current_kern_info.regs_per_thread)\n",
    "# sm_per_blk = float(current_kern_info.sm_per_block)\n",
    "    \n",
    "# # kernel runtime in ms\n",
    "# current_kern =  streaminfo[0].kernel[0]\n",
    "# kern_runtime_ms = float(current_kern.end_time_ms) - float(current_kern.start_time_ms)\n",
    "\n",
    "# kernel = KernelInfo()\n",
    "# kernel.blockDim = block_dim\n",
    "# kernel.gridDim = grid_dim\n",
    "# kernel.reg_per_thread = reg_per_thread\n",
    "# kernel.sharedmem_per_blk = sm_per_blk\n",
    "# kernel.runtime_ms = kern_runtime_ms\n",
    "\n",
    "# kernel.avg_blk_time = compute_avgblktime(gtx950, kernel)\n",
    "# #print kernel_avg_blk_time"
   ]
  },
  {
   "cell_type": "code",
   "execution_count": null,
   "metadata": {
    "collapsed": false,
    "deletable": true,
    "editable": true,
    "run_control": {
     "marked": false
    }
   },
   "outputs": [],
   "source": []
  },
  {
   "cell_type": "markdown",
   "metadata": {
    "deletable": true,
    "editable": true,
    "run_control": {
     "marked": false
    }
   },
   "source": [
    "### check whether there is h2d overlapping"
   ]
  },
  {
   "cell_type": "code",
   "execution_count": 32,
   "metadata": {
    "collapsed": false,
    "deletable": true,
    "editable": true,
    "run_control": {
     "marked": false
    }
   },
   "outputs": [
    {
     "ename": "NameError",
     "evalue": "name 'find_h2ds_timing' is not defined",
     "output_type": "error",
     "traceback": [
      "\u001b[0;31m---------------------------------------------------------------------------\u001b[0m",
      "\u001b[0;31mNameError\u001b[0m                                 Traceback (most recent call last)",
      "\u001b[0;32m<ipython-input-32-1ba2dd7df3a4>\u001b[0m in \u001b[0;36m<module>\u001b[0;34m()\u001b[0m\n\u001b[0;32m----> 1\u001b[0;31m \u001b[0mprev_stm_h2ds_start\u001b[0m\u001b[0;34m,\u001b[0m \u001b[0mprev_stm_h2ds_end\u001b[0m \u001b[0;34m=\u001b[0m \u001b[0mfind_h2ds_timing\u001b[0m\u001b[0;34m(\u001b[0m\u001b[0mdf_cke_list\u001b[0m\u001b[0;34m[\u001b[0m\u001b[0;36m0\u001b[0m\u001b[0;34m]\u001b[0m\u001b[0;34m)\u001b[0m\u001b[0;34m\u001b[0m\u001b[0m\n\u001b[0m\u001b[1;32m      2\u001b[0m \u001b[0;32mprint\u001b[0m\u001b[0;34m(\u001b[0m\u001b[0;34m\"prev stream h2ds : {} - {}\"\u001b[0m\u001b[0;34m.\u001b[0m\u001b[0mformat\u001b[0m\u001b[0;34m(\u001b[0m\u001b[0mprev_stm_h2ds_start\u001b[0m\u001b[0;34m,\u001b[0m \u001b[0mprev_stm_h2ds_end\u001b[0m\u001b[0;34m)\u001b[0m\u001b[0;34m)\u001b[0m\u001b[0;34m\u001b[0m\u001b[0m\n\u001b[1;32m      3\u001b[0m \u001b[0;34m\u001b[0m\u001b[0m\n\u001b[1;32m      4\u001b[0m \u001b[0mcurr_stm_h2ds_start\u001b[0m\u001b[0;34m,\u001b[0m \u001b[0mcurr_stm_h2ds_end\u001b[0m \u001b[0;34m=\u001b[0m \u001b[0mfind_h2ds_timing\u001b[0m\u001b[0;34m(\u001b[0m\u001b[0mdf_cke_list\u001b[0m\u001b[0;34m[\u001b[0m\u001b[0;36m1\u001b[0m\u001b[0;34m]\u001b[0m\u001b[0;34m)\u001b[0m\u001b[0;34m\u001b[0m\u001b[0m\n\u001b[1;32m      5\u001b[0m \u001b[0;32mprint\u001b[0m\u001b[0;34m(\u001b[0m\u001b[0;34m\"curr stream h2ds : {} - {}\"\u001b[0m\u001b[0;34m.\u001b[0m\u001b[0mformat\u001b[0m\u001b[0;34m(\u001b[0m\u001b[0mcurr_stm_h2ds_start\u001b[0m\u001b[0;34m,\u001b[0m \u001b[0mcurr_stm_h2ds_end\u001b[0m\u001b[0;34m)\u001b[0m\u001b[0;34m)\u001b[0m\u001b[0;34m\u001b[0m\u001b[0m\n",
      "\u001b[0;31mNameError\u001b[0m: name 'find_h2ds_timing' is not defined"
     ]
    }
   ],
   "source": [
    "prev_stm_h2ds_start, prev_stm_h2ds_end = find_h2ds_timing(df_cke_list[0])\n",
    "print(\"prev stream h2ds : {} - {}\".format(prev_stm_h2ds_start, prev_stm_h2ds_end))\n",
    "\n",
    "curr_stm_h2ds_start, curr_stm_h2ds_end = find_h2ds_timing(df_cke_list[1])\n",
    "print(\"curr stream h2ds : {} - {}\".format(curr_stm_h2ds_start, curr_stm_h2ds_end))"
   ]
  },
  {
   "cell_type": "code",
   "execution_count": null,
   "metadata": {
    "collapsed": false,
    "deletable": true,
    "editable": true,
    "run_control": {
     "marked": false
    }
   },
   "outputs": [],
   "source": [
    "if curr_stm_h2ds_start >=prev_stm_h2ds_start and curr_stm_h2ds_start < prev_stm_h2ds_end:\n",
    "    h2ds_ovlp_between_stream = True \n",
    "else:\n",
    "    h2ds_ovlp_between_stream = False\n",
    "\n",
    "print(\"h2ds_ovlp_between_stream : {}\".format(h2ds_ovlp_between_stream))"
   ]
  },
  {
   "cell_type": "markdown",
   "metadata": {
    "deletable": true,
    "editable": true,
    "run_control": {
     "marked": false
    }
   },
   "source": [
    "### check kernel overlapping"
   ]
  },
  {
   "cell_type": "code",
   "execution_count": null,
   "metadata": {
    "collapsed": false,
    "deletable": true,
    "editable": true,
    "run_control": {
     "marked": false
    }
   },
   "outputs": [],
   "source": [
    "prev_stm_kern_start, prev_stm_kern_end = find_kern_timing(df_cke_list[0])\n",
    "print(\"prev stream kern : {} - {}\".format(prev_stm_kern_start, prev_stm_kern_end))\n",
    "\n",
    "curr_stm_kern_start, curr_stm_kern_end = find_kern_timing(df_cke_list[1])\n",
    "print(\"curr stream kern : {} - {}\".format(curr_stm_kern_start, curr_stm_kern_end))\n"
   ]
  },
  {
   "cell_type": "code",
   "execution_count": null,
   "metadata": {
    "collapsed": false,
    "deletable": true,
    "editable": true,
    "run_control": {
     "marked": false
    }
   },
   "outputs": [],
   "source": [
    "if  prev_stm_kern_start <= curr_stm_kern_start < prev_stm_kern_end:\n",
    "    kern_ovlp_between_stream = True \n",
    "else:\n",
    "    kern_ovlp_between_stream = False\n",
    "\n",
    "print(\"kern_ovlp_between_stream : {}\".format(kern_ovlp_between_stream))"
   ]
  },
  {
   "cell_type": "markdown",
   "metadata": {
    "deletable": true,
    "editable": true,
    "run_control": {
     "marked": false
    }
   },
   "source": [
    "#### use cke model if kern_ovlp_between_stream is true"
   ]
  },
  {
   "cell_type": "code",
   "execution_count": null,
   "metadata": {
    "collapsed": false,
    "deletable": true,
    "editable": true,
    "run_control": {
     "marked": false
    }
   },
   "outputs": [],
   "source": [
    "# get the overlapping kernel info from both stream\n",
    "\n",
    "# since the ovlp kernels are identical, we duplicate twice\n",
    "kernel_num = 2\n",
    "kernels = [kernel for i in range(kernel_num)]\n",
    "\n",
    "pred_cke_time, kernels_start_end = model_cke_from_same_kernel(gtx950, kernels)"
   ]
  },
  {
   "cell_type": "code",
   "execution_count": null,
   "metadata": {
    "collapsed": false,
    "deletable": true,
    "editable": true,
    "run_control": {
     "marked": false
    }
   },
   "outputs": [],
   "source": [
    "pred_cke_time"
   ]
  },
  {
   "cell_type": "code",
   "execution_count": null,
   "metadata": {
    "collapsed": false,
    "deletable": true,
    "editable": true,
    "run_control": {
     "marked": false
    }
   },
   "outputs": [],
   "source": [
    "kernels_start_end"
   ]
  },
  {
   "cell_type": "code",
   "execution_count": null,
   "metadata": {
    "collapsed": false,
    "deletable": true,
    "editable": true,
    "run_control": {
     "marked": false
    }
   },
   "outputs": [],
   "source": [
    "df_cke_list[0]"
   ]
  },
  {
   "cell_type": "code",
   "execution_count": null,
   "metadata": {
    "collapsed": false,
    "deletable": true,
    "editable": true,
    "run_control": {
     "marked": false
    }
   },
   "outputs": [],
   "source": [
    "df_cke_list[1]"
   ]
  },
  {
   "cell_type": "code",
   "execution_count": null,
   "metadata": {
    "collapsed": true,
    "deletable": true,
    "editable": true,
    "run_control": {
     "marked": false
    }
   },
   "outputs": [],
   "source": [
    "def api_order(df_trace):\n",
    "    order_ls = []\n",
    "    for index,row in df_trace.iterrows():\n",
    "        order_ls.append([str(row.api_type), index])\n",
    "    return order_ls"
   ]
  },
  {
   "cell_type": "code",
   "execution_count": null,
   "metadata": {
    "collapsed": false,
    "deletable": true,
    "editable": true,
    "run_control": {
     "marked": false
    }
   },
   "outputs": [],
   "source": [
    "cke1_api_list = api_order(df_cke_list[1])\n",
    "print cke1_api_list"
   ]
  },
  {
   "cell_type": "code",
   "execution_count": null,
   "metadata": {
    "collapsed": true,
    "deletable": true,
    "editable": true,
    "run_control": {
     "marked": false
    }
   },
   "outputs": [],
   "source": [
    "def find_api_pos(ls, api_name, order):\n",
    "    count = 0\n",
    "    index = 0\n",
    "    found = 0\n",
    "    for api in ls:\n",
    "        if api[0] == api_name:\n",
    "            count = count + 1\n",
    "            if count == order:\n",
    "                found = 1\n",
    "                index = api[1]\n",
    "                break;\n",
    "    return found, index"
   ]
  },
  {
   "cell_type": "code",
   "execution_count": null,
   "metadata": {
    "collapsed": false,
    "deletable": true,
    "editable": true,
    "run_control": {
     "marked": false
    }
   },
   "outputs": [],
   "source": [
    "# found, pos = find_api_pos(cke1_api_list, \"kern\", 1)\n",
    "# print(\"found : {}, pos : {}\".format(found, pos))"
   ]
  },
  {
   "cell_type": "code",
   "execution_count": null,
   "metadata": {
    "collapsed": false,
    "deletable": true,
    "editable": true,
    "run_control": {
     "marked": false
    }
   },
   "outputs": [],
   "source": [
    "# adjust kernel timing \n",
    "\n",
    "df_current = df_cke_list[1]\n",
    "df_current_kern = df_current.loc[df_current.api_type == \"kern\"]\n",
    "#print df_current_kern.start\n",
    "#print df_current_kern.end\n",
    "\n",
    "df_prev = df_cke_list[0]\n",
    "df_prev_kern = df_prev.loc[df_prev.api_type == \"kern\"]\n",
    "#print df_prev_kern.start\n",
    "\n",
    "kern_start_update =  float(df_prev_kern.start) + kernels_start_end[1][0]\n",
    "print kern_start_update\n",
    "\n",
    "kern_end_update = float(df_prev_kern.start) + kernels_start_end[1][1]\n",
    "print kern_end_update\n",
    "\n",
    "# we need to adjust the timing for the following api calls too\n",
    "# find out the kern_d2h ovhd\n",
    "df_current_d2h = df_current.loc[df_current.api_type == \"d2h\"]\n",
    "#print df_current_d2h.start\n",
    "#print df_current_kern.end\n",
    "\n",
    "kern_d2h_ovhd = float(df_current_d2h.start) - float(df_current_kern.end)\n",
    "print kern_d2h_ovhd\n",
    "\n",
    "\n",
    "d2h_new_start = kern_end_update + kern_d2h_ovhd\n",
    "print d2h_new_start\n",
    "\n",
    "d2h_delta = d2h_new_start - float(df_current_d2h.start)\n",
    "print d2h_delta\n",
    "\n",
    "### update\n",
    "found, pos = find_api_pos(cke1_api_list, \"kern\", 1)  # find the 1st kern in the api list\n",
    "print(\"found : {}, pos : {}\".format(found, pos))\n",
    "\n",
    "df_current.set_value(pos, 'start', kern_start_update)\n",
    "df_current.set_value(pos, 'end', kern_end_update)\n",
    "df_current.set_value(pos, 'duration', kern_end_update - kern_start_update)\n",
    "#df_current_kern.start = kern_start_update \n",
    "#df_current_kern.end = kern_end_update\n",
    "#df_current_kern.duration = kern_end_update - kern_start_update\n",
    "\n",
    "\n",
    "found, pos = find_api_pos(cke1_api_list, \"d2h\", 1)  # find the 1st kern in the api list\n",
    "print(\"found : {}, pos : {}\".format(found, pos))\n",
    "\n",
    "df_current.set_value(pos, 'start', d2h_new_start)\n",
    "df_current.set_value(pos, 'end', df_current_d2h.end + d2h_delta)\n",
    "#df_current_d2h.start = d2h_new_start\n",
    "#df_current_d2h.end = df_current_d2h.end + d2h_delta"
   ]
  }
 ],
 "metadata": {
  "kernelspec": {
   "display_name": "Python [conda root]",
   "language": "python",
   "name": "conda-root-py"
  },
  "language_info": {
   "codemirror_mode": {
    "name": "ipython",
    "version": 2
   },
   "file_extension": ".py",
   "mimetype": "text/x-python",
   "name": "python",
   "nbconvert_exporter": "python",
   "pygments_lexer": "ipython2",
   "version": "2.7.13"
  }
 },
 "nbformat": 4,
 "nbformat_minor": 2
}
