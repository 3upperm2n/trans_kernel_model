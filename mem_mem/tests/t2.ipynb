{
 "cells": [
  {
   "cell_type": "code",
   "execution_count": 418,
   "metadata": {
    "collapsed": false
   },
   "outputs": [
    {
     "name": "stdout",
     "output_type": "stream",
     "text": [
      "The autoreload extension is already loaded. To reload it, use:\n",
      "  %reload_ext autoreload\n"
     ]
    }
   ],
   "source": [
    "%load_ext autoreload\n",
    "%autoreload 2"
   ]
  },
  {
   "cell_type": "code",
   "execution_count": 419,
   "metadata": {
    "collapsed": false,
    "deletable": true,
    "editable": true,
    "run_control": {
     "marked": false
    }
   },
   "outputs": [],
   "source": [
    "import warnings\n",
    "import pandas as pd\n",
    "import numpy as np\n",
    "import os\n",
    "import sys # error msg, add the modules\n",
    "import operator # sorting\n",
    "from math import *\n",
    "import matplotlib.pyplot as plt\n",
    "\n",
    "sys.path.append('../')\n",
    "\n",
    "import read_trace\n",
    "import cuda_timeline\n",
    "from avgblkmodel import *\n",
    "import cke\n",
    "from df_util import *\n",
    "#from model_cke import *\n",
    "\n",
    "warnings.filterwarnings(\"ignore\", category=np.VisibleDeprecationWarning)"
   ]
  },
  {
   "cell_type": "markdown",
   "metadata": {
    "deletable": true,
    "editable": true,
    "run_control": {
     "marked": false
    }
   },
   "source": [
    "# gpu info"
   ]
  },
  {
   "cell_type": "code",
   "execution_count": 420,
   "metadata": {
    "collapsed": false,
    "deletable": true,
    "editable": true,
    "run_control": {
     "marked": false
    }
   },
   "outputs": [],
   "source": [
    "gtx950 = DeviceInfo()\n",
    "gtx950.sm_num = 6\n",
    "gtx950.sharedmem_per_sm = 49152\n",
    "gtx950.reg_per_sm = 65536\n",
    "gtx950.maxthreads_per_sm = 2048"
   ]
  },
  {
   "cell_type": "markdown",
   "metadata": {
    "deletable": true,
    "editable": true,
    "run_control": {
     "marked": false
    }
   },
   "source": [
    "# 2 stream info"
   ]
  },
  {
   "cell_type": "code",
   "execution_count": 421,
   "metadata": {
    "collapsed": false,
    "deletable": true,
    "editable": true,
    "run_control": {
     "marked": false
    }
   },
   "outputs": [],
   "source": [
    "# 10M for mem_mem : where the h2d between streams are overlapped\n",
    "trace_file = 'trace_10M_s1.csv'\n",
    "trace_file_2cke = 'trace_h2d_h2d_ovlp.csv'\n",
    "\n",
    "df_trace = read_trace.trace2dataframe(trace_file) # read the trace to the dataframe\n",
    "df_trace_2cke = read_trace.trace2dataframe(trace_file_2cke)"
   ]
  },
  {
   "cell_type": "code",
   "execution_count": 422,
   "metadata": {
    "collapsed": false,
    "deletable": true,
    "editable": true,
    "run_control": {
     "marked": false
    },
    "scrolled": true
   },
   "outputs": [],
   "source": [
    "#df_trace"
   ]
  },
  {
   "cell_type": "code",
   "execution_count": 423,
   "metadata": {
    "collapsed": false,
    "deletable": true,
    "editable": true,
    "run_control": {
     "marked": false
    }
   },
   "outputs": [],
   "source": [
    "#cuda_timeline.plot_trace(df_trace)"
   ]
  },
  {
   "cell_type": "code",
   "execution_count": 424,
   "metadata": {
    "collapsed": false,
    "deletable": true,
    "editable": true,
    "run_control": {
     "marked": false
    }
   },
   "outputs": [],
   "source": [
    "#df_trace_2cke"
   ]
  },
  {
   "cell_type": "code",
   "execution_count": 425,
   "metadata": {
    "collapsed": false,
    "deletable": true,
    "editable": true,
    "run_control": {
     "marked": false
    },
    "scrolled": true
   },
   "outputs": [],
   "source": [
    "#cuda_timeline.plot_trace(df_trace_2cke)"
   ]
  },
  {
   "cell_type": "markdown",
   "metadata": {
    "deletable": true,
    "editable": true,
    "run_control": {
     "marked": false
    }
   },
   "source": [
    "# 1cke - read trace and reset the timeline"
   ]
  },
  {
   "cell_type": "code",
   "execution_count": 426,
   "metadata": {
    "collapsed": false,
    "deletable": true,
    "editable": true,
    "run_control": {
     "marked": false
    }
   },
   "outputs": [],
   "source": [
    "df_single_stream = read_trace.get_timing(df_trace)"
   ]
  },
  {
   "cell_type": "code",
   "execution_count": 427,
   "metadata": {
    "collapsed": false,
    "deletable": true,
    "editable": true,
    "run_control": {
     "marked": false
    }
   },
   "outputs": [],
   "source": [
    "#df_single_stream"
   ]
  },
  {
   "cell_type": "code",
   "execution_count": 428,
   "metadata": {
    "collapsed": false,
    "deletable": true,
    "editable": true,
    "run_control": {
     "marked": false
    }
   },
   "outputs": [],
   "source": [
    "df_s1 = read_trace.reset_starting(df_single_stream)"
   ]
  },
  {
   "cell_type": "code",
   "execution_count": 429,
   "metadata": {
    "collapsed": false,
    "deletable": true,
    "editable": true,
    "run_control": {
     "marked": false
    }
   },
   "outputs": [],
   "source": [
    "#df_s1"
   ]
  },
  {
   "cell_type": "markdown",
   "metadata": {
    "deletable": true,
    "editable": true,
    "run_control": {
     "marked": false
    }
   },
   "source": [
    "### 2cke case"
   ]
  },
  {
   "cell_type": "code",
   "execution_count": 430,
   "metadata": {
    "collapsed": true,
    "deletable": true,
    "editable": true,
    "run_control": {
     "marked": false
    }
   },
   "outputs": [],
   "source": [
    "df_2stream = read_trace.get_timing(df_trace_2cke)"
   ]
  },
  {
   "cell_type": "code",
   "execution_count": 431,
   "metadata": {
    "collapsed": false,
    "deletable": true,
    "editable": true,
    "run_control": {
     "marked": false
    },
    "scrolled": true
   },
   "outputs": [],
   "source": [
    "# df_2stream"
   ]
  },
  {
   "cell_type": "code",
   "execution_count": 432,
   "metadata": {
    "collapsed": false,
    "deletable": true,
    "editable": true,
    "run_control": {
     "marked": false
    }
   },
   "outputs": [
    {
     "name": "stdout",
     "output_type": "stream",
     "text": [
      "37.784463\n"
     ]
    }
   ],
   "source": [
    "tot_runtime = read_trace.getTotalRuntime(df_2stream)\n",
    "print tot_runtime"
   ]
  },
  {
   "cell_type": "markdown",
   "metadata": {
    "deletable": true,
    "editable": true,
    "run_control": {
     "marked": false
    }
   },
   "source": [
    "# 2 cke"
   ]
  },
  {
   "cell_type": "code",
   "execution_count": 433,
   "metadata": {
    "collapsed": false,
    "deletable": true,
    "editable": true,
    "run_control": {
     "marked": false
    }
   },
   "outputs": [],
   "source": [
    "stream_num = 2\n",
    "\n",
    "# find when to start the stream and update the starting pos for the trace\n",
    "H2D_H2D_OVLP_TH = 3.158431\n",
    "\n",
    "df_cke_list = cke.init_trace_list(df_s1, stream_num = stream_num, h2d_ovlp_th = H2D_H2D_OVLP_TH)"
   ]
  },
  {
   "cell_type": "code",
   "execution_count": 434,
   "metadata": {
    "collapsed": false,
    "deletable": true,
    "editable": true,
    "run_control": {
     "marked": false
    }
   },
   "outputs": [],
   "source": [
    "#df_cke_list[0]"
   ]
  },
  {
   "cell_type": "code",
   "execution_count": 435,
   "metadata": {
    "collapsed": false,
    "deletable": true,
    "editable": true,
    "run_control": {
     "marked": false
    }
   },
   "outputs": [],
   "source": [
    "#df_cke_list[1]"
   ]
  },
  {
   "cell_type": "markdown",
   "metadata": {},
   "source": [
    "### sort"
   ]
  },
  {
   "cell_type": "code",
   "execution_count": 436,
   "metadata": {
    "collapsed": false,
    "deletable": true,
    "editable": true,
    "run_control": {
     "marked": false
    }
   },
   "outputs": [],
   "source": [
    "df_all_api = cke.init_sort_api_with_extra_cols(df_cke_list)"
   ]
  },
  {
   "cell_type": "code",
   "execution_count": 437,
   "metadata": {
    "collapsed": false,
    "deletable": true,
    "editable": true,
    "run_control": {
     "marked": false
    }
   },
   "outputs": [],
   "source": [
    "#df_all_api"
   ]
  },
  {
   "cell_type": "code",
   "execution_count": 438,
   "metadata": {
    "collapsed": false,
    "deletable": true,
    "editable": true,
    "run_control": {
     "marked": false
    },
    "scrolled": true
   },
   "outputs": [],
   "source": [
    "#df_all_api.loc[df_all_api.stream_id == 0]"
   ]
  },
  {
   "cell_type": "code",
   "execution_count": 439,
   "metadata": {
    "collapsed": false,
    "deletable": true,
    "editable": true,
    "run_control": {
     "marked": false
    }
   },
   "outputs": [],
   "source": [
    "# print df_all_api.iloc[0]\n",
    "# print df_all_api.iloc[1]"
   ]
  },
  {
   "cell_type": "code",
   "execution_count": 440,
   "metadata": {
    "collapsed": false
   },
   "outputs": [],
   "source": [
    "#df_all_api"
   ]
  },
  {
   "cell_type": "code",
   "execution_count": 441,
   "metadata": {
    "collapsed": false
   },
   "outputs": [],
   "source": [
    "# pick the 1st sleep call and wake up\n",
    "r1 = cke.pick_first_in_sleep(df_all_api)\n",
    "df_all_api = SetWake(df_all_api, r1)\n",
    "\n",
    "# pick another in the sleep mode, if it is from the same stream, there is non ovlp\n",
    "r2 = cke.pick_first_in_sleep(df_all_api)\n",
    "df_all_api = SetWake(df_all_api, r2)\n",
    "#print('r2 {}'.format(r2))\n",
    "\n",
    "# check concurrency\n",
    "conc = cke.check_cc(df_all_api, r1, r2)\n",
    "\n",
    "# concurrency\n",
    "if conc == True:\n",
    "    df_all_api = cke.update_before_conc(df_all_api, r1, r2)\n",
    "    # set r2 to wake\n",
    "    df_all_api = SetWake(df_all_api, r2)\n",
    "    # current concurrency\n",
    "    cc = 2.0\n",
    "    # predict with concurrency for rows 0 and 1\n",
    "    df_all_api = cke.Predict_end(df_all_api, [r1, r2], ways = cc)\n",
    "    # get the time range from wake api, to check the next concurrent api\n",
    "    rangeT = cke.Get_next_range(df_all_api)\n",
    "    #print rangeT\n",
    "    \n",
    "    extra_conc = cke.check_cc_by_time(df_all_api, rangeT) # check whether there is conc during the rangeT\n",
    "    \n",
    "    if extra_conc == 0: # update timing using the pred_end\n",
    "        df_all_api = cke.Update_with_pred_end(df_all_api, rangeT, ways = cc)\n",
    "        # check if any api is done, and update the timing for the other apis in that stream\n",
    "        df_all_api = cke.UpdateStreamTime(df_all_api)"
   ]
  },
  {
   "cell_type": "code",
   "execution_count": 442,
   "metadata": {
    "collapsed": false
   },
   "outputs": [
    {
     "data": {
      "text/html": [
       "<div>\n",
       "<table border=\"1\" class=\"dataframe\">\n",
       "  <thead>\n",
       "    <tr style=\"text-align: right;\">\n",
       "      <th></th>\n",
       "      <th>start</th>\n",
       "      <th>end</th>\n",
       "      <th>api_type</th>\n",
       "      <th>size_kb</th>\n",
       "      <th>stream_id</th>\n",
       "      <th>status</th>\n",
       "      <th>bw</th>\n",
       "      <th>bytes_done</th>\n",
       "      <th>bytes_left</th>\n",
       "      <th>current_pos</th>\n",
       "      <th>time_left</th>\n",
       "      <th>pred_end</th>\n",
       "    </tr>\n",
       "  </thead>\n",
       "  <tbody>\n",
       "    <tr>\n",
       "      <th>0</th>\n",
       "      <td>0.000000</td>\n",
       "      <td>9.715199</td>\n",
       "      <td>h2d</td>\n",
       "      <td>38146.973</td>\n",
       "      <td>0.0</td>\n",
       "      <td>done</td>\n",
       "      <td>5926.373991</td>\n",
       "      <td>38146.97300</td>\n",
       "      <td>0.00000</td>\n",
       "      <td>9.715199</td>\n",
       "      <td>0.0</td>\n",
       "      <td>9.715199</td>\n",
       "    </tr>\n",
       "    <tr>\n",
       "      <th>4</th>\n",
       "      <td>3.158431</td>\n",
       "      <td>9.595246</td>\n",
       "      <td>h2d</td>\n",
       "      <td>38146.973</td>\n",
       "      <td>1.0</td>\n",
       "      <td>wake</td>\n",
       "      <td>5926.373991</td>\n",
       "      <td>19428.92967</td>\n",
       "      <td>18718.04333</td>\n",
       "      <td>9.715199</td>\n",
       "      <td>0.0</td>\n",
       "      <td>0.000000</td>\n",
       "    </tr>\n",
       "    <tr>\n",
       "      <th>1</th>\n",
       "      <td>9.716415</td>\n",
       "      <td>16.146414</td>\n",
       "      <td>h2d</td>\n",
       "      <td>38146.973</td>\n",
       "      <td>0.0</td>\n",
       "      <td>sleep</td>\n",
       "      <td>5932.656133</td>\n",
       "      <td>0.00000</td>\n",
       "      <td>38146.97300</td>\n",
       "      <td>0.000000</td>\n",
       "      <td>0.0</td>\n",
       "      <td>0.000000</td>\n",
       "    </tr>\n",
       "    <tr>\n",
       "      <th>5</th>\n",
       "      <td>9.596462</td>\n",
       "      <td>16.026461</td>\n",
       "      <td>h2d</td>\n",
       "      <td>38146.973</td>\n",
       "      <td>1.0</td>\n",
       "      <td>sleep</td>\n",
       "      <td>5932.656133</td>\n",
       "      <td>0.00000</td>\n",
       "      <td>38146.97300</td>\n",
       "      <td>0.000000</td>\n",
       "      <td>0.0</td>\n",
       "      <td>0.000000</td>\n",
       "    </tr>\n",
       "    <tr>\n",
       "      <th>2</th>\n",
       "      <td>16.157902</td>\n",
       "      <td>17.434520</td>\n",
       "      <td>kern</td>\n",
       "      <td>0.000</td>\n",
       "      <td>0.0</td>\n",
       "      <td>sleep</td>\n",
       "      <td>0.000000</td>\n",
       "      <td>0.00000</td>\n",
       "      <td>0.00000</td>\n",
       "      <td>0.000000</td>\n",
       "      <td>0.0</td>\n",
       "      <td>0.000000</td>\n",
       "    </tr>\n",
       "    <tr>\n",
       "      <th>3</th>\n",
       "      <td>17.441304</td>\n",
       "      <td>23.710950</td>\n",
       "      <td>d2h</td>\n",
       "      <td>38146.973</td>\n",
       "      <td>0.0</td>\n",
       "      <td>sleep</td>\n",
       "      <td>6084.390251</td>\n",
       "      <td>0.00000</td>\n",
       "      <td>38146.97300</td>\n",
       "      <td>0.000000</td>\n",
       "      <td>0.0</td>\n",
       "      <td>0.000000</td>\n",
       "    </tr>\n",
       "    <tr>\n",
       "      <th>6</th>\n",
       "      <td>16.037949</td>\n",
       "      <td>17.314567</td>\n",
       "      <td>kern</td>\n",
       "      <td>0.000</td>\n",
       "      <td>1.0</td>\n",
       "      <td>sleep</td>\n",
       "      <td>0.000000</td>\n",
       "      <td>0.00000</td>\n",
       "      <td>0.00000</td>\n",
       "      <td>0.000000</td>\n",
       "      <td>0.0</td>\n",
       "      <td>0.000000</td>\n",
       "    </tr>\n",
       "    <tr>\n",
       "      <th>7</th>\n",
       "      <td>17.321351</td>\n",
       "      <td>23.590997</td>\n",
       "      <td>d2h</td>\n",
       "      <td>38146.973</td>\n",
       "      <td>1.0</td>\n",
       "      <td>sleep</td>\n",
       "      <td>6084.390251</td>\n",
       "      <td>0.00000</td>\n",
       "      <td>38146.97300</td>\n",
       "      <td>0.000000</td>\n",
       "      <td>0.0</td>\n",
       "      <td>0.000000</td>\n",
       "    </tr>\n",
       "  </tbody>\n",
       "</table>\n",
       "</div>"
      ],
      "text/plain": [
       "       start        end api_type    size_kb  stream_id status           bw  \\\n",
       "0   0.000000   9.715199      h2d  38146.973        0.0   done  5926.373991   \n",
       "4   3.158431   9.595246      h2d  38146.973        1.0   wake  5926.373991   \n",
       "1   9.716415  16.146414      h2d  38146.973        0.0  sleep  5932.656133   \n",
       "5   9.596462  16.026461      h2d  38146.973        1.0  sleep  5932.656133   \n",
       "2  16.157902  17.434520     kern      0.000        0.0  sleep     0.000000   \n",
       "3  17.441304  23.710950      d2h  38146.973        0.0  sleep  6084.390251   \n",
       "6  16.037949  17.314567     kern      0.000        1.0  sleep     0.000000   \n",
       "7  17.321351  23.590997      d2h  38146.973        1.0  sleep  6084.390251   \n",
       "\n",
       "    bytes_done   bytes_left  current_pos  time_left  pred_end  \n",
       "0  38146.97300      0.00000     9.715199        0.0  9.715199  \n",
       "4  19428.92967  18718.04333     9.715199        0.0  0.000000  \n",
       "1      0.00000  38146.97300     0.000000        0.0  0.000000  \n",
       "5      0.00000  38146.97300     0.000000        0.0  0.000000  \n",
       "2      0.00000      0.00000     0.000000        0.0  0.000000  \n",
       "3      0.00000  38146.97300     0.000000        0.0  0.000000  \n",
       "6      0.00000      0.00000     0.000000        0.0  0.000000  \n",
       "7      0.00000  38146.97300     0.000000        0.0  0.000000  "
      ]
     },
     "execution_count": 442,
     "metadata": {},
     "output_type": "execute_result"
    }
   ],
   "source": [
    "df_all_api"
   ]
  },
  {
   "cell_type": "code",
   "execution_count": 443,
   "metadata": {
    "collapsed": false
   },
   "outputs": [
    {
     "name": "stdout",
     "output_type": "stream",
     "text": [
      "1\n"
     ]
    }
   ],
   "source": [
    "## select the next api/call to wake it up\n",
    "\n",
    "# pick another in the sleep mode, if it is from the same stream, there is non ovlp\n",
    "r3 = cke.pick_first_in_sleep(df_all_api)\n",
    "df_all_api = SetWake(df_all_api, r3)\n",
    "#print r3\n",
    "\n",
    "# the current_pos is ahead of coming call start\n",
    "df_all_api = cke.StartNext(df_all_api, [r2, r3])\n",
    "\n",
    "# check the concurrency, and predict accordingly\n",
    "# to-do"
   ]
  },
  {
   "cell_type": "code",
   "execution_count": 444,
   "metadata": {
    "collapsed": false
   },
   "outputs": [
    {
     "data": {
      "text/html": [
       "<div>\n",
       "<table border=\"1\" class=\"dataframe\">\n",
       "  <thead>\n",
       "    <tr style=\"text-align: right;\">\n",
       "      <th></th>\n",
       "      <th>start</th>\n",
       "      <th>end</th>\n",
       "      <th>api_type</th>\n",
       "      <th>size_kb</th>\n",
       "      <th>stream_id</th>\n",
       "      <th>status</th>\n",
       "      <th>bw</th>\n",
       "      <th>bytes_done</th>\n",
       "      <th>bytes_left</th>\n",
       "      <th>current_pos</th>\n",
       "      <th>time_left</th>\n",
       "      <th>pred_end</th>\n",
       "    </tr>\n",
       "  </thead>\n",
       "  <tbody>\n",
       "    <tr>\n",
       "      <th>0</th>\n",
       "      <td>0.000000</td>\n",
       "      <td>9.715199</td>\n",
       "      <td>h2d</td>\n",
       "      <td>38146.973</td>\n",
       "      <td>0.0</td>\n",
       "      <td>done</td>\n",
       "      <td>5926.373991</td>\n",
       "      <td>38146.97300</td>\n",
       "      <td>0.00000</td>\n",
       "      <td>9.715199</td>\n",
       "      <td>0.0</td>\n",
       "      <td>9.715199</td>\n",
       "    </tr>\n",
       "    <tr>\n",
       "      <th>4</th>\n",
       "      <td>3.158431</td>\n",
       "      <td>9.595246</td>\n",
       "      <td>h2d</td>\n",
       "      <td>38146.973</td>\n",
       "      <td>1.0</td>\n",
       "      <td>wake</td>\n",
       "      <td>5926.373991</td>\n",
       "      <td>19436.13614</td>\n",
       "      <td>18710.83686</td>\n",
       "      <td>9.716415</td>\n",
       "      <td>0.0</td>\n",
       "      <td>0.000000</td>\n",
       "    </tr>\n",
       "    <tr>\n",
       "      <th>1</th>\n",
       "      <td>9.716415</td>\n",
       "      <td>16.146414</td>\n",
       "      <td>h2d</td>\n",
       "      <td>38146.973</td>\n",
       "      <td>0.0</td>\n",
       "      <td>wake</td>\n",
       "      <td>5932.656133</td>\n",
       "      <td>0.00000</td>\n",
       "      <td>38146.97300</td>\n",
       "      <td>0.000000</td>\n",
       "      <td>0.0</td>\n",
       "      <td>0.000000</td>\n",
       "    </tr>\n",
       "    <tr>\n",
       "      <th>5</th>\n",
       "      <td>9.596462</td>\n",
       "      <td>16.026461</td>\n",
       "      <td>h2d</td>\n",
       "      <td>38146.973</td>\n",
       "      <td>1.0</td>\n",
       "      <td>sleep</td>\n",
       "      <td>5932.656133</td>\n",
       "      <td>0.00000</td>\n",
       "      <td>38146.97300</td>\n",
       "      <td>0.000000</td>\n",
       "      <td>0.0</td>\n",
       "      <td>0.000000</td>\n",
       "    </tr>\n",
       "    <tr>\n",
       "      <th>2</th>\n",
       "      <td>16.157902</td>\n",
       "      <td>17.434520</td>\n",
       "      <td>kern</td>\n",
       "      <td>0.000</td>\n",
       "      <td>0.0</td>\n",
       "      <td>sleep</td>\n",
       "      <td>0.000000</td>\n",
       "      <td>0.00000</td>\n",
       "      <td>0.00000</td>\n",
       "      <td>0.000000</td>\n",
       "      <td>0.0</td>\n",
       "      <td>0.000000</td>\n",
       "    </tr>\n",
       "    <tr>\n",
       "      <th>3</th>\n",
       "      <td>17.441304</td>\n",
       "      <td>23.710950</td>\n",
       "      <td>d2h</td>\n",
       "      <td>38146.973</td>\n",
       "      <td>0.0</td>\n",
       "      <td>sleep</td>\n",
       "      <td>6084.390251</td>\n",
       "      <td>0.00000</td>\n",
       "      <td>38146.97300</td>\n",
       "      <td>0.000000</td>\n",
       "      <td>0.0</td>\n",
       "      <td>0.000000</td>\n",
       "    </tr>\n",
       "    <tr>\n",
       "      <th>6</th>\n",
       "      <td>16.037949</td>\n",
       "      <td>17.314567</td>\n",
       "      <td>kern</td>\n",
       "      <td>0.000</td>\n",
       "      <td>1.0</td>\n",
       "      <td>sleep</td>\n",
       "      <td>0.000000</td>\n",
       "      <td>0.00000</td>\n",
       "      <td>0.00000</td>\n",
       "      <td>0.000000</td>\n",
       "      <td>0.0</td>\n",
       "      <td>0.000000</td>\n",
       "    </tr>\n",
       "    <tr>\n",
       "      <th>7</th>\n",
       "      <td>17.321351</td>\n",
       "      <td>23.590997</td>\n",
       "      <td>d2h</td>\n",
       "      <td>38146.973</td>\n",
       "      <td>1.0</td>\n",
       "      <td>sleep</td>\n",
       "      <td>6084.390251</td>\n",
       "      <td>0.00000</td>\n",
       "      <td>38146.97300</td>\n",
       "      <td>0.000000</td>\n",
       "      <td>0.0</td>\n",
       "      <td>0.000000</td>\n",
       "    </tr>\n",
       "  </tbody>\n",
       "</table>\n",
       "</div>"
      ],
      "text/plain": [
       "       start        end api_type    size_kb  stream_id status           bw  \\\n",
       "0   0.000000   9.715199      h2d  38146.973        0.0   done  5926.373991   \n",
       "4   3.158431   9.595246      h2d  38146.973        1.0   wake  5926.373991   \n",
       "1   9.716415  16.146414      h2d  38146.973        0.0   wake  5932.656133   \n",
       "5   9.596462  16.026461      h2d  38146.973        1.0  sleep  5932.656133   \n",
       "2  16.157902  17.434520     kern      0.000        0.0  sleep     0.000000   \n",
       "3  17.441304  23.710950      d2h  38146.973        0.0  sleep  6084.390251   \n",
       "6  16.037949  17.314567     kern      0.000        1.0  sleep     0.000000   \n",
       "7  17.321351  23.590997      d2h  38146.973        1.0  sleep  6084.390251   \n",
       "\n",
       "    bytes_done   bytes_left  current_pos  time_left  pred_end  \n",
       "0  38146.97300      0.00000     9.715199        0.0  9.715199  \n",
       "4  19436.13614  18710.83686     9.716415        0.0  0.000000  \n",
       "1      0.00000  38146.97300     0.000000        0.0  0.000000  \n",
       "5      0.00000  38146.97300     0.000000        0.0  0.000000  \n",
       "2      0.00000      0.00000     0.000000        0.0  0.000000  \n",
       "3      0.00000  38146.97300     0.000000        0.0  0.000000  \n",
       "6      0.00000      0.00000     0.000000        0.0  0.000000  \n",
       "7      0.00000  38146.97300     0.000000        0.0  0.000000  "
      ]
     },
     "execution_count": 444,
     "metadata": {},
     "output_type": "execute_result"
    }
   ],
   "source": [
    "df_all_api"
   ]
  },
  {
   "cell_type": "code",
   "execution_count": 445,
   "metadata": {
    "collapsed": false
   },
   "outputs": [],
   "source": [
    "#df_all_api.loc[df_all_api.stream_id == 0]"
   ]
  },
  {
   "cell_type": "code",
   "execution_count": 446,
   "metadata": {
    "collapsed": false
   },
   "outputs": [],
   "source": [
    "#df_all_api.loc[df_all_api.stream_id == 1]"
   ]
  },
  {
   "cell_type": "code",
   "execution_count": null,
   "metadata": {
    "collapsed": true
   },
   "outputs": [],
   "source": [
    "#\n",
    "# run above\n",
    "#"
   ]
  },
  {
   "cell_type": "markdown",
   "metadata": {
    "deletable": true,
    "editable": true,
    "run_control": {
     "marked": false
    }
   },
   "source": [
    "# 3cke"
   ]
  },
  {
   "cell_type": "markdown",
   "metadata": {
    "deletable": true,
    "editable": true,
    "run_control": {
     "marked": false
    }
   },
   "source": [
    "# plot all the stream timeline"
   ]
  },
  {
   "cell_type": "code",
   "execution_count": null,
   "metadata": {
    "collapsed": false,
    "deletable": true,
    "editable": true,
    "run_control": {
     "marked": false
    }
   },
   "outputs": [],
   "source": [
    "cuda_timeline.plot_cke_list(df_cke_list, savefig=True)"
   ]
  },
  {
   "cell_type": "code",
   "execution_count": null,
   "metadata": {
    "collapsed": false,
    "deletable": true,
    "editable": true,
    "run_control": {
     "marked": false
    }
   },
   "outputs": [],
   "source": [
    "cuda_timeline.plot_cke_list(df_cke_list[0:2])"
   ]
  },
  {
   "cell_type": "code",
   "execution_count": null,
   "metadata": {
    "collapsed": false,
    "deletable": true,
    "editable": true,
    "run_control": {
     "marked": false
    }
   },
   "outputs": [],
   "source": [
    "tot_runtime = read_trace.getTotalRuntime(df_cke_list[0:2])\n",
    "print tot_runtime"
   ]
  }
 ],
 "metadata": {
  "kernelspec": {
   "display_name": "Python [conda root]",
   "language": "python",
   "name": "conda-root-py"
  },
  "language_info": {
   "codemirror_mode": {
    "name": "ipython",
    "version": 2
   },
   "file_extension": ".py",
   "mimetype": "text/x-python",
   "name": "python",
   "nbconvert_exporter": "python",
   "pygments_lexer": "ipython2",
   "version": "2.7.13"
  }
 },
 "nbformat": 4,
 "nbformat_minor": 2
}
